{
 "cells": [
  {
   "cell_type": "markdown",
   "metadata": {},
   "source": [
    "# Files"
   ]
  },
  {
   "cell_type": "markdown",
   "metadata": {},
   "source": [
    "# os module\n",
    "- many low level operating system operations, including file status and manipulation\n",
    "- [doc](https://docs.python.org/3/library/os.html#module-os)"
   ]
  },
  {
   "cell_type": "markdown",
   "metadata": {},
   "source": [
    "# tempfile module\n",
    "- will create a valid unique temporary pathname on any OS\n",
    "- [doc](https://docs.python.org/3/library/tempfile.html)\n",
    "- does NOT make the file"
   ]
  },
  {
   "cell_type": "code",
   "execution_count": 1,
   "metadata": {},
   "outputs": [
    {
     "data": {
      "text/plain": [
       "['C:\\\\Users\\\\justi\\\\AppData\\\\Local\\\\Temp\\\\tmpwg3q5flf',\n",
       " 'C:\\\\Users\\\\justi\\\\AppData\\\\Local\\\\Temp\\\\tmpvd_17zou',\n",
       " False,\n",
       " False]"
      ]
     },
     "execution_count": 1,
     "metadata": {},
     "output_type": "execute_result"
    }
   ],
   "source": [
    "import os\n",
    "import tempfile\n",
    "\n",
    "tp = tempfile.NamedTemporaryFile().name\n",
    "tp2 = tempfile.NamedTemporaryFile().name\n",
    "\n",
    "# os.path.exists(path) - True if file path exists\n",
    "\n",
    "[tp, tp2, os.path.exists(tp), os.path.exists(tp2)]"
   ]
  },
  {
   "cell_type": "markdown",
   "metadata": {},
   "source": [
    "# Getting file status"
   ]
  },
  {
   "cell_type": "code",
   "execution_count": 2,
   "metadata": {},
   "outputs": [
    {
     "data": {
      "text/plain": [
       "[True, True, True, True]"
      ]
     },
     "execution_count": 2,
     "metadata": {},
     "output_type": "execute_result"
    }
   ],
   "source": [
    "# os.path.exists and os.access reports \n",
    "# file status without throwning errors\n",
    "# os.stat throws an error if the path doesn't exist. \n",
    "\n",
    "# this is similar to linux 'touch' command \n",
    "# make an empty file\n",
    "\n",
    "open(tp, 'w').close()\n",
    "\n",
    "def ac(p):\n",
    "    # can check exists, readable, writeable, executable\n",
    "    return([ os.access(p, m) \\\n",
    "    for m in [os.F_OK, os.R_OK, os.W_OK, os.X_OK] ])\n",
    "\n",
    "ac(tp)\n"
   ]
  },
  {
   "cell_type": "code",
   "execution_count": 3,
   "metadata": {},
   "outputs": [
    {
     "data": {
      "text/plain": [
       "[1538003903.941263, 1538003903.941263]"
      ]
     },
     "execution_count": 3,
     "metadata": {},
     "output_type": "execute_result"
    }
   ],
   "source": [
    "# last accessed time, last modified time\n",
    "\n",
    "[os.path.getatime(tp), os.path.getmtime(tp)]"
   ]
  },
  {
   "cell_type": "code",
   "execution_count": 4,
   "metadata": {},
   "outputs": [
    {
     "data": {
      "text/plain": [
       "[True, False]"
      ]
     },
     "execution_count": 4,
     "metadata": {},
     "output_type": "execute_result"
    }
   ],
   "source": [
    "# does a path refer to a file or a directory?\n",
    "\n",
    "[os.path.isfile(tp), os.path.isdir(tp)]"
   ]
  },
  {
   "cell_type": "code",
   "execution_count": 5,
   "metadata": {},
   "outputs": [
    {
     "data": {
      "text/plain": [
       "os.stat_result(st_mode=33206, st_ino=34339947158772568, st_dev=2322009872, st_nlink=1, st_uid=0, st_gid=0, st_size=0, st_atime=1538003903, st_mtime=1538003903, st_ctime=1538003896)"
      ]
     },
     "execution_count": 5,
     "metadata": {},
     "output_type": "execute_result"
    }
   ],
   "source": [
    "# gets several pieces of info in one call\n",
    "\n",
    "sr = os.stat(tp)\n",
    "sr"
   ]
  },
  {
   "cell_type": "code",
   "execution_count": 6,
   "metadata": {},
   "outputs": [
    {
     "data": {
      "text/plain": [
       "[33206, 1538003903.941263]"
      ]
     },
     "execution_count": 6,
     "metadata": {},
     "output_type": "execute_result"
    }
   ],
   "source": [
    "# get attributes\n",
    "\n",
    "[sr.st_mode, sr.st_atime]"
   ]
  },
  {
   "cell_type": "code",
   "execution_count": 7,
   "metadata": {},
   "outputs": [
    {
     "data": {
      "text/plain": [
       "[False, False, False, False]"
      ]
     },
     "execution_count": 7,
     "metadata": {},
     "output_type": "execute_result"
    }
   ],
   "source": [
    "# removes a file, but raises error if it doesn't exist\n",
    "\n",
    "os.remove(tp)\n",
    "ac(tp)"
   ]
  },
  {
   "cell_type": "code",
   "execution_count": 8,
   "metadata": {},
   "outputs": [
    {
     "data": {
      "text/plain": [
       "False"
      ]
     },
     "execution_count": 8,
     "metadata": {},
     "output_type": "execute_result"
    }
   ],
   "source": [
    "# file is gone\n",
    "\n",
    "os.path.exists(tp)"
   ]
  },
  {
   "cell_type": "code",
   "execution_count": 9,
   "metadata": {},
   "outputs": [
    {
     "ename": "FileNotFoundError",
     "evalue": "[WinError 2] The system cannot find the file specified: 'C:\\\\Users\\\\justi\\\\AppData\\\\Local\\\\Temp\\\\tmpwg3q5flf'",
     "output_type": "error",
     "traceback": [
      "\u001b[1;31m---------------------------------------------------------------------------\u001b[0m",
      "\u001b[1;31mFileNotFoundError\u001b[0m                         Traceback (most recent call last)",
      "\u001b[1;32m<ipython-input-9-9dca2872f6ed>\u001b[0m in \u001b[0;36m<module>\u001b[1;34m()\u001b[0m\n\u001b[0;32m      1\u001b[0m \u001b[1;31m# stat gets upset and throws an error if the file doesn't exist\u001b[0m\u001b[1;33m\u001b[0m\u001b[1;33m\u001b[0m\u001b[0m\n\u001b[0;32m      2\u001b[0m \u001b[1;33m\u001b[0m\u001b[0m\n\u001b[1;32m----> 3\u001b[1;33m \u001b[0mos\u001b[0m\u001b[1;33m.\u001b[0m\u001b[0mstat\u001b[0m\u001b[1;33m(\u001b[0m\u001b[0mtp\u001b[0m\u001b[1;33m)\u001b[0m\u001b[1;33m\u001b[0m\u001b[0m\n\u001b[0m",
      "\u001b[1;31mFileNotFoundError\u001b[0m: [WinError 2] The system cannot find the file specified: 'C:\\\\Users\\\\justi\\\\AppData\\\\Local\\\\Temp\\\\tmpwg3q5flf'"
     ]
    }
   ],
   "source": [
    "# stat gets upset and throws an error if the file doesn't exist\n",
    "\n",
    "os.stat(tp)"
   ]
  },
  {
   "cell_type": "code",
   "execution_count": 10,
   "metadata": {},
   "outputs": [
    {
     "data": {
      "text/plain": [
       "['.nonadmin',\n",
       " 'api-ms-win-core-console-l1-1-0.dll',\n",
       " 'api-ms-win-core-datetime-l1-1-0.dll',\n",
       " 'api-ms-win-core-debug-l1-1-0.dll',\n",
       " 'api-ms-win-core-errorhandling-l1-1-0.dll',\n",
       " 'api-ms-win-core-file-l1-1-0.dll',\n",
       " 'api-ms-win-core-file-l1-2-0.dll',\n",
       " 'api-ms-win-core-file-l2-1-0.dll',\n",
       " 'api-ms-win-core-handle-l1-1-0.dll',\n",
       " 'api-ms-win-core-heap-l1-1-0.dll',\n",
       " 'api-ms-win-core-interlocked-l1-1-0.dll',\n",
       " 'api-ms-win-core-libraryloader-l1-1-0.dll',\n",
       " 'api-ms-win-core-localization-l1-2-0.dll',\n",
       " 'api-ms-win-core-memory-l1-1-0.dll',\n",
       " 'api-ms-win-core-namedpipe-l1-1-0.dll',\n",
       " 'api-ms-win-core-processenvironment-l1-1-0.dll',\n",
       " 'api-ms-win-core-processthreads-l1-1-0.dll',\n",
       " 'api-ms-win-core-processthreads-l1-1-1.dll',\n",
       " 'api-ms-win-core-profile-l1-1-0.dll',\n",
       " 'api-ms-win-core-rtlsupport-l1-1-0.dll',\n",
       " 'api-ms-win-core-string-l1-1-0.dll',\n",
       " 'api-ms-win-core-synch-l1-1-0.dll',\n",
       " 'api-ms-win-core-synch-l1-2-0.dll',\n",
       " 'api-ms-win-core-sysinfo-l1-1-0.dll',\n",
       " 'api-ms-win-core-timezone-l1-1-0.dll',\n",
       " 'api-ms-win-core-util-l1-1-0.dll',\n",
       " 'api-ms-win-crt-conio-l1-1-0.dll',\n",
       " 'api-ms-win-crt-convert-l1-1-0.dll',\n",
       " 'api-ms-win-crt-environment-l1-1-0.dll',\n",
       " 'api-ms-win-crt-filesystem-l1-1-0.dll',\n",
       " 'api-ms-win-crt-heap-l1-1-0.dll',\n",
       " 'api-ms-win-crt-locale-l1-1-0.dll',\n",
       " 'api-ms-win-crt-math-l1-1-0.dll',\n",
       " 'api-ms-win-crt-multibyte-l1-1-0.dll',\n",
       " 'api-ms-win-crt-private-l1-1-0.dll',\n",
       " 'api-ms-win-crt-process-l1-1-0.dll',\n",
       " 'api-ms-win-crt-runtime-l1-1-0.dll',\n",
       " 'api-ms-win-crt-stdio-l1-1-0.dll',\n",
       " 'api-ms-win-crt-string-l1-1-0.dll',\n",
       " 'api-ms-win-crt-time-l1-1-0.dll',\n",
       " 'api-ms-win-crt-utility-l1-1-0.dll',\n",
       " 'concrt140.dll',\n",
       " 'conda-meta',\n",
       " 'cwp.py',\n",
       " 'DLLs',\n",
       " 'envs',\n",
       " 'etc',\n",
       " 'include',\n",
       " 'Lib',\n",
       " 'Library',\n",
       " 'libs',\n",
       " 'LICENSE_PYTHON.txt',\n",
       " 'man',\n",
       " 'Menu',\n",
       " 'msvcp140.dll',\n",
       " 'openssl.exe',\n",
       " 'pkgs',\n",
       " 'python.exe',\n",
       " 'python.pdb',\n",
       " 'python3.dll',\n",
       " 'python36.dll',\n",
       " 'python36.pdb',\n",
       " 'pythoncom36.dll',\n",
       " 'pythonw.exe',\n",
       " 'pythonw.pdb',\n",
       " 'pywintypes36.dll',\n",
       " 'qt.conf',\n",
       " 'Scripts',\n",
       " 'share',\n",
       " 'sip',\n",
       " 'ssl',\n",
       " 'tcl',\n",
       " 'Tools',\n",
       " 'ucrtbase.dll',\n",
       " 'Uninstall-Anaconda3.exe',\n",
       " 'vccorlib140.dll',\n",
       " 'vcomp140.dll',\n",
       " 'vcruntime140.dll',\n",
       " 'xlwings32.dll',\n",
       " 'xlwings64.dll']"
      ]
     },
     "execution_count": 10,
     "metadata": {},
     "output_type": "execute_result"
    }
   ],
   "source": [
    "# Returns list of files and dirs in a directory\n",
    "# can use isfile and isdir to figure out \n",
    "# which is which\n",
    "\n",
    "fds = os.listdir(os.path.expanduser('~/anaconda3'))\n",
    "fds"
   ]
  },
  {
   "cell_type": "markdown",
   "metadata": {},
   "source": [
    "# 'walk' - gets all the files and dirs under a start dir\n",
    "- very easy to use"
   ]
  },
  {
   "cell_type": "code",
   "execution_count": 14,
   "metadata": {},
   "outputs": [
    {
     "name": "stdout",
     "output_type": "stream",
     "text": [
      "C:\\Users\\justi\\anaconda3\\bin\n",
      "[]\n"
     ]
    }
   ],
   "source": [
    "# deeply nested list - use pretty printer\n",
    "\n",
    "import pprint\n",
    "\n",
    "e = os.path.expanduser('~\\\\anaconda3\\\\bin')\n",
    "print(e)\n",
    "g = os.walk(e)\n",
    "ld = list(g)\n",
    "\n",
    "pprint.pprint(ld, depth=2)"
   ]
  },
  {
   "cell_type": "markdown",
   "metadata": {},
   "source": [
    "# open function\n",
    "- used to open files for reading and writing"
   ]
  },
  {
   "cell_type": "markdown",
   "metadata": {},
   "source": [
    "# Writing files \n",
    "- no automatic newlines - you must write them out explicitly if you want them"
   ]
  },
  {
   "cell_type": "code",
   "execution_count": 15,
   "metadata": {
    "collapsed": true
   },
   "outputs": [],
   "source": [
    "# open file, write to file descriptor, close file descriptor\n",
    "# can be error prone - easy to forget to close. also, if there\n",
    "# is an error, the close call could be skipped\n",
    "# not closing file descriptors can cause a server to crash\n",
    "# 'w' is the 'open mode' - tells 'open' to \n",
    "# open the file for writing\n",
    "\n",
    "fd = open(tp, 'w')\n",
    "for e in ['one', 'two', 'three', 'four']:\n",
    "    fd.write(e + '\\n')\n",
    "fd.close()"
   ]
  },
  {
   "cell_type": "markdown",
   "metadata": {},
   "source": [
    "# with \n",
    "- 'with' is a 'context manager'\n",
    "- binds return value from open to 'fd'\n",
    "- note ':' and indenting defines a statement block over which 'fd' will be bound\n",
    "- 'with' will automatically close the file when the 'with' block is exited, even if by error"
   ]
  },
  {
   "cell_type": "code",
   "execution_count": 22,
   "metadata": {
    "collapsed": true
   },
   "outputs": [],
   "source": [
    "with open(tp, 'w') as fd:\n",
    "    for e in ['one', 'two', 'three', 'four']:\n",
    "        fd.write(e + '\\n')"
   ]
  },
  {
   "cell_type": "code",
   "execution_count": 23,
   "metadata": {
    "collapsed": true
   },
   "outputs": [],
   "source": [
    "# could do one write with join\n",
    "\n",
    "with open(tp, 'w') as fd:\n",
    "    fd.write('\\n'.join(['one', 'two', 'three', 'four']))"
   ]
  },
  {
   "cell_type": "code",
   "execution_count": 24,
   "metadata": {
    "collapsed": true
   },
   "outputs": [],
   "source": [
    "# or write out the string with newlines\n",
    "\n",
    "with open(tp, 'w') as fd:\n",
    "    fd.write(\"one\\ntwo\\nthree\\nfour\\n\")"
   ]
  },
  {
   "cell_type": "code",
   "execution_count": 25,
   "metadata": {},
   "outputs": [
    {
     "data": {
      "text/plain": [
       "os.stat_result(st_mode=33206, st_ino=41939771529924184, st_dev=2322009872, st_nlink=1, st_uid=0, st_gid=0, st_size=23, st_atime=1538004149, st_mtime=1538004313, st_ctime=1538004149)"
      ]
     },
     "execution_count": 25,
     "metadata": {},
     "output_type": "execute_result"
    }
   ],
   "source": [
    "# before append\n",
    "\n",
    "os.stat(tp)"
   ]
  },
  {
   "cell_type": "code",
   "execution_count": 26,
   "metadata": {
    "collapsed": true
   },
   "outputs": [],
   "source": [
    "# can append(open mode 'a') to an existing file\n",
    "\n",
    "with open(tp, 'a') as f:\n",
    "    for l in ['five', 'six']:\n",
    "        f.write(l + '\\n')"
   ]
  },
  {
   "cell_type": "code",
   "execution_count": 27,
   "metadata": {},
   "outputs": [
    {
     "data": {
      "text/plain": [
       "os.stat_result(st_mode=33206, st_ino=41939771529924184, st_dev=2322009872, st_nlink=1, st_uid=0, st_gid=0, st_size=34, st_atime=1538004149, st_mtime=1538004315, st_ctime=1538004149)"
      ]
     },
     "execution_count": 27,
     "metadata": {},
     "output_type": "execute_result"
    }
   ],
   "source": [
    "# file is longer now\n",
    "\n",
    "os.stat(tp)"
   ]
  },
  {
   "cell_type": "markdown",
   "metadata": {},
   "source": [
    "# print function output can goto a file"
   ]
  },
  {
   "cell_type": "code",
   "execution_count": 28,
   "metadata": {},
   "outputs": [
    {
     "name": "stdout",
     "output_type": "stream",
     "text": [
      "1\n",
      "2\n",
      "3\n",
      "4\n",
      "\n"
     ]
    }
   ],
   "source": [
    "\n",
    "with open(tp2, \"w\") as f:\n",
    "    print(1,2,3,4, sep='\\n', file=f)\n",
    "\n",
    "with open(tp2, 'r') as f:\n",
    "    print(f.read())"
   ]
  },
  {
   "cell_type": "markdown",
   "metadata": {},
   "source": [
    "# Reading files - eager\n",
    "- read the entire file immediately"
   ]
  },
  {
   "cell_type": "code",
   "execution_count": 29,
   "metadata": {},
   "outputs": [
    {
     "name": "stdout",
     "output_type": "stream",
     "text": [
      "one\n",
      "two\n",
      "three\n",
      "four\n",
      "five\n",
      "six\n",
      "\n"
     ]
    }
   ],
   "source": [
    "# eager read - read the entire file into one string\n",
    "# 'r' tells 'open' to open the file for reading\n",
    "\n",
    "with open(tp, 'r') as fd:    \n",
    "    print(fd.read())"
   ]
  },
  {
   "cell_type": "code",
   "execution_count": 30,
   "metadata": {},
   "outputs": [
    {
     "name": "stdout",
     "output_type": "stream",
     "text": [
      "['one\\n', 'two\\n', 'three\\n', 'four\\n', 'five\\n', 'six\\n']\n"
     ]
    }
   ],
   "source": [
    "# eager read - get a list of all the lines \n",
    "\n",
    "with open(tp,'r') as fd:\n",
    "    print(fd.readlines())"
   ]
  },
  {
   "cell_type": "markdown",
   "metadata": {},
   "source": [
    "# Reading files - lazy\n",
    "- suppose you are looking for a substring in a huge unsorted file of text lines\n",
    "    - lazy read probably wins\n",
    "    - don't have to read in entire file before you can start searching\n",
    "    - don't have to allocate memory to hold the whole file\n",
    "    - once you find the substring, you don't have to read the rest of the file"
   ]
  },
  {
   "cell_type": "code",
   "execution_count": 31,
   "metadata": {},
   "outputs": [
    {
     "name": "stdout",
     "output_type": "stream",
     "text": [
      "one\n",
      "\n",
      "two\n",
      "\n",
      "three\n",
      "\n",
      "four\n",
      "\n",
      "five\n",
      "\n",
      "six\n",
      "\n"
     ]
    }
   ],
   "source": [
    "# read one line at a time \n",
    "\n",
    "with open(tp, 'r') as fd:\n",
    "    while True:\n",
    "        x = fd.readline()\n",
    "        # returns empty string when finished\n",
    "        if x == '':\n",
    "            break;\n",
    "        print(x)"
   ]
  },
  {
   "cell_type": "code",
   "execution_count": 32,
   "metadata": {},
   "outputs": [
    {
     "name": "stdout",
     "output_type": "stream",
     "text": [
      "one\n",
      "two\n",
      "three\n",
      "four\n",
      "five\n",
      "six\n"
     ]
    }
   ],
   "source": [
    "# note double spacing\n",
    "# each line in the file has a newline,  \n",
    "# plus print is adding one\n",
    "# can turn off the print newline \n",
    "# with keyword arg 'end'\n",
    "\n",
    "with open(tp, 'r') as fd:\n",
    "    while True:\n",
    "        x = fd.readline()\n",
    "        # returns empty string when finished\n",
    "        if x == '':\n",
    "            break;\n",
    "        print(x, end='')"
   ]
  },
  {
   "cell_type": "code",
   "execution_count": 33,
   "metadata": {},
   "outputs": [
    {
     "data": {
      "text/plain": [
       "<_io.TextIOWrapper name='C:\\\\Users\\\\justi\\\\AppData\\\\Local\\\\Temp\\\\tmpwg3q5flf' mode='r' encoding='cp949'>"
      ]
     },
     "execution_count": 33,
     "metadata": {},
     "output_type": "execute_result"
    }
   ],
   "source": [
    "fd = open(tp, 'r')\n",
    "fd"
   ]
  },
  {
   "cell_type": "code",
   "execution_count": 34,
   "metadata": {},
   "outputs": [
    {
     "data": {
      "text/plain": [
       "[<_io.TextIOWrapper name='C:\\\\Users\\\\justi\\\\AppData\\\\Local\\\\Temp\\\\tmpwg3q5flf' mode='r' encoding='cp949'>,\n",
       " <_io.TextIOWrapper name='C:\\\\Users\\\\justi\\\\AppData\\\\Local\\\\Temp\\\\tmpwg3q5flf' mode='r' encoding='cp949'>,\n",
       " True]"
      ]
     },
     "execution_count": 34,
     "metadata": {},
     "output_type": "execute_result"
    }
   ],
   "source": [
    "# a file descriptor is an iterator \n",
    "# over the file lines\n",
    "\n",
    "[fd, iter(fd), fd is iter(fd)]"
   ]
  },
  {
   "cell_type": "code",
   "execution_count": 35,
   "metadata": {},
   "outputs": [
    {
     "data": {
      "text/plain": [
       "'one\\n'"
      ]
     },
     "execution_count": 35,
     "metadata": {},
     "output_type": "execute_result"
    }
   ],
   "source": [
    "next(fd)"
   ]
  },
  {
   "cell_type": "code",
   "execution_count": 36,
   "metadata": {},
   "outputs": [
    {
     "data": {
      "text/plain": [
       "'two\\n'"
      ]
     },
     "execution_count": 36,
     "metadata": {},
     "output_type": "execute_result"
    }
   ],
   "source": [
    "# don't have to finish iterator...\n",
    "\n",
    "next(fd)"
   ]
  },
  {
   "cell_type": "code",
   "execution_count": 37,
   "metadata": {},
   "outputs": [
    {
     "data": {
      "text/plain": [
       "'one'"
      ]
     },
     "execution_count": 37,
     "metadata": {},
     "output_type": "execute_result"
    }
   ],
   "source": [
    "# note with readline and readlines \n",
    "# each line has a trailing '\\n', \n",
    "# which you usually don't want\n",
    "# use strip() to remove\n",
    "# can this cause a problem?\n",
    "\n",
    "'one\\n'.strip()"
   ]
  },
  {
   "cell_type": "code",
   "execution_count": 38,
   "metadata": {},
   "outputs": [
    {
     "name": "stdout",
     "output_type": "stream",
     "text": [
      "one\n",
      "\n",
      "tw\n",
      "o\n",
      "t\n",
      "hre\n",
      "e\n",
      "f\n",
      "our\n",
      "\n",
      "fi\n",
      "ve\n",
      "\n",
      "six\n",
      "\n",
      "\n"
     ]
    }
   ],
   "source": [
    "# read N chars at a time\n",
    "\n",
    "with open(tp, 'r')  as f:\n",
    "    while True:\n",
    "        s = f.read(3)\n",
    "        if s == '':\n",
    "            break;\n",
    "        print(s)\n",
    "        "
   ]
  },
  {
   "cell_type": "code",
   "execution_count": 39,
   "metadata": {},
   "outputs": [
    {
     "data": {
      "text/plain": [
       "['three\\n', 'four\\n', 'five\\n', 'six\\n']"
      ]
     },
     "execution_count": 39,
     "metadata": {},
     "output_type": "execute_result"
    }
   ],
   "source": [
    "# ... or can finish iterator later on\n",
    "\n",
    "[next(fd), next(fd), next(fd), next(fd)]"
   ]
  },
  {
   "cell_type": "markdown",
   "metadata": {},
   "source": [
    "# Can do I/O in unicode or binary\n",
    "- 'open' defaults to 'str' (unicode)\n",
    "- pass 'b' flag to 'open' for 'bytes'(binary)\n"
   ]
  },
  {
   "cell_type": "code",
   "execution_count": 40,
   "metadata": {},
   "outputs": [
    {
     "data": {
      "text/plain": [
       "['ℙƴ☂ℌøἤ',\n",
       " b'\\xe2\\x84\\x99\\xc6\\xb4\\xe2\\x98\\x82\\xe2\\x84\\x8c\\xc3\\xb8\\xe1\\xbc\\xa4',\n",
       " b'\\xff\\xfe\\x19!\\xb4\\x01\\x02&\\x0c!\\xf8\\x00$\\x1f',\n",
       " b'\\xff\\xfe\\x00\\x00\\x19!\\x00\\x00\\xb4\\x01\\x00\\x00\\x02&\\x00\\x00\\x0c!\\x00\\x00\\xf8\\x00\\x00\\x00$\\x1f\\x00\\x00']"
      ]
     },
     "execution_count": 40,
     "metadata": {},
     "output_type": "execute_result"
    }
   ],
   "source": [
    "uni = '\\U00002119\\u01b4\\u2602\\u210c\\xf8\\u1f24'\n",
    "\n",
    "utf8, utf16, utf32 = [uni.encode(et) \\\n",
    "                      for et in \\\n",
    "                      ['utf-8', 'utf-16', 'utf-32']]\n",
    "\n",
    "[uni, utf8, utf16, utf32]"
   ]
  },
  {
   "cell_type": "code",
   "execution_count": 41,
   "metadata": {},
   "outputs": [
    {
     "ename": "TypeError",
     "evalue": "write() argument must be str, not bytes",
     "output_type": "error",
     "traceback": [
      "\u001b[1;31m---------------------------------------------------------------------------\u001b[0m",
      "\u001b[1;31mTypeError\u001b[0m                                 Traceback (most recent call last)",
      "\u001b[1;32m<ipython-input-41-473b67d98709>\u001b[0m in \u001b[0;36m<module>\u001b[1;34m()\u001b[0m\n\u001b[0;32m      7\u001b[0m \u001b[1;33m\u001b[0m\u001b[0m\n\u001b[0;32m      8\u001b[0m \u001b[1;32mwith\u001b[0m \u001b[0mopen\u001b[0m\u001b[1;33m(\u001b[0m\u001b[0mpath\u001b[0m\u001b[1;33m,\u001b[0m \u001b[1;34m\"w\"\u001b[0m\u001b[1;33m)\u001b[0m \u001b[1;32mas\u001b[0m \u001b[0mf\u001b[0m\u001b[1;33m:\u001b[0m\u001b[1;33m\u001b[0m\u001b[0m\n\u001b[1;32m----> 9\u001b[1;33m     \u001b[0mf\u001b[0m\u001b[1;33m.\u001b[0m\u001b[0mwrite\u001b[0m\u001b[1;33m(\u001b[0m\u001b[0mutf32\u001b[0m\u001b[1;33m)\u001b[0m\u001b[1;33m\u001b[0m\u001b[0m\n\u001b[0m",
      "\u001b[1;31mTypeError\u001b[0m: write() argument must be str, not bytes"
     ]
    }
   ],
   "source": [
    "# won't work - file stream expects a\n",
    "# 'str' by default, but utf32 is type 'bytes'\n",
    "\n",
    "import tempfile\n",
    "\n",
    "path = tempfile.NamedTemporaryFile().name\n",
    "\n",
    "with open(path, \"w\") as f:\n",
    "    f.write(utf32)"
   ]
  },
  {
   "cell_type": "code",
   "execution_count": 42,
   "metadata": {
    "collapsed": true
   },
   "outputs": [],
   "source": [
    "# make a binary stream by adding 'b' flag to 'open'\n",
    "\n",
    "with open(path, 'bw') as f:\n",
    "    f.write(utf32)"
   ]
  },
  {
   "cell_type": "code",
   "execution_count": 43,
   "metadata": {},
   "outputs": [
    {
     "ename": "UnicodeDecodeError",
     "evalue": "'cp949' codec can't decode byte 0xff in position 0: illegal multibyte sequence",
     "output_type": "error",
     "traceback": [
      "\u001b[1;31m---------------------------------------------------------------------------\u001b[0m",
      "\u001b[1;31mUnicodeDecodeError\u001b[0m                        Traceback (most recent call last)",
      "\u001b[1;32m<ipython-input-43-a2209c2695b6>\u001b[0m in \u001b[0;36m<module>\u001b[1;34m()\u001b[0m\n\u001b[0;32m      8\u001b[0m \u001b[1;33m\u001b[0m\u001b[0m\n\u001b[0;32m      9\u001b[0m \u001b[1;32mwith\u001b[0m \u001b[0mopen\u001b[0m\u001b[1;33m(\u001b[0m\u001b[0mpath\u001b[0m\u001b[1;33m,\u001b[0m \u001b[1;34m\"r\"\u001b[0m\u001b[1;33m)\u001b[0m \u001b[1;32mas\u001b[0m \u001b[0mf\u001b[0m\u001b[1;33m:\u001b[0m\u001b[1;33m\u001b[0m\u001b[0m\n\u001b[1;32m---> 10\u001b[1;33m     \u001b[0mprint\u001b[0m\u001b[1;33m(\u001b[0m\u001b[0mf\u001b[0m\u001b[1;33m.\u001b[0m\u001b[0mread\u001b[0m\u001b[1;33m(\u001b[0m\u001b[1;33m)\u001b[0m\u001b[1;33m)\u001b[0m\u001b[1;33m\u001b[0m\u001b[0m\n\u001b[0m",
      "\u001b[1;31mUnicodeDecodeError\u001b[0m: 'cp949' codec can't decode byte 0xff in position 0: illegal multibyte sequence"
     ]
    }
   ],
   "source": [
    "#  reading in 'str' mode defaults to utf-8, \n",
    "# but the file we wrote is utf-32\n",
    "# so, this read fails\n",
    "\n",
    "# but, somethimes if you give open the \n",
    "# wrong encoding, it will read\n",
    "# w/o error and give you garbage!\n",
    "\n",
    "with open(path, \"r\") as f:\n",
    "    print(f.read())"
   ]
  },
  {
   "cell_type": "code",
   "execution_count": 44,
   "metadata": {},
   "outputs": [
    {
     "name": "stdout",
     "output_type": "stream",
     "text": [
      "ℙƴ☂ℌøἤ\n"
     ]
    }
   ],
   "source": [
    "# tell 'open' the right unicode encoding\n",
    "\n",
    "with open(path, \"r\" , encoding='utf-32') as f:\n",
    "    print(f.read())"
   ]
  },
  {
   "cell_type": "code",
   "execution_count": 45,
   "metadata": {},
   "outputs": [
    {
     "data": {
      "text/plain": [
       "b'\\xff\\xfe\\x00\\x00\\x19!\\x00\\x00\\xb4\\x01\\x00\\x00\\x02&\\x00\\x00\\x0c!\\x00\\x00\\xf8\\x00\\x00\\x00$\\x1f\\x00\\x00'"
      ]
     },
     "execution_count": 45,
     "metadata": {},
     "output_type": "execute_result"
    }
   ],
   "source": [
    "# can read file bytes\n",
    "\n",
    "with open(path, \"rb\") as f:\n",
    "    b = f.read()\n",
    "b"
   ]
  },
  {
   "cell_type": "code",
   "execution_count": 46,
   "metadata": {},
   "outputs": [
    {
     "data": {
      "text/plain": [
       "b'\\xff\\xfe\\x00\\x00\\x19!\\x00\\x00\\xb4\\x01\\x00\\x00\\x02&\\x00\\x00\\x0c!\\x00\\x00\\xf8\\x00\\x00\\x00$\\x1f\\x00\\x00'"
      ]
     },
     "execution_count": 46,
     "metadata": {},
     "output_type": "execute_result"
    }
   ],
   "source": [
    "utf32"
   ]
  },
  {
   "cell_type": "markdown",
   "metadata": {},
   "source": [
    "# In memory \"files\"\n",
    "- very useful \n",
    "- [doc](https://docs.python.org/3.5/library/io.html#io.StringIO)"
   ]
  },
  {
   "cell_type": "code",
   "execution_count": 47,
   "metadata": {},
   "outputs": [
    {
     "data": {
      "text/plain": [
       "'one\\ntwo'"
      ]
     },
     "execution_count": 47,
     "metadata": {},
     "output_type": "execute_result"
    }
   ],
   "source": [
    "import io\n",
    "\n",
    "ios = io.StringIO()\n",
    "\n",
    "print('one', file=ios)\n",
    "ios.write('two')\n",
    "\n",
    "ios.getvalue()"
   ]
  },
  {
   "cell_type": "code",
   "execution_count": 48,
   "metadata": {},
   "outputs": [
    {
     "data": {
      "text/plain": [
       "'asdfasdf'"
      ]
     },
     "execution_count": 48,
     "metadata": {},
     "output_type": "execute_result"
    }
   ],
   "source": [
    "ios = io.StringIO('asdfasdf')\n",
    "\n",
    "ios.read()"
   ]
  },
  {
   "cell_type": "markdown",
   "metadata": {},
   "source": [
    "\n",
    "# shutil module \n",
    "- move, copy, delete file trees\n",
    "- [doc](https://docs.python.org/3.5/library/shutil.html)\n",
    "\n",
    "# glob - linux style filename matching\n",
    "- [doc](https://docs.python.org/3.5/library/glob.html)\n",
    "\n",
    "# modules that read/write archive formats, like zip and tar\n",
    "- [doc](https://docs.python.org/3.5/library/archiving.html)\n"
   ]
  }
 ],
 "metadata": {
  "anaconda-cloud": {},
  "kernelspec": {
   "display_name": "Python 3",
   "language": "python",
   "name": "python3"
  },
  "language_info": {
   "codemirror_mode": {
    "name": "ipython",
    "version": 3
   },
   "file_extension": ".py",
   "mimetype": "text/x-python",
   "name": "python",
   "nbconvert_exporter": "python",
   "pygments_lexer": "ipython3",
   "version": "3.6.3"
  }
 },
 "nbformat": 4,
 "nbformat_minor": 1
}
