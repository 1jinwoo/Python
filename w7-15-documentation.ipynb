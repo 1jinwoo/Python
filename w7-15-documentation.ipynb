{
 "cells": [
  {
   "cell_type": "markdown",
   "metadata": {},
   "source": [
    "# Function documentation\n",
    "- place a string in the first line of your function or class definition\n",
    "- completion and other tools will use this"
   ]
  },
  {
   "cell_type": "code",
   "execution_count": 1,
   "metadata": {
    "collapsed": true
   },
   "outputs": [],
   "source": [
    "# docstring\n",
    "\n",
    "def foo():\n",
    "    \"here's some helpful doc\"\n",
    "    pass"
   ]
  },
  {
   "cell_type": "code",
   "execution_count": 2,
   "metadata": {
    "collapsed": true
   },
   "outputs": [],
   "source": [
    "# argument documentation\n",
    "\n",
    "def zip(x: 'first arg', y: 'second arg'):\n",
    "    pass"
   ]
  },
  {
   "cell_type": "code",
   "execution_count": 3,
   "metadata": {
    "collapsed": true
   },
   "outputs": [],
   "source": [
    "# works for classes and methods as well\n",
    "\n",
    "class foo:\n",
    "    'Really great class!'\n",
    "    def wow():\n",
    "        'Really great method'\n",
    "        pass"
   ]
  },
  {
   "cell_type": "markdown",
   "metadata": {},
   "source": [
    "# tools that generate HTML documentation from your source code\n",
    "- extract info from source files and turns it into a nice set of HTML pages\n",
    "- similar to Java's Javadoc"
   ]
  },
  {
   "cell_type": "markdown",
   "metadata": {},
   "source": [
    "# pdoc\n",
    "- easy to use \n",
    "- [doc](https://github.com/mitmproxy/pdoc)\n"
   ]
  },
  {
   "cell_type": "markdown",
   "metadata": {},
   "source": [
    "# sphinx\n",
    "- maybe the best one, takes a little effort to set up\n",
    "- [examples](http://www.sphinx-doc.org/en/master/examples.html)\n",
    "- [doc](http://www.sphinx-doc.org/en/stable/)"
   ]
  }
 ],
 "metadata": {
  "anaconda-cloud": {},
  "kernelspec": {
   "display_name": "Python 3",
   "language": "python",
   "name": "python3"
  },
  "language_info": {
   "codemirror_mode": {
    "name": "ipython",
    "version": 3
   },
   "file_extension": ".py",
   "mimetype": "text/x-python",
   "name": "python",
   "nbconvert_exporter": "python",
   "pygments_lexer": "ipython3",
   "version": "3.6.3"
  }
 },
 "nbformat": 4,
 "nbformat_minor": 1
}
