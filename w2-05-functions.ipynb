{
 "cells": [
  {
   "cell_type": "markdown",
   "metadata": {},
   "source": [
    "# Functions\n",
    "- functions are objects, just like ints, strings, lists, etc\n",
    "- function objects can be assigned to variables, held in lists,\n",
    "passed are arguments, etc\n",
    "- function objects have a special capability - they can be applied to arguments, and the associated code executed"
   ]
  },
  {
   "cell_type": "markdown",
   "metadata": {},
   "source": [
    "# def\n",
    "+ used to define functions\n",
    "- is an executable statement, not a declaration\n",
    "- can appear anywhere, even inside another function definition\n",
    "- 'def name...' creates a 'function object', and makes 'name' refer to it\n",
    "- objects are passed as arguments\n",
    "- variables in function body are 'local' to the function. they\n",
    "disappear when the function terminates\n",
    "- like 'if', def defines a statement block, so there must be a \n",
    "':' at the end of the def line, and all the statements in the \n",
    "function body must be indented\n"
   ]
  },
  {
   "cell_type": "code",
   "execution_count": 1,
   "metadata": {},
   "outputs": [
    {
     "data": {
      "text/plain": [
       "<function __main__.foo>"
      ]
     },
     "execution_count": 1,
     "metadata": {},
     "output_type": "execute_result"
    }
   ],
   "source": [
    "# both prints are indented, forming a statement block\n",
    "\n",
    "def foo(n):\n",
    "    print(n)\n",
    "    print(n*n)\n",
    "    \n",
    "\n",
    "# var 'foo' now holds a reference to the function object defined \n",
    "# by the def\n",
    "\n",
    "foo"
   ]
  },
  {
   "cell_type": "code",
   "execution_count": 2,
   "metadata": {},
   "outputs": [
    {
     "name": "stdout",
     "output_type": "stream",
     "text": [
      "8\n",
      "64\n"
     ]
    }
   ],
   "source": [
    "# apply arguments and execute the function object refered to by foo\n",
    "\n",
    "foo(8)"
   ]
  },
  {
   "cell_type": "code",
   "execution_count": 3,
   "metadata": {},
   "outputs": [
    {
     "name": "stdout",
     "output_type": "stream",
     "text": [
      "4.0\n",
      "16\n"
     ]
    }
   ],
   "source": [
    "# make savefoo refer to the foo function\n",
    "\n",
    "savefoo = foo\n",
    "\n",
    "# make var 'foo' refer to a new function object\n",
    "\n",
    "def foo(n):\n",
    "    print(n/2)\n",
    "    print(2*n)\n",
    "\n",
    "foo(8)"
   ]
  },
  {
   "cell_type": "code",
   "execution_count": 4,
   "metadata": {},
   "outputs": [
    {
     "name": "stdout",
     "output_type": "stream",
     "text": [
      "8\n",
      "64\n"
     ]
    }
   ],
   "source": [
    "# savefoo has the original foo\n",
    "\n",
    "savefoo(8)"
   ]
  },
  {
   "cell_type": "code",
   "execution_count": 5,
   "metadata": {},
   "outputs": [
    {
     "data": {
      "text/plain": [
       "1500"
      ]
     },
     "execution_count": 5,
     "metadata": {},
     "output_type": "execute_result"
    }
   ],
   "source": [
    "# another way to change foo's function definition\n",
    "\n",
    "def bar(n):\n",
    "    return n*100\n",
    "\n",
    "foo = bar\n",
    "foo(15)"
   ]
  },
  {
   "cell_type": "markdown",
   "metadata": {},
   "source": [
    "# Danger!\n",
    "- Python will NOT prevent you from smashing the definition of system functions\n",
    "- Don't use 'sum' or 'list' as variables - they are system functions"
   ]
  },
  {
   "cell_type": "code",
   "execution_count": 6,
   "metadata": {},
   "outputs": [
    {
     "data": {
      "text/plain": [
       "[0, 1, 2, 3, 4]"
      ]
     },
     "execution_count": 6,
     "metadata": {},
     "output_type": "execute_result"
    }
   ],
   "source": [
    "# expected behavior\n",
    "\n",
    "list(range(5))"
   ]
  },
  {
   "cell_type": "code",
   "execution_count": 7,
   "metadata": {},
   "outputs": [
    {
     "ename": "TypeError",
     "evalue": "'list' object is not callable",
     "output_type": "error",
     "traceback": [
      "\u001b[1;31m---------------------------------------------------------------------------\u001b[0m",
      "\u001b[1;31mTypeError\u001b[0m                                 Traceback (most recent call last)",
      "\u001b[1;32m<ipython-input-7-ca039da4fed2>\u001b[0m in \u001b[0;36m<module>\u001b[1;34m()\u001b[0m\n\u001b[0;32m     10\u001b[0m \u001b[1;31m# don't know what's going on\u001b[0m\u001b[1;33m\u001b[0m\u001b[1;33m\u001b[0m\u001b[0m\n\u001b[0;32m     11\u001b[0m \u001b[1;33m\u001b[0m\u001b[0m\n\u001b[1;32m---> 12\u001b[1;33m \u001b[0mlist\u001b[0m\u001b[1;33m(\u001b[0m\u001b[0mrange\u001b[0m\u001b[1;33m(\u001b[0m\u001b[1;36m5\u001b[0m\u001b[1;33m)\u001b[0m\u001b[1;33m)\u001b[0m\u001b[1;33m\u001b[0m\u001b[0m\n\u001b[0m",
      "\u001b[1;31mTypeError\u001b[0m: 'list' object is not callable"
     ]
    }
   ],
   "source": [
    "# save the normal definition of 'list'\n",
    "\n",
    "save = list\n",
    "\n",
    "# change the value of 'list' to something bogus\n",
    "\n",
    "list = [1,2,3]\n",
    "\n",
    "# the error message is pretty confusing if you\n",
    "# don't know what's going on\n",
    "\n",
    "list(range(5))\n"
   ]
  },
  {
   "cell_type": "code",
   "execution_count": null,
   "metadata": {
    "collapsed": true
   },
   "outputs": [],
   "source": [
    "# let's fix it - reinstall the correct value of 'list'\n",
    "\n",
    "# in a notebook, could also fix things by restarting Python\n",
    "# on menubar, do Kernel/Restart\n",
    "# oddly, \n",
    "# del list\n",
    "# will also fix list\n",
    "\n",
    "list = save\n",
    "\n",
    "list(range(5))"
   ]
  },
  {
   "cell_type": "markdown",
   "metadata": {},
   "source": [
    "# How can a function communicate results to the external world?\n",
    "- return a value\n",
    "- modify mutable args\n",
    "- use 'global' statement\n",
    "- do I/O(will see this later)\n",
    "    - write a file\n",
    "    - write to the network"
   ]
  },
  {
   "cell_type": "markdown",
   "metadata": {},
   "source": [
    "# return statement\n",
    "- functions return 'None' by default\n",
    "- (which doesn't get printed)\n"
   ]
  },
  {
   "cell_type": "code",
   "execution_count": 8,
   "metadata": {
    "collapsed": true
   },
   "outputs": [],
   "source": [
    "def foo():\n",
    "    x = 3 - 6\n",
    "    \n",
    "foo()\n"
   ]
  },
  {
   "cell_type": "code",
   "execution_count": 9,
   "metadata": {},
   "outputs": [
    {
     "name": "stdout",
     "output_type": "stream",
     "text": [
      "here\n"
     ]
    }
   ],
   "source": [
    "def foo():\n",
    "    print('here')\n",
    "    # exit foo, no return val, so still returns 'None'\n",
    "    return \n",
    "    print('there')\n",
    "\n",
    "foo()"
   ]
  },
  {
   "cell_type": "code",
   "execution_count": 10,
   "metadata": {},
   "outputs": [
    {
     "name": "stdout",
     "output_type": "stream",
     "text": [
      "here\n"
     ]
    },
    {
     "data": {
      "text/plain": [
       "234"
      ]
     },
     "execution_count": 10,
     "metadata": {},
     "output_type": "execute_result"
    }
   ],
   "source": [
    "def foo():\n",
    "    print('here')\n",
    "    # exit, return 234\n",
    "    return 234\n",
    "    print('there')\n",
    "    \n",
    "foo()"
   ]
  },
  {
   "cell_type": "code",
   "execution_count": 11,
   "metadata": {},
   "outputs": [
    {
     "name": "stdout",
     "output_type": "stream",
     "text": [
      "here\n"
     ]
    }
   ],
   "source": [
    "# falling off the end of a function with no return statement...\n",
    "\n",
    "def foo():\n",
    "    print('here')\n",
    "    \n",
    "foo()"
   ]
  },
  {
   "cell_type": "code",
   "execution_count": 12,
   "metadata": {},
   "outputs": [
    {
     "name": "stdout",
     "output_type": "stream",
     "text": [
      "here\n"
     ]
    }
   ],
   "source": [
    "# is equivalent to \n",
    "# remember that None isn't printed\n",
    "\n",
    "def foo():\n",
    "    print('here')\n",
    "    return None\n",
    "\n",
    "foo()"
   ]
  },
  {
   "cell_type": "markdown",
   "metadata": {},
   "source": [
    "# Modify mutable args\n",
    "- a function may modify mutable arguments\n",
    "- such a function may or may not return anything\n"
   ]
  },
  {
   "cell_type": "code",
   "execution_count": 13,
   "metadata": {
    "collapsed": true
   },
   "outputs": [],
   "source": [
    "def delthing(l, thing):\n",
    "    if thing in l:\n",
    "        l.remove(thing)\n",
    "\n",
    "l = [34,34,'foo',435]\n",
    "\n",
    "delthing(l, 'foo4')\n"
   ]
  },
  {
   "cell_type": "code",
   "execution_count": 14,
   "metadata": {},
   "outputs": [
    {
     "data": {
      "text/plain": [
       "[34, 34, 'foo', 435]"
      ]
     },
     "execution_count": 14,
     "metadata": {},
     "output_type": "execute_result"
    }
   ],
   "source": [
    "# no change\n",
    "\n",
    "l"
   ]
  },
  {
   "cell_type": "code",
   "execution_count": 15,
   "metadata": {
    "collapsed": true
   },
   "outputs": [],
   "source": [
    "delthing(l, 'foo')"
   ]
  },
  {
   "cell_type": "code",
   "execution_count": 16,
   "metadata": {},
   "outputs": [
    {
     "data": {
      "text/plain": [
       "[34, 34, 435]"
      ]
     },
     "execution_count": 16,
     "metadata": {},
     "output_type": "execute_result"
    }
   ],
   "source": [
    "# l changed\n",
    "\n",
    "l"
   ]
  },
  {
   "cell_type": "markdown",
   "metadata": {},
   "source": [
    "# Variable scope\n",
    "\n",
    "- can do odd looking things, but rules are simple:\n",
    "    - assignment creates a local var\n",
    "    - if no local var, the call stack will be searched"
   ]
  },
  {
   "cell_type": "code",
   "execution_count": 17,
   "metadata": {},
   "outputs": [
    {
     "ename": "NameError",
     "evalue": "name 'scope' is not defined",
     "output_type": "error",
     "traceback": [
      "\u001b[1;31m---------------------------------------------------------------------------\u001b[0m",
      "\u001b[1;31mNameError\u001b[0m                                 Traceback (most recent call last)",
      "\u001b[1;32m<ipython-input-17-08df70e0f848>\u001b[0m in \u001b[0;36m<module>\u001b[1;34m()\u001b[0m\n\u001b[0;32m      4\u001b[0m     \u001b[0mprint\u001b[0m\u001b[1;33m(\u001b[0m\u001b[0mscope\u001b[0m\u001b[1;33m)\u001b[0m\u001b[1;33m\u001b[0m\u001b[0m\n\u001b[0;32m      5\u001b[0m \u001b[1;33m\u001b[0m\u001b[0m\n\u001b[1;32m----> 6\u001b[1;33m \u001b[0mfoo\u001b[0m\u001b[1;33m(\u001b[0m\u001b[1;33m)\u001b[0m\u001b[1;33m\u001b[0m\u001b[0m\n\u001b[0m",
      "\u001b[1;32m<ipython-input-17-08df70e0f848>\u001b[0m in \u001b[0;36mfoo\u001b[1;34m()\u001b[0m\n\u001b[0;32m      2\u001b[0m \u001b[1;33m\u001b[0m\u001b[0m\n\u001b[0;32m      3\u001b[0m \u001b[1;32mdef\u001b[0m \u001b[0mfoo\u001b[0m\u001b[1;33m(\u001b[0m\u001b[1;33m)\u001b[0m\u001b[1;33m:\u001b[0m\u001b[1;33m\u001b[0m\u001b[0m\n\u001b[1;32m----> 4\u001b[1;33m     \u001b[0mprint\u001b[0m\u001b[1;33m(\u001b[0m\u001b[0mscope\u001b[0m\u001b[1;33m)\u001b[0m\u001b[1;33m\u001b[0m\u001b[0m\n\u001b[0m\u001b[0;32m      5\u001b[0m \u001b[1;33m\u001b[0m\u001b[0m\n\u001b[0;32m      6\u001b[0m \u001b[0mfoo\u001b[0m\u001b[1;33m(\u001b[0m\u001b[1;33m)\u001b[0m\u001b[1;33m\u001b[0m\u001b[0m\n",
      "\u001b[1;31mNameError\u001b[0m: name 'scope' is not defined"
     ]
    }
   ],
   "source": [
    "# no scope var defined anywhere\n",
    "\n",
    "def foo():\n",
    "    print(scope)\n",
    "    \n",
    "foo()"
   ]
  },
  {
   "cell_type": "code",
   "execution_count": 18,
   "metadata": {},
   "outputs": [
    {
     "name": "stdout",
     "output_type": "stream",
     "text": [
      "[3]\n"
     ]
    }
   ],
   "source": [
    "def foo():\n",
    "    scope = [3]\n",
    "    print(scope)\n",
    "\n",
    "foo()"
   ]
  },
  {
   "cell_type": "code",
   "execution_count": 19,
   "metadata": {},
   "outputs": [
    {
     "ename": "NameError",
     "evalue": "name 'scope' is not defined",
     "output_type": "error",
     "traceback": [
      "\u001b[1;31m---------------------------------------------------------------------------\u001b[0m",
      "\u001b[1;31mNameError\u001b[0m                                 Traceback (most recent call last)",
      "\u001b[1;32m<ipython-input-19-409ef6096092>\u001b[0m in \u001b[0;36m<module>\u001b[1;34m()\u001b[0m\n\u001b[0;32m      2\u001b[0m \u001b[1;31m# scope is a 'local' variable in foo\u001b[0m\u001b[1;33m\u001b[0m\u001b[1;33m\u001b[0m\u001b[0m\n\u001b[0;32m      3\u001b[0m \u001b[1;33m\u001b[0m\u001b[0m\n\u001b[1;32m----> 4\u001b[1;33m \u001b[0mscope\u001b[0m\u001b[1;33m\u001b[0m\u001b[0m\n\u001b[0m",
      "\u001b[1;31mNameError\u001b[0m: name 'scope' is not defined"
     ]
    }
   ],
   "source": [
    "# scope only existed during the execution of foo\n",
    "# scope is a 'local' variable in foo\n",
    "\n",
    "scope"
   ]
  },
  {
   "cell_type": "code",
   "execution_count": 20,
   "metadata": {},
   "outputs": [
    {
     "name": "stdout",
     "output_type": "stream",
     "text": [
      "[15]\n"
     ]
    }
   ],
   "source": [
    "# assignment creates variables, but no assignment to scope,\n",
    "# so foo looks for global var scope\n",
    "\n",
    "scope = [15]\n",
    "\n",
    "def foo():\n",
    "    print(scope)\n",
    "         \n",
    "foo()"
   ]
  },
  {
   "cell_type": "code",
   "execution_count": 21,
   "metadata": {},
   "outputs": [
    {
     "name": "stdout",
     "output_type": "stream",
     "text": [
      "[22]\n"
     ]
    },
    {
     "data": {
      "text/plain": [
       "[15]"
      ]
     },
     "execution_count": 21,
     "metadata": {},
     "output_type": "execute_result"
    }
   ],
   "source": [
    "# the scope = 22 statement creates a \n",
    "# local scope var in foo\n",
    "# the global scope var is NOT changed \n",
    "\n",
    "def foo():\n",
    "    scope = [22]\n",
    "    print(scope)\n",
    "\n",
    "foo()\n",
    "scope"
   ]
  },
  {
   "cell_type": "markdown",
   "metadata": {},
   "source": [
    "# Dynamic vs lexical scoping\n",
    "- nested function definitions"
   ]
  },
  {
   "cell_type": "code",
   "execution_count": null,
   "metadata": {
    "collapsed": true
   },
   "outputs": [],
   "source": [
    "# scope is not 'dynamic'\n",
    "\n",
    "def A():\n",
    "    a = 56\n",
    "    B()\n",
    "        \n",
    "def B():\n",
    "    b = 14\n",
    "    C()\n",
    "        \n",
    "def C():\n",
    "    c = 77\n",
    "    # a and b not defined in C\n",
    "    print(a)\n",
    "    print(b)\n",
    "    print(c)\n",
    "    \n",
    "A()\n",
    "    "
   ]
  },
  {
   "cell_type": "code",
   "execution_count": null,
   "metadata": {
    "collapsed": true
   },
   "outputs": [],
   "source": [
    "# scope is 'lexical'\n",
    "# don't worry much about lexical vs dynamic\n",
    "\n",
    "def A():\n",
    "    a = 56 \n",
    "    def B():\n",
    "        b = 14\n",
    "        def C():\n",
    "            c = 77\n",
    "            print(a)\n",
    "            print(b)\n",
    "            print(c)\n",
    "        C()\n",
    "    B()\n",
    "    \n",
    "A()\n",
    "    "
   ]
  },
  {
   "cell_type": "markdown",
   "metadata": {},
   "source": [
    "# global statement\n",
    "- lets functions set global variables\n",
    "- usually a very bad idea, but can be\n",
    "very convenient for interactive work\n"
   ]
  },
  {
   "cell_type": "code",
   "execution_count": 22,
   "metadata": {},
   "outputs": [
    {
     "name": "stdout",
     "output_type": "stream",
     "text": [
      "[15]\n",
      "[44]\n"
     ]
    }
   ],
   "source": [
    "# to change the global scope var, must\n",
    "# use the 'global' statement\n",
    "\n",
    "def foo():\n",
    "    global scope\n",
    "    scope = [44]\n",
    "\n",
    "print(scope)\n",
    "foo()\n",
    "print(scope)"
   ]
  },
  {
   "cell_type": "code",
   "execution_count": 23,
   "metadata": {},
   "outputs": [
    {
     "name": "stdout",
     "output_type": "stream",
     "text": [
      "[44]\n",
      "[4545]\n"
     ]
    }
   ],
   "source": [
    "# what is going on here???\n",
    "# i just said you have to use 'global' statement\n",
    "# to change global vars\n",
    "\n",
    "def foo():\n",
    "    scope[0] = 4545\n",
    "\n",
    "print(scope)\n",
    "foo()\n",
    "print(scope)"
   ]
  },
  {
   "cell_type": "code",
   "execution_count": 24,
   "metadata": {},
   "outputs": [
    {
     "ename": "UnboundLocalError",
     "evalue": "local variable 'scope' referenced before assignment",
     "output_type": "error",
     "traceback": [
      "\u001b[1;31m---------------------------------------------------------------------------\u001b[0m",
      "\u001b[1;31mUnboundLocalError\u001b[0m                         Traceback (most recent call last)",
      "\u001b[1;32m<ipython-input-24-d07cbc337a74>\u001b[0m in \u001b[0;36m<module>\u001b[1;34m()\u001b[0m\n\u001b[0;32m      6\u001b[0m \u001b[1;33m\u001b[0m\u001b[0m\n\u001b[0;32m      7\u001b[0m \u001b[0mscope\u001b[0m \u001b[1;33m=\u001b[0m \u001b[1;36m111\u001b[0m\u001b[1;33m\u001b[0m\u001b[0m\n\u001b[1;32m----> 8\u001b[1;33m \u001b[0mfoo\u001b[0m\u001b[1;33m(\u001b[0m\u001b[1;33m)\u001b[0m\u001b[1;33m\u001b[0m\u001b[0m\n\u001b[0m",
      "\u001b[1;32m<ipython-input-24-d07cbc337a74>\u001b[0m in \u001b[0;36mfoo\u001b[1;34m()\u001b[0m\n\u001b[0;32m      2\u001b[0m \u001b[1;33m\u001b[0m\u001b[0m\n\u001b[0;32m      3\u001b[0m \u001b[1;32mdef\u001b[0m \u001b[0mfoo\u001b[0m\u001b[1;33m(\u001b[0m\u001b[1;33m)\u001b[0m\u001b[1;33m:\u001b[0m\u001b[1;33m\u001b[0m\u001b[0m\n\u001b[1;32m----> 4\u001b[1;33m     \u001b[0mprint\u001b[0m\u001b[1;33m(\u001b[0m\u001b[0mscope\u001b[0m\u001b[1;33m)\u001b[0m\u001b[1;33m\u001b[0m\u001b[0m\n\u001b[0m\u001b[0;32m      5\u001b[0m     \u001b[0mscope\u001b[0m \u001b[1;33m=\u001b[0m \u001b[1;36m1\u001b[0m\u001b[1;33m\u001b[0m\u001b[0m\n\u001b[0;32m      6\u001b[0m \u001b[1;33m\u001b[0m\u001b[0m\n",
      "\u001b[1;31mUnboundLocalError\u001b[0m: local variable 'scope' referenced before assignment"
     ]
    }
   ],
   "source": [
    "# huh???\n",
    "\n",
    "def foo():\n",
    "    print(scope)\n",
    "    scope = 1\n",
    "    \n",
    "scope = 111\n",
    "foo()"
   ]
  },
  {
   "cell_type": "markdown",
   "metadata": {},
   "source": [
    "# args are not typed"
   ]
  },
  {
   "cell_type": "code",
   "execution_count": 25,
   "metadata": {
    "collapsed": true
   },
   "outputs": [],
   "source": [
    "# since arg variables are not typed, \n",
    "# foo can take any type of args that work with '*'\n",
    "\n",
    "def foo(a,b):\n",
    "    return (a*b)\n"
   ]
  },
  {
   "cell_type": "code",
   "execution_count": 26,
   "metadata": {},
   "outputs": [
    {
     "data": {
      "text/plain": [
       "10"
      ]
     },
     "execution_count": 26,
     "metadata": {},
     "output_type": "execute_result"
    }
   ],
   "source": [
    "foo(2,5)"
   ]
  },
  {
   "cell_type": "code",
   "execution_count": 27,
   "metadata": {},
   "outputs": [
    {
     "data": {
      "text/plain": [
       "'barbarbarbar'"
      ]
     },
     "execution_count": 27,
     "metadata": {},
     "output_type": "execute_result"
    }
   ],
   "source": [
    "foo('bar', 4)"
   ]
  },
  {
   "cell_type": "code",
   "execution_count": 28,
   "metadata": {},
   "outputs": [
    {
     "data": {
      "text/plain": [
       "(30+50j)"
      ]
     },
     "execution_count": 28,
     "metadata": {},
     "output_type": "execute_result"
    }
   ],
   "source": [
    "foo(3+5j, 10)"
   ]
  },
  {
   "cell_type": "markdown",
   "metadata": {},
   "source": [
    "# Python supports recursive functions"
   ]
  },
  {
   "cell_type": "code",
   "execution_count": 29,
   "metadata": {},
   "outputs": [
    {
     "data": {
      "text/plain": [
       "[120, None]"
      ]
     },
     "execution_count": 29,
     "metadata": {},
     "output_type": "execute_result"
    }
   ],
   "source": [
    "def factorial(n):\n",
    "    if n == 0:\n",
    "        # termination case\n",
    "        return(1)\n",
    "    else:\n",
    "        # solve a simpler problem\n",
    "        return(n * factorial(n-1))\n",
    "\n",
    "[factorial(5), factorial.__doc__]"
   ]
  },
  {
   "cell_type": "code",
   "execution_count": 32,
   "metadata": {},
   "outputs": [
    {
     "data": {
      "text/plain": [
       "24"
      ]
     },
     "execution_count": 32,
     "metadata": {},
     "output_type": "execute_result"
    }
   ],
   "source": [
    "factorial(4)"
   ]
  },
  {
   "cell_type": "markdown",
   "metadata": {},
   "source": [
    "# rcount\n",
    "- recursively count elements in a nested list(a tree)\n",
    "- a very common and useful pattern for recursing thru a nested list is to split the list into the first element, and the rest of the list(the tail), then recurse on each piece\n"
   ]
  },
  {
   "cell_type": "code",
   "execution_count": 1,
   "metadata": {
    "collapsed": true
   },
   "outputs": [],
   "source": [
    "def rcount(x):\n",
    "    if isinstance(x, list):\n",
    "        # x is a list, get the length\n",
    "        xlen = len(x)\n",
    "        if xlen == 1:\n",
    "            return(rcount(x[0]))\n",
    "        else:\n",
    "            # use an index access and a slice\n",
    "            # to subdivide list into head and tail\n",
    "            return rcount(x[0]) + rcount(x[1:])\n",
    "\n",
    "    # x is not a list, so just counts as 1\n",
    "    return(1)\n"
   ]
  },
  {
   "cell_type": "code",
   "execution_count": 2,
   "metadata": {},
   "outputs": [
    {
     "data": {
      "text/plain": [
       "9"
      ]
     },
     "execution_count": 2,
     "metadata": {},
     "output_type": "execute_result"
    }
   ],
   "source": [
    "rcount([1,2,[3,4,[5,6,7],8],9])"
   ]
  },
  {
   "cell_type": "markdown",
   "metadata": {},
   "source": [
    "# Example - palindromes\n",
    "- sequence that is unchanged under reverse\n",
    "    "
   ]
  },
  {
   "cell_type": "code",
   "execution_count": 35,
   "metadata": {},
   "outputs": [
    {
     "name": "stdout",
     "output_type": "stream",
     "text": [
      "True radar\n",
      "True level\n",
      "False larry\n",
      "True step on no pets\n"
     ]
    }
   ],
   "source": [
    "pals = ['radar', 'level', 'larry', 'step on no pets']\n",
    "\n",
    "def pal(s):\n",
    "    l = len(s)\n",
    "    # len of half, ignoring middle if odd\n",
    "    lh = l//2\n",
    "    for j in range(0, lh):\n",
    "        if s[j] != s[l-j-1]:\n",
    "            return False\n",
    "    return True\n",
    "\n",
    "for p in pals:\n",
    "    print(pal(p),p)\n"
   ]
  },
  {
   "cell_type": "code",
   "execution_count": 36,
   "metadata": {},
   "outputs": [
    {
     "name": "stdout",
     "output_type": "stream",
     "text": [
      "True radar\n",
      "True level\n",
      "False larry\n",
      "True step on no pets\n"
     ]
    }
   ],
   "source": [
    "# recursive version of pal\n",
    "# checks first and last chars, then works on the middle\n",
    "\n",
    "def palr(s):\n",
    "    # empty\n",
    "    if len(s) == 0:\n",
    "        return True\n",
    "    # middle when odd\n",
    "    if len(s) == 1:\n",
    "        return True\n",
    "    if s[0] == s[-1]:\n",
    "        # first and last chars are the same\n",
    "        # easy to slice the middle of the string\n",
    "        return palr(s[1:-1])\n",
    "    else:\n",
    "        return False\n",
    "\n",
    "for p in pals:\n",
    "    print(palr(p), p)"
   ]
  },
  {
   "cell_type": "code",
   "execution_count": 37,
   "metadata": {},
   "outputs": [
    {
     "name": "stdout",
     "output_type": "stream",
     "text": [
      "True radar\n",
      "True level\n",
      "False larry\n",
      "True step on no pets\n"
     ]
    }
   ],
   "source": [
    "# easier way to do pal\n",
    "# just reverse and compare\n",
    "\n",
    "def paleasy(s):\n",
    "    return s == s[::-1]\n",
    "\n",
    "for p in pals:\n",
    "    print(paleasy(p), p)"
   ]
  },
  {
   "cell_type": "code",
   "execution_count": 38,
   "metadata": {},
   "outputs": [
    {
     "data": {
      "text/plain": [
       "True"
      ]
     },
     "execution_count": 38,
     "metadata": {},
     "output_type": "execute_result"
    }
   ],
   "source": [
    "# pal function also works on lists\n",
    "\n",
    "pal([1,2,5,2,1])"
   ]
  },
  {
   "cell_type": "code",
   "execution_count": 39,
   "metadata": {},
   "outputs": [
    {
     "data": {
      "text/plain": [
       "True"
      ]
     },
     "execution_count": 39,
     "metadata": {},
     "output_type": "execute_result"
    }
   ],
   "source": [
    "# and tuples\n",
    "\n",
    "pal((1,2,5,2,1))"
   ]
  },
  {
   "cell_type": "markdown",
   "metadata": {},
   "source": [
    "# Functions are objects\n",
    "- like everything else in python, functions are just objects\n",
    "- they have the special property that a function can be 'applied to arguments'\n",
    "- functions can be\n",
    "    - assigned to variables\n",
    "    - passed to functions as arguments\n",
    "    - returned from functions as values\n",
    "    - held in collections"
   ]
  },
  {
   "cell_type": "code",
   "execution_count": 40,
   "metadata": {},
   "outputs": [
    {
     "name": "stdout",
     "output_type": "stream",
     "text": [
      "<function factorial at 0x0000021674C902F0>\n",
      "<function factorial at 0x0000021674C902F0>\n"
     ]
    },
    {
     "data": {
      "text/plain": [
       "30414093201713378043612608166064768844377641568960512000000000000"
      ]
     },
     "execution_count": 40,
     "metadata": {},
     "output_type": "execute_result"
    }
   ],
   "source": [
    "# foo refers to same function object as factorial\n",
    "\n",
    "foo = factorial\n",
    "print(foo)\n",
    "print(factorial)\n",
    "foo(50)"
   ]
  },
  {
   "cell_type": "code",
   "execution_count": 41,
   "metadata": {},
   "outputs": [
    {
     "data": {
      "text/plain": [
       "(24, 6)"
      ]
     },
     "execution_count": 41,
     "metadata": {},
     "output_type": "execute_result"
    }
   ],
   "source": [
    "# takes a function as 2nd arg\n",
    "\n",
    "def outer2(n, inner):\n",
    "    return(inner(n), inner(n-1))\n",
    "\n",
    "outer2(4, factorial)"
   ]
  },
  {
   "cell_type": "code",
   "execution_count": 42,
   "metadata": {},
   "outputs": [
    {
     "data": {
      "text/plain": [
       "[<function __main__.f1>, <function __main__.f2>, <function __main__.f3>]"
      ]
     },
     "execution_count": 42,
     "metadata": {},
     "output_type": "execute_result"
    }
   ],
   "source": [
    "# stick some functions in a list and run each of them\n",
    "\n",
    "def f1(n):\n",
    "    return n + 1\n",
    "\n",
    "def f2(n):\n",
    "    return n + 2\n",
    "\n",
    "def f3(n):\n",
    "    return n + 3\n",
    "\n",
    "flist = [f1,f2,f3]\n",
    "flist"
   ]
  },
  {
   "cell_type": "code",
   "execution_count": 43,
   "metadata": {},
   "outputs": [
    {
     "data": {
      "text/plain": [
       "[11, 12, 13]"
      ]
     },
     "execution_count": 43,
     "metadata": {},
     "output_type": "execute_result"
    }
   ],
   "source": [
    "# run the list of functions\n",
    "\n",
    "[f(10) for f in flist]"
   ]
  },
  {
   "cell_type": "markdown",
   "metadata": {},
   "source": [
    "# Supply a docstring(and comments) to increase readibility\n",
    "- a docstring is a comment placed as the first statement in the function definition\n",
    "- can use triple quotes(''') for multiline docstrings\n",
    "- many tools(like spyder) will display the docstring automatically, sometimes only the first line for brevity\n",
    "- in Jupyter notebooks, type function name, then hit shift-tab \n",
    "- docstring is available as a function attribute"
   ]
  },
  {
   "cell_type": "code",
   "execution_count": 44,
   "metadata": {
    "collapsed": true
   },
   "outputs": [],
   "source": [
    "def superfunc():\n",
    "    '''It slices it dices!\n",
    "    shakes and bakes!\n",
    "    '''\n",
    "    # regular comment\n",
    "    return 0"
   ]
  },
  {
   "cell_type": "code",
   "execution_count": null,
   "metadata": {
    "collapsed": true
   },
   "outputs": [],
   "source": [
    "superfunc.__doc__"
   ]
  }
 ],
 "metadata": {
  "anaconda-cloud": {},
  "kernelspec": {
   "display_name": "Python 3",
   "language": "python",
   "name": "python3"
  },
  "language_info": {
   "codemirror_mode": {
    "name": "ipython",
    "version": 3
   },
   "file_extension": ".py",
   "mimetype": "text/x-python",
   "name": "python",
   "nbconvert_exporter": "python",
   "pygments_lexer": "ipython3",
   "version": "3.6.3"
  }
 },
 "nbformat": 4,
 "nbformat_minor": 1
}
