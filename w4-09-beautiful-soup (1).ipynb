{
 "cells": [
  {
   "cell_type": "markdown",
   "metadata": {},
   "source": [
    "# BeautifulSoup\n",
    "- great 'screen scraping' package\n",
    "- tons of interesting data on webpages designed for people, not programs\n",
    "- makes it easy to extract information from complex web pages and XML documents\n",
    "- soup reads in the page of interest, then you can query it\n",
    "- often can figure out what to do by playing interactively\n",
    "- works in unicode\n",
    "- new code should use BeautifulSoup version 4\n",
    "- [doc](https://www.crummy.com/software/BeautifulSoup/bs4/doc/)"
   ]
  },
  {
   "cell_type": "markdown",
   "metadata": {},
   "source": [
    "# Example:\n",
    "# Want to find all the headlines on the front page of the [New York Times](http://nyt.com)\n",
    "- but - key point - i don't want to work very hard!!!\n",
    "    - look at webpage source - html structure is quite complex - not interested in understanding it\n",
    "    - would be very difficult to do using text tools we have seen so far, like string.find() and regular expressions"
   ]
  },
  {
   "cell_type": "code",
   "execution_count": 1,
   "metadata": {
    "collapsed": true
   },
   "outputs": [],
   "source": [
    "# 'lxml' is a XML parser(parses HTML too)\n",
    "# must tell soup what unicode decoding to use\n",
    "\n",
    "import urllib.request\n",
    "\n",
    "# from bs4 import BeautifulSoup\n",
    "import bs4\n",
    "import lxml\n",
    "\n",
    "nf2 = urllib.request.urlopen('http://nyt.com')\n",
    "sp = bs4.BeautifulSoup(nf2, 'lxml', from_encoding='utf-8')"
   ]
  },
  {
   "cell_type": "code",
   "execution_count": 2,
   "metadata": {},
   "outputs": [
    {
     "data": {
      "text/plain": [
       "[<h2 class=\"css-1ypbx2a esl82me2\">Listen to ‘The Daily’</h2>,\n",
       " <h2 class=\"css-1ypbx2a esl82me2\">In the ‘Watching’ Newsletter</h2>,\n",
       " <h2 class=\"css-1ypbx2a esl82me2\">Got a confidential news tip?</h2>,\n",
       " <h2 class=\"css-78b01r esl82me2\"><span>4 Ways Fred Trump Made Donald Trump and His Siblings Rich</span></h2>,\n",
       " <h2 class=\"css-8uvv5f esl82me2\">11 Takeaways From The Times’s Investigation Into Trump’s Wealth</h2>,\n",
       " <h2 class=\"css-8uvv5f esl82me2\">Mr. Trump called The Times’s investigation into his family’s dubious tax schemes a boring hit-piece.</h2>,\n",
       " <h2 class=\"css-78b01r esl82me2\"><span>Swing Republican Senators Condemn Trump’s Mockery of Kavanaugh Accuser</span></h2>,\n",
       " <h2 class=\"css-8uvv5f esl82me2\">Senate Republicans Open New Attack on Kavanaugh Accuser</h2>,\n",
       " <h2 class=\"css-8uvv5f esl82me2\">The Kavanaugh proceedings have exposed just how far the Senate has drifted from the rules of decorum.</h2>,\n",
       " <h2 class=\"css-78b01r esl82me2\"><span>In Tennessee Senate Race, Financial Missteps Linger in the Background</span></h2>,\n",
       " <h2 class=\"css-8uvv5f esl82me2\">Missing in the G.O.P.: Black and Hispanic Nominees for Governor</h2>,\n",
       " <h2 class=\"css-8uvv5f esl82me2\">The White House has a message for Republican candidates: Stay close to President Trump.</h2>,\n",
       " <h2 class=\"css-78b01r esl82me2\"><span>Vulgar Texts and Dancer Turmoil Force City Ballet to Look in the Mirror</span></h2>,\n",
       " <h2 class=\"css-sz16hw esl82me2\"><span>Should Art Be a Battleground for Social Justice?</span></h2>,\n",
       " <h2 class=\"css-8uvv5f esl82me2\">Lady Gaga Isn’t Done Shape-Shifting Yet</h2>,\n",
       " <h2 class=\"css-8uvv5f esl82me2\">Donald Trump and the Self-Made Sham</h2>,\n",
       " <h2 class=\"css-8uvv5f esl82me2\">Trump’s Newest Taunt and How Misogyny Rules</h2>,\n",
       " <h2 class=\"css-8uvv5f esl82me2\">Am I a Lawn Mower Parent?</h2>,\n",
       " <h2 class=\"css-8uvv5f esl82me2\">The American Civil War, Part II</h2>,\n",
       " <h2 class=\"css-8uvv5f esl82me2\">Kids Are Vulnerable to Toxic Chemicals. Does the E.P.A. Care?</h2>,\n",
       " <h2 class=\"css-8uvv5f esl82me2\">The Meritocracy Against Itself</h2>,\n",
       " <h2 class=\"css-8uvv5f esl82me2\">The Republican Attack on California</h2>,\n",
       " <h2 class=\"css-8uvv5f esl82me2\">Silicon Valley Is a Disease That Has Made Politics Sick</h2>,\n",
       " <h2 class=\"css-8uvv5f esl82me2\">Sorry, President Trump, Decency Beats Dollars</h2>,\n",
       " <h2 class=\"css-8uvv5f esl82me2\">Group Texting With President Trump</h2>,\n",
       " <h2 class=\"css-8uvv5f esl82me2\">The Right-Wing Rot at the Heart of the German State</h2>,\n",
       " <h2 class=\"css-sz16hw esl82me2\"><span>Amsterdam’s Plea to Tourists: Visit, but Please Behave Yourselves</span></h2>,\n",
       " <h2 class=\"css-8uvv5f esl82me2\">Matthew Weiner Struggled for a New TV Idea After ‘Mad Men’</h2>,\n",
       " <h2 class=\"css-8uvv5f esl82me2\">For the Cubs, the Playoffs Aren’t Good Enough Any More</h2>,\n",
       " <h2 class=\"css-vz7hjd\" id=\"site-index-label\">Site Index</h2>,\n",
       " <h2 class=\"css-vz7hjd\">Site Information Navigation</h2>]"
      ]
     },
     "execution_count": 2,
     "metadata": {},
     "output_type": "execute_result"
    }
   ],
   "source": [
    "# headlines seem to be contained in 'h2' elements\n",
    "\n",
    "h2s = sp.findAll('h2')\n",
    "h2s\n",
    "      "
   ]
  },
  {
   "cell_type": "code",
   "execution_count": 3,
   "metadata": {},
   "outputs": [
    {
     "data": {
      "text/plain": [
       "[['Listen to ‘The Daily’'],\n",
       " ['In the ‘Watching’ Newsletter'],\n",
       " ['Got a confidential news tip?'],\n",
       " [<span>4 Ways Fred Trump Made Donald Trump and His Siblings Rich</span>],\n",
       " ['11 Takeaways From The Times’s Investigation Into Trump’s Wealth'],\n",
       " ['Mr. Trump called The Times’s investigation into his family’s dubious tax schemes a boring hit-piece.'],\n",
       " [<span>Swing Republican Senators Condemn Trump’s Mockery of Kavanaugh Accuser</span>],\n",
       " ['Senate Republicans Open New Attack on Kavanaugh Accuser'],\n",
       " ['The Kavanaugh proceedings have exposed just how far the Senate has drifted from the rules of decorum.'],\n",
       " [<span>In Tennessee Senate Race, Financial Missteps Linger in the Background</span>],\n",
       " ['Missing in the G.O.P.: Black and Hispanic Nominees for Governor'],\n",
       " ['The White House has a message for Republican candidates: Stay close to President Trump.'],\n",
       " [<span>Vulgar Texts and Dancer Turmoil Force City Ballet to Look in the Mirror</span>],\n",
       " [<span>Should Art Be a Battleground for Social Justice?</span>],\n",
       " ['Lady Gaga Isn’t Done Shape-Shifting Yet'],\n",
       " ['Donald Trump and the Self-Made Sham'],\n",
       " ['Trump’s Newest Taunt and How Misogyny Rules'],\n",
       " ['Am I a Lawn Mower Parent?'],\n",
       " ['The American Civil War, Part II'],\n",
       " ['Kids Are Vulnerable to Toxic Chemicals. Does the E.P.A. Care?'],\n",
       " ['The Meritocracy Against Itself'],\n",
       " ['The Republican Attack on California'],\n",
       " ['Silicon Valley Is a Disease That Has Made Politics Sick'],\n",
       " ['Sorry, President Trump, Decency Beats Dollars'],\n",
       " ['Group Texting With President Trump'],\n",
       " ['The Right-Wing Rot at the Heart of the German State'],\n",
       " [<span>Amsterdam’s Plea to Tourists: Visit, but Please Behave Yourselves</span>],\n",
       " ['Matthew Weiner Struggled for a New TV Idea After ‘Mad Men’'],\n",
       " ['For the Cubs, the Playoffs Aren’t Good Enough Any More'],\n",
       " ['Site Index'],\n",
       " ['Site Information Navigation']]"
      ]
     },
     "execution_count": 3,
     "metadata": {},
     "output_type": "execute_result"
    }
   ],
   "source": [
    "# pull out the contents of the h2 elements\n",
    "\n",
    "contents = [h2.contents for h2 in h2s]\n",
    "contents"
   ]
  },
  {
   "cell_type": "code",
   "execution_count": 4,
   "metadata": {},
   "outputs": [
    {
     "data": {
      "text/plain": [
       "['Listen to ‘The Daily’',\n",
       " 'In the ‘Watching’ Newsletter',\n",
       " 'Got a confidential news tip?',\n",
       " '4 Ways Fred Trump Made Donald Trump and His Siblings Rich',\n",
       " '11 Takeaways From The Times’s Investigation Into Trump’s Wealth',\n",
       " 'Mr. Trump called The Times’s investigation into his family’s dubious tax schemes a boring hit-piece.',\n",
       " 'Swing Republican Senators Condemn Trump’s Mockery of Kavanaugh Accuser',\n",
       " 'Senate Republicans Open New Attack on Kavanaugh Accuser',\n",
       " 'The Kavanaugh proceedings have exposed just how far the Senate has drifted from the rules of decorum.',\n",
       " 'In Tennessee Senate Race, Financial Missteps Linger in the Background',\n",
       " 'Missing in the G.O.P.: Black and Hispanic Nominees for Governor',\n",
       " 'The White House has a message for Republican candidates: Stay close to President Trump.',\n",
       " 'Vulgar Texts and Dancer Turmoil Force City Ballet to Look in the Mirror',\n",
       " 'Should Art Be a Battleground for Social Justice?',\n",
       " 'Lady Gaga Isn’t Done Shape-Shifting Yet',\n",
       " 'Donald Trump and the Self-Made Sham',\n",
       " 'Trump’s Newest Taunt and How Misogyny Rules',\n",
       " 'Am I a Lawn Mower Parent?',\n",
       " 'The American Civil War, Part II',\n",
       " 'Kids Are Vulnerable to Toxic Chemicals. Does the E.P.A. Care?',\n",
       " 'The Meritocracy Against Itself',\n",
       " 'The Republican Attack on California',\n",
       " 'Silicon Valley Is a Disease That Has Made Politics Sick',\n",
       " 'Sorry, President Trump, Decency Beats Dollars',\n",
       " 'Group Texting With President Trump',\n",
       " 'The Right-Wing Rot at the Heart of the German State',\n",
       " 'Amsterdam’s Plea to Tourists: Visit, but Please Behave Yourselves',\n",
       " 'Matthew Weiner Struggled for a New TV Idea After ‘Mad Men’',\n",
       " 'For the Cubs, the Playoffs Aren’t Good Enough Any More',\n",
       " 'Site Index',\n",
       " 'Site Information Navigation']"
      ]
     },
     "execution_count": 4,
     "metadata": {},
     "output_type": "execute_result"
    }
   ],
   "source": [
    "# pull out the strings from lists and the <span> tag\n",
    "# note use of 'ternary if'\n",
    "\n",
    "[ content[0] if isinstance(content[0], str) else content[0].contents[0] \\\n",
    " for content in contents]"
   ]
  }
 ],
 "metadata": {
  "anaconda-cloud": {},
  "kernelspec": {
   "display_name": "Python 3",
   "language": "python",
   "name": "python3"
  },
  "language_info": {
   "codemirror_mode": {
    "name": "ipython",
    "version": 3
   },
   "file_extension": ".py",
   "mimetype": "text/x-python",
   "name": "python",
   "nbconvert_exporter": "python",
   "pygments_lexer": "ipython3",
   "version": "3.6.3"
  }
 },
 "nbformat": 4,
 "nbformat_minor": 1
}
