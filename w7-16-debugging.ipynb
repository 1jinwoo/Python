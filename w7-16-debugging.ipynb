{
 "cells": [
  {
   "cell_type": "markdown",
   "metadata": {},
   "source": [
    "# Debugging\n",
    "\n",
    "- the tried and true - stick print statements in your code"
   ]
  },
  {
   "cell_type": "code",
   "execution_count": 1,
   "metadata": {},
   "outputs": [
    {
     "name": "stdout",
     "output_type": "stream",
     "text": [
      "arg 3\n",
      "arg 2\n",
      "arg 1\n",
      "arg 0\n",
      "ret 1\n",
      "ret 1\n",
      "ret 2\n",
      "ret 6\n"
     ]
    },
    {
     "data": {
      "text/plain": [
       "6"
      ]
     },
     "execution_count": 1,
     "metadata": {},
     "output_type": "execute_result"
    }
   ],
   "source": [
    "def fact(arg):\n",
    "    print('arg', arg)\n",
    "    ret = 1 if arg == 0 else arg * fact(arg-1)\n",
    "    print('ret', ret)\n",
    "    return(ret)\n",
    "\n",
    "fact(3)"
   ]
  },
  {
   "cell_type": "markdown",
   "metadata": {},
   "source": [
    "# assert statement\n",
    "- 1st arg is an expression\n",
    "- 2nd arg is error message\n",
    "- if the expression is false, an AssertionError is raised\n",
    "- if optimization is turned on (-O on command line) asserts are ignored"
   ]
  },
  {
   "cell_type": "code",
   "execution_count": 2,
   "metadata": {
    "collapsed": true
   },
   "outputs": [],
   "source": [
    "def a(n):\n",
    "    assert n == 4, 'did not get 4!!'"
   ]
  },
  {
   "cell_type": "code",
   "execution_count": 3,
   "metadata": {
    "collapsed": true
   },
   "outputs": [],
   "source": [
    "a(4)"
   ]
  },
  {
   "cell_type": "code",
   "execution_count": 4,
   "metadata": {},
   "outputs": [
    {
     "ename": "AssertionError",
     "evalue": "did not get 4!!",
     "output_type": "error",
     "traceback": [
      "\u001b[1;31m---------------------------------------------------------------------------\u001b[0m",
      "\u001b[1;31mAssertionError\u001b[0m                            Traceback (most recent call last)",
      "\u001b[1;32m<ipython-input-4-28583940927d>\u001b[0m in \u001b[0;36m<module>\u001b[1;34m()\u001b[0m\n\u001b[1;32m----> 1\u001b[1;33m \u001b[0ma\u001b[0m\u001b[1;33m(\u001b[0m\u001b[1;36m6\u001b[0m\u001b[1;33m)\u001b[0m\u001b[1;33m\u001b[0m\u001b[0m\n\u001b[0m",
      "\u001b[1;32m<ipython-input-2-9a1183db0062>\u001b[0m in \u001b[0;36ma\u001b[1;34m(n)\u001b[0m\n\u001b[0;32m      1\u001b[0m \u001b[1;32mdef\u001b[0m \u001b[0ma\u001b[0m\u001b[1;33m(\u001b[0m\u001b[0mn\u001b[0m\u001b[1;33m)\u001b[0m\u001b[1;33m:\u001b[0m\u001b[1;33m\u001b[0m\u001b[0m\n\u001b[1;32m----> 2\u001b[1;33m     \u001b[1;32massert\u001b[0m \u001b[0mn\u001b[0m \u001b[1;33m==\u001b[0m \u001b[1;36m4\u001b[0m\u001b[1;33m,\u001b[0m \u001b[1;34m'did not get 4!!'\u001b[0m\u001b[1;33m\u001b[0m\u001b[0m\n\u001b[0m",
      "\u001b[1;31mAssertionError\u001b[0m: did not get 4!!"
     ]
    }
   ],
   "source": [
    "a(6)"
   ]
  },
  {
   "cell_type": "markdown",
   "metadata": {},
   "source": [
    "# pdb - Python debugger\n",
    "- easiest to run in spyder, but also works in notebooks and command line\n",
    "- there are two ways to start it\n",
    "- use debug-code.py"
   ]
  },
  {
   "cell_type": "code",
   "execution_count": null,
   "metadata": {},
   "outputs": [
    {
     "name": "stdout",
     "output_type": "stream",
     "text": [
      "> <string>(1)<module>()\n",
      "(Pdb) \n",
      "(Pdb) \n",
      "(Pdb) \n",
      "(Pdb) \n",
      "(Pdb) dsfas\n",
      "*** NameError: name 'dsfas' is not defined\n"
     ]
    }
   ],
   "source": [
    "import pdb\n",
    "\n",
    "def foo(n):\n",
    "    a = 2 * n\n",
    "    b = a * 3.14\n",
    "    if a < b:\n",
    "        print('b', b)\n",
    "    else:\n",
    "        print('a', a)\n",
    "    x = a + b\n",
    "    return x\n",
    "        \n",
    "# run it under debugger from the start\n",
    "\n",
    "pdb.runeval('foo(3)')"
   ]
  },
  {
   "cell_type": "code",
   "execution_count": null,
   "metadata": {
    "collapsed": true
   },
   "outputs": [],
   "source": [
    "def bar(n):\n",
    "    a = 2 * n\n",
    "    b = a * 3.14\n",
    "    # start debugger when execution reaches this point\n",
    "    pdb.set_trace()\n",
    "    if a < b:\n",
    "        print('b', b)\n",
    "    else:\n",
    "        print('a', a)\n",
    "    x = a + b\n",
    "    return x\n"
   ]
  }
 ],
 "metadata": {
  "anaconda-cloud": {},
  "kernelspec": {
   "display_name": "Python 3",
   "language": "python",
   "name": "python3"
  },
  "language_info": {
   "codemirror_mode": {
    "name": "ipython",
    "version": 3
   },
   "file_extension": ".py",
   "mimetype": "text/x-python",
   "name": "python",
   "nbconvert_exporter": "python",
   "pygments_lexer": "ipython3",
   "version": "3.6.3"
  }
 },
 "nbformat": 4,
 "nbformat_minor": 1
}
