{
 "cells": [
  {
   "cell_type": "markdown",
   "metadata": {},
   "source": [
    "# [PEP 8](https://www.python.org/dev/peps/pep-0008/)\n",
    "- PEP 8 is the standard style guide for Python code\n",
    "- very detailed\n",
    "- worth looking at\n",
    "- important if you want to write \"professional looking\" code\n",
    "- \"PEP\" - Python Enhancement Proposal"
   ]
  },
  {
   "cell_type": "markdown",
   "metadata": {},
   "source": [
    "# Programs that check your source code style\n",
    "- included in anaconda\n",
    "- try them with style-test.py"
   ]
  },
  {
   "cell_type": "markdown",
   "metadata": {},
   "source": [
    "# pycodestyle\n",
    "    - run it on a source file, and it will complain about PEP 8 style violations\n",
    "    "
   ]
  },
  {
   "cell_type": "markdown",
   "metadata": {},
   "source": [
    "# pylint\n",
    "- checks your source VERY carefully, more so than 'pep8'\n",
    "- [tutorial](https://docs.pylint.org/en/1.6.0/tutorial.html)\n",
    "- [doc](https://www.pylint.org/)"
   ]
  },
  {
   "cell_type": "markdown",
   "metadata": {},
   "source": [
    "# spyder has 'static code analysis'\n",
    "- On Menubar\n",
    "    - Source/static code analysis tool\n",
    "- runs pylint, lets you easily edit the problems"
   ]
  }
 ],
 "metadata": {
  "anaconda-cloud": {},
  "kernelspec": {
   "display_name": "Python 3",
   "language": "python",
   "name": "python3"
  },
  "language_info": {
   "codemirror_mode": {
    "name": "ipython",
    "version": 3
   },
   "file_extension": ".py",
   "mimetype": "text/x-python",
   "name": "python",
   "nbconvert_exporter": "python",
   "pygments_lexer": "ipython3",
   "version": "3.6.3"
  }
 },
 "nbformat": 4,
 "nbformat_minor": 2
}
