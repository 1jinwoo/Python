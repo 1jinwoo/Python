{
 "cells": [
  {
   "cell_type": "markdown",
   "metadata": {},
   "source": [
    "# Introduction to Python \n",
    "# Homework #7\n",
    "- Due Monday Sat Nov 17 at 11pm\n",
    "- This homework will be graded\n",
    "- You MUST submit on CourseWorks2 before it closes\n",
    "    - Verify your submission succeeded\n",
    "    - Email submissions are not accepted \n",
    "    "
   ]
  },
  {
   "cell_type": "markdown",
   "metadata": {},
   "source": [
    "# Academic Honesty\n",
    "* The computer science department has strict polices. Check\n",
    "the department [web page](http://www.cs.columbia.edu/education/honesty) for details. \n",
    "- Do not look at anybody else's source code. Do not show anybody\n",
    "your source, or leave your source where somebody could see it.\n",
    "You MUST write your own code.\n",
    "- For this class, feel free to discuss issues with other people, but suggest waiting an hour or two after a discussion, before writing your code.\n",
    "-  Cases of non original source will be refered to the Judical Committee.\n",
    "\n"
   ]
  },
  {
   "cell_type": "markdown",
   "metadata": {},
   "source": [
    "# Problems 1, 2 - Right Triangles\n",
    "- hints - you might want to use:\n",
    "    - [itertools.combinations](https://docs.python.org/3.6/library/itertools.html#itertools.combinations)\n",
    "    - [itertools.product](https://docs.python.org/3.6/library/itertools.html#itertools.product) with 'repeat=2' arg\n",
    "    - [numpy.dot](https://docs.scipy.org/doc/numpy-1.13.0/reference/generated/numpy.dot.html)\n",
    "    - toplevel max, min functions"
   ]
  },
  {
   "cell_type": "markdown",
   "metadata": {},
   "source": [
    "# define makeXYPoints\n",
    "- makes all possible xy points given a list of coordinates\n",
    "- a point should be represented as a 1D numpy array"
   ]
  },
  {
   "cell_type": "code",
   "execution_count": 1,
   "metadata": {
    "collapsed": true
   },
   "outputs": [],
   "source": [
    "import itertools\n",
    "import numpy as np"
   ]
  },
  {
   "cell_type": "code",
   "execution_count": 3,
   "metadata": {},
   "outputs": [
    {
     "data": {
      "text/plain": [
       "[array([0, 0]), array([0, 1]), array([1, 0]), array([1, 1])]"
      ]
     },
     "execution_count": 3,
     "metadata": {},
     "output_type": "execute_result"
    }
   ],
   "source": [
    "makeXYPoints([0,1])"
   ]
  },
  {
   "cell_type": "code",
   "execution_count": 4,
   "metadata": {},
   "outputs": [
    {
     "data": {
      "text/plain": [
       "[array([0, 0]),\n",
       " array([0, 1]),\n",
       " array([0, 2]),\n",
       " array([1, 0]),\n",
       " array([1, 1]),\n",
       " array([1, 2]),\n",
       " array([2, 0]),\n",
       " array([2, 1]),\n",
       " array([2, 2])]"
      ]
     },
     "execution_count": 4,
     "metadata": {},
     "output_type": "execute_result"
    }
   ],
   "source": [
    "# use these 9 points for rest of problem\n",
    "\n",
    "pts = makeXYPoints([0,1,2])\n",
    "pts"
   ]
  },
  {
   "cell_type": "markdown",
   "metadata": {},
   "source": [
    "# Triangles\n",
    "- triangles are made from three points\n",
    "    - one is always the origin(0,0)\n",
    "    - the other two are chosen from 'pts' above"
   ]
  },
  {
   "cell_type": "markdown",
   "metadata": {},
   "source": [
    "# define makePairs\n",
    "- make all possible pairs of makePoints() points"
   ]
  },
  {
   "cell_type": "code",
   "execution_count": 6,
   "metadata": {},
   "outputs": [
    {
     "name": "stdout",
     "output_type": "stream",
     "text": [
      "36\n"
     ]
    },
    {
     "data": {
      "text/plain": [
       "[(array([0, 0]), array([0, 1])),\n",
       " (array([0, 0]), array([0, 2])),\n",
       " (array([0, 0]), array([1, 0])),\n",
       " (array([0, 0]), array([1, 1])),\n",
       " (array([0, 0]), array([1, 2])),\n",
       " (array([0, 0]), array([2, 0])),\n",
       " (array([0, 0]), array([2, 1])),\n",
       " (array([0, 0]), array([2, 2])),\n",
       " (array([0, 1]), array([0, 2])),\n",
       " (array([0, 1]), array([1, 0])),\n",
       " (array([0, 1]), array([1, 1])),\n",
       " (array([0, 1]), array([1, 2])),\n",
       " (array([0, 1]), array([2, 0])),\n",
       " (array([0, 1]), array([2, 1])),\n",
       " (array([0, 1]), array([2, 2])),\n",
       " (array([0, 2]), array([1, 0])),\n",
       " (array([0, 2]), array([1, 1])),\n",
       " (array([0, 2]), array([1, 2])),\n",
       " (array([0, 2]), array([2, 0])),\n",
       " (array([0, 2]), array([2, 1])),\n",
       " (array([0, 2]), array([2, 2])),\n",
       " (array([1, 0]), array([1, 1])),\n",
       " (array([1, 0]), array([1, 2])),\n",
       " (array([1, 0]), array([2, 0])),\n",
       " (array([1, 0]), array([2, 1])),\n",
       " (array([1, 0]), array([2, 2])),\n",
       " (array([1, 1]), array([1, 2])),\n",
       " (array([1, 1]), array([2, 0])),\n",
       " (array([1, 1]), array([2, 1])),\n",
       " (array([1, 1]), array([2, 2])),\n",
       " (array([1, 2]), array([2, 0])),\n",
       " (array([1, 2]), array([2, 1])),\n",
       " (array([1, 2]), array([2, 2])),\n",
       " (array([2, 0]), array([2, 1])),\n",
       " (array([2, 0]), array([2, 2])),\n",
       " (array([2, 1]), array([2, 2]))]"
      ]
     },
     "execution_count": 6,
     "metadata": {},
     "output_type": "execute_result"
    }
   ],
   "source": [
    "pairs = makePairs(pts)\n",
    "print(len(pairs))\n",
    "pairs"
   ]
  },
  {
   "cell_type": "markdown",
   "metadata": {},
   "source": [
    "# define sidelensq\n",
    "- computes the euclidean length squared between two points(there is no need to take a square root)\n",
    "- use vector operators and methods - don't unpack to x,y"
   ]
  },
  {
   "cell_type": "code",
   "execution_count": 8,
   "metadata": {},
   "outputs": [
    {
     "data": {
      "text/plain": [
       "[array([0, 1]), array([2, 0]), 5]"
      ]
     },
     "execution_count": 8,
     "metadata": {},
     "output_type": "execute_result"
    }
   ],
   "source": [
    "[pts[1], pts[6], sidelensq(pts[1], pts[6])]"
   ]
  },
  {
   "cell_type": "code",
   "execution_count": 9,
   "metadata": {},
   "outputs": [
    {
     "data": {
      "text/plain": [
       "[array([2, 1]), array([2, 2]), 1]"
      ]
     },
     "execution_count": 9,
     "metadata": {},
     "output_type": "execute_result"
    }
   ],
   "source": [
    "[pts[7], pts[8], sidelensq(pts[7], pts[8])]"
   ]
  },
  {
   "cell_type": "markdown",
   "metadata": {},
   "source": [
    "# define right\n",
    "- the two point arguments and the origin define the three points of a triangle\n",
    "- if triangle is a right triangle, return True, otherwise False\n",
    "- a right triangle will satisfy the pythagorean theorem(```a**2 + b**2 == c**2```), where 'c' is the longest side\n",
    "- note some triangles may have two origin points - they are not\n",
    "right triangles"
   ]
  },
  {
   "cell_type": "code",
   "execution_count": 17,
   "metadata": {},
   "outputs": [
    {
     "data": {
      "text/plain": [
       "True"
      ]
     },
     "execution_count": 17,
     "metadata": {},
     "output_type": "execute_result"
    }
   ],
   "source": [
    "right(np.array([0, 1]), np.array([1, 0]))"
   ]
  },
  {
   "cell_type": "code",
   "execution_count": 18,
   "metadata": {},
   "outputs": [
    {
     "data": {
      "text/plain": [
       "True"
      ]
     },
     "execution_count": 18,
     "metadata": {},
     "output_type": "execute_result"
    }
   ],
   "source": [
    "right(np.array([3, 0]), np.array([0, 4]))"
   ]
  },
  {
   "cell_type": "code",
   "execution_count": 19,
   "metadata": {},
   "outputs": [
    {
     "data": {
      "text/plain": [
       "False"
      ]
     },
     "execution_count": 19,
     "metadata": {},
     "output_type": "execute_result"
    }
   ],
   "source": [
    "right(np.array([0, 1]), np.array([1, 2]))"
   ]
  },
  {
   "cell_type": "markdown",
   "metadata": {},
   "source": [
    "# define findRights\n",
    "- find the right triangles defined by the origin and one of the pairs above generated by makePairs(pts)"
   ]
  },
  {
   "cell_type": "code",
   "execution_count": 21,
   "metadata": {},
   "outputs": [
    {
     "data": {
      "text/plain": [
       "[[array([0, 1]), array([1, 0])],\n",
       " [array([0, 1]), array([1, 1])],\n",
       " [array([0, 1]), array([2, 0])],\n",
       " [array([0, 1]), array([2, 1])],\n",
       " [array([0, 2]), array([1, 0])],\n",
       " [array([0, 2]), array([1, 1])],\n",
       " [array([0, 2]), array([1, 2])],\n",
       " [array([0, 2]), array([2, 0])],\n",
       " [array([0, 2]), array([2, 2])],\n",
       " [array([1, 0]), array([1, 1])],\n",
       " [array([1, 0]), array([1, 2])],\n",
       " [array([1, 1]), array([2, 0])],\n",
       " [array([2, 0]), array([2, 1])],\n",
       " [array([2, 0]), array([2, 2])]]"
      ]
     },
     "execution_count": 21,
     "metadata": {},
     "output_type": "execute_result"
    }
   ],
   "source": [
    "# there are 14 right triangles\n",
    "\n",
    "findRights()"
   ]
  },
  {
   "cell_type": "markdown",
   "metadata": {},
   "source": [
    "# Plot the right triangles\n",
    "- most of the work is done for you\n",
    "- each triangle will be plotted in a 'subplot'\n",
    "- you just need to convert the 'rht' data into \n",
    "the form required by [plt.plot](https://matplotlib.org/api/_as_gen/matplotlib.pyplot.plot.html#matplotlib.pyplot.plot)"
   ]
  },
  {
   "cell_type": "code",
   "execution_count": 22,
   "metadata": {
    "collapsed": true
   },
   "outputs": [],
   "source": [
    "%matplotlib inline\n",
    "import matplotlib.pyplot as plt"
   ]
  },
  {
   "cell_type": "code",
   "execution_count": 123,
   "metadata": {
    "collapsed": true
   },
   "outputs": [],
   "source": [
    "def plotRights():\n",
    "    origin = np.array([0, 0])\n",
    "    for j, rht in enumerate(findRights()):\n",
    "        # first subplot is 1, not 0\n",
    "        plt.subplot(4, 4, j+1)\n",
    "        # plot jth solution\n",
    "\n",
    "        # YOUR CODE HERE\n",
    "        # call plt.plot with data derived from rht\n",
    "        \n",
    "        axes = plt.gca()\n",
    "        axes.set_xticks([])\n",
    "        axes.set_yticks([])\n",
    "        axes.set_xlim([0,2])\n",
    "        axes.set_ylim([0,2])\n",
    "        axes.set_frame_on(False)\n",
    "        plt.grid(True)"
   ]
  },
  {
   "cell_type": "code",
   "execution_count": 24,
   "metadata": {},
   "outputs": [
    {
     "data": {
      "image/png": "[encoded data removed]",
      "text/plain": [
       "<matplotlib.figure.Figure at 0x11284d7f0>"
      ]
     },
     "metadata": {},
     "output_type": "display_data"
    }
   ],
   "source": [
    "plotRights()"
   ]
  },
  {
   "cell_type": "markdown",
   "metadata": {},
   "source": [
    "# Problem 3 - TrianglePaths"
   ]
  },
  {
   "cell_type": "markdown",
   "metadata": {},
   "source": [
    "# define strToLists \n",
    "- converts string form of triangle data into nested lists"
   ]
  },
  {
   "cell_type": "code",
   "execution_count": 2,
   "metadata": {},
   "outputs": [
    {
     "data": {
      "text/plain": [
       "[[3], [7, 4], [2, 4, 6]]"
      ]
     },
     "execution_count": 2,
     "metadata": {},
     "output_type": "execute_result"
    }
   ],
   "source": [
    "s1='''\n",
    "   3\n",
    "  7 4\n",
    " 2 4 6\n",
    "'''\n",
    "x1 = strToLists(s1)\n",
    "x1"
   ]
  },
  {
   "cell_type": "code",
   "execution_count": 3,
   "metadata": {},
   "outputs": [
    {
     "data": {
      "text/plain": [
       "[[3], [7, 4], [2, 4, 6], [8, 5, 9, 3]]"
      ]
     },
     "execution_count": 3,
     "metadata": {},
     "output_type": "execute_result"
    }
   ],
   "source": [
    "# from 7, the next element in the path must be 2 or 4\n",
    "# from 6, 9 or 3\n",
    "# from 3, 8 or 5\n",
    "\n",
    "s2='''\n",
    "   3\n",
    "  7 4\n",
    " 2 4 6\n",
    "8 5 9 3\n",
    "'''\n",
    "x2 = strToLists(s2)\n",
    "x2"
   ]
  },
  {
   "cell_type": "code",
   "execution_count": 4,
   "metadata": {},
   "outputs": [
    {
     "data": {
      "text/plain": [
       "[[75],\n",
       " [95, 64],\n",
       " [17, 47, 82],\n",
       " [18, 35, 87, 10],\n",
       " [20, 4, 82, 47, 65],\n",
       " [19, 1, 23, 75, 3, 34],\n",
       " [88, 2, 77, 73, 7, 63, 67],\n",
       " [99, 65, 4, 28, 6, 16, 70, 92],\n",
       " [41, 41, 26, 56, 83, 40, 80, 70, 33],\n",
       " [41, 48, 72, 33, 47, 32, 37, 16, 94, 29],\n",
       " [53, 71, 44, 65, 25, 43, 91, 52, 97, 51, 14],\n",
       " [70, 11, 33, 28, 77, 73, 17, 78, 39, 68, 17, 57],\n",
       " [91, 71, 52, 38, 17, 14, 91, 43, 58, 50, 27, 29, 48],\n",
       " [63, 66, 4, 68, 89, 53, 67, 30, 73, 16, 69, 87, 40, 31],\n",
       " [4, 62, 98, 27, 23, 9, 70, 98, 73, 93, 38, 53, 60, 4, 23]]"
      ]
     },
     "execution_count": 4,
     "metadata": {},
     "output_type": "execute_result"
    }
   ],
   "source": [
    "s3 = '''\n",
    "                   75\n",
    "                 95 64\n",
    "                17 47 82\n",
    "              18 35 87 10\n",
    "             20 04 82 47 65\n",
    "            19 01 23 75 03 34\n",
    "          88 02 77 73 07 63 67\n",
    "         99 65 04 28 06 16 70 92\n",
    "        41 41 26 56 83 40 80 70 33\n",
    "       41 48 72 33 47 32 37 16 94 29\n",
    "      53 71 44 65 25 43 91 52 97 51 14\n",
    "     70 11 33 28 77 73 17 78 39 68 17 57\n",
    "    91 71 52 38 17 14 91 43 58 50 27 29 48\n",
    "  63 66 04 68 89 53 67 30 73 16 69 87 40 31\n",
    "04 62 98 27 23 09 70 98 73 93 38 53 60 04 23\n",
    "'''\n",
    "\n",
    "x3 = strToLists(s3)\n",
    "x3"
   ]
  },
  {
   "cell_type": "markdown",
   "metadata": {},
   "source": [
    "# define maxTrianglePathSum \n",
    "- a triangle path csn be defined by going from top to bottom, choosing one element from each row, such that the choice in the next row is to the immediate left or right of the element in the row above\n",
    "    - in the triangle below 3-7-4-9, 3-4-4-9, 3-4-6-2 are paths\n",
    "        - the sum of a path is the sum of the elements in the path\n",
    "        - sums of the above paths are 23, 20, 15\n",
    "    - 3-7-6-3, 3-4-2-8, 3-7-2-9 are not paths\n",
    "- maxTrianglePathSum takes the output of strToLists and returns the max possible path sum\n",
    "- note - you do NOT need to find the actual path, just the max sum\n",
    "- hint: this is very simple\n",
    "    - keep merging the last row of the triangle into the 2nd to last row, until you are done\n",
    "    - you may find it convenient to make a copy of the input, use [copy.deepcopy](https://docs.python.org/3.5/library/copy.html)\n",
    "    - don't need recursion\n",
    "- in triangle below, the max sum is 3+7+4+9=23\n",
    "\n",
    "```\n",
    "   3\n",
    "  7 4\n",
    " 2 4 6\n",
    "8 5 9 3\n",
    "```"
   ]
  },
  {
   "cell_type": "markdown",
   "metadata": {},
   "source": [
    "hint: the solution to \n",
    "\n",
    "```\n",
    "         1\n",
    "      2      3\n",
    "1000     0      1\n",
    "```\n",
    "\n",
    "is 1+2+1000, not 1+3+1\n",
    "\n",
    "so moving top to bottom and making the optimal choice at each level doesn't work"
   ]
  },
  {
   "cell_type": "code",
   "execution_count": 8,
   "metadata": {},
   "outputs": [
    {
     "data": {
      "text/plain": [
       "[14, 23, 1074]"
      ]
     },
     "execution_count": 8,
     "metadata": {},
     "output_type": "execute_result"
    }
   ],
   "source": [
    "[maxTrianglePathSum(x) for x in [x1, x2, x3]]"
   ]
  },
  {
   "cell_type": "markdown",
   "metadata": {},
   "source": [
    "# Problem 4&5 - Conway's game of Life\n",
    "- glance at [wiki article](https://en.wikipedia.org/wiki/Conway%27s_Game_of_Life)\n",
    "    - many interesting patterns have been discovered\n",
    "- methods:\n",
    "    - the ```__init__()``` method takes as input a nested list and converts it to a n x n numpy array of 1s and 0s, representing the cell states. A cell is considered alive if it is of state 1, and dead otherwise.\n",
    "    - the ```next(self)``` method operates on the current board, and returns the next state of the board as determined by the following rules:\n",
    "        - If a cell is alive, and it has exactly two or three neighbors that are alive, it will remain alive.\n",
    "        - If a cell is alive and it has less than two or more than three alive neighbors, it will die.\n",
    "        - If a cell is dead and it has exactly three neighbors which are alive, it will come back to life. Otherwise, it remains dead.\n",
    "    - countAliveNeighbors(self, i, j) method counts the number of alive neighbors at (i, j)\n",
    "        - The neighbors of a cell are any of the cells that are adjacent to it\n",
    "            - 3 at a corner \n",
    "            - 5 on an edge \n",
    "            - 8 in the interior. \n",
    "- you must complete the ```next()``` and ```countAliveNeighbors()``` methods"
   ]
  },
  {
   "cell_type": "code",
   "execution_count": 3,
   "metadata": {},
   "outputs": [
    {
     "data": {
      "text/plain": [
       "[array([2, 3]), array([2, 3]), False]"
      ]
     },
     "execution_count": 3,
     "metadata": {},
     "output_type": "execute_result"
    }
   ],
   "source": [
    "# hint - numpy arrays have a copy method\n",
    "\n",
    "import numpy as np\n",
    "\n",
    "a = np.array([2,3])\n",
    "b = a.copy()\n",
    "[a,b, a is b]"
   ]
  },
  {
   "cell_type": "code",
   "execution_count": 4,
   "metadata": {
    "collapsed": true
   },
   "outputs": [],
   "source": [
    "class life:\n",
    "    def __init__(self, board):\n",
    "        # current board - will be updated by __next__\n",
    "        self.current = np.array(board)\n",
    "        self.side = len(board)\n",
    "    \n",
    "    def run(self, n):\n",
    "        self.plife()\n",
    "        for j in range(n):\n",
    "            self.next()\n",
    "            self.plife()\n",
    "\n",
    "    def plife(self):\n",
    "        s = []\n",
    "        for row in range(self.side):\n",
    "            for col in range(self.side):\n",
    "                s.append('1' if self.current[row,col] else '0')\n",
    "            s.append('\\n')\n",
    "        print(''.join(s))\n",
    "        \n",
    "    def next(self):\n",
    "        pass\n",
    "        # your code here\n",
    "\n",
    "    def countAliveNeighbors(self, i, j):\n",
    "        # your code here\n",
    "        try:\n",
    "            self.current[[i-1, i, i+1], [j-1, j, j+1]]"
   ]
  },
  {
   "cell_type": "code",
   "execution_count": 9,
   "metadata": {},
   "outputs": [],
   "source": [
    "# stable, doesn't change\n",
    "\n",
    "block = life([[0,0,0,0],\n",
    "             [0,1,1,0],\n",
    "             [0,1,1,0],\n",
    "             [0,0,0,0]])"
   ]
  },
  {
   "cell_type": "code",
   "execution_count": 12,
   "metadata": {},
   "outputs": [
    {
     "name": "stdout",
     "output_type": "stream",
     "text": [
      "0000\n",
      "0110\n",
      "0110\n",
      "0000\n",
      "\n",
      "0000\n",
      "0110\n",
      "0110\n",
      "0000\n",
      "\n",
      "0000\n",
      "0110\n",
      "0110\n",
      "0000\n",
      "\n"
     ]
    }
   ],
   "source": [
    "block.run(2)"
   ]
  },
  {
   "cell_type": "code",
   "execution_count": 13,
   "metadata": {},
   "outputs": [
    {
     "name": "stdout",
     "output_type": "stream",
     "text": [
      "010\n",
      "010\n",
      "010\n",
      "\n",
      "000\n",
      "111\n",
      "000\n",
      "\n",
      "010\n",
      "010\n",
      "010\n",
      "\n",
      "000\n",
      "111\n",
      "000\n",
      "\n",
      "010\n",
      "010\n",
      "010\n",
      "\n"
     ]
    }
   ],
   "source": [
    "# aternates between two patterns\n",
    "\n",
    "blinker = life([[0, 1, 0 ],\n",
    "          [0, 1, 0],\n",
    "          [0, 1, 0]])\n",
    "\n",
    "blinker.run(4)"
   ]
  },
  {
   "cell_type": "code",
   "execution_count": 14,
   "metadata": {},
   "outputs": [
    {
     "name": "stdout",
     "output_type": "stream",
     "text": [
      "000000\n",
      "000000\n",
      "001110\n",
      "011100\n",
      "000000\n",
      "000000\n",
      "\n",
      "000000\n",
      "000100\n",
      "010010\n",
      "010010\n",
      "001000\n",
      "000000\n",
      "\n",
      "000000\n",
      "000000\n",
      "001110\n",
      "011100\n",
      "000000\n",
      "000000\n",
      "\n"
     ]
    }
   ],
   "source": [
    "toad = life(np.array([[0, 0, 0, 0, 0, 0],\n",
    "       [0, 0, 0, 0, 0, 0],\n",
    "       [0, 0, 1, 1, 1, 0],\n",
    "       [0, 1, 1, 1, 0, 0],\n",
    "       [0, 0, 0, 0, 0, 0],\n",
    "       [0, 0, 0, 0, 0, 0]]))\n",
    "\n",
    "toad.run(2)"
   ]
  },
  {
   "cell_type": "code",
   "execution_count": 15,
   "metadata": {},
   "outputs": [
    {
     "name": "stdout",
     "output_type": "stream",
     "text": [
      "11101\n",
      "10010\n",
      "01001\n",
      "11010\n",
      "10101\n",
      "\n",
      "11110\n",
      "10011\n",
      "01011\n",
      "10011\n",
      "10110\n",
      "\n",
      "11111\n",
      "10000\n",
      "11000\n",
      "10000\n",
      "01111\n",
      "\n",
      "11110\n",
      "00010\n",
      "11000\n",
      "10010\n",
      "01110\n",
      "\n",
      "01110\n",
      "00010\n",
      "11100\n",
      "10010\n",
      "01110\n",
      "\n",
      "00110\n",
      "10010\n",
      "11110\n",
      "10010\n",
      "01110\n",
      "\n",
      "00110\n",
      "10001\n",
      "10011\n",
      "10001\n",
      "01110\n",
      "\n",
      "00010\n",
      "01101\n",
      "11011\n",
      "10001\n",
      "01110\n",
      "\n",
      "00110\n",
      "11001\n",
      "10001\n",
      "10001\n",
      "01110\n",
      "\n",
      "01110\n",
      "11101\n",
      "10011\n",
      "10101\n",
      "01110\n",
      "\n",
      "10010\n",
      "10001\n",
      "10001\n",
      "10001\n",
      "01110\n",
      "\n",
      "00000\n",
      "11011\n",
      "11011\n",
      "10101\n",
      "01110\n",
      "\n",
      "00000\n",
      "11011\n",
      "00000\n",
      "10001\n",
      "01110\n",
      "\n",
      "00000\n",
      "00000\n",
      "11011\n",
      "01110\n",
      "01110\n",
      "\n",
      "00000\n",
      "00000\n",
      "11011\n",
      "00000\n",
      "01010\n",
      "\n",
      "00000\n",
      "00000\n",
      "00000\n",
      "11011\n",
      "00000\n",
      "\n",
      "00000\n",
      "00000\n",
      "00000\n",
      "00000\n",
      "00000\n",
      "\n"
     ]
    }
   ],
   "source": [
    "everybodydies = life(np.array([\n",
    "            [1,1,1,0,1],\n",
    "            [1,0,0,1,0],\n",
    "            [0,1,0,0,1],\n",
    "            [1,1,0,1,0],\n",
    "            [1,0,1,0,1],\n",
    "            ]))\n",
    "everybodydies.run(16)"
   ]
  },
  {
   "cell_type": "code",
   "execution_count": 16,
   "metadata": {},
   "outputs": [
    {
     "name": "stdout",
     "output_type": "stream",
     "text": [
      "000000000000\n",
      "000000000000\n",
      "000000000000\n",
      "000111000000\n",
      "000111000000\n",
      "000111000000\n",
      "000000111000\n",
      "000000111000\n",
      "000000111000\n",
      "000000000000\n",
      "000000000000\n",
      "000000000000\n",
      "\n",
      "000000000000\n",
      "000000000000\n",
      "000010000000\n",
      "000101000000\n",
      "001000100000\n",
      "000100010000\n",
      "000010001000\n",
      "000001000100\n",
      "000000101000\n",
      "000000010000\n",
      "000000000000\n",
      "000000000000\n",
      "\n",
      "000000000000\n",
      "000000000000\n",
      "000010000000\n",
      "000111000000\n",
      "001110100000\n",
      "000100010000\n",
      "000010001000\n",
      "000001011100\n",
      "000000111000\n",
      "000000010000\n",
      "000000000000\n",
      "000000000000\n",
      "\n",
      "000000000000\n",
      "000000000000\n",
      "000111000000\n",
      "001000000000\n",
      "001000100000\n",
      "001001010000\n",
      "000010100100\n",
      "000001000100\n",
      "000000000100\n",
      "000000111000\n",
      "000000000000\n",
      "000000000000\n",
      "\n",
      "000000000000\n",
      "000010000000\n",
      "000110000000\n",
      "001011000000\n",
      "011100100000\n",
      "000101010000\n",
      "000010101000\n",
      "000001001110\n",
      "000000110100\n",
      "000000011000\n",
      "000000010000\n",
      "000000000000\n",
      "\n",
      "000000000000\n",
      "000110000000\n",
      "000000000000\n",
      "010001000000\n",
      "010000100000\n",
      "000101010000\n",
      "000010101000\n",
      "000001000010\n",
      "000000100010\n",
      "000000000000\n",
      "000000011000\n",
      "000000000000\n",
      "\n",
      "000000000000\n",
      "000000000000\n",
      "000010000000\n",
      "000000000000\n",
      "001011100000\n",
      "000011010000\n",
      "000010110000\n",
      "000001110100\n",
      "000000000000\n",
      "000000010000\n",
      "000000000000\n",
      "000000000000\n",
      "\n",
      "000000000000\n",
      "000000000000\n",
      "000000000000\n",
      "000110000000\n",
      "000110100000\n",
      "000000010000\n",
      "000010000000\n",
      "000001011000\n",
      "000000011000\n",
      "000000000000\n",
      "000000000000\n",
      "000000000000\n",
      "\n",
      "000000000000\n",
      "000000000000\n",
      "000000000000\n",
      "000111000000\n",
      "000111000000\n",
      "000111000000\n",
      "000000111000\n",
      "000000111000\n",
      "000000111000\n",
      "000000000000\n",
      "000000000000\n",
      "000000000000\n",
      "\n"
     ]
    }
   ],
   "source": [
    "fig8 = life(np.array([[0, 0, 0, 0, 0, 0, 0, 0, 0, 0, 0, 0],\n",
    "       [0, 0, 0, 0, 0, 0, 0, 0, 0, 0, 0, 0],\n",
    "       [0, 0, 0, 0, 0, 0, 0, 0, 0, 0, 0, 0],\n",
    "       [0, 0, 0, 1, 1, 1, 0, 0, 0, 0, 0, 0],\n",
    "       [0, 0, 0, 1, 1, 1, 0, 0, 0, 0, 0, 0],\n",
    "       [0, 0, 0, 1, 1, 1, 0, 0, 0, 0, 0, 0],\n",
    "       [0, 0, 0, 0, 0, 0, 1, 1, 1, 0, 0, 0],\n",
    "       [0, 0, 0, 0, 0, 0, 1, 1, 1, 0, 0, 0],\n",
    "       [0, 0, 0, 0, 0, 0, 1, 1, 1, 0, 0, 0],\n",
    "       [0, 0, 0, 0, 0, 0, 0, 0, 0, 0, 0, 0],\n",
    "       [0, 0, 0, 0, 0, 0, 0, 0, 0, 0, 0, 0],\n",
    "       [0, 0, 0, 0, 0, 0, 0, 0, 0, 0, 0, 0]]))\n",
    "\n",
    "fig8.run(8)"
   ]
  }
 ],
 "metadata": {
  "anaconda-cloud": {},
  "kernelspec": {
   "display_name": "Python 3",
   "language": "python",
   "name": "python3"
  },
  "language_info": {
   "codemirror_mode": {
    "name": "ipython",
    "version": 3
   },
   "file_extension": ".py",
   "mimetype": "text/x-python",
   "name": "python",
   "nbconvert_exporter": "python",
   "pygments_lexer": "ipython3",
   "version": "3.6.3"
  },
  "name": "_merged_merged"
 },
 "nbformat": 4,
 "nbformat_minor": 1
}
