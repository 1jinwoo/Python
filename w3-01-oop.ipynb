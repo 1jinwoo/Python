{
 "cells": [
  {
   "cell_type": "markdown",
   "metadata": {},
   "source": [
    "# Object Oriented Programming\n",
    "\n",
    "# class\n",
    "- 'class' is an executable statement, like 'def', that defines a Python class\n",
    "- most, but not all, classes are 'instantiated' as objects\n",
    "- a class definition specifies two types of \n",
    "'attributes'\n",
    "    - 'class attributes' are defined on the class itself. all objects have access to class attributes, but class attributes are independent of object instantiations. sometimes called 'class variables'\n",
    "    - 'object attributes' are 'local' to \n",
    "each instantiated object. object attributes\n",
    "are often called 'object or instance variables'\n",
    "\n",
    "\n",
    "- attributes can hold any Python object, including function objects\n",
    "\n",
    "- an attribute referencing a function object is often called a 'method'. they are defined by using 'def' inside the class block\n",
    "\n",
    "- methods can access and modify attributes\n",
    "\n",
    "\n",
    "\n",
    "- a class method is defined by def\n",
    "\n",
    "```\n",
    "class foo:\n",
    "   def bar(x,y):\n",
    "       # xysum is a 'class variable'\n",
    "       xysum = x + Y\n",
    "\n",
    "```\n",
    "\n",
    "- an object method is also defined with def, but 'self' must ALWAYS be the first arg to an object method\n",
    "\n",
    "    - if you forget the 'self' arg, nothing will work correctly - common mistake\n",
    "    - 'self' is how the method knows what object to access and modify\n",
    "    - within an object method, object attributes of the object, must be accessed thru the self variable\n",
    "\n",
    "```\n",
    "class foo:\n",
    "    def bar(self, x, y):\n",
    "        # instance variable created\n",
    "        # by assignment\n",
    "        self.sumxy = x + y\n",
    "```\n",
    "\n",
    "- the name of the class is the type, and is also a 'constructor' function that instantiates an object based on the class definition\n",
    "\n",
    "- the ```__init__```  method is called when the class is instantiated, with the args supplied to the constructor. this is an opportunity to setup your object up\n",
    "\n",
    "- methods with ```__``` in the name usually have special meaning to Python\n",
    "\n",
    "- class attributes are sometimes referred to as \"statics\"\n"
   ]
  },
  {
   "cell_type": "markdown",
   "metadata": {},
   "source": [
    "# Object oriented design\n",
    "- encapsulation\n",
    "    - define an external interface to the class\n",
    "    - do not expose the inner workings of the class\n",
    "    - enforce modularity\n",
    "- polymorphism\n",
    "    - define how operators and methods act on a class\n",
    "        - what '+' does is defined by the class definition\n",
    "- inheritance\n",
    "    - designing classes that are based on existing classes\n",
    "    - often an existing class 'almost' does what you want, so you 'reuse' that functionality by inheriting from it\n",
    "\n",
    "\n",
    "# OOP is a natural fit for many applications\n",
    " - window systems and GUI's\n",
    " - file and network operations\n",
    " - operating systems\n",
    " - modeling a 'slice' of reality\n",
    " - simulation"
   ]
  },
  {
   "cell_type": "markdown",
   "metadata": {},
   "source": [
    "# Example - class C\n",
    "- 'state information' that is managed by class  'C'\n",
    "    - 'cvar' is a 'class attribute'. there is only one cvar, and all class and object methods can reference it\n",
    "    - 'ovar' is an 'object attribute'. each instance of C has its own 'ovar'\n",
    "- 'incrCvar' is a 'class method'. it is not associated with any particular object\n",
    "- 'readCV', 'setCV', 'readOV', 'setOV', and 'noEffect' are 'object methods' defined on 'C'\n",
    "    - the first argument to a object method must always be 'self', which refers to the instance itself (like 'this' in Java)\n"
   ]
  },
  {
   "cell_type": "code",
   "execution_count": 1,
   "metadata": {
    "collapsed": true
   },
   "outputs": [],
   "source": [
    "# note the ':' - starts a statement block\n",
    "\n",
    "class C:\n",
    "    '''silly class that illustrates \n",
    "    class and object attributes'''\n",
    "    # initialize class attribute ca\n",
    "    ca = 0\n",
    "    \n",
    "    # class methods - no self arg\n",
    "    # do not need a C object to reference ca\n",
    "        \n",
    "    def incrCA():\n",
    "        C.ca += 1\n",
    "        return C.ca\n",
    "        \n",
    "    # all methods below are 'instance methods'\n",
    "    # first arg is always 'self'\n",
    "    \n",
    "    # called with create function args\n",
    "    # objects gets 'setup' here\n",
    "    def __init__(self, n):\n",
    "        # create instance variable 'oa'\n",
    "        # by assignment\n",
    "        self.oa = n\n",
    "        self.serial = C.incrCA()\n",
    "\n",
    "    # reads the class attribute ca\n",
    "    # self not used\n",
    "    def readCA(self):\n",
    "        return(C.ca)\n",
    "    \n",
    "    # write the class attribute ca\n",
    "    # self not used\n",
    "    def setCA(self, n):\n",
    "        C.ca = n\n",
    "        \n",
    "    # reads object attribute - self is used\n",
    "    def readOA(self):\n",
    "        return(self.oa)\n",
    "\n",
    "    # writes object attribute - self is used\n",
    "    def setOA(self, n):\n",
    "        self.oa = n\n",
    "\n",
    "    # can call methods inside a method\n",
    "    def incr(self, n):\n",
    "        # use self to refer to method on this object\n",
    "        val = self.readOA()\n",
    "        val += n\n",
    "        self.setOA(val)\n",
    "    \n",
    "    # this method has no effect on the object\n",
    "    def noEffect(self, c, i):\n",
    "        # because C. and self. are not used\n",
    "        # below just defines two variables 'ca' and 'oa,\n",
    "        # local to method 'noEffect'\n",
    "        # they will be forgotten when noEffect exits\n",
    "        ca = c # needs to be C.ca\n",
    "        oa = i # needs to be self.oa to have effect\n"
   ]
  },
  {
   "cell_type": "code",
   "execution_count": 2,
   "metadata": {},
   "outputs": [
    {
     "data": {
      "text/plain": [
       "0"
      ]
     },
     "execution_count": 2,
     "metadata": {},
     "output_type": "execute_result"
    }
   ],
   "source": [
    "# 0 is the value that the class definition\n",
    "# initialized cvar to\n",
    "C.ca"
   ]
  },
  {
   "cell_type": "code",
   "execution_count": 3,
   "metadata": {},
   "outputs": [
    {
     "data": {
      "text/plain": [
       "1"
      ]
     },
     "execution_count": 3,
     "metadata": {},
     "output_type": "execute_result"
    }
   ],
   "source": [
    "# calling class method - there are no\n",
    "# C objects yet\n",
    "\n",
    "C.incrCA()\n",
    "C.ca"
   ]
  },
  {
   "cell_type": "code",
   "execution_count": 4,
   "metadata": {},
   "outputs": [
    {
     "data": {
      "text/plain": [
       "2"
      ]
     },
     "execution_count": 4,
     "metadata": {},
     "output_type": "execute_result"
    }
   ],
   "source": [
    "# instantiate C - make a C object\n",
    "# __init__ method will increment ca\n",
    "\n",
    "C(0)\n",
    "C.ca"
   ]
  },
  {
   "cell_type": "code",
   "execution_count": 5,
   "metadata": {},
   "outputs": [
    {
     "data": {
      "text/plain": [
       "[True, 3, 4]"
      ]
     },
     "execution_count": 5,
     "metadata": {},
     "output_type": "execute_result"
    }
   ],
   "source": [
    "# make two instances \n",
    "# each instantiation will increment C.ca\n",
    "\n",
    "c1 = C(111)\n",
    "c2 = C(222)\n",
    "[isinstance(c1, C), c1.serial, c2.serial]"
   ]
  },
  {
   "cell_type": "code",
   "execution_count": 6,
   "metadata": {},
   "outputs": [
    {
     "data": {
      "text/plain": [
       "4"
      ]
     },
     "execution_count": 6,
     "metadata": {},
     "output_type": "execute_result"
    }
   ],
   "source": [
    "C.ca"
   ]
  },
  {
   "cell_type": "code",
   "execution_count": 7,
   "metadata": {},
   "outputs": [
    {
     "data": {
      "text/plain": [
       "[4, 4, 4]"
      ]
     },
     "execution_count": 7,
     "metadata": {},
     "output_type": "execute_result"
    }
   ],
   "source": [
    "# both instances see the same \n",
    "# value for the class var\n",
    "\n",
    "[C.ca, c1.readCA(), c2.readCA()]"
   ]
  },
  {
   "cell_type": "code",
   "execution_count": 8,
   "metadata": {
    "collapsed": true
   },
   "outputs": [],
   "source": [
    "# set 'cvar' via c1\n",
    "\n",
    "c1.setCA(10)"
   ]
  },
  {
   "cell_type": "code",
   "execution_count": 9,
   "metadata": {},
   "outputs": [
    {
     "data": {
      "text/plain": [
       "[10, 10]"
      ]
     },
     "execution_count": 9,
     "metadata": {},
     "output_type": "execute_result"
    }
   ],
   "source": [
    "# both instances still see the same value\n",
    "\n",
    "[c1.readCA(), c2.readCA()]"
   ]
  },
  {
   "cell_type": "code",
   "execution_count": 10,
   "metadata": {},
   "outputs": [
    {
     "data": {
      "text/plain": [
       "[111, 222]"
      ]
     },
     "execution_count": 10,
     "metadata": {},
     "output_type": "execute_result"
    }
   ],
   "source": [
    "# instances have different 'ivar' values \n",
    "# from their __init__ methods\n",
    "\n",
    "[c1.readOA(), c2.readOA()]"
   ]
  },
  {
   "cell_type": "code",
   "execution_count": 11,
   "metadata": {},
   "outputs": [
    {
     "data": {
      "text/plain": [
       "[100, 200]"
      ]
     },
     "execution_count": 11,
     "metadata": {},
     "output_type": "execute_result"
    }
   ],
   "source": [
    "# still independent\n",
    "\n",
    "c1.setOA(100)\n",
    "c2.setOA(200)\n",
    "\n",
    "[c1.readOA(), c2.readOA()]"
   ]
  },
  {
   "cell_type": "code",
   "execution_count": 12,
   "metadata": {},
   "outputs": [
    {
     "name": "stdout",
     "output_type": "stream",
     "text": [
      "[10, 10]\n"
     ]
    },
    {
     "data": {
      "text/plain": [
       "[100, 200]"
      ]
     },
     "execution_count": 12,
     "metadata": {},
     "output_type": "execute_result"
    }
   ],
   "source": [
    "# noEffect method has no effect on the \n",
    "# instance or class variables\n",
    "\n",
    "c1.noEffect(1,2)\n",
    "c2.noEffect(3,4)\n",
    "\n",
    "print([c1.readCA(), c2.readCA()])\n",
    "[c1.readOA(), c2.readOA()]"
   ]
  },
  {
   "cell_type": "code",
   "execution_count": 13,
   "metadata": {},
   "outputs": [
    {
     "data": {
      "text/plain": [
       "[2, 25, 30]"
      ]
     },
     "execution_count": 13,
     "metadata": {},
     "output_type": "execute_result"
    }
   ],
   "source": [
    "# style above uses 'accessor functions'\n",
    "# can also refer to objects variables directly\n",
    "# '.' operator\n",
    "\n",
    "C.ca = 2\n",
    "c1.oa = 25\n",
    "c2.oa = 30\n",
    "\n",
    "[C.ca, c1.oa, c2.oa]"
   ]
  },
  {
   "cell_type": "code",
   "execution_count": 14,
   "metadata": {},
   "outputs": [
    {
     "data": {
      "text/plain": [
       "125"
      ]
     },
     "execution_count": 14,
     "metadata": {},
     "output_type": "execute_result"
    }
   ],
   "source": [
    "c1.incr(100)\n",
    "c1.oa"
   ]
  },
  {
   "cell_type": "markdown",
   "metadata": {},
   "source": [
    "# Example: change\n",
    "- rewrite previous change example\n",
    "- will use class and instance attributes\n",
    "- OrderedDict remembers the order keys were added\n",
    "- two function call tricks"
   ]
  },
  {
   "cell_type": "code",
   "execution_count": 15,
   "metadata": {},
   "outputs": [
    {
     "data": {
      "text/plain": [
       "OrderedDict([('quarters', 25), ('dimes', 10), ('nickels', 5), ('pennies', 1)])"
      ]
     },
     "execution_count": 15,
     "metadata": {},
     "output_type": "execute_result"
    }
   ],
   "source": [
    "import collections\n",
    "\n",
    "od=collections.OrderedDict({'quarters':25, 'dimes':10, 'nickels':5, 'pennies':1})\n",
    "od"
   ]
  },
  {
   "cell_type": "code",
   "execution_count": 17,
   "metadata": {},
   "outputs": [
    {
     "data": {
      "text/plain": [
       "[3, 2, 1]"
      ]
     },
     "execution_count": 17,
     "metadata": {},
     "output_type": "execute_result"
    }
   ],
   "source": [
    "# 'spreading the args'\n",
    "l = [1,2,3]\n",
    "\n",
    "def foo(a,b,c):\n",
    "    return [c,b,a]\n",
    "\n",
    "foo(*l)"
   ]
  },
  {
   "cell_type": "code",
   "execution_count": 18,
   "metadata": {},
   "outputs": [
    {
     "name": "stdout",
     "output_type": "stream",
     "text": [
      "{'a': 4, 'b': 2, 'c': 1}\n"
     ]
    }
   ],
   "source": [
    "# keyword args\n",
    "\n",
    "def foo(**kw):\n",
    "    # kw is dict of arg keywords and values\n",
    "    print(kw)\n",
    "    \n",
    "foo(a=4,b=2,c=1)\n",
    "    "
   ]
  },
  {
   "cell_type": "code",
   "execution_count": 19,
   "metadata": {
    "collapsed": true
   },
   "outputs": [],
   "source": [
    "import collections\n",
    "\n",
    "class Changer:\n",
    "    # class variables\n",
    "    coinvals = collections.\\\n",
    "    OrderedDict({'quarters':25, 'dimes':10, 'nickels':5, 'pennies':1})\n",
    "    coins0 = coinvals.copy()\n",
    "    coins = coins0.keys()\n",
    "    for coin in coins0:\n",
    "        coins0[coin] = 0\n",
    "    \n",
    "    def __init__(self, **kw):\n",
    "        # kw will be a dictionary of arg names and their values\n",
    "        # inventory is a instance variable\n",
    "        # could check for bad args\n",
    "        self.inventory = Changer.coins0.copy()\n",
    "        for k,v in kw.items():\n",
    "            self.inventory[k] = v\n",
    "\n",
    "    def change(self, price):\n",
    "        owe = 100 - price\n",
    "        ans = Changer.coins0.copy()\n",
    "        for coin in Changer.coinvals:\n",
    "            cnt = owe // Changer.coinvals[coin]\n",
    "            cnt = min(cnt, self.inventory[coin])\n",
    "            ans[coin] = cnt\n",
    "            self.inventory[coin] -= cnt\n",
    "            owe -= cnt * Changer.coinvals[coin]\n",
    "            if owe == 0:\n",
    "                break\n",
    "\n",
    "        # return amount still owed, if any\n",
    "        # coins returned\n",
    "        # coins left in inventory\n",
    "        return [owe, ans, self.inventory]\n"
   ]
  },
  {
   "cell_type": "code",
   "execution_count": 20,
   "metadata": {},
   "outputs": [
    {
     "data": {
      "text/plain": [
       "[<__main__.Changer at 0x138646863c8>, <__main__.Changer at 0x13864686400>]"
      ]
     },
     "execution_count": 20,
     "metadata": {},
     "output_type": "execute_result"
    }
   ],
   "source": [
    "c1 = Changer(dimes=3, quarters=2, nickels=10, pennies=7)\n",
    "c2 = Changer(quarters=2, pennies=7, dimes=3, nickels=10)\n",
    "[c1,c2]"
   ]
  },
  {
   "cell_type": "code",
   "execution_count": 21,
   "metadata": {},
   "outputs": [
    {
     "data": {
      "text/plain": [
       "[0,\n",
       " OrderedDict([('quarters', 1), ('dimes', 0), ('nickels', 0), ('pennies', 1)]),\n",
       " OrderedDict([('quarters', 1), ('dimes', 3), ('nickels', 10), ('pennies', 6)])]"
      ]
     },
     "execution_count": 21,
     "metadata": {},
     "output_type": "execute_result"
    }
   ],
   "source": [
    "c1.change(74)"
   ]
  },
  {
   "cell_type": "code",
   "execution_count": 22,
   "metadata": {},
   "outputs": [
    {
     "data": {
      "text/plain": [
       "[0,\n",
       " OrderedDict([('quarters', 1), ('dimes', 0), ('nickels', 0), ('pennies', 1)]),\n",
       " OrderedDict([('quarters', 0), ('dimes', 3), ('nickels', 10), ('pennies', 5)])]"
      ]
     },
     "execution_count": 22,
     "metadata": {},
     "output_type": "execute_result"
    }
   ],
   "source": [
    "c1.change(74)"
   ]
  },
  {
   "cell_type": "code",
   "execution_count": 23,
   "metadata": {},
   "outputs": [
    {
     "data": {
      "text/plain": [
       "[0,\n",
       " OrderedDict([('quarters', 1), ('dimes', 0), ('nickels', 0), ('pennies', 1)]),\n",
       " OrderedDict([('quarters', 1), ('dimes', 3), ('nickels', 10), ('pennies', 6)])]"
      ]
     },
     "execution_count": 23,
     "metadata": {},
     "output_type": "execute_result"
    }
   ],
   "source": [
    "c2.change(74)"
   ]
  },
  {
   "cell_type": "code",
   "execution_count": 24,
   "metadata": {
    "collapsed": true
   },
   "outputs": [],
   "source": [
    "# add methods to control how Changer prints\n",
    "\n",
    "class Changer2(Changer): # inheritance done with having the parent class inside the parantheses\n",
    "\n",
    "    # str and repr control how the object is printed\n",
    "    # they get called in different\n",
    "    # contexts, but we will just have repr call str\n",
    "    def __str__(self):\n",
    "        return 'Changer(q={} d={} n={} p={})'.format(*self.inventory.values())\n",
    "    def __repr__(self):\n",
    "        return self.__str__()\n"
   ]
  },
  {
   "cell_type": "code",
   "execution_count": 25,
   "metadata": {},
   "outputs": [
    {
     "data": {
      "text/plain": [
       "[Changer(q=2 d=3 n=10 p=7), Changer(q=2 d=3 n=10 p=7)]"
      ]
     },
     "execution_count": 25,
     "metadata": {},
     "output_type": "execute_result"
    }
   ],
   "source": [
    "# now easy to see inventory \n",
    "\n",
    "c1 = Changer2(dimes=3, quarters=2, nickels=10, pennies=7)\n",
    "c2 = Changer2(quarters=2, pennies=7, dimes=3, nickels=10)\n",
    "[c1,c2]"
   ]
  },
  {
   "cell_type": "markdown",
   "metadata": {},
   "source": [
    "# Example - class Point\n",
    "- represent 2D points"
   ]
  },
  {
   "cell_type": "code",
   "execution_count": 26,
   "metadata": {
    "collapsed": true
   },
   "outputs": [],
   "source": [
    "import math\n",
    "\n",
    "# this class does not use class attributes\n",
    "\n",
    "class Point:\n",
    "    \"Class that represents 2D Points\"\n",
    "    def __init__(self, x, y):\n",
    "        # x,y - object attributes \n",
    "        # created by assignment\n",
    "        self.x = x # just like this.x = x; in Java's constructors\n",
    "        self.y = y\n",
    "    # str and repr get called in different\n",
    "    # contexts, but we will just have repr \n",
    "    # call str\n",
    "    def __str__(self):\n",
    "        return 'Point({}, {})'.format(self.x, self.y)\n",
    "    def __repr__(self):\n",
    "        return self.__str__()\n",
    "    \n",
    "    def add(self, p):\n",
    "        '''add self and arg, creating a new Point\n",
    "        (self is NOT modified)'''\n",
    "        return Point(self.x + p.x, self.y + p.y)\n",
    "    \n",
    "    def copy(self):\n",
    "        '''copy this point'''\n",
    "        return Point(self.x, self.y)\n",
    "    \n",
    "    def addTo(self, p): # not making a copy but actually modifying self -> so return None\n",
    "        \"add arg to self(self is modified)\"\n",
    "        self.x += p.x\n",
    "        self.y += p.y\n",
    "        self.foo = 35\n",
    "        # return none, like list.sort, etc\n",
    "        return None\n",
    "    \n",
    "    def distanceFrom(self, p):\n",
    "        '''distance between self and arg\n",
    "        (self is not modified)'''\n",
    "        return math.sqrt( (self.x - p.x)**2 + \n",
    "                         (self.y - p.y)**2)\n"
   ]
  },
  {
   "cell_type": "code",
   "execution_count": 27,
   "metadata": {},
   "outputs": [
    {
     "data": {
      "text/plain": [
       "Point(3, 4)"
      ]
     },
     "execution_count": 27,
     "metadata": {},
     "output_type": "execute_result"
    }
   ],
   "source": [
    "origin = Point(0, 0)\n",
    "p1010 = Point(10, 10)\n",
    "p34 = Point(3,4)\n",
    "p34"
   ]
  },
  {
   "cell_type": "code",
   "execution_count": 28,
   "metadata": {},
   "outputs": [
    {
     "data": {
      "text/plain": [
       "5.0"
      ]
     },
     "execution_count": 28,
     "metadata": {},
     "output_type": "execute_result"
    }
   ],
   "source": [
    "origin.distanceFrom(p34)"
   ]
  },
  {
   "cell_type": "code",
   "execution_count": 29,
   "metadata": {},
   "outputs": [
    {
     "data": {
      "text/plain": [
       "<bound method Point.distanceFrom of Point(0, 0)>"
      ]
     },
     "execution_count": 29,
     "metadata": {},
     "output_type": "execute_result"
    }
   ],
   "source": [
    "# do shift-tab to see docstring\n",
    "\n",
    "origin.distanceFrom\n"
   ]
  },
  {
   "cell_type": "code",
   "execution_count": 30,
   "metadata": {},
   "outputs": [
    {
     "data": {
      "text/plain": [
       "[Point(0, 0), Point(10, 10), Point(3, 4)]"
      ]
     },
     "execution_count": 30,
     "metadata": {},
     "output_type": "execute_result"
    }
   ],
   "source": [
    "[origin, p1010, p34]"
   ]
  },
  {
   "cell_type": "code",
   "execution_count": 31,
   "metadata": {},
   "outputs": [
    {
     "data": {
      "text/plain": [
       "[Point(13, 14), Point(10, 10), False, False]"
      ]
     },
     "execution_count": 31,
     "metadata": {},
     "output_type": "execute_result"
    }
   ],
   "source": [
    "# a is a new Point\n",
    "# p1010 is unchanged\n",
    "\n",
    "a = p1010.add(p34)\n",
    "\n",
    "[a, p1010, a is p1010, a is p34]"
   ]
  },
  {
   "cell_type": "code",
   "execution_count": 32,
   "metadata": {
    "collapsed": true
   },
   "outputs": [],
   "source": [
    "# p1010 is modified\n",
    "# returns none\n",
    "\n",
    "p1010.addTo(p34)"
   ]
  },
  {
   "cell_type": "code",
   "execution_count": 33,
   "metadata": {},
   "outputs": [
    {
     "data": {
      "text/plain": [
       "Point(13, 14)"
      ]
     },
     "execution_count": 33,
     "metadata": {},
     "output_type": "execute_result"
    }
   ],
   "source": [
    "p1010"
   ]
  },
  {
   "cell_type": "code",
   "execution_count": 34,
   "metadata": {},
   "outputs": [
    {
     "data": {
      "text/plain": [
       "'Point(13, 14)'"
      ]
     },
     "execution_count": 34,
     "metadata": {},
     "output_type": "execute_result"
    }
   ],
   "source": [
    "# for CS majors...\n",
    "\n",
    "# some objects print in a way s.t.\n",
    "# evaluating the string recreates the \n",
    "# object\n",
    "\n",
    "str(p1010)"
   ]
  },
  {
   "cell_type": "code",
   "execution_count": 35,
   "metadata": {},
   "outputs": [
    {
     "data": {
      "text/plain": [
       "Point(13, 14)"
      ]
     },
     "execution_count": 35,
     "metadata": {},
     "output_type": "execute_result"
    }
   ],
   "source": [
    "eval(str(p1010))"
   ]
  },
  {
   "cell_type": "code",
   "execution_count": 36,
   "metadata": {},
   "outputs": [
    {
     "data": {
      "text/plain": [
       "Polygon<4 points>"
      ]
     },
     "execution_count": 36,
     "metadata": {},
     "output_type": "execute_result"
    }
   ],
   "source": [
    "# this class does not use class attributes\n",
    "class Polygon:\n",
    "    def __init__(self, pts):\n",
    "        # represent vertexes of polygon\n",
    "        # good idea to copy the pts?\n",
    "        # note: 'pts' is arg value, \n",
    "        # 'self.pts' is instance variable\n",
    "        self.pts = [pt.copy() for pt in pts] # safer to have a copy of your own\n",
    "        \n",
    "    def __str__(self):\n",
    "        return '{}<{} points>'.format(self.printname(), len(self.pts))\n",
    "    \n",
    "    def __repr__(self):\n",
    "        return str(self)\n",
    "    \n",
    "    def printname(self):\n",
    "        return 'Polygon'\n",
    "    \n",
    "    def sides(self):\n",
    "        return len(self.pts)\n",
    "    \n",
    "    def addTo(self, a):\n",
    "        for p in self.pts:\n",
    "            p.addTo(a)\n",
    "    \n",
    "    def printVerts(self):\n",
    "        for j, p in enumerate(self.pts):\n",
    "            print(j, p)\n",
    "\n",
    "origin = Point(0,0)\n",
    "p1010 = Point(10, 10)\n",
    "p34 = Point(3,4)\n",
    "p78 = Point(7,8)\n",
    "\n",
    "pg = Polygon([origin, p1010, p34, p78])\n",
    "pg"
   ]
  },
  {
   "cell_type": "code",
   "execution_count": 37,
   "metadata": {},
   "outputs": [
    {
     "name": "stdout",
     "output_type": "stream",
     "text": [
      "0 Point(0, 0)\n",
      "1 Point(10, 10)\n",
      "2 Point(3, 4)\n",
      "3 Point(7, 8)\n"
     ]
    }
   ],
   "source": [
    "pg.printVerts()"
   ]
  },
  {
   "cell_type": "code",
   "execution_count": 38,
   "metadata": {},
   "outputs": [
    {
     "data": {
      "text/plain": [
       "4"
      ]
     },
     "execution_count": 38,
     "metadata": {},
     "output_type": "execute_result"
    }
   ],
   "source": [
    "pg.sides()"
   ]
  },
  {
   "cell_type": "code",
   "execution_count": 39,
   "metadata": {
    "collapsed": true
   },
   "outputs": [],
   "source": [
    "# Modify the polygon, return None\n",
    "# p.addTo(at) => addTo(p, at)\n",
    "\n",
    "at = Point(10, 20)\n",
    "pg.addTo(at)"
   ]
  },
  {
   "cell_type": "code",
   "execution_count": 40,
   "metadata": {},
   "outputs": [
    {
     "name": "stdout",
     "output_type": "stream",
     "text": [
      "0 Point(10, 20)\n",
      "1 Point(20, 30)\n",
      "2 Point(13, 24)\n",
      "3 Point(17, 28)\n"
     ]
    }
   ],
   "source": [
    "pg.printVerts()"
   ]
  },
  {
   "cell_type": "markdown",
   "metadata": {},
   "source": [
    "# if an object's class, A, inherits from class B, either directly, or thru a chain of inheritances, objects of type B will also be of type A"
   ]
  },
  {
   "cell_type": "code",
   "execution_count": 41,
   "metadata": {},
   "outputs": [
    {
     "data": {
      "text/plain": [
       "[False, False]"
      ]
     },
     "execution_count": 41,
     "metadata": {},
     "output_type": "execute_result"
    }
   ],
   "source": [
    "class Foo:\n",
    "    pass\n",
    "\n",
    "class Bar:\n",
    "    pass\n",
    "\n",
    "f = Foo()\n",
    "b = Bar()\n",
    "\n",
    "[isinstance(f, Bar), isinstance(b, Foo)]"
   ]
  },
  {
   "cell_type": "code",
   "execution_count": 42,
   "metadata": {},
   "outputs": [
    {
     "data": {
      "text/plain": [
       "[False, True, True]"
      ]
     },
     "execution_count": 42,
     "metadata": {},
     "output_type": "execute_result"
    }
   ],
   "source": [
    "class Ack:\n",
    "    pass\n",
    "\n",
    "class Nack(Ack):\n",
    "    pass\n",
    "\n",
    "class Tack(Nack):\n",
    "    pass\n",
    "\n",
    "a = Ack()\n",
    "n = Nack()\n",
    "t = Tack()\n",
    "\n",
    "\n",
    "[isinstance(a, Nack), isinstance(n, Ack), isinstance(t, Ack)]"
   ]
  },
  {
   "cell_type": "markdown",
   "metadata": {},
   "source": [
    "# classes that are not instantiated\n",
    "- sometimes a class is not intended to ever be instantiated\n",
    "- in this case, only class attributes are specified\n",
    "- usually such classes are 'object factories'\n",
    "    - consists of class methods that instantiate objects in various ways\n"
   ]
  }
 ],
 "metadata": {
  "anaconda-cloud": {},
  "kernelspec": {
   "display_name": "Python 3",
   "language": "python",
   "name": "python3"
  },
  "language_info": {
   "codemirror_mode": {
    "name": "ipython",
    "version": 3
   },
   "file_extension": ".py",
   "mimetype": "text/x-python",
   "name": "python",
   "nbconvert_exporter": "python",
   "pygments_lexer": "ipython3",
   "version": "3.6.3"
  }
 },
 "nbformat": 4,
 "nbformat_minor": 1
}
