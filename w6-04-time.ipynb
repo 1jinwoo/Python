{
 "cells": [
  {
   "cell_type": "markdown",
   "metadata": {},
   "source": [
    "# Dates and TIme in Python\n",
    "- [doc](https://docs.python.org/3/library/datetime.html)\n",
    "- not shown below, but it also knows about time zones"
   ]
  },
  {
   "cell_type": "markdown",
   "metadata": {},
   "source": [
    "\n",
    "\n",
    "```\n",
    "     October 2017\n",
    "Su Mo Tu We Th Fr Sa\n",
    " 1  2  3  4  5  6  7\n",
    " 8  9 10 11 12 13 14\n",
    "15 16 17 18 19 20 21\n",
    "22 23 24 25 26 27 28\n",
    "29 30 31\n",
    "```"
   ]
  },
  {
   "cell_type": "code",
   "execution_count": 1,
   "metadata": {
    "collapsed": true
   },
   "outputs": [],
   "source": [
    "import datetime\n",
    "\n",
    "from datetime import date\n",
    "from datetime import time\n",
    "from datetime import datetime\n",
    "from dateutil.parser import parse"
   ]
  },
  {
   "cell_type": "code",
   "execution_count": 2,
   "metadata": {},
   "outputs": [
    {
     "data": {
      "text/plain": [
       "datetime.date(2017, 10, 16)"
      ]
     },
     "execution_count": 2,
     "metadata": {},
     "output_type": "execute_result"
    }
   ],
   "source": [
    "# date is a yr/mon/day\n",
    "\n",
    "d = date(2017,10,16)\n",
    "d"
   ]
  },
  {
   "cell_type": "code",
   "execution_count": 3,
   "metadata": {},
   "outputs": [
    {
     "data": {
      "text/plain": [
       "0"
      ]
     },
     "execution_count": 3,
     "metadata": {},
     "output_type": "execute_result"
    }
   ],
   "source": [
    "# what day of the week is it?\n",
    "# monday = 0\n",
    "\n",
    "d.weekday()"
   ]
  },
  {
   "cell_type": "code",
   "execution_count": 4,
   "metadata": {},
   "outputs": [
    {
     "data": {
      "text/plain": [
       "'Monday'"
      ]
     },
     "execution_count": 4,
     "metadata": {},
     "output_type": "execute_result"
    }
   ],
   "source": [
    "# get the day string\n",
    "\n",
    "d.strftime('%A')"
   ]
  },
  {
   "cell_type": "code",
   "execution_count": 5,
   "metadata": {},
   "outputs": [
    {
     "data": {
      "text/plain": [
       "datetime.date(2018, 10, 10)"
      ]
     },
     "execution_count": 5,
     "metadata": {},
     "output_type": "execute_result"
    }
   ],
   "source": [
    "date.today()"
   ]
  },
  {
   "cell_type": "code",
   "execution_count": 6,
   "metadata": {},
   "outputs": [
    {
     "data": {
      "text/plain": [
       "datetime.datetime(2017, 10, 16, 13, 22, 15)"
      ]
     },
     "execution_count": 6,
     "metadata": {},
     "output_type": "execute_result"
    }
   ],
   "source": [
    "# datetime is yr/mon/day/hr/min/sec\n",
    "\n",
    "d = datetime(2017,10,16, 13, 22,15)\n",
    "d"
   ]
  },
  {
   "cell_type": "code",
   "execution_count": 7,
   "metadata": {},
   "outputs": [
    {
     "data": {
      "text/plain": [
       "[datetime.time(13, 24, 4), 13, 24, 4]"
      ]
     },
     "execution_count": 7,
     "metadata": {},
     "output_type": "execute_result"
    }
   ],
   "source": [
    "# time is hr/min/sec\n",
    "\n",
    "t = time(13, 24, 4)\n",
    "[t, t.hour, t.minute, t.second]"
   ]
  },
  {
   "cell_type": "code",
   "execution_count": 8,
   "metadata": {},
   "outputs": [
    {
     "data": {
      "text/plain": [
       "[datetime.datetime(2017, 10, 10, 18, 10),\n",
       " datetime.datetime(2017, 10, 10, 20, 0)]"
      ]
     },
     "execution_count": 8,
     "metadata": {},
     "output_type": "execute_result"
    }
   ],
   "source": [
    "# class start and end times\n",
    "\n",
    "s=datetime(2017, 10, 10, 18, 10, 0)\n",
    "e=datetime(2017, 10, 10, 20, 0, 0)\n",
    "[s,e]"
   ]
  },
  {
   "cell_type": "code",
   "execution_count": 9,
   "metadata": {},
   "outputs": [
    {
     "data": {
      "text/plain": [
       "datetime.timedelta(0, 6600)"
      ]
     },
     "execution_count": 9,
     "metadata": {},
     "output_type": "execute_result"
    }
   ],
   "source": [
    "# how long is class?\n",
    "\n",
    "td = e - s\n",
    "td"
   ]
  },
  {
   "cell_type": "code",
   "execution_count": 10,
   "metadata": {},
   "outputs": [
    {
     "data": {
      "text/plain": [
       "['1:50:00', 0, 6600]"
      ]
     },
     "execution_count": 10,
     "metadata": {},
     "output_type": "execute_result"
    }
   ],
   "source": [
    "# timedelta represents interval between two time points\n",
    "\n",
    "[str(td), td.days, td.seconds]"
   ]
  },
  {
   "cell_type": "code",
   "execution_count": 11,
   "metadata": {},
   "outputs": [
    {
     "data": {
      "text/plain": [
       "6600"
      ]
     },
     "execution_count": 11,
     "metadata": {},
     "output_type": "execute_result"
    }
   ],
   "source": [
    "(60*2-10)*60"
   ]
  },
  {
   "cell_type": "markdown",
   "metadata": {},
   "source": [
    "# pandas date_range function\n",
    "- generates many different kinds of time series in an interval\n",
    "- [doc](http://pandas.pydata.org/pandas-docs/stable/timeseries.html#offset-aliases)"
   ]
  },
  {
   "cell_type": "code",
   "execution_count": 12,
   "metadata": {},
   "outputs": [
    {
     "data": {
      "text/plain": [
       "DatetimeIndex(['2017-10-02', '2017-10-03', '2017-10-04', '2017-10-05',\n",
       "               '2017-10-06', '2017-10-09', '2017-10-10', '2017-10-11',\n",
       "               '2017-10-12', '2017-10-13', '2017-10-16', '2017-10-17',\n",
       "               '2017-10-18', '2017-10-19', '2017-10-20', '2017-10-23',\n",
       "               '2017-10-24', '2017-10-25', '2017-10-26', '2017-10-27',\n",
       "               '2017-10-30', '2017-10-31'],\n",
       "              dtype='datetime64[ns]', freq='B')"
      ]
     },
     "execution_count": 12,
     "metadata": {},
     "output_type": "execute_result"
    }
   ],
   "source": [
    "# business days - skips weekends\n",
    "\n",
    "import pandas as pd\n",
    "\n",
    "dr = pd.date_range('2017-10-02', '2017-10-31', \n",
    "                   freq=\"B\")\n",
    "dr"
   ]
  },
  {
   "cell_type": "code",
   "execution_count": 13,
   "metadata": {},
   "outputs": [
    {
     "data": {
      "text/plain": [
       "DatetimeIndex(['2017-10-02', '2017-10-03', '2017-10-04', '2017-10-05',\n",
       "               '2017-10-06', '2017-10-07', '2017-10-08', '2017-10-09',\n",
       "               '2017-10-10', '2017-10-11', '2017-10-12', '2017-10-13',\n",
       "               '2017-10-14', '2017-10-15', '2017-10-16', '2017-10-17',\n",
       "               '2017-10-18', '2017-10-19', '2017-10-20', '2017-10-21',\n",
       "               '2017-10-22', '2017-10-23', '2017-10-24', '2017-10-25',\n",
       "               '2017-10-26', '2017-10-27', '2017-10-28', '2017-10-29',\n",
       "               '2017-10-30', '2017-10-31'],\n",
       "              dtype='datetime64[ns]', freq='D')"
      ]
     },
     "execution_count": 13,
     "metadata": {},
     "output_type": "execute_result"
    }
   ],
   "source": [
    "# all days\n",
    "\n",
    "pd.date_range('2017-10-02', '2017-10-31',\n",
    "              freq=\"D\")"
   ]
  },
  {
   "cell_type": "code",
   "execution_count": 14,
   "metadata": {},
   "outputs": [
    {
     "data": {
      "text/plain": [
       "DatetimeIndex(['2017-10-08', '2017-10-15', '2017-10-22', '2017-10-29'], dtype='datetime64[ns]', freq='W-SUN')"
      ]
     },
     "execution_count": 14,
     "metadata": {},
     "output_type": "execute_result"
    }
   ],
   "source": [
    "# weekly - sundays in the range\n",
    "\n",
    "pd.date_range('2017-10-02', '2017-10-31', \n",
    "              freq=\"W\")"
   ]
  },
  {
   "cell_type": "code",
   "execution_count": 15,
   "metadata": {},
   "outputs": [
    {
     "data": {
      "text/plain": [
       "DatetimeIndex(['2017-10-02 00:00:00', '2017-10-02 01:00:00',\n",
       "               '2017-10-02 02:00:00', '2017-10-02 03:00:00',\n",
       "               '2017-10-02 04:00:00', '2017-10-02 05:00:00',\n",
       "               '2017-10-02 06:00:00', '2017-10-02 07:00:00',\n",
       "               '2017-10-02 08:00:00', '2017-10-02 09:00:00',\n",
       "               '2017-10-02 10:00:00', '2017-10-02 11:00:00',\n",
       "               '2017-10-02 12:00:00', '2017-10-02 13:00:00',\n",
       "               '2017-10-02 14:00:00', '2017-10-02 15:00:00',\n",
       "               '2017-10-02 16:00:00', '2017-10-02 17:00:00',\n",
       "               '2017-10-02 18:00:00', '2017-10-02 19:00:00',\n",
       "               '2017-10-02 20:00:00', '2017-10-02 21:00:00',\n",
       "               '2017-10-02 22:00:00', '2017-10-02 23:00:00',\n",
       "               '2017-10-03 00:00:00'],\n",
       "              dtype='datetime64[ns]', freq='H')"
      ]
     },
     "execution_count": 15,
     "metadata": {},
     "output_type": "execute_result"
    }
   ],
   "source": [
    "# Hourly\n",
    "\n",
    "pd.date_range('2017-10-02', '2017-10-03', \n",
    "              freq=\"H\")"
   ]
  },
  {
   "cell_type": "code",
   "execution_count": 16,
   "metadata": {},
   "outputs": [
    {
     "data": {
      "text/plain": [
       "datetime.datetime(2017, 10, 10, 0, 0)"
      ]
     },
     "execution_count": 16,
     "metadata": {},
     "output_type": "execute_result"
    }
   ],
   "source": [
    "# parse a specific format you define\n",
    "\n",
    "t = datetime.strptime(\"10 Oct 2017\", \"%d %b %Y\")\n",
    "t"
   ]
  },
  {
   "cell_type": "code",
   "execution_count": 17,
   "metadata": {},
   "outputs": [
    {
     "data": {
      "text/plain": [
       "datetime.datetime(2015, 1, 13, 10, 33)"
      ]
     },
     "execution_count": 17,
     "metadata": {},
     "output_type": "execute_result"
    }
   ],
   "source": [
    "# or, universal time parser usually works\n",
    "\n",
    "parse('Jan 13, 2015 10:33 AM')\n"
   ]
  },
  {
   "cell_type": "markdown",
   "metadata": {},
   "source": [
    "# Sleeping\n",
    "- sometimes useful to make program execution pause for a few seconds"
   ]
  },
  {
   "cell_type": "code",
   "execution_count": 18,
   "metadata": {},
   "outputs": [
    {
     "name": "stdout",
     "output_type": "stream",
     "text": [
      "asleep\n",
      "awake\n"
     ]
    }
   ],
   "source": [
    "import time\n",
    "\n",
    "print('asleep')\n",
    "time.sleep(5)\n",
    "print('awake')"
   ]
  }
 ],
 "metadata": {
  "kernelspec": {
   "display_name": "Python 3",
   "language": "python",
   "name": "python3"
  },
  "language_info": {
   "codemirror_mode": {
    "name": "ipython",
    "version": 3
   },
   "file_extension": ".py",
   "mimetype": "text/x-python",
   "name": "python",
   "nbconvert_exporter": "python",
   "pygments_lexer": "ipython3",
   "version": "3.6.3"
  }
 },
 "nbformat": 4,
 "nbformat_minor": 2
}
