{
 "cells": [
  {
   "cell_type": "markdown",
   "metadata": {},
   "source": [
    "# SQL Databases\n",
    "- easy to use from Python\n",
    "- many different databases are supported: \n",
    "    - sqlite3\n",
    "    - mysql\n",
    "    - postgres\n",
    "    - oracle"
   ]
  },
  {
   "cell_type": "code",
   "execution_count": 1,
   "metadata": {},
   "outputs": [
    {
     "data": {
      "text/plain": [
       "['Qdxc',\n",
       " 'Xjmd',\n",
       " 'Uqmk',\n",
       " 'Hekk',\n",
       " 'Snfk',\n",
       " 'Kqlk',\n",
       " 'Thsf',\n",
       " 'Zafr',\n",
       " 'Fgct',\n",
       " 'Jxor']"
      ]
     },
     "execution_count": 1,
     "metadata": {},
     "output_type": "execute_result"
    }
   ],
   "source": [
    "# need some names to build a database, \n",
    "# so made some random strings\n",
    "# but they are hard to read...\n",
    "\n",
    "import random\n",
    "import string\n",
    "\n",
    "string.ascii_lowercase\n",
    "\n",
    "def makeNames(n):\n",
    "    # chr takes an ascii code and \n",
    "    # returns the letter in a string\n",
    "    n = ''.join([random.choice(string.ascii_lowercase) \\\n",
    "                 for j in range(n)])\n",
    "    return n.capitalize()\n",
    "    \n",
    "[makeNames(4) for j in range(10)]"
   ]
  },
  {
   "cell_type": "code",
   "execution_count": 2,
   "metadata": {},
   "outputs": [
    {
     "data": {
      "text/plain": [
       "[['Etty',\n",
       "  'Emmy',\n",
       "  'Lina',\n",
       "  'Merv',\n",
       "  'Harv',\n",
       "  'Luke',\n",
       "  'Dana',\n",
       "  'Katy',\n",
       "  'Tull',\n",
       "  'Vale'],\n",
       " ['Toddy',\n",
       "  'Daryl',\n",
       "  'Tarra',\n",
       "  'Hagen',\n",
       "  'Gregg',\n",
       "  'Randi',\n",
       "  'Eadie',\n",
       "  'Marge',\n",
       "  'Nanny',\n",
       "  'Sybil']]"
      ]
     },
     "execution_count": 2,
     "metadata": {},
     "output_type": "execute_result"
    }
   ],
   "source": [
    "# nltk corpus has 8,000 real names!\n",
    "# get some short ones\n",
    "\n",
    "import random\n",
    "import nltk\n",
    "\n",
    "def makeNames(wcnt, wlen):\n",
    "    names = [w for w in nltk.corpus.names.words() \\\n",
    "             if len(w) == wlen]\n",
    "    # names are in alphabetical order\n",
    "    # random doesn't have a 'random subset' routine\n",
    "    # so do a shuffle \n",
    "    random.shuffle(names)\n",
    "    # then just take random names from the front\n",
    "    return names[:wcnt]\n",
    "\n",
    "firsts = makeNames(10, 4)\n",
    "lasts = makeNames(10, 5)\n",
    "\n",
    "[firsts, lasts]"
   ]
  },
  {
   "cell_type": "markdown",
   "metadata": {},
   "source": [
    "# sqlite3\n",
    "- sqlite3 stores the entire database \n",
    "- world's most deployed sql db\n",
    "- [driver doc](https://docs.python.org/3.7/library/sqlite3.html)"
   ]
  },
  {
   "cell_type": "code",
   "execution_count": 3,
   "metadata": {},
   "outputs": [
    {
     "data": {
      "text/plain": [
       "<sqlite3.Cursor at 0x1f785f45e30>"
      ]
     },
     "execution_count": 3,
     "metadata": {},
     "output_type": "execute_result"
    }
   ],
   "source": [
    "# make a db connection and get a cursor\n",
    "\n",
    "import sqlite3 \n",
    "import tempfile\n",
    "\n",
    "dbf = tempfile.NamedTemporaryFile().name\n",
    "\n",
    "con = sqlite3.connect(dbf)\n",
    "cur = con.cursor()\n",
    "cur"
   ]
  },
  {
   "cell_type": "markdown",
   "metadata": {},
   "source": [
    "# Create two tables\n",
    "- grade(uni, course, grade)\n",
    "- student(first, last, uni)"
   ]
  },
  {
   "cell_type": "code",
   "execution_count": 4,
   "metadata": {},
   "outputs": [
    {
     "data": {
      "text/plain": [
       "<sqlite3.Cursor at 0x1f785f45e30>"
      ]
     },
     "execution_count": 4,
     "metadata": {},
     "output_type": "execute_result"
    }
   ],
   "source": [
    "cur.execute('create table grade (uni text, course text, grade real)')"
   ]
  },
  {
   "cell_type": "code",
   "execution_count": 5,
   "metadata": {},
   "outputs": [
    {
     "data": {
      "text/plain": [
       "<sqlite3.Cursor at 0x1f785f45e30>"
      ]
     },
     "execution_count": 5,
     "metadata": {},
     "output_type": "execute_result"
    }
   ],
   "source": [
    "cur.execute('create table student (first text, last text, uni text)')"
   ]
  },
  {
   "cell_type": "markdown",
   "metadata": {},
   "source": [
    "# Build student table"
   ]
  },
  {
   "cell_type": "code",
   "execution_count": 6,
   "metadata": {},
   "outputs": [
    {
     "data": {
      "text/plain": [
       "[['Etty', 'Toddy'],\n",
       " ['Emmy', 'Daryl'],\n",
       " ['Lina', 'Tarra'],\n",
       " ['Merv', 'Hagen'],\n",
       " ['Harv', 'Gregg'],\n",
       " ['Luke', 'Randi'],\n",
       " ['Dana', 'Eadie'],\n",
       " ['Katy', 'Marge'],\n",
       " ['Tull', 'Nanny'],\n",
       " ['Vale', 'Sybil']]"
      ]
     },
     "execution_count": 6,
     "metadata": {},
     "output_type": "execute_result"
    }
   ],
   "source": [
    "# first, last\n",
    "\n",
    "fl = [ [firsts[k], lasts[k]] for k in range(10)]\n",
    "fl"
   ]
  },
  {
   "cell_type": "code",
   "execution_count": 7,
   "metadata": {},
   "outputs": [
    {
     "data": {
      "text/plain": [
       "[['Etty', 'Toddy', 'et4107'],\n",
       " ['Emmy', 'Daryl', 'ed3153'],\n",
       " ['Lina', 'Tarra', 'lt2185'],\n",
       " ['Merv', 'Hagen', 'mh1578'],\n",
       " ['Harv', 'Gregg', 'hg5241'],\n",
       " ['Luke', 'Randi', 'lr1595'],\n",
       " ['Dana', 'Eadie', 'de9360'],\n",
       " ['Katy', 'Marge', 'km7947'],\n",
       " ['Tull', 'Nanny', 'tn1488'],\n",
       " ['Vale', 'Sybil', 'vs9040']]"
      ]
     },
     "execution_count": 7,
     "metadata": {},
     "output_type": "execute_result"
    }
   ],
   "source": [
    "# make an uni\n",
    "# student = [first, last, uni]\n",
    "\n",
    "students = [ [f, l, (f[0] + l[0] + str(random.randint(1000,9999))).lower()] \n",
    "            for f,l in fl]\n",
    "students"
   ]
  },
  {
   "cell_type": "code",
   "execution_count": 8,
   "metadata": {
    "collapsed": true
   },
   "outputs": [],
   "source": [
    "# insert above list into db\n",
    "\n",
    "# 'execute' inserts one row at a time\n",
    "# expects one row of data\n",
    "cur.execute('insert into student values(?, ?, ?)', students[0])\n",
    "\n",
    "# 'executemany' inserts multiple rows at once\n",
    "# expects list of rows, executes the statement for each row\n",
    "cur.executemany('insert into student values(?, ?, ?)', \\\n",
    "                students[1:])\n",
    "\n",
    "'''\n",
    "# the above two statements are equivalent to \n",
    "for student in students:\n",
    "    cur.execute('insert into student values(?, ?, ?)', student)\n",
    "\n",
    "# or \n",
    "cur.executemany('insert into student values(?, ?, ?)', students)\n",
    "\n",
    "executemany is typically more efficient \n",
    "'''\n",
    "\n",
    "None"
   ]
  },
  {
   "cell_type": "code",
   "execution_count": 9,
   "metadata": {},
   "outputs": [
    {
     "data": {
      "text/plain": [
       "<sqlite3.Cursor at 0x1f785f45e30>"
      ]
     },
     "execution_count": 9,
     "metadata": {},
     "output_type": "execute_result"
    }
   ],
   "source": [
    "# the select returns a generator\n",
    "\n",
    "sg = cur.execute('select first, last, uni from student')\n",
    "sg"
   ]
  },
  {
   "cell_type": "code",
   "execution_count": 10,
   "metadata": {},
   "outputs": [
    {
     "data": {
      "text/plain": [
       "[('Etty', 'Toddy', 'et4107'),\n",
       " ('Emmy', 'Daryl', 'ed3153'),\n",
       " ('Lina', 'Tarra', 'lt2185'),\n",
       " ('Merv', 'Hagen', 'mh1578'),\n",
       " ('Harv', 'Gregg', 'hg5241'),\n",
       " ('Luke', 'Randi', 'lr1595'),\n",
       " ('Dana', 'Eadie', 'de9360'),\n",
       " ('Katy', 'Marge', 'km7947'),\n",
       " ('Tull', 'Nanny', 'tn1488'),\n",
       " ('Vale', 'Sybil', 'vs9040')]"
      ]
     },
     "execution_count": 10,
     "metadata": {},
     "output_type": "execute_result"
    }
   ],
   "source": [
    "rows = list(sg)\n",
    "rows"
   ]
  },
  {
   "cell_type": "code",
   "execution_count": 11,
   "metadata": {},
   "outputs": [
    {
     "data": {
      "text/plain": [
       "['et4107',\n",
       " 'ed3153',\n",
       " 'lt2185',\n",
       " 'mh1578',\n",
       " 'hg5241',\n",
       " 'lr1595',\n",
       " 'de9360',\n",
       " 'km7947',\n",
       " 'tn1488',\n",
       " 'vs9040']"
      ]
     },
     "execution_count": 11,
     "metadata": {},
     "output_type": "execute_result"
    }
   ],
   "source": [
    "# pull the uni out of the tuple \n",
    "\n",
    "unis = [t[0] for t in cur.execute('select uni from student')]\n",
    "unis"
   ]
  },
  {
   "cell_type": "code",
   "execution_count": 12,
   "metadata": {},
   "outputs": [
    {
     "data": {
      "text/plain": [
       "['COMSW 6337', 'COMSW 7169', 'COMSW 7732', 'COMSW 9466', 'COMSW 2135']"
      ]
     },
     "execution_count": 12,
     "metadata": {},
     "output_type": "execute_result"
    }
   ],
   "source": [
    "# classes \n",
    "\n",
    "classes = ['COMSW {}'.format(random.randint(1000, 9999)) \\\n",
    "           for j in range(5)]\n",
    "classes"
   ]
  },
  {
   "cell_type": "code",
   "execution_count": 13,
   "metadata": {},
   "outputs": [
    {
     "data": {
      "text/plain": [
       "[['et4107', 'COMSW 6337', 94.88311740739495],\n",
       " ['ed3153', 'COMSW 7169', 91.42167172485917],\n",
       " ['lt2185', 'COMSW 6337', 92.16289443930121],\n",
       " ['mh1578', 'COMSW 7732', 97.95065195044893],\n",
       " ['hg5241', 'COMSW 7169', 79.33837380282124],\n",
       " ['lr1595', 'COMSW 6337', 73.10740269167448],\n",
       " ['de9360', 'COMSW 7169', 73.02913190449867],\n",
       " ['km7947', 'COMSW 6337', 79.6651921490849],\n",
       " ['tn1488', 'COMSW 7169', 75.63652701754765],\n",
       " ['vs9040', 'COMSW 9466', 75.06144018741489]]"
      ]
     },
     "execution_count": 13,
     "metadata": {},
     "output_type": "execute_result"
    }
   ],
   "source": [
    "# students take finals\n",
    "\n",
    "grades = [ [u , random.choice(classes), \\\n",
    "            70 + 30 * random.random() ] \\\n",
    "          for u in unis ]\n",
    "grades"
   ]
  },
  {
   "cell_type": "code",
   "execution_count": 14,
   "metadata": {},
   "outputs": [
    {
     "data": {
      "text/plain": [
       "<sqlite3.Cursor at 0x1f785f45e30>"
      ]
     },
     "execution_count": 14,
     "metadata": {},
     "output_type": "execute_result"
    }
   ],
   "source": [
    "# executemany inserts multiple rows at once \n",
    "\n",
    "cur.executemany('insert into grade values(?, ?, ?)', grades)"
   ]
  },
  {
   "cell_type": "code",
   "execution_count": 15,
   "metadata": {},
   "outputs": [
    {
     "data": {
      "text/plain": [
       "[('Etty', 'Toddy', 'et4107', 94.88311740739495),\n",
       " ('Emmy', 'Daryl', 'ed3153', 91.42167172485917),\n",
       " ('Lina', 'Tarra', 'lt2185', 92.16289443930121),\n",
       " ('Merv', 'Hagen', 'mh1578', 97.95065195044893),\n",
       " ('Harv', 'Gregg', 'hg5241', 79.33837380282124),\n",
       " ('Luke', 'Randi', 'lr1595', 73.10740269167448),\n",
       " ('Dana', 'Eadie', 'de9360', 73.02913190449867),\n",
       " ('Katy', 'Marge', 'km7947', 79.6651921490849),\n",
       " ('Tull', 'Nanny', 'tn1488', 75.63652701754765),\n",
       " ('Vale', 'Sybil', 'vs9040', 75.06144018741489)]"
      ]
     },
     "execution_count": 15,
     "metadata": {},
     "output_type": "execute_result"
    }
   ],
   "source": [
    "# join the two tables on the uni field\n",
    "\n",
    "list(cur.execute('select first,last,student.uni, \\\n",
    "                 grade from student,grade \\\n",
    "                 where student.uni = grade.uni'))"
   ]
  },
  {
   "cell_type": "code",
   "execution_count": 16,
   "metadata": {},
   "outputs": [
    {
     "data": {
      "text/plain": [
       "[('Daryl', 'Emmy', 91.42167172485917),\n",
       " ('Hagen', 'Merv', 97.95065195044893),\n",
       " ('Tarra', 'Lina', 92.16289443930121),\n",
       " ('Toddy', 'Etty', 94.88311740739495)]"
      ]
     },
     "execution_count": 16,
     "metadata": {},
     "output_type": "execute_result"
    }
   ],
   "source": [
    "# add a filter term\n",
    "\n",
    "q = 'select last,first,grade from student,grade \\\n",
    " where grade>80 and student.uni = grade.uni \\\n",
    " order by last'\n",
    "list(cur.execute(q))"
   ]
  },
  {
   "cell_type": "code",
   "execution_count": 17,
   "metadata": {
    "collapsed": true
   },
   "outputs": [],
   "source": [
    "# always commit and close the connection\n",
    "\n",
    "con.commit()\n",
    "con.close()"
   ]
  },
  {
   "cell_type": "code",
   "execution_count": 18,
   "metadata": {},
   "outputs": [
    {
     "data": {
      "text/plain": [
       "[('Daryl', 'Emmy', 91.42167172485917),\n",
       " ('Hagen', 'Merv', 97.95065195044893),\n",
       " ('Tarra', 'Lina', 92.16289443930121),\n",
       " ('Toddy', 'Etty', 94.88311740739495)]"
      ]
     },
     "execution_count": 18,
     "metadata": {},
     "output_type": "execute_result"
    }
   ],
   "source": [
    "# data is persisted on disk, can read again\n",
    "\n",
    "res=None\n",
    "\n",
    "with sqlite3.connect(dbf) as con:\n",
    "    cur = con.cursor()\n",
    "    res = list(cur.execute(q))\n",
    "    res\n",
    "\n",
    "res"
   ]
  },
  {
   "cell_type": "markdown",
   "metadata": {},
   "source": [
    "# Object Relational Mappers\n",
    "- maps objects into a relational database\n",
    "- somewhat complex but very useful\n",
    "- best known one is [SQLAlchemy](http://www.sqlalchemy.org)\n",
    "- [peewee](http://docs.peewee-orm.com/en/latest/) is a simple one\n",
    "- [hibernate](http://hibernate.org) was a pioneering and hugely successful ORM for Java"
   ]
  },
  {
   "cell_type": "markdown",
   "metadata": {},
   "source": [
    "# NoSQL databases\n",
    "- provide less functionality than SQL, but are more efficient and scale better\n",
    "- [mongodb](https://www.mongodb.org) is a popular one\n",
    "- [PyMongo](https://docs.mongodb.org/getting-started/python/client/) is the python driver for mongodb\n"
   ]
  }
 ],
 "metadata": {
  "anaconda-cloud": {},
  "kernelspec": {
   "display_name": "Python 3",
   "language": "python",
   "name": "python3"
  },
  "language_info": {
   "codemirror_mode": {
    "name": "ipython",
    "version": 3
   },
   "file_extension": ".py",
   "mimetype": "text/x-python",
   "name": "python",
   "nbconvert_exporter": "python",
   "pygments_lexer": "ipython3",
   "version": "3.6.3"
  }
 },
 "nbformat": 4,
 "nbformat_minor": 1
}
