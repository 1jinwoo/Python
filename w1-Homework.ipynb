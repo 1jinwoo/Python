{
 "cells": [
  {
   "cell_type": "markdown",
   "metadata": {},
   "source": [
    "# Homework 1\n",
    "- This homework is a \"warm up\" - it is NOT graded, but you must submit it\n",
    "- The primary goal is to get anaconda and jupyter setup and running so you can experiment, and be ready for homework 2, which is a real, graded one\n",
    "- Subsequent homeworks will be in a format like this one\n",
    "- The jupyter notebook file you upload to Courseworks2 must be named 'YourUNI.ipynb' - just rename the notebook you downloaded, and add cells with your work in them\n",
    "- Submit the notebook on Courseworks2 by 5:50pm Wed Sept 12\n",
    "- If you having trouble getting setup, ask for help on piazza"
   ]
  },
  {
   "cell_type": "markdown",
   "metadata": {},
   "source": [
    "# Tasks\n",
    "- Install the [Anaconda](https://www.anaconda.com/download/) distribution on your machine\n",
    "- Try running the notebook server\n",
    "    - start a terminal/shell/command window\n",
    "    - cd to the directory containing the two Homework 1 files you downloaded\n",
    "    - start the notebook server by typing 'jupyter-notebook' \n",
    "    - in a browser, goto 'localhost:8888' - you should get a list of files\n",
    "    in the directory. double click on 'w1-Homework.ipynb'\n",
    "    - be sure to evaluate the cell below this one to confirm your installation completec correctly\n",
    "    - click on Help/User Interface Tour\n",
    "    - click on Help/Keyboard Shortcuts\n",
    "    - learn how to navigate cells, enter python expressions, and evaluate them\n",
    "- Look at the problems below\n",
    "    - Try doing some or all of them in the notebook\n",
    "    - If you can't do them, do not worry. Just give them some thought\n",
    "    - I will go over the problems in class"
   ]
  },
  {
   "cell_type": "code",
   "execution_count": null,
   "metadata": {
    "collapsed": true
   },
   "outputs": [],
   "source": [
    "# a line that starts with '#' is a comment, and ignored by python\n",
    "\n",
    "# the output of this cell should include something like:\n",
    "\n",
    "# 3.6.5 |Anaconda, Inc.| (default, Apr 26 2018, 08:42:37) \n",
    "# [GCC 4.2.1 Compatible Clang 4.0.1 (tags/RELEASE_401/final)]\n",
    "\n",
    "# if you don't see this, something went wrong with your install\n",
    "\n",
    "import sys\n",
    "\n",
    "sys.version"
   ]
  },
  {
   "cell_type": "code",
   "execution_count": 2,
   "metadata": {
    "collapsed": true
   },
   "outputs": [],
   "source": [
    "# you MUST evaluate this cell, or the code below will not work\n",
    "\n",
    "import math\n",
    "import random\n"
   ]
  },
  {
   "cell_type": "markdown",
   "metadata": {},
   "source": [
    "# Hints for the problems\n",
    "- function definition is described in the w1-06-classes notebook"
   ]
  },
  {
   "cell_type": "code",
   "execution_count": 3,
   "metadata": {},
   "outputs": [
    {
     "data": {
      "text/plain": [
       "[2.0, 1.0, 0.7071067811865476]"
      ]
     },
     "execution_count": 3,
     "metadata": {},
     "output_type": "execute_result"
    }
   ],
   "source": [
    "# math functions, pi constant\n",
    "\n",
    "[math.sqrt(4), math.sin(math.pi/2), math.cos(math.pi/4)]"
   ]
  },
  {
   "cell_type": "code",
   "execution_count": 4,
   "metadata": {},
   "outputs": [
    {
     "data": {
      "text/plain": [
       "[4, 4]"
      ]
     },
     "execution_count": 4,
     "metadata": {},
     "output_type": "execute_result"
    }
   ],
   "source": [
    "# abs value function\n",
    "\n",
    "[abs(4), abs(-4)]"
   ]
  },
  {
   "cell_type": "code",
   "execution_count": 5,
   "metadata": {},
   "outputs": [
    {
     "data": {
      "text/plain": [
       "[3, 4]"
      ]
     },
     "execution_count": 5,
     "metadata": {},
     "output_type": "execute_result"
    }
   ],
   "source": [
    "# represent a two dimensional point as a list [x,y]\n",
    "\n",
    "pt = [3,4]\n",
    "\n",
    "# instead of this\n",
    "\n",
    "xcord = pt[0]\n",
    "ycord = pt[1]\n",
    "\n",
    "# can use destructuring...\n",
    "\n",
    "xcord, ycord = pt\n",
    "\n",
    "[xcord, ycord]\n"
   ]
  },
  {
   "cell_type": "markdown",
   "metadata": {},
   "source": [
    "# Problems"
   ]
  },
  {
   "cell_type": "markdown",
   "metadata": {},
   "source": [
    "# define function circlePoints(n)\n",
    "- represent a 2D point as a list - [x,y]\n",
    "- origin is [0,0]\n",
    "- generates a list of n evenly spaced points on a circle of radius=1 centered at the origin\n",
    "- points can be viewed as the vertexes of a regular n side polygon(n-gon)\n",
    "- note that due to floating point round off errors, zero is often represented by very small numbers, like 1e-16"
   ]
  },
  {
   "cell_type": "code",
   "execution_count": 7,
   "metadata": {},
   "outputs": [
    {
     "data": {
      "text/plain": [
       "[[1.0, 0.0],\n",
       " [6.123233995736766e-17, 1.0],\n",
       " [-1.0, 1.2246467991473532e-16],\n",
       " [-1.8369701987210297e-16, -1.0]]"
      ]
     },
     "execution_count": 7,
     "metadata": {},
     "output_type": "execute_result"
    }
   ],
   "source": [
    "# pts are really [[1,0],[0,1],[-1,0],[0,-1]]\n",
    "\n",
    "circlePoints(4)"
   ]
  },
  {
   "cell_type": "code",
   "execution_count": 8,
   "metadata": {},
   "outputs": [
    {
     "data": {
      "text/plain": [
       "0.0"
      ]
     },
     "execution_count": 8,
     "metadata": {},
     "output_type": "execute_result"
    }
   ],
   "source": [
    "# write 'chop' function to change tiny floats to 0.0\n",
    "\n",
    "def chop(x):\n",
    "    if abs(x) < 1e-14:\n",
    "        return 0.0\n",
    "    else:\n",
    "        return x\n",
    "\n",
    "chop(1.2246467991473532e-16)"
   ]
  },
  {
   "cell_type": "code",
   "execution_count": 9,
   "metadata": {},
   "outputs": [
    {
     "data": {
      "text/plain": [
       "[[1.0, 0.0], [0.0, 1.0], [-1.0, 0.0], [0.0, -1.0]]"
      ]
     },
     "execution_count": 9,
     "metadata": {},
     "output_type": "execute_result"
    }
   ],
   "source": [
    "# clean up output \n",
    "\n",
    "[[chop(x), chop(y)] for [x,y] in circlePoints(4)]"
   ]
  },
  {
   "cell_type": "markdown",
   "metadata": {},
   "source": [
    "# Distance computations\n",
    "- define function 'euclid' that computes the straight line distance between two points\n",
    "- define function 'manhattan' that computes the 'manhattan' distance(can only move horizontally or vertically) between two points\n"
   ]
  },
  {
   "cell_type": "code",
   "execution_count": 11,
   "metadata": {},
   "outputs": [
    {
     "data": {
      "text/plain": [
       "5.0"
      ]
     },
     "execution_count": 11,
     "metadata": {},
     "output_type": "execute_result"
    }
   ],
   "source": [
    "pt1 = [0,0]\n",
    "pt2 = [3,4]\n",
    "\n",
    "euclid(pt1, pt2)"
   ]
  },
  {
   "cell_type": "code",
   "execution_count": 12,
   "metadata": {},
   "outputs": [
    {
     "data": {
      "text/plain": [
       "7"
      ]
     },
     "execution_count": 12,
     "metadata": {},
     "output_type": "execute_result"
    }
   ],
   "source": [
    "manhattan(pt1, pt2)"
   ]
  },
  {
   "cell_type": "markdown",
   "metadata": {},
   "source": [
    "# define function sumPoints\n",
    "- computes the x sum and the y sum of a list of points\n",
    "- use chop on the sums"
   ]
  },
  {
   "cell_type": "code",
   "execution_count": 1,
   "metadata": {},
   "outputs": [
    {
     "ename": "NameError",
     "evalue": "name 'sumPoints' is not defined",
     "output_type": "error",
     "traceback": [
      "\u001b[1;31m---------------------------------------------------------------------------\u001b[0m",
      "\u001b[1;31mNameError\u001b[0m                                 Traceback (most recent call last)",
      "\u001b[1;32m<ipython-input-1-d0b2df7fa2ce>\u001b[0m in \u001b[0;36m<module>\u001b[1;34m()\u001b[0m\n\u001b[1;32m----> 1\u001b[1;33m \u001b[0msumPoints\u001b[0m\u001b[1;33m(\u001b[0m\u001b[1;33m[\u001b[0m\u001b[1;33m[\u001b[0m\u001b[1;36m2\u001b[0m\u001b[1;33m,\u001b[0m\u001b[1;36m3\u001b[0m\u001b[1;33m]\u001b[0m\u001b[1;33m,\u001b[0m\u001b[1;33m[\u001b[0m\u001b[1;36m3\u001b[0m\u001b[1;33m,\u001b[0m\u001b[1;36m4\u001b[0m\u001b[1;33m]\u001b[0m\u001b[1;33m,\u001b[0m\u001b[1;33m[\u001b[0m\u001b[1;36m10\u001b[0m\u001b[1;33m,\u001b[0m\u001b[1;36m20\u001b[0m\u001b[1;33m]\u001b[0m\u001b[1;33m]\u001b[0m\u001b[1;33m)\u001b[0m\u001b[1;33m\u001b[0m\u001b[0m\n\u001b[0m",
      "\u001b[1;31mNameError\u001b[0m: name 'sumPoints' is not defined"
     ]
    }
   ],
   "source": [
    "sumPoints([[2,3],[3,4],[10,20]])"
   ]
  },
  {
   "cell_type": "code",
   "execution_count": 15,
   "metadata": {},
   "outputs": [
    {
     "data": {
      "text/plain": [
       "[0.0, 0.0]"
      ]
     },
     "execution_count": 15,
     "metadata": {},
     "output_type": "execute_result"
    }
   ],
   "source": [
    "# try running sumPoints on some n-gons from circlePoints\n",
    "# the output is really [0,0], but remember floating point roundoff\n",
    "\n",
    "sumPoints(circlePoints(4))"
   ]
  },
  {
   "cell_type": "code",
   "execution_count": 16,
   "metadata": {},
   "outputs": [
    {
     "data": {
      "text/plain": [
       "[0.0, 0.0]"
      ]
     },
     "execution_count": 16,
     "metadata": {},
     "output_type": "execute_result"
    }
   ],
   "source": [
    "p8 = circlePoints(8)\n",
    "sumPoints(p8)"
   ]
  },
  {
   "cell_type": "code",
   "execution_count": 17,
   "metadata": {},
   "outputs": [
    {
     "data": {
      "text/plain": [
       "[0.0, 0.0]"
      ]
     },
     "execution_count": 17,
     "metadata": {},
     "output_type": "execute_result"
    }
   ],
   "source": [
    "# it seems like for even n, the points always sum to [0,0]\n",
    "# a simple symmetry argument proves this...\n",
    "\n",
    "p64 = circlePoints(64)\n",
    "sumPoints(p64)"
   ]
  },
  {
   "cell_type": "code",
   "execution_count": 1,
   "metadata": {
    "collapsed": true
   },
   "outputs": [],
   "source": [
    "# what about odd n?"
   ]
  },
  {
   "cell_type": "markdown",
   "metadata": {},
   "source": [
    "# Approximate the area and circumference of a circle with n-gons\n",
    "- define function perimeter, which gives the perimeter of an n-gon\n",
    "- define function area, which gives the area of n-gon\n",
    "    - can compute area by dividing n-gon into triangles\n",
    "    - can find the area of each triangle by getting the base and height\n",
    "- use euclid in both functions\n",
    "- as n increases, the n-gon becomes more like a circle\n",
    "- show that as n increases, area and perimeter of an n-gon approach circle values"
   ]
  },
  {
   "cell_type": "code",
   "execution_count": 26,
   "metadata": {},
   "outputs": [
    {
     "data": {
      "text/plain": [
       "[[1.0, 0.0],\n",
       " [6.123233995736766e-17, 1.0],\n",
       " [-1.0, 1.2246467991473532e-16],\n",
       " [-1.8369701987210297e-16, -1.0]]"
      ]
     },
     "execution_count": 26,
     "metadata": {},
     "output_type": "execute_result"
    }
   ],
   "source": [
    "circlePoints(4)"
   ]
  },
  {
   "cell_type": "code",
   "execution_count": 27,
   "metadata": {},
   "outputs": [
    {
     "data": {
      "text/plain": [
       "2.0"
      ]
     },
     "execution_count": 27,
     "metadata": {},
     "output_type": "execute_result"
    }
   ],
   "source": [
    "area(4)"
   ]
  },
  {
   "cell_type": "code",
   "execution_count": 28,
   "metadata": {},
   "outputs": [
    {
     "data": {
      "text/plain": [
       "5.65685424949238"
      ]
     },
     "execution_count": 28,
     "metadata": {},
     "output_type": "execute_result"
    }
   ],
   "source": [
    "perimeter(4)"
   ]
  },
  {
   "cell_type": "code",
   "execution_count": 29,
   "metadata": {},
   "outputs": [
    {
     "data": {
      "text/plain": [
       "3.141592653589793"
      ]
     },
     "execution_count": 29,
     "metadata": {},
     "output_type": "execute_result"
    }
   ],
   "source": [
    "# area of circle\n",
    "\n",
    "math.pi"
   ]
  },
  {
   "cell_type": "code",
   "execution_count": 30,
   "metadata": {},
   "outputs": [
    {
     "name": "stdout",
     "output_type": "stream",
     "text": [
      "1.299038105676658\n",
      "2.0\n",
      "2.377641290737884\n",
      "2.8284271247461907\n",
      "3.0371861738229065\n",
      "3.0901699437494745\n",
      "3.11867536226639\n",
      "3.133330839107604\n",
      "3.1395259764656673\n",
      "3.1415719827794297\n",
      "3.1415926535864336\n"
     ]
    }
   ],
   "source": [
    "def testArea():\n",
    "    # see how we do for various n-gons\n",
    "    for n in [3,4,5,8,14,20,30,50,100,1000,1000000]:\n",
    "        print(area(n))\n",
    "\n",
    "testArea()"
   ]
  },
  {
   "cell_type": "code",
   "execution_count": 31,
   "metadata": {},
   "outputs": [
    {
     "data": {
      "text/plain": [
       "6.283185307179586"
      ]
     },
     "execution_count": 31,
     "metadata": {},
     "output_type": "execute_result"
    }
   ],
   "source": [
    "# perimeter of circle\n",
    "\n",
    "2*math.pi"
   ]
  },
  {
   "cell_type": "code",
   "execution_count": 32,
   "metadata": {},
   "outputs": [
    {
     "name": "stdout",
     "output_type": "stream",
     "text": [
      "5.196152422706632\n",
      "5.65685424949238\n",
      "5.877852522924732\n",
      "6.122934917841436\n",
      "6.2305861507768014\n",
      "6.257378601609234\n",
      "6.27170779605921\n",
      "6.279051952931337\n",
      "6.282151815625652\n",
      "6.2831749717590775\n",
      "6.283185307177944\n"
     ]
    }
   ],
   "source": [
    "def testPerimeter():\n",
    "    for n in [3,4,5,8,14,20,30,50,100,1000,1000000]:\n",
    "        print(perimeter(n))\n",
    "\n",
    "testPerimeter()"
   ]
  }
 ],
 "metadata": {
  "anaconda-cloud": {},
  "kernelspec": {
   "display_name": "Python 3",
   "language": "python",
   "name": "python3"
  },
  "language_info": {
   "codemirror_mode": {
    "name": "ipython",
    "version": 3
   },
   "file_extension": ".py",
   "mimetype": "text/x-python",
   "name": "python",
   "nbconvert_exporter": "python",
   "pygments_lexer": "ipython3",
   "version": "3.6.3"
  }
 },
 "nbformat": 4,
 "nbformat_minor": 1
}
