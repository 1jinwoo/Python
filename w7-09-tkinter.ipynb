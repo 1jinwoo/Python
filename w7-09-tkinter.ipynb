{
 "cells": [
  {
   "cell_type": "markdown",
   "metadata": {},
   "source": [
    "# TkInter \n",
    "- historically the most popular GUI package for Python,\n",
    "but now browser based GUIs like Bokeh are perhaps preferred\n",
    "- TK was the GUI package for a language called TCL\n",
    "- fairly easy to learn and use\n",
    "- has a somewhat dated look and feel\n",
    "- [doc](https://wiki.python.org/moin/TkInter)\n",
    "- MANY other [GUI systems](https://wiki.python.org/moin/GuiProgramming)\n"
   ]
  },
  {
   "cell_type": "code",
   "execution_count": 1,
   "metadata": {
    "collapsed": true
   },
   "outputs": [],
   "source": [
    "from tkinter import *"
   ]
  },
  {
   "cell_type": "code",
   "execution_count": 2,
   "metadata": {
    "collapsed": true
   },
   "outputs": [],
   "source": [
    "# Simple example - just one label widget\n",
    "# have to search to find the window\n",
    "# runs in an infinite loop - you have \n",
    "# to close the TK window to stop it, \n",
    "# or kill the kernel\n",
    "\n",
    "root = Tk()\n",
    "\n",
    "# stick a label in it\n",
    "w = Label(root, text=\"Hello, world!\")\n",
    "\n",
    "# do geometry calculations\n",
    "w.pack()\n",
    "\n",
    "# run event dispatch loop\n",
    "root.mainloop()"
   ]
  },
  {
   "cell_type": "code",
   "execution_count": 4,
   "metadata": {},
   "outputs": [
    {
     "name": "stdout",
     "output_type": "stream",
     "text": [
      "yes/no 1\n",
      "yes/no 0\n",
      "yes/no 1\n",
      "yes/no 0\n",
      "hi there, everyone!\n",
      "hi there, everyone!\n",
      "hi there, everyone!\n"
     ]
    }
   ],
   "source": [
    "# define an 'app' with button handlers\n",
    "\n",
    "class App:\n",
    "\n",
    "    def __init__(self, master):\n",
    "        self.chkval = IntVar()\n",
    "        \n",
    "        frame = Frame(master)\n",
    "        frame.pack()\n",
    "\n",
    "        # frame.quit should terminate the gui\n",
    "        self.button = Button(\n",
    "            frame, text=\"QUIT\", fg=\"red\", \\\n",
    "            command=frame.quit)\n",
    "        self.button.pack(side=LEFT)\n",
    "\n",
    "        self.hi_there = Button(frame, \\\n",
    "                    text=\"Hello\", command=self.say_hi)\n",
    "        self.hi_there.pack(side=LEFT)\n",
    "        self.chk = Checkbutton(frame, \\\n",
    "                    text=\"Yes/No\", command=self.check, \\\n",
    "                               variable=self.chkval)\n",
    "        self.chk.pack(side=LEFT)\n",
    "\n",
    "    def say_hi(self):\n",
    "        print(\"hi there, everyone!\")\n",
    "        \n",
    "    def check(self):\n",
    "        print(\"yes/no %d\" % self.chkval.get())\n",
    "\n",
    "root = Tk()\n",
    "\n",
    "app = App(root)\n",
    "\n",
    "root.mainloop()\n",
    "root.destroy() "
   ]
  }
 ],
 "metadata": {
  "anaconda-cloud": {},
  "kernelspec": {
   "display_name": "Python 3",
   "language": "python",
   "name": "python3"
  },
  "language_info": {
   "codemirror_mode": {
    "name": "ipython",
    "version": 3
   },
   "file_extension": ".py",
   "mimetype": "text/x-python",
   "name": "python",
   "nbconvert_exporter": "python",
   "pygments_lexer": "ipython3",
   "version": "3.6.3"
  }
 },
 "nbformat": 4,
 "nbformat_minor": 1
}
