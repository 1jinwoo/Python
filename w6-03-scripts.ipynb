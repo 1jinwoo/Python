{
 "cells": [
  {
   "cell_type": "markdown",
   "metadata": {},
   "source": [
    "# writing 'command line' Python scripts\n",
    "- scripts can query a user, but they usually run in 'batch' mode with no interaction\n",
    "- very important Python skill\n",
    "    - fortunately pretty easy\n",
    "- much nicer than 'bash'\n",
    "- great for automating repetitive tasks\n",
    "- if writing a complex script, often easier to write the bulk of the code as functions,\n",
    "which can be tested in an IDE, or a notebook. then just hook the functions up to the script\n",
    "- on command line can do'python file.py'\n",
    "- on mac/linux can make script itself directly executable\n",
    "    - put magic line:\n",
    "    - ```#!/usr/bin/env python``` \n",
    "    - at top of file to invoke python\n",
    "    - must give file 'execute' permission\n"
   ]
  },
  {
   "cell_type": "markdown",
   "metadata": {},
   "source": [
    "# sys module\n",
    "- interface for command line programs"
   ]
  },
  {
   "cell_type": "markdown",
   "metadata": {},
   "source": [
    "# sys.exit(status) \n",
    "- exit python and return status\n",
    "- status is a BYTE, 0-255 only\n",
    "- in scripts, main method for signalling script success or failure\n",
    "- return of 0 means things went ok, other values indicate error\n",
    "- in mac/linux, can see exit code by doing\n",
    "- `echo $?`"
   ]
  },
  {
   "cell_type": "markdown",
   "metadata": {},
   "source": [
    "# sys.argv \n",
    "- variable set to command line arguments, like 'main' in C and Java\n",
    "- no argc variable - just do len(sys.argv)"
   ]
  },
  {
   "cell_type": "markdown",
   "metadata": {},
   "source": [
    "# 'input' function\n",
    "- most scripts run in a 'batch mode' w/o interaction\n",
    "- scripts usually controlled by 'command line args'\n",
    "- but, sometimes a script may want to query the user\n",
    "    - 'input()' will read a line of text from keyboard\n",
    "    - 'input('prompt') will first print 'prompt' string, then wait for input\n",
    "    - toplevel function"
   ]
  },
  {
   "cell_type": "code",
   "execution_count": 1,
   "metadata": {},
   "outputs": [
    {
     "name": "stdout",
     "output_type": "stream",
     "text": [
      "Type a line: dsfasdd\n"
     ]
    },
    {
     "data": {
      "text/plain": [
       "'dsfasdd'"
      ]
     },
     "execution_count": 1,
     "metadata": {},
     "output_type": "execute_result"
    }
   ],
   "source": [
    "input(\"Type a line: \")"
   ]
  },
  {
   "cell_type": "markdown",
   "metadata": {},
   "source": [
    "# argparse module\n",
    "- elaborate command line args parser\n",
    "- [argparse reference](https://docs.python.org/3.5/library/argparse.html)\n",
    "- [argparse tutorial](https://docs.python.org/3.5/howto/argparse.html) - easier to read\n",
    "- takes a little effort to set it up, but does alot for you, and handles many error conditions automatically\n",
    "- will do sys.exit(1) on invalid args\n",
    "- like 'getopt' in C\n"
   ]
  },
  {
   "cell_type": "code",
   "execution_count": null,
   "metadata": {
    "collapsed": true
   },
   "outputs": [],
   "source": [
    "# needs to run from cmd line\n",
    "# contents of cmdline.py\n",
    "\n",
    "'''\n",
    "#!/usr/bin/env python\n",
    "\n",
    "# run as python script\n",
    "\n",
    "import sys\n",
    "import argparse\n",
    "\n",
    "parser = argparse.ArgumentParser()\n",
    "\n",
    "# required positional arg\n",
    "parser.add_argument(\"arg1\", type=int,\n",
    "                    help=\"an int\")\n",
    "\n",
    "# 2nd required positional arg\n",
    "parser.add_argument(\"arg2\", type=str,\n",
    "                    help=\"a pathname\")\n",
    "\n",
    "# optional '-' flag with no arg\n",
    "parser.add_argument(\"-v\", \"--verbose\", help=\"increase output verbosity\",\n",
    "                    action=\"store_true\")\n",
    "\n",
    "# optional '-' flag no arg\n",
    "parser.add_argument(\"-q\", \"--query\", help=\"query for exit value\",\n",
    "\t\t\t action='store_true')\n",
    "\n",
    "# optional '-' flag with required arg\n",
    "parser.add_argument(\"-e\", \"--exit\", help=\"specify exit value as arg\",\n",
    "\t\t\t type=int)\n",
    "\n",
    "\n",
    "# parsed args - will automatically print errors and abort on bad args\n",
    "args = parser.parse_args()\n",
    "\n",
    "# if we got here, the parse was happy\n",
    "print('arg1=', args.arg1)\n",
    "print('arg2=', args.arg2)\n",
    "\n",
    "# args.verbose will = None if no arg\n",
    "if args.verbose:\n",
    "    print(\"verbosity turned on\")\n",
    "\n",
    "\n",
    "# note exit val is one byte, 0-255\n",
    "# could check and complain if given\n",
    "# bogus value\n",
    "\n",
    "if args.exit:\n",
    "   print(\"exit with:\", args.exit)\n",
    "   # in bash, print with:  echo $?\n",
    "   sys.exit(args.exit)\n",
    "   print(\"won't get here\")\n",
    "\n",
    "if args.query:\n",
    "   # demand input from the user\n",
    "   es = input('specify exit value: ')\n",
    "   e = int(es)\n",
    "   sys.exit(e)\n",
    "\n",
    "\n",
    "'''"
   ]
  },
  {
   "cell_type": "code",
   "execution_count": null,
   "metadata": {
    "collapsed": true
   },
   "outputs": [],
   "source": [
    "# sample calls\n",
    "\n",
    "'''\n",
    "# use python to invoke script\n",
    "# bad args, doesn't work\n",
    "\n",
    "python cmdline.py \n",
    "usage: cmdline.py [-h] [-v] [-e EXIT] intarg1 arg2\n",
    "cmdline.py: error: the following arguments are required: intarg1, arg2\n",
    "\n",
    "\n",
    "# invoke script directly. ask for help with '-h'\n",
    "\n",
    "notebooks@larrys-MBP$ cmdline.py -h\n",
    "usage: cmdline.py [-h] [-v] [-q] [-e EXIT] arg1 arg2\n",
    "\n",
    "positional arguments:\n",
    "  arg1                  an int\n",
    "  arg2                  a pathanme\n",
    "\n",
    "optional arguments:\n",
    "  -h, --help            show this help message and exit\n",
    "  -v, --verbose         increase output verbosity\n",
    "  -q, --query           query for exit value\n",
    "  -e EXIT, --exit EXIT  specify exit value as arg\n",
    "\n",
    "\n",
    "# fails, no args\n",
    "\n",
    "notebooks@larrys-MBP$ cmdline.py\n",
    "usage: cmdline.py [-h] [-v] [-e EXIT] intarg1 arg2\n",
    "cmdline.py: error: the following arguments are required: intarg1, arg2\n",
    "\n",
    "\n",
    "# doesn't work, first arg must be an int\n",
    "\n",
    "\n",
    "notebooks@larrys-MBP$ cmdline.py foo\n",
    "usage: cmdline.py [-h] [-v] [-e EXIT] intarg1 arg2\n",
    "cmdline.py: error: argument intarg1: invalid int value: 'foo'\n",
    "\n",
    "\n",
    "# doesn't work, missing 2nd arg\n",
    "\n",
    "\n",
    "notebooks@larrys-MBP$ cmdline.py 1234\n",
    "usage: cmdline.py [-h] [-v] [-e EXIT] intarg1 arg2\n",
    "cmdline.py: error: the following arguments are required: arg2\n",
    "\n",
    "\n",
    "# finally got it right!\n",
    "\n",
    "notebooks@larrys-MBP$ cmdline.py 1234 bar\n",
    "Namespace(arg2='bar', exit=None, intarg1=1234, verbose=False)\n",
    "intarg1= 1234\n",
    "arg2= bar\n",
    "\n",
    "\n",
    "# added optional '-v' verbose flag\n",
    "\n",
    "notebooks@larrys-MBP$ cmdline.py 1234 bar -v\n",
    "Namespace(arg2='bar', exit=None, intarg1=1234, verbose=True)\n",
    "intarg1= 1234\n",
    "arg2= bar\n",
    "verbosity turned on\n",
    "\n",
    "# added optional '--exit' flag, which takes an arg\n",
    "\n",
    "notebooks@larrys-MBP$ cmdline.py 1234 bar --exit 29\n",
    "Namespace(arg2='bar', exit=29, intarg1=1234, verbose=False)\n",
    "intarg1= 1234\n",
    "arg2= bar\n",
    "exit with: 29\n",
    "notebooks@larrys-MBP$ echo $?\n",
    "29\n",
    "\n",
    "\n",
    "\n",
    "'''"
   ]
  }
 ],
 "metadata": {
  "anaconda-cloud": {},
  "kernelspec": {
   "display_name": "Python 3",
   "language": "python",
   "name": "python3"
  },
  "language_info": {
   "codemirror_mode": {
    "name": "ipython",
    "version": 3
   },
   "file_extension": ".py",
   "mimetype": "text/x-python",
   "name": "python",
   "nbconvert_exporter": "python",
   "pygments_lexer": "ipython3",
   "version": "3.6.3"
  }
 },
 "nbformat": 4,
 "nbformat_minor": 1
}
