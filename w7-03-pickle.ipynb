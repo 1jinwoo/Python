{
 "cells": [
  {
   "cell_type": "markdown",
   "metadata": {},
   "source": [
    "# pickle - persist arbitrary collections of in memory Python data structures to a file\n",
    "- pickle uses 'binary' streams\n",
    "- very handy for \"small to medium\" data structures\n",
    "- probably not the best approach for huge data structures\n",
    "- [doc](https://docs.python.org/3/library/pickle.html) "
   ]
  },
  {
   "cell_type": "code",
   "execution_count": 1,
   "metadata": {
    "collapsed": true
   },
   "outputs": [],
   "source": [
    "import pickle\n",
    "\n",
    "class SVGBase:\n",
    "    \"this class is not intended to be instantiated\"\n",
    "    # so i don't have to redefine these on every class\n",
    "    def __str__(self):\n",
    "        return self.svg()\n",
    "    def __repr__(self):\n",
    "        return self.__str__()\n",
    "\n",
    "# each class should have a 'draw' method\n",
    "# that knows how to render a graphical object\n"
   ]
  },
  {
   "cell_type": "code",
   "execution_count": 2,
   "metadata": {
    "collapsed": true
   },
   "outputs": [],
   "source": [
    "class circle(SVGBase):\n",
    "    def __init__(self, cx, cy, r):\n",
    "        self.cx = cx\n",
    "        self.cy = cy\n",
    "        self.r = r\n",
    "        \n",
    "    def svg(self):\n",
    "       return '''\n",
    "       <circle  cx=\"{}\" cy=\"{}\" r=\"{}\"\n",
    "        style=\"fill:Wheat; stroke:SteelBlue; stroke-width:5;\"/>'''. \\\n",
    "        format(self.cx, self.cy, self.r)\n",
    "\n",
    "class rect(SVGBase):\n",
    "    def __init__(self, x, y, width, height):\n",
    "        self.x = x\n",
    "        self.y = y\n",
    "        self.width = width\n",
    "        self.height = height\n",
    "        \n",
    "    def svg(self):\n",
    "       return '''\n",
    "    <rect x=\"{}\" y=\"{}\" width=\"{}\" height=\"{}\"\n",
    "        style=\"stroke:Navy; stroke-width:4; fill:LightSkyBlue;\"/>\n",
    "        '''.format(self.x, self.y, self.width, self.height)\n",
    "\n",
    "class line(SVGBase):\n",
    "    def __init__(self, x1, y1, x2, y2):\n",
    "        self.x1 = x1\n",
    "        self.y1 = y1\n",
    "        self.x2 = x2\n",
    "        self.y2 = y2\n",
    "    \n",
    "    def svg(self):\n",
    "        return '''\n",
    "    <line x1=\"{}\" y1=\"{}\" x2=\"{}\" y2=\"{}\"\n",
    "        style=\"stroke:SlateBlue; stroke-width:4\"/>\n",
    "    '''.format(self.x1, self.y1, self.x2, self.y2)"
   ]
  },
  {
   "cell_type": "code",
   "execution_count": 3,
   "metadata": {
    "collapsed": true
   },
   "outputs": [],
   "source": [
    "class diagram:\n",
    "    def __init__(self, objs):\n",
    "        self.objs = objs\n",
    "    def svg(self):\n",
    "        s = '''<svg width=\"400\" height=\"400\">'''\n",
    "        for obj in self.objs:\n",
    "            s += obj.svg()\n",
    "        s += '</svg>'\n",
    "        return s\n",
    "    def _repr_svg_(self):\n",
    "        \"tell notebook to render SVG\"\n",
    "        return self.svg()\n",
    "    def dump(self, path):\n",
    "        # save the Editor and everything it reaches\n",
    "        # 'bw' - 'binary write'\n",
    "        with open(path, 'bw') as fd:\n",
    "            pickle.dump(self, fd)\n",
    "    def load(path):\n",
    "        \"class method\"\n",
    "        # 'br' - binary read\n",
    "        with open(path, 'br') as f:\n",
    "            return pickle.load(f)"
   ]
  },
  {
   "cell_type": "code",
   "execution_count": 4,
   "metadata": {},
   "outputs": [
    {
     "data": {
      "text/plain": [
       "'<svg width=\"400\" height=\"400\">\\n       <circle  cx=\"200\" cy=\"200\" r=\"44\"\\n        style=\"fill:Wheat; stroke:SteelBlue; stroke-width:5;\"/>\\n       <circle  cx=\"130\" cy=\"120\" r=\"60\"\\n        style=\"fill:Wheat; stroke:SteelBlue; stroke-width:5;\"/>\\n    <rect x=\"250\" y=\"100\" width=\"40\" height=\"80\"\\n        style=\"stroke:Navy; stroke-width:4; fill:LightSkyBlue;\"/>\\n        \\n    <line x1=\"0\" y1=\"0\" x2=\"400\" y2=\"400\"\\n        style=\"stroke:SlateBlue; stroke-width:4\"/>\\n    </svg>'"
      ]
     },
     "execution_count": 4,
     "metadata": {},
     "output_type": "execute_result"
    }
   ],
   "source": [
    "c=circle(200, 200,44)\n",
    "c2 = circle(130,120, 60)\n",
    "r = rect(250, 100, 40,80)\n",
    "l = line(0,0, 400,400)\n",
    "\n",
    "objs = [c,c2, r, l]\n",
    "d = diagram(objs)\n",
    "d.svg()"
   ]
  },
  {
   "cell_type": "code",
   "execution_count": 5,
   "metadata": {},
   "outputs": [
    {
     "data": {
      "image/svg+xml": [
       "<svg width=\"400\" height=\"400\">\n",
       "       <circle  cx=\"200\" cy=\"200\" r=\"44\"\n",
       "        style=\"fill:Wheat; stroke:SteelBlue; stroke-width:5;\"/>\n",
       "       <circle  cx=\"130\" cy=\"120\" r=\"60\"\n",
       "        style=\"fill:Wheat; stroke:SteelBlue; stroke-width:5;\"/>\n",
       "    <rect x=\"250\" y=\"100\" width=\"40\" height=\"80\"\n",
       "        style=\"stroke:Navy; stroke-width:4; fill:LightSkyBlue;\"/>\n",
       "        \n",
       "    <line x1=\"0\" y1=\"0\" x2=\"400\" y2=\"400\"\n",
       "        style=\"stroke:SlateBlue; stroke-width:4\"/>\n",
       "    </svg>"
      ],
      "text/plain": [
       "<__main__.diagram at 0x1fcff3d4b00>"
      ]
     },
     "execution_count": 5,
     "metadata": {},
     "output_type": "execute_result"
    }
   ],
   "source": [
    "d"
   ]
  },
  {
   "cell_type": "code",
   "execution_count": 6,
   "metadata": {
    "collapsed": true
   },
   "outputs": [],
   "source": [
    "import tempfile\n",
    "\n",
    "# does not create the file, just makes a pathname\n",
    "path = tempfile.NamedTemporaryFile().name\n",
    "\n",
    "d.dump(path)"
   ]
  },
  {
   "cell_type": "code",
   "execution_count": 7,
   "metadata": {},
   "outputs": [
    {
     "data": {
      "image/svg+xml": [
       "<svg width=\"400\" height=\"400\">\n",
       "       <circle  cx=\"200\" cy=\"200\" r=\"44\"\n",
       "        style=\"fill:Wheat; stroke:SteelBlue; stroke-width:5;\"/>\n",
       "       <circle  cx=\"130\" cy=\"120\" r=\"60\"\n",
       "        style=\"fill:Wheat; stroke:SteelBlue; stroke-width:5;\"/>\n",
       "    <rect x=\"250\" y=\"100\" width=\"40\" height=\"80\"\n",
       "        style=\"stroke:Navy; stroke-width:4; fill:LightSkyBlue;\"/>\n",
       "        \n",
       "    <line x1=\"0\" y1=\"0\" x2=\"400\" y2=\"400\"\n",
       "        style=\"stroke:SlateBlue; stroke-width:4\"/>\n",
       "    </svg>"
      ],
      "text/plain": [
       "<__main__.diagram at 0x1fcff3d4320>"
      ]
     },
     "execution_count": 7,
     "metadata": {},
     "output_type": "execute_result"
    }
   ],
   "source": [
    "# read dumped file, and \n",
    "# reconstruct the saved data structures\n",
    "\n",
    "# if your pickle dump includes custom classes \n",
    "# or functions, they must be defined \n",
    "# before you do a pickle load.\n",
    "# 'br' - binary read\n",
    "\n",
    "dd = diagram.load(path)\n",
    "dd"
   ]
  }
 ],
 "metadata": {
  "anaconda-cloud": {},
  "kernelspec": {
   "display_name": "Python 3",
   "language": "python",
   "name": "python3"
  },
  "language_info": {
   "codemirror_mode": {
    "name": "ipython",
    "version": 3
   },
   "file_extension": ".py",
   "mimetype": "text/x-python",
   "name": "python",
   "nbconvert_exporter": "python",
   "pygments_lexer": "ipython3",
   "version": "3.6.3"
  }
 },
 "nbformat": 4,
 "nbformat_minor": 1
}
