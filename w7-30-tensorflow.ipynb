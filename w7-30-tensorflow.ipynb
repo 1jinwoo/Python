{
 "cells": [
  {
   "cell_type": "markdown",
   "metadata": {},
   "source": [
    "# tensor flow\n",
    "- open source package from Google\n",
    "- mostly used for ML, but can do other things\n",
    "- different API from anything we have seen\n",
    "    - interesting graph application\n",
    "- currently works on mac and linux, but not windows\n",
    "- can exploit clusters and GPU's\n",
    "- to install, do\n",
    "\n",
    "pip install tensorflow\n",
    "\n",
    "    - don't use 'conda', you'll get the wrong thing\n",
    "    - you might have to install 'gcc'(in developer tools on mac)\n",
    "- 'model zoos' - tensorflow graphs you can use\n",
    "    - [tensorflow zoo](https://github.com/tensorflow/models/tree/master/research)\n",
    "    - [caffe zoo](https://github.com/ethereon/caffe-tensorflow)\n",
    "    "
   ]
  },
  {
   "cell_type": "code",
   "execution_count": null,
   "metadata": {},
   "outputs": [],
   "source": [
    "import tensorflow as tf"
   ]
  },
  {
   "cell_type": "code",
   "execution_count": null,
   "metadata": {},
   "outputs": [],
   "source": [
    "x = tf.Variable(4, name='x')\n",
    "y = tf.Variable(3, name='y')\n",
    "f = 2 * x**2 + 3*y**3\n",
    "init = tf.global_variables_initializer()\n",
    "\n",
    "with tf.Session() as ses:\n",
    "    # init x & y\n",
    "    init.run()\n",
    "    res = ses.run(f)\n",
    "    print(res)\n",
    "    "
   ]
  },
  {
   "cell_type": "markdown",
   "metadata": {},
   "source": [
    "# tensorboard\n",
    "- can visualize various things related to tensor flow\n",
    "- [doc](https://www.tensorflow.org/guide/graph_viz)\n",
    "- start server this way:\n",
    "\n",
    "tensorboard --logdir dir-that-has-tensorflow-logs\n",
    "\n",
    "- then go [here](http://localhost:6006)"
   ]
  }
 ],
 "metadata": {
  "kernelspec": {
   "display_name": "Python 3",
   "language": "python",
   "name": "python3"
  },
  "language_info": {
   "codemirror_mode": {
    "name": "ipython",
    "version": 3
   },
   "file_extension": ".py",
   "mimetype": "text/x-python",
   "name": "python",
   "nbconvert_exporter": "python",
   "pygments_lexer": "ipython3",
   "version": "3.6.5"
  }
 },
 "nbformat": 4,
 "nbformat_minor": 2
}
