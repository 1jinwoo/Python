{
 "cells": [
  {
   "cell_type": "markdown",
   "metadata": {},
   "source": [
    "# Homework 1\n",
    "- This homework is a \"warm up\" - it is NOT graded, but you must submit it\n",
    "- The primary goal is to get anaconda and jupyter setup and running so you can experiment, and be ready for homework 2, which is a real, graded one\n",
    "- Subsequent homeworks will be in a format like this one\n",
    "- The jupyter notebook file you upload to Courseworks2 must be named 'YourUNI.ipynb' - just rename the notebook you downloaded, and add cells with your work in them\n",
    "- Submit the notebook on Courseworks2 by 5:50pm Wed Sept 12\n",
    "- If you having trouble getting setup, ask for help on piazza"
   ]
  },
  {
   "cell_type": "markdown",
   "metadata": {},
   "source": [
    "# Tasks\n",
    "- Install the [Anaconda](https://www.anaconda.com/download/) distribution on your machine\n",
    "- Try running the notebook server\n",
    "    - start a terminal/shell/command window\n",
    "    - cd to the directory containing the two Homework 1 files you downloaded\n",
    "    - start the notebook server by typing 'jupyter-notebook' \n",
    "    - in a browser, goto 'localhost:8888' - you should get a list of files\n",
    "    in the directory. double click on 'w1-Homework.ipynb'\n",
    "    - be sure to evaluate the cell below this one to confirm your installation completec correctly\n",
    "    - click on Help/User Interface Tour\n",
    "    - click on Help/Keyboard Shortcuts\n",
    "    - learn how to navigate cells, enter python expressions, and evaluate them\n",
    "- Look at the problems below\n",
    "    - Try doing some or all of them in the notebook\n",
    "    - If you can't do them, do not worry. Just give them some thought\n",
    "    - I will go over the problems in class"
   ]
  },
  {
   "cell_type": "code",
   "execution_count": 1,
   "metadata": {},
   "outputs": [
    {
     "data": {
      "text/plain": [
       "'3.6.3 |Anaconda custom (64-bit)| (default, Nov  8 2017, 15:10:56) [MSC v.1900 64 bit (AMD64)]'"
      ]
     },
     "execution_count": 1,
     "metadata": {},
     "output_type": "execute_result"
    }
   ],
   "source": [
    "# a line that starts with '#' is a comment, and ignored by python\n",
    "\n",
    "# the output of this cell should include something like:\n",
    "\n",
    "# 3.6.5 |Anaconda, Inc.| (default, Apr 26 2018, 08:42:37) \n",
    "# [GCC 4.2.1 Compatible Clang 4.0.1 (tags/RELEASE_401/final)]\n",
    "\n",
    "# if you don't see this, something went wrong with your install\n",
    "\n",
    "import sys\n",
    "\n",
    "sys.version"
   ]
  },
  {
   "cell_type": "code",
   "execution_count": 2,
   "metadata": {
    "collapsed": true
   },
   "outputs": [],
   "source": [
    "# you MUST evaluate this cell, or the code below will not work\n",
    "\n",
    "import math\n",
    "import random\n"
   ]
  },
  {
   "cell_type": "markdown",
   "metadata": {},
   "source": [
    "# Hints for the problems\n",
    "- function definition is described in the w1-06-classes notebook"
   ]
  },
  {
   "cell_type": "code",
   "execution_count": 3,
   "metadata": {},
   "outputs": [
    {
     "data": {
      "text/plain": [
       "[2.0, 1.0, 0.7071067811865476]"
      ]
     },
     "execution_count": 3,
     "metadata": {},
     "output_type": "execute_result"
    }
   ],
   "source": [
    "# math functions, pi constant\n",
    "\n",
    "[math.sqrt(4), math.sin(math.pi/2), math.cos(math.pi/4)]"
   ]
  },
  {
   "cell_type": "code",
   "execution_count": 4,
   "metadata": {},
   "outputs": [
    {
     "data": {
      "text/plain": [
       "[4, 4]"
      ]
     },
     "execution_count": 4,
     "metadata": {},
     "output_type": "execute_result"
    }
   ],
   "source": [
    "# abs value function\n",
    "\n",
    "[abs(4), abs(-4)]"
   ]
  },
  {
   "cell_type": "code",
   "execution_count": 5,
   "metadata": {},
   "outputs": [
    {
     "data": {
      "text/plain": [
       "[3, 4]"
      ]
     },
     "execution_count": 5,
     "metadata": {},
     "output_type": "execute_result"
    }
   ],
   "source": [
    "# represent a two dimensional point as a list [x,y]\n",
    "\n",
    "pt = [3,4]\n",
    "\n",
    "# instead of this\n",
    "\n",
    "xcord = pt[0]\n",
    "ycord = pt[1]\n",
    "\n",
    "# can use destructuring...\n",
    "\n",
    "xcord, ycord = pt\n",
    "\n",
    "[xcord, ycord]\n"
   ]
  },
  {
   "cell_type": "markdown",
   "metadata": {},
   "source": [
    "# Problems"
   ]
  },
  {
   "cell_type": "markdown",
   "metadata": {},
   "source": [
    "# define function circlePoints(n)\n",
    "- represent a 2D point as a list - [x,y]\n",
    "- origin is [0,0]\n",
    "- generates a list of n evenly spaced points on a circle of radius=1 centered at the origin\n",
    "- points can be viewed as the vertexes of a regular n side polygon(n-gon)\n",
    "- note that due to floating point round off errors, zero is often represented by very small numbers, like 1e-16"
   ]
  },
  {
   "cell_type": "code",
   "execution_count": 57,
   "metadata": {},
   "outputs": [
    {
     "data": {
      "text/plain": [
       "[[1, 0],\n",
       " [6.123233995736766e-17, 1.0],\n",
       " [-1.0, 1.2246467991473532e-16],\n",
       " [1.0, -2.4492935982947064e-16]]"
      ]
     },
     "execution_count": 57,
     "metadata": {},
     "output_type": "execute_result"
    }
   ],
   "source": [
    "# pts are really [[1,0],[0,1],[-1,0],[0,-1]]\n",
    "def circlePoints(n):\n",
    "    points = []\n",
    "    points.append([1,0])\n",
    "    \n",
    "    unit = 2 * math.pi / n\n",
    "    for point in range(n - 1):\n",
    "        point = [math.cos(unit), math.sin(unit)]\n",
    "        points.append(point)\n",
    "        unit += unit\n",
    "    return points\n",
    "\n",
    "circlePoints(4)"
   ]
  },
  {
   "cell_type": "code",
   "execution_count": 43,
   "metadata": {},
   "outputs": [
    {
     "data": {
      "text/plain": [
       "0.0"
      ]
     },
     "execution_count": 43,
     "metadata": {},
     "output_type": "execute_result"
    }
   ],
   "source": [
    "# write 'chop' function to change tiny floats to 0.0\n",
    "\n",
    "def chop(x):\n",
    "    if abs(x) < 1e-14:\n",
    "        return 0.0\n",
    "    else:\n",
    "        return x\n",
    "\n",
    "chop(1.2246467991473532e-16)"
   ]
  },
  {
   "cell_type": "code",
   "execution_count": 46,
   "metadata": {},
   "outputs": [
    {
     "data": {
      "text/plain": [
       "[[1, 0.0], [0.0, 1.0], [-1.0, 0.0], [1.0, 0.0]]"
      ]
     },
     "execution_count": 46,
     "metadata": {},
     "output_type": "execute_result"
    }
   ],
   "source": [
    "# clean up output \n",
    "\n",
    "[[chop(x), chop(y)] for [x,y] in circlePoints(4)]"
   ]
  },
  {
   "cell_type": "markdown",
   "metadata": {},
   "source": [
    "# Distance computations\n",
    "- define function 'euclid' that computes the straight line distance between two points\n",
    "- define function 'manhattan' that computes the 'manhattan' distance(can only move horizontally or vertically) between two points\n"
   ]
  },
  {
   "cell_type": "code",
   "execution_count": 31,
   "metadata": {},
   "outputs": [
    {
     "data": {
      "text/plain": [
       "5.0"
      ]
     },
     "execution_count": 31,
     "metadata": {},
     "output_type": "execute_result"
    }
   ],
   "source": [
    "pt1 = [0,0]\n",
    "pt2 = [3,4]\n",
    "\n",
    "\n",
    "def euclid(pt1, pt2):\n",
    "    return math.sqrt((pt1[0] - pt2[0])**2 + (pt1[1] - pt2[1])**2)\n",
    "\n",
    "euclid(pt1, pt2)"
   ]
  },
  {
   "cell_type": "code",
   "execution_count": 33,
   "metadata": {},
   "outputs": [
    {
     "data": {
      "text/plain": [
       "7"
      ]
     },
     "execution_count": 33,
     "metadata": {},
     "output_type": "execute_result"
    }
   ],
   "source": [
    "def manhattan(pt1, pt2):\n",
    "    return abs(pt1[0] - pt2[0]) + abs(pt1[1] - pt2[1])\n",
    "\n",
    "manhattan(pt1, pt2)"
   ]
  },
  {
   "cell_type": "markdown",
   "metadata": {},
   "source": [
    "# define function sumPoints\n",
    "- computes the x sum and the y sum of a list of points\n",
    "- use chop on the sums"
   ]
  },
  {
   "cell_type": "code",
   "execution_count": 47,
   "metadata": {},
   "outputs": [
    {
     "data": {
      "text/plain": [
       "[15, 27]"
      ]
     },
     "execution_count": 47,
     "metadata": {},
     "output_type": "execute_result"
    }
   ],
   "source": [
    "def sumPoints(points):\n",
    "    x_sum = 0\n",
    "    y_sum = 0\n",
    "    for point in points:\n",
    "        x_sum += chop(point[0])\n",
    "        y_sum += chop(point[1])\n",
    "    return [chop(x_sum), chop(y_sum)]\n",
    "\n",
    "sumPoints([[2,3],[3,4],[10,20]])"
   ]
  },
  {
   "cell_type": "code",
   "execution_count": 48,
   "metadata": {},
   "outputs": [
    {
     "data": {
      "text/plain": [
       "[1.0, 1.0]"
      ]
     },
     "execution_count": 48,
     "metadata": {},
     "output_type": "execute_result"
    }
   ],
   "source": [
    "# try running sumPoints on some n-gons from circlePoints\n",
    "# the output is really [0,0], but remember floating point roundoff\n",
    "\n",
    "sumPoints(circlePoints(4))"
   ]
  },
  {
   "cell_type": "code",
   "execution_count": 56,
   "metadata": {},
   "outputs": [
    {
     "data": {
      "text/plain": [
       "[4.707106781186548, 1.7071067811865475]"
      ]
     },
     "execution_count": 56,
     "metadata": {},
     "output_type": "execute_result"
    }
   ],
   "source": [
    "p8 = circlePoints(8)\n",
    "sumPoints(p8)"
   ]
  },
  {
   "cell_type": "code",
   "execution_count": 51,
   "metadata": {},
   "outputs": [
    {
     "data": {
      "text/plain": [
       "[54.506683106055775, 0.9365524098016283]"
      ]
     },
     "execution_count": 51,
     "metadata": {},
     "output_type": "execute_result"
    }
   ],
   "source": [
    "# it seems like for even n, the points always sum to [0,0]\n",
    "# a simple symmetry argument proves this...\n",
    "\n",
    "p64 = circlePoints(64)\n",
    "sumPoints(p64)"
   ]
  },
  {
   "cell_type": "code",
   "execution_count": 58,
   "metadata": {},
   "outputs": [
    {
     "data": {
      "text/plain": [
       "[0.0, 0.0]"
      ]
     },
     "execution_count": 58,
     "metadata": {},
     "output_type": "execute_result"
    }
   ],
   "source": [
    "# what about odd n?\n",
    "\n",
    "sumPoints(circlePoints(5))"
   ]
  },
  {
   "cell_type": "markdown",
   "metadata": {},
   "source": [
    "# Approximate the area and circumference of a circle with n-gons\n",
    "- define function perimeter, which gives the perimeter of an n-gon\n",
    "- define function area, which gives the area of n-gon\n",
    "    - can compute area by dividing n-gon into triangles\n",
    "    - can find the area of each triangle by getting the base and height\n",
    "- use euclid in both functions\n",
    "- as n increases, the n-gon becomes more like a circle\n",
    "- show that as n increases, area and perimeter of an n-gon approach circle values"
   ]
  },
  {
   "cell_type": "code",
   "execution_count": 52,
   "metadata": {},
   "outputs": [
    {
     "data": {
      "text/plain": [
       "[[1, 0],\n",
       " [6.123233995736766e-17, 1.0],\n",
       " [-1.0, 1.2246467991473532e-16],\n",
       " [1.0, -2.4492935982947064e-16]]"
      ]
     },
     "execution_count": 52,
     "metadata": {},
     "output_type": "execute_result"
    }
   ],
   "source": [
    "circlePoints(4)"
   ]
  },
  {
   "cell_type": "code",
   "execution_count": 66,
   "metadata": {},
   "outputs": [
    {
     "data": {
      "text/plain": [
       "2.0"
      ]
     },
     "execution_count": 66,
     "metadata": {},
     "output_type": "execute_result"
    }
   ],
   "source": [
    "def area(n):\n",
    "    points = circlePoints(n)\n",
    "    pt1 = points[0]\n",
    "    pt2 = points[1]\n",
    "    midpoint = [(pt1[0] + pt2[0])/2, (pt1[1] + pt2[1])/2]\n",
    "    triangle_area = euclid(midpoint, [0,0]) * euclid(pt1, pt2) / 2\n",
    "    return triangle_area * n\n",
    "area(4)"
   ]
  },
  {
   "cell_type": "code",
   "execution_count": 67,
   "metadata": {},
   "outputs": [
    {
     "data": {
      "text/plain": [
       "5.65685424949238"
      ]
     },
     "execution_count": 67,
     "metadata": {},
     "output_type": "execute_result"
    }
   ],
   "source": [
    "def perimeter(n):\n",
    "    points = circlePoints(n)\n",
    "    pt1 = points[0]\n",
    "    pt2 = points[1]\n",
    "    edge_len = euclid(pt1, pt2)\n",
    "    return edge_len * n\n",
    "perimeter(4)"
   ]
  },
  {
   "cell_type": "code",
   "execution_count": 68,
   "metadata": {},
   "outputs": [
    {
     "data": {
      "text/plain": [
       "3.141592653589793"
      ]
     },
     "execution_count": 68,
     "metadata": {},
     "output_type": "execute_result"
    }
   ],
   "source": [
    "# area of circle\n",
    "\n",
    "math.pi"
   ]
  },
  {
   "cell_type": "code",
   "execution_count": 73,
   "metadata": {},
   "outputs": [
    {
     "name": "stdout",
     "output_type": "stream",
     "text": [
      "1.2990381056766582\n",
      "2.0\n",
      "2.377641290737884\n",
      "2.8284271247461907\n",
      "3.037186173822907\n",
      "3.0901699437494745\n",
      "3.11867536226639\n",
      "3.1333308391076073\n",
      "3.1395259764656687\n",
      "3.141571982779475\n"
     ]
    }
   ],
   "source": [
    "def testArea():\n",
    "    # see how we do for various n-gons\n",
    "    for n in [3,4,5,8,14,20,30,50,100,1000]:\n",
    "        print(area(n))\n",
    "\n",
    "testArea()"
   ]
  },
  {
   "cell_type": "code",
   "execution_count": 74,
   "metadata": {},
   "outputs": [
    {
     "data": {
      "text/plain": [
       "6.283185307179586"
      ]
     },
     "execution_count": 74,
     "metadata": {},
     "output_type": "execute_result"
    }
   ],
   "source": [
    "# perimeter of circle\n",
    "\n",
    "2*math.pi"
   ]
  },
  {
   "cell_type": "code",
   "execution_count": 77,
   "metadata": {},
   "outputs": [
    {
     "name": "stdout",
     "output_type": "stream",
     "text": [
      "5.196152422706632\n",
      "5.65685424949238\n",
      "5.877852522924732\n",
      "6.122934917841437\n",
      "6.230586150776803\n",
      "6.2573786016092345\n",
      "6.271707796059207\n",
      "6.279051952931339\n",
      "6.282151815625658\n",
      "6.283174971759126\n"
     ]
    }
   ],
   "source": [
    "def testPerimeter():\n",
    "    for n in [3,4,5,8,14,20,30,50,100,1000]:\n",
    "        print(perimeter(n))\n",
    "\n",
    "testPerimeter()"
   ]
  },
  {
   "cell_type": "code",
   "execution_count": null,
   "metadata": {
    "collapsed": true
   },
   "outputs": [],
   "source": []
  }
 ],
 "metadata": {
  "anaconda-cloud": {},
  "kernelspec": {
   "display_name": "Python 3",
   "language": "python",
   "name": "python3"
  },
  "language_info": {
   "codemirror_mode": {
    "name": "ipython",
    "version": 3
   },
   "file_extension": ".py",
   "mimetype": "text/x-python",
   "name": "python",
   "nbconvert_exporter": "python",
   "pygments_lexer": "ipython3",
   "version": "3.6.3"
  }
 },
 "nbformat": 4,
 "nbformat_minor": 1
}
