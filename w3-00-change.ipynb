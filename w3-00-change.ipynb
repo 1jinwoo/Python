{
 "cells": [
  {
   "cell_type": "markdown",
   "metadata": {},
   "source": [
    "# Example: Change of a dollar\n",
    "- an item whose price is a dollar or less is purchased with a dollar bill\n",
    "- compute the change that should returned - quarters, dimes, nicke, pennies, given what change is on hand. \n",
    "- return the minium number of coins\n",
    "- how should the coins on hand be represented?\n",
    "- how should the coins being returned be represented?\n",
    "\n",
    "\n",
    "    \n",
    "    \n",
    "    \n"
   ]
  },
  {
   "cell_type": "code",
   "execution_count": null,
   "metadata": {
    "collapsed": true
   },
   "outputs": [],
   "source": [
    "def change(priceOfItem):\n",
    "    # figure out what change to give the customer\n",
    "    # decrement the amount of change left\n",
    "    \n",
    "    # always use larger coins first\n",
    "    # represent coins with dictionary\n",
    "\n",
    "\n",
    "\n",
    "\n",
    "\n",
    "\n",
    "\n",
    "\n",
    "\n",
    "\n",
    "\n",
    "\n",
    "\n",
    "\n",
    "\n"
   ]
  },
  {
   "cell_type": "markdown",
   "metadata": {},
   "source": [
    "- I use two global variables\n",
    "    - coins variable\n",
    "        - defines the representation of change (# of quarters, dimes, nickels, pennies)\n",
    "        - code depends on largest first order\n",
    "        - coins is a tuple, since the value of each coin type never changes\n",
    "    - coinInventory are the coins 'in stock'. note coinInventory is NOT declared global in the function, so the value of coinInventory cannot be changed, but the list refered to by coinInventory is changed by the function"
   ]
  },
  {
   "cell_type": "code",
   "execution_count": 1,
   "metadata": {
    "collapsed": true
   },
   "outputs": [],
   "source": [
    "coins = (25, 10, 5, 1)\n",
    "coinInventory = [2, 3, 10, 7]\n",
    "\n",
    "def change(price):\n",
    "    owe = 100 - price\n",
    "    ans = [0]*len(coins) # [0, 0, 0, 0]\n",
    "    for j in range(len(coins)):\n",
    "        cval = coins[j]\n",
    "        cinv = coinInventory[j]\n",
    "        cnt = owe // cval \n",
    "        cnt = min(cnt, cinv)\n",
    "        ans[j] = cnt\n",
    "        coinInventory[j] -= cnt\n",
    "        owe -= cnt * cval\n",
    "        if owe == 0:\n",
    "            break\n",
    "    # return amount still owed, if any\n",
    "    # coins returned\n",
    "    # coins left in inventory\n",
    "    return [owe,ans,coinInventory]\n"
   ]
  },
  {
   "cell_type": "code",
   "execution_count": 1,
   "metadata": {
    "collapsed": true
   },
   "outputs": [],
   "source": [
    "# order is quarters, dimes, nickels, pennies\n",
    "\n",
    "coins = (25, 10, 5, 1)\n",
    "coinInventory = [2, 3, 10, 7]"
   ]
  },
  {
   "cell_type": "code",
   "execution_count": 4,
   "metadata": {},
   "outputs": [
    {
     "data": {
      "text/plain": [
       "[[0, [1, 0, 0, 1], [1, 3, 10, 6]], [1, 3, 10, 6]]"
      ]
     },
     "execution_count": 4,
     "metadata": {},
     "output_type": "execute_result"
    }
   ],
   "source": [
    "[change(74), coinInventory]"
   ]
  },
  {
   "cell_type": "code",
   "execution_count": 5,
   "metadata": {},
   "outputs": [
    {
     "data": {
      "text/plain": [
       "[0, [1, 0, 0, 1], [0, 3, 10, 5]]"
      ]
     },
     "execution_count": 5,
     "metadata": {},
     "output_type": "execute_result"
    }
   ],
   "source": [
    "change(74)"
   ]
  },
  {
   "cell_type": "code",
   "execution_count": 6,
   "metadata": {},
   "outputs": [
    {
     "data": {
      "text/plain": [
       "[0, [0, 2, 1, 1], [0, 1, 9, 4]]"
      ]
     },
     "execution_count": 6,
     "metadata": {},
     "output_type": "execute_result"
    }
   ],
   "source": [
    "change(74)"
   ]
  },
  {
   "cell_type": "code",
   "execution_count": 7,
   "metadata": {},
   "outputs": [
    {
     "data": {
      "text/plain": [
       "[0, [0, 1, 3, 1], [0, 0, 6, 3]]"
      ]
     },
     "execution_count": 7,
     "metadata": {},
     "output_type": "execute_result"
    }
   ],
   "source": [
    "change(74)"
   ]
  },
  {
   "cell_type": "code",
   "execution_count": 8,
   "metadata": {},
   "outputs": [
    {
     "data": {
      "text/plain": [
       "[0, [0, 0, 5, 1], [0, 0, 1, 2]]"
      ]
     },
     "execution_count": 8,
     "metadata": {},
     "output_type": "execute_result"
    }
   ],
   "source": [
    "change(74)"
   ]
  },
  {
   "cell_type": "markdown",
   "metadata": {},
   "source": [
    "# Are there problems with 'change'?"
   ]
  },
  {
   "cell_type": "markdown",
   "metadata": {},
   "source": [
    "# nice summary  \n",
    "- mostly what we have seen to date\n",
    "- [python cheat sheet](https://perso.limsi.fr/pointal/_media/python:cours:mementopython3-english.pdf)"
   ]
  }
 ],
 "metadata": {
  "anaconda-cloud": {},
  "kernelspec": {
   "display_name": "Python 3",
   "language": "python",
   "name": "python3"
  },
  "language_info": {
   "codemirror_mode": {
    "name": "ipython",
    "version": 3
   },
   "file_extension": ".py",
   "mimetype": "text/x-python",
   "name": "python",
   "nbconvert_exporter": "python",
   "pygments_lexer": "ipython3",
   "version": "3.6.3"
  }
 },
 "nbformat": 4,
 "nbformat_minor": 1
}
