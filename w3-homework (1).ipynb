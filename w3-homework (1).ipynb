{
 "cells": [
  {
   "cell_type": "markdown",
   "metadata": {},
   "source": [
    "# Introduction to Python \n",
    "# Homework #3\n",
    "- Due Sat Sept 29 at 5pm\n",
    "- This homework will be graded\n",
    "- You MUST submit on CourseWorks2 before it closes\n",
    "    - Verify your submission succeeded\n",
    "    - Email submissions are not accepted \n",
    "    "
   ]
  },
  {
   "cell_type": "markdown",
   "metadata": {},
   "source": [
    "# Academic Honesty\n",
    "* The computer science department has strict polices. Check\n",
    "the department [web page](http://www.cs.columbia.edu/education/honesty) for details. \n",
    "- Do not look at anybody else's source code. Do not show anybody\n",
    "your source, or leave your source where somebody could see it.\n",
    "You MUST write your own code.\n",
    "- For this class, feel free to discuss issues with other people, but suggest waiting an hour or two after a discussion, before writing your code.\n",
    "-  Cases of non original source will be refered to the Judical Committee.\n"
   ]
  },
  {
   "cell_type": "markdown",
   "metadata": {},
   "source": [
    "# Problem 1&2 - RandomPoint"
   ]
  },
  {
   "cell_type": "code",
   "execution_count": 10,
   "metadata": {},
   "outputs": [
    {
     "data": {
      "text/plain": [
       "Point(3,4)"
      ]
     },
     "execution_count": 10,
     "metadata": {},
     "output_type": "execute_result"
    }
   ],
   "source": [
    "# we saw this in class\n",
    "\n",
    "class Point:\n",
    "    def __init__(self, x, y):\n",
    "        self.x = x\n",
    "        self.y = y\n",
    "        \n",
    "    def __str__(self):\n",
    "        return '{}({},{})'.format(self.name(),self.x,self.y)\n",
    "\n",
    "    def __repr__(self):\n",
    "        return self.__str__()\n",
    "    \n",
    "    def name(self):\n",
    "        return 'Point'\n",
    "    \n",
    "Point(3,4)"
   ]
  },
  {
   "cell_type": "markdown",
   "metadata": {},
   "source": [
    "# define RandomPoint class\n",
    "- define a RandomPoint class by inheriting from Point,\n",
    "and redefining the ```__init__``` method\n",
    "- also redefine the 'name' method, so RandomPoint prints correctly\n",
    "- unlike Point, the RandomPoint constructor doesn't take x y args. rather, the  ```__init__``` method will call random.guass(0,1) twice to get x,y values\n",
    "- we only want points inside a unit box centered on the origin (-.5 < x,y < .5)\n",
    "    - if the randomly choosen x,y point is outside the unit box, raise the OutOfBounds error in the ```__init__``` method, and pass the bad x and y as arguments to the OutOfBounds constructor\n",
    "- remember 'self'\n",
    "    - first arg to object methods must be 'self'\n",
    "    - refer to object attributes with 'self.' prefix"
   ]
  },
  {
   "cell_type": "code",
   "execution_count": 11,
   "metadata": {
    "scrolled": true
   },
   "outputs": [
    {
     "data": {
      "text/plain": [
       "1.8471920147346337"
      ]
     },
     "execution_count": 11,
     "metadata": {},
     "output_type": "execute_result"
    }
   ],
   "source": [
    "import random\n",
    "\n",
    "random.gauss(0,1)"
   ]
  },
  {
   "cell_type": "code",
   "execution_count": 12,
   "metadata": {},
   "outputs": [
    {
     "data": {
      "text/plain": [
       "[4, 2.3]"
      ]
     },
     "execution_count": 12,
     "metadata": {},
     "output_type": "execute_result"
    }
   ],
   "source": [
    "# top level function abs is useful for out of bounds check\n",
    "\n",
    "[abs(4), abs(-2.3)]"
   ]
  },
  {
   "cell_type": "code",
   "execution_count": 24,
   "metadata": {
    "collapsed": true
   },
   "outputs": [],
   "source": [
    "class OutOfBounds(Exception):\n",
    "    def __init__(self, x, y):\n",
    "        self.x = x\n",
    "        self.y = y\n",
    "    def __str__(self):\n",
    "        return \"OutOfBounds x={} y={}\".format(self.x, self.y)\n",
    "    def __repr__(self):\n",
    "        return self.__str__()\n",
    "    "
   ]
  },
  {
   "cell_type": "code",
   "execution_count": 16,
   "metadata": {},
   "outputs": [
    {
     "data": {
      "text/plain": [
       "RandomPoint(-0.06279569899334629,-0.39898334534860896)"
      ]
     },
     "execution_count": 16,
     "metadata": {},
     "output_type": "execute_result"
    }
   ],
   "source": [
    "# constructor made a valid point\n",
    "\n",
    "RandomPoint()"
   ]
  },
  {
   "cell_type": "code",
   "execution_count": 1,
   "metadata": {},
   "outputs": [
    {
     "ename": "NameError",
     "evalue": "name 'RandomPoint' is not defined",
     "output_type": "error",
     "traceback": [
      "\u001b[1;31m---------------------------------------------------------------------------\u001b[0m",
      "\u001b[1;31mNameError\u001b[0m                                 Traceback (most recent call last)",
      "\u001b[1;32m<ipython-input-1-eb95b1eac8be>\u001b[0m in \u001b[0;36m<module>\u001b[1;34m()\u001b[0m\n\u001b[0;32m      2\u001b[0m \u001b[1;31m# can see the bad x,y in the error msg\u001b[0m\u001b[1;33m\u001b[0m\u001b[1;33m\u001b[0m\u001b[0m\n\u001b[0;32m      3\u001b[0m \u001b[1;33m\u001b[0m\u001b[0m\n\u001b[1;32m----> 4\u001b[1;33m \u001b[0mRandomPoint\u001b[0m\u001b[1;33m(\u001b[0m\u001b[1;33m)\u001b[0m\u001b[1;33m\u001b[0m\u001b[0m\n\u001b[0m",
      "\u001b[1;31mNameError\u001b[0m: name 'RandomPoint' is not defined"
     ]
    }
   ],
   "source": [
    "# constructor made a bad point, and raised OutOfBounds error\n",
    "# can see the bad x,y in the error msg\n",
    "\n",
    "RandomPoint()"
   ]
  },
  {
   "cell_type": "code",
   "execution_count": null,
   "metadata": {
    "collapsed": true
   },
   "outputs": [],
   "source": []
  },
  {
   "cell_type": "markdown",
   "metadata": {},
   "source": [
    "# define class makeRandomPoint\n",
    "- RandomPoint is hard to deal with directly, because you never know\n",
    "when you will get an error\n",
    "- define a class that produces valid RandomPoints\n",
    "- define a ```__next__``` method on the class. it should return a list of a valid RandomPoint, and how many tries it took to make it\n",
    "    - the method should never raise any error\n",
    "    - every call to the method should produce a valid RandomPoint"
   ]
  },
  {
   "cell_type": "code",
   "execution_count": 22,
   "metadata": {
    "collapsed": true
   },
   "outputs": [],
   "source": [
    "class makeRandomPoint():\n",
    "    def __next__(self):\n",
    "        cnt = 1\n",
    "        while True:\n",
    "            try:\n",
    "                pt = RandomPoint()\n",
    "                return [pt, cnt]\n",
    "            except OutOfBounds:\n",
    "                cnt += 1\n",
    "           "
   ]
  },
  {
   "cell_type": "code",
   "execution_count": 18,
   "metadata": {
    "collapsed": true
   },
   "outputs": [],
   "source": [
    "# make generator\n",
    "\n",
    "mrp = makeRandomPoint()"
   ]
  },
  {
   "cell_type": "code",
   "execution_count": 19,
   "metadata": {},
   "outputs": [
    {
     "data": {
      "text/plain": [
       "[RandomPoint(-0.08985164007313275,0.266568729353807), 10]"
      ]
     },
     "execution_count": 19,
     "metadata": {},
     "output_type": "execute_result"
    }
   ],
   "source": [
    "# took 10 tries to make this RandomPoint!\n",
    "\n",
    "next(mrp)"
   ]
  },
  {
   "cell_type": "code",
   "execution_count": 23,
   "metadata": {},
   "outputs": [
    {
     "data": {
      "text/plain": [
       "[RandomPoint(0.1839331624516384,-0.45416463247424754), 5]"
      ]
     },
     "execution_count": 23,
     "metadata": {},
     "output_type": "execute_result"
    }
   ],
   "source": [
    "# next(mrp) is equivalent to mrp.__next__()\n",
    "\n",
    "mrp.__next__()"
   ]
  },
  {
   "cell_type": "code",
   "execution_count": 38,
   "metadata": {},
   "outputs": [
    {
     "name": "stdout",
     "output_type": "stream",
     "text": [
      "[RandomPoint(0.3157969869516567,-0.0020978292184119832), 12]\n",
      "[RandomPoint(0.42199421885690225,0.09163336396639077), 4]\n",
      "[RandomPoint(-0.22238064360487622,0.4628509573517972), 1]\n",
      "[RandomPoint(0.04522183547593601,-0.10841228862804611), 7]\n",
      "[RandomPoint(0.22535112818944295,0.08363450672484446), 8]\n",
      "[RandomPoint(-0.09403850095971572,-0.3431256221570517), 9]\n",
      "[RandomPoint(0.07839237293053039,0.25133739291230023), 1]\n",
      "[RandomPoint(-0.11287884936809066,-0.21442213756466527), 17]\n",
      "[RandomPoint(0.49025543442017533,-0.3935545734745507), 14]\n",
      "[RandomPoint(-0.03835424615498382,0.41008743202006065), 3]\n",
      "[RandomPoint(-0.2932075584621188,-0.11794182618567861), 7]\n",
      "[RandomPoint(-0.05794002857992293,0.3852997999174518), 1]\n",
      "[RandomPoint(-0.4641328152299143,-0.4598690016052559), 6]\n",
      "[RandomPoint(0.012409778513862907,0.1832904339779716), 24]\n",
      "[RandomPoint(-0.09957588474923958,0.03814765850591237), 7]\n",
      "[RandomPoint(0.49504165320030874,-0.06357603498368701), 13]\n",
      "[RandomPoint(0.4394471612794694,-0.40893909265489453), 1]\n",
      "[RandomPoint(-0.006821148477544949,0.0822676374787807), 18]\n",
      "[RandomPoint(-0.23898467466064788,-0.23272744980040433), 6]\n",
      "[RandomPoint(-0.07715182919832606,-0.29904919027753607), 3]\n"
     ]
    }
   ],
   "source": [
    "# call generator 20 times - no errors\n",
    "\n",
    "for j in range(20):\n",
    "    print(next(mrp))"
   ]
  },
  {
   "cell_type": "markdown",
   "metadata": {},
   "source": [
    "# Problem 3 - define function flatten\n",
    "\n",
    "- 'flatten' turns a nested list into a linear one\n",
    "- use recursion technique like 'rcount' in w2-05-functions notebook\n",
    "    - flatten the head and tail of the list, then put them together\n"
   ]
  },
  {
   "cell_type": "code",
   "execution_count": 29,
   "metadata": {},
   "outputs": [
    {
     "data": {
      "text/plain": [
       "[1, 2, 3, 4]"
      ]
     },
     "execution_count": 29,
     "metadata": {},
     "output_type": "execute_result"
    }
   ],
   "source": [
    "flatten([1,2,3,4])"
   ]
  },
  {
   "cell_type": "code",
   "execution_count": 28,
   "metadata": {},
   "outputs": [
    {
     "data": {
      "text/plain": [
       "[1, 2, 3, 4]"
      ]
     },
     "execution_count": 28,
     "metadata": {},
     "output_type": "execute_result"
    }
   ],
   "source": [
    "flatten([1, [2,3],4])"
   ]
  },
  {
   "cell_type": "code",
   "execution_count": 26,
   "metadata": {},
   "outputs": [
    {
     "data": {
      "text/plain": [
       "[1, 2, 3, 4, 5, 6, 7, 8, 9, 10, 11]"
      ]
     },
     "execution_count": 26,
     "metadata": {},
     "output_type": "execute_result"
    }
   ],
   "source": [
    "flatten( [1,[2,3,4,[5,6,[7,8],9],10,11]])"
   ]
  },
  {
   "cell_type": "code",
   "execution_count": 27,
   "metadata": {},
   "outputs": [
    {
     "data": {
      "text/plain": [
       "[1, 2, 3, 4, 56, 44, 55, 7, 8]"
      ]
     },
     "execution_count": 27,
     "metadata": {},
     "output_type": "execute_result"
    }
   ],
   "source": [
    "flatten([1,2,3,[4,56],[44,55],7,8])"
   ]
  },
  {
   "cell_type": "markdown",
   "metadata": {},
   "source": [
    "# Problem 4 & 5 - vending machine\n",
    "- use objects to simulate a vending machine\n",
    "- money is in units of cents\n",
    "- remember\n",
    "    - 'self' must be the first arg to every object method\n",
    "    - use the 'self.' prefix to refer to object attributes or other methods inside a method "
   ]
  },
  {
   "cell_type": "markdown",
   "metadata": {},
   "source": [
    "# define class venditem \n",
    "- represents a type of item for sale\n",
    "- has three object attributes\n",
    "    - name, price, quantity\n",
    "- define four methods\n",
    "    - `method __init__` loads data into the object attributes\n",
    "        - def `__init__`(self, name, price, quantity):\n",
    "    - `method __str__`(self)\n",
    "        - controls how venditem prints\n",
    "        - use string format method\n",
    "            - '{} {}'.format(arg, arg2)\n",
    "        - see examples below\n",
    "    - `method __repr__`(self)\n",
    "        - just call `__str__` for string to return\n",
    "    - method sale(self)\n",
    "        - decrement the quantity(number of items left in the machine to sell)"
   ]
  },
  {
   "cell_type": "code",
   "execution_count": 89,
   "metadata": {},
   "outputs": [
    {
     "data": {
      "text/plain": [
       "[venditem(name='coke', price=95, quantity=3),\n",
       " venditem(name='pepsi', price=110, quantity=1)]"
      ]
     },
     "execution_count": 89,
     "metadata": {},
     "output_type": "execute_result"
    }
   ],
   "source": [
    "# make some items\n",
    "\n",
    "vi = venditem('coke', 95, 3)\n",
    "vi2 = venditem('pepsi', 110, 1)\n",
    "\n",
    "[vi, vi2]"
   ]
  },
  {
   "cell_type": "code",
   "execution_count": 90,
   "metadata": {},
   "outputs": [
    {
     "data": {
      "text/plain": [
       "venditem(name='coke', price=95, quantity=2)"
      ]
     },
     "execution_count": 90,
     "metadata": {},
     "output_type": "execute_result"
    }
   ],
   "source": [
    "# sale method decrements quantity \n",
    "# instance variable\n",
    "\n",
    "vi.sale()\n",
    "vi"
   ]
  },
  {
   "cell_type": "code",
   "execution_count": 91,
   "metadata": {},
   "outputs": [
    {
     "data": {
      "text/plain": [
       "['coke', 'pepsi', 95, 2, 1]"
      ]
     },
     "execution_count": 91,
     "metadata": {},
     "output_type": "execute_result"
    }
   ],
   "source": [
    "# note you can access instance variables directly:\n",
    "\n",
    "[vi.name, vi2.name, vi.price, vi.quantity, vi2.quantity]"
   ]
  },
  {
   "cell_type": "code",
   "execution_count": 92,
   "metadata": {},
   "outputs": [
    {
     "data": {
      "text/plain": [
       "2"
      ]
     },
     "execution_count": 92,
     "metadata": {},
     "output_type": "execute_result"
    }
   ],
   "source": [
    "# can set same way\n",
    "\n",
    "vi.quantity = 2\n",
    "vi.quantity"
   ]
  },
  {
   "cell_type": "markdown",
   "metadata": {},
   "source": [
    "# define class vendmachine \n",
    "- vendmachine has two object attributes\n",
    "    - 'cash' - the amount of money the machine has collected from item sales\n",
    "    - 'items' - a dictionary, where the keys are item names, and the values are the venditem object\n",
    "- define three methods\n",
    "    - `__init__`(self, stock)\n",
    "        - stock arg is a list of venditems, which represents what is loaded in the machine\n",
    "        - items dictionary should be constructed from stock arg\n",
    "        - cash should be initialized to 0\n",
    "    - buy(self, name, money) \n",
    "        - 'name' is 'coke', 'pepsi', etc\n",
    "        - money is how much money the customer deposited for the purchase\n",
    "        - four cases\n",
    "            - customer asks for an item not carried\n",
    "            - customer asks for an item whose quantity is 0 - out of stock\n",
    "            - customer doesn't put in enough money for the item\n",
    "            - everything ok, sell the item, decrement item quantity\n",
    "        - 'buy' return value should refund any money owed the customer \n",
    "            - money not applied to an item sale\n",
    "            - excess money deposited for an item sale\n",
    "            - NOT asking you to do this, but note the previously developed  'Changer' class could be used in the vending machine\n",
    "        - log each buy case, using 'log' function below\n",
    "        - see examples below\n",
    "    - status(self)\n",
    "        - prints the amount of cash collected, and each of the items in stock\n",
    "    "
   ]
  },
  {
   "cell_type": "code",
   "execution_count": 17,
   "metadata": {
    "collapsed": true
   },
   "outputs": [],
   "source": [
    "import time\n",
    "    \n",
    "def log(msg, name):\n",
    "    t = time.strftime('%X %x %Z - ')\n",
    "    msg = t + msg + ': ' + name\n",
    "    print(msg)\n"
   ]
  },
  {
   "cell_type": "code",
   "execution_count": 30,
   "metadata": {},
   "outputs": [
    {
     "name": "stdout",
     "output_type": "stream",
     "text": [
      "cash collected: 0\n",
      "venditem(name='peanut M&Ms', price=100, quantity=2)\n",
      "venditem(name='coke', price=95, quantity=3)\n",
      "venditem(name='pepsi', price=110, quantity=1)\n"
     ]
    }
   ],
   "source": [
    "# make stock for sale and load vendmachine\n",
    "\n",
    "vi = venditem('coke', 95, 3)\n",
    "vi2 = venditem('pepsi', 110, 1)\n",
    "vi3 = venditem('peanut M&Ms', 100, 2)\n",
    "stock = [vi, vi2, vi3]\n",
    "\n",
    "vm = vendmachine(stock)\n",
    "vm.status()"
   ]
  },
  {
   "cell_type": "code",
   "execution_count": 31,
   "metadata": {},
   "outputs": [
    {
     "name": "stdout",
     "output_type": "stream",
     "text": [
      "18:10:26 10/01/16 EDT - insufficient funds for: coke\n"
     ]
    },
    {
     "data": {
      "text/plain": [
       "45"
      ]
     },
     "execution_count": 31,
     "metadata": {},
     "output_type": "execute_result"
    }
   ],
   "source": [
    "# no sale, refund money\n",
    "\n",
    "vm.buy('coke', 45)"
   ]
  },
  {
   "cell_type": "code",
   "execution_count": 32,
   "metadata": {},
   "outputs": [
    {
     "name": "stdout",
     "output_type": "stream",
     "text": [
      "18:10:29 10/01/16 EDT - sold : pepsi\n"
     ]
    },
    {
     "data": {
      "text/plain": [
       "90"
      ]
     },
     "execution_count": 32,
     "metadata": {},
     "output_type": "execute_result"
    }
   ],
   "source": [
    "# made sale, return change\n",
    "\n",
    "vm.buy('pepsi', 200)"
   ]
  },
  {
   "cell_type": "code",
   "execution_count": 33,
   "metadata": {},
   "outputs": [
    {
     "name": "stdout",
     "output_type": "stream",
     "text": [
      "cash collected: 110\n",
      "venditem(name='peanut M&Ms', price=100, quantity=2)\n",
      "venditem(name='coke', price=95, quantity=3)\n",
      "venditem(name='pepsi', price=110, quantity=0)\n"
     ]
    }
   ],
   "source": [
    "vm.status()"
   ]
  },
  {
   "cell_type": "code",
   "execution_count": 34,
   "metadata": {},
   "outputs": [
    {
     "name": "stdout",
     "output_type": "stream",
     "text": [
      "18:10:38 10/01/16 EDT - out of stock: pepsi\n"
     ]
    },
    {
     "data": {
      "text/plain": [
       "200"
      ]
     },
     "execution_count": 34,
     "metadata": {},
     "output_type": "execute_result"
    }
   ],
   "source": [
    "# out of stock, refund money\n",
    "\n",
    "vm.buy('pepsi', 200)"
   ]
  },
  {
   "cell_type": "code",
   "execution_count": 35,
   "metadata": {},
   "outputs": [
    {
     "name": "stdout",
     "output_type": "stream",
     "text": [
      "18:10:40 10/01/16 EDT - dont carry it: mtndew\n"
     ]
    },
    {
     "data": {
      "text/plain": [
       "200"
      ]
     },
     "execution_count": 35,
     "metadata": {},
     "output_type": "execute_result"
    }
   ],
   "source": [
    "# don't carry it, refund money\n",
    "\n",
    "vm.buy('mtndew', 200)"
   ]
  },
  {
   "cell_type": "code",
   "execution_count": 36,
   "metadata": {},
   "outputs": [
    {
     "name": "stdout",
     "output_type": "stream",
     "text": [
      "18:10:43 10/01/16 EDT - sold : coke\n"
     ]
    },
    {
     "data": {
      "text/plain": [
       "5"
      ]
     },
     "execution_count": 36,
     "metadata": {},
     "output_type": "execute_result"
    }
   ],
   "source": [
    "# sale, return change\n",
    "\n",
    "vm.buy('coke', 100)"
   ]
  },
  {
   "cell_type": "code",
   "execution_count": 41,
   "metadata": {},
   "outputs": [
    {
     "name": "stdout",
     "output_type": "stream",
     "text": [
      "cash collected: 205\n",
      "venditem(name='peanut M&Ms', price=100, quantity=2)\n",
      "venditem(name='coke', price=95, quantity=2)\n",
      "venditem(name='pepsi', price=110, quantity=0)\n"
     ]
    }
   ],
   "source": [
    "# sold 1 coke and 1 pepsi\n",
    "\n",
    "vm.status()"
   ]
  }
 ],
 "metadata": {
  "anaconda-cloud": {},
  "kernelspec": {
   "display_name": "Python 3",
   "language": "python",
   "name": "python3"
  },
  "language_info": {
   "codemirror_mode": {
    "name": "ipython",
    "version": 3
   },
   "file_extension": ".py",
   "mimetype": "text/x-python",
   "name": "python",
   "nbconvert_exporter": "python",
   "pygments_lexer": "ipython3",
   "version": "3.6.3"
  },
  "name": "_merged"
 },
 "nbformat": 4,
 "nbformat_minor": 1
}
