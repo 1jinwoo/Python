{
 "cells": [
  {
   "cell_type": "markdown",
   "metadata": {},
   "source": [
    "# Web Servers\n",
    "- many Python web servers to choice from\n",
    "- perhaps the two most popular are:\n",
    "    - [Django](https://www.djangoproject.com)\n",
    "        - big package intended for large projects\n",
    "        - provides lots of infrastructure\n",
    "        - wants to do things a certain way\n",
    "    - [Flask](http://flask.pocoo.org)\n",
    "        - small and simple\n",
    "        - doesn't force any particular style\n",
    "        - uses decorators"
   ]
  },
  {
   "cell_type": "markdown",
   "metadata": {},
   "source": [
    "# Flask server example(run flask-demo.py)\n",
    "\n",
    "```\n",
    "from flask import Flask, Response, request\n",
    "\n",
    "app = Flask('Flask')\n",
    "\n",
    "@app.route('/')\n",
    "def hello():\n",
    "    return 'Hi There!'\n",
    "\n",
    "@app.route('/foo')\n",
    "def h1():\n",
    "    return 'foo handler'\n",
    "\n",
    "@app.route('/sub5/<int:num>/')\n",
    "def getnum(num):\n",
    "    return '<h1>{}-5 is <i>{}</i> '.format(num, num-5)\n",
    "\n",
    "@app.route('/headers')\n",
    "def headers():\n",
    "    # headers to send back\n",
    "    # have to set content type to text/plain, otherwise\n",
    "    # browser will default to html and ignore new lines\n",
    "    headers = {'larry' : 'stead',\n",
    "               'teach' : 'python',\n",
    "               'Content-Type' : 'text/plain; charset=utf-8'}\n",
    "    return ('Headers sent by client:\\n\\n' + str(request.headers) ,200, headers)\n",
    "\n",
    "app.run(port=7777)\n",
    "```"
   ]
  },
  {
   "cell_type": "markdown",
   "metadata": {},
   "source": [
    "# above defines handlers for these urls\n",
    "\n",
    "[/](http://localhost:7777/)\n",
    "\n",
    "[/foo](http://localhost:7777/foo)\n",
    "\n",
    "[/sub5/9/](http://localhost:7777/sub5/9/)\n",
    "\n",
    "[/headers](http://localhost:7777/headers)"
   ]
  }
 ],
 "metadata": {
  "kernelspec": {
   "display_name": "Python 3",
   "language": "python",
   "name": "python3"
  },
  "language_info": {
   "codemirror_mode": {
    "name": "ipython",
    "version": 3
   },
   "file_extension": ".py",
   "mimetype": "text/x-python",
   "name": "python",
   "nbconvert_exporter": "python",
   "pygments_lexer": "ipython3",
   "version": "3.6.3"
  }
 },
 "nbformat": 4,
 "nbformat_minor": 2
}
