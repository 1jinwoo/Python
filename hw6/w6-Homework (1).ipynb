{
 "cells": [
  {
   "cell_type": "markdown",
   "metadata": {},
   "source": [
    "# Introduction to Python \n",
    "# Homework #6\n",
    "- Due Tuesday Oct 23 at noon\n",
    "- This homework will be graded\n",
    "- You MUST submit on CourseWorks2 before it closes\n",
    "    - Verify your submission succeeded\n",
    "    - Email submissions are not accepted \n",
    "    "
   ]
  },
  {
   "cell_type": "markdown",
   "metadata": {},
   "source": [
    "# Academic Honesty\n",
    "* The computer science department has strict polices. Check\n",
    "the department [web page](http://www.cs.columbia.edu/education/honesty) for details. \n",
    "- Do not look at anybody else's source code. Do not show anybody\n",
    "your source, or leave your source where somebody could see it.\n",
    "You MUST write your own code.\n",
    "- For this class, feel free to discuss issues with other people, but suggest waiting an hour or two after a discussion, before writing your code.\n",
    "-  Cases of non original source will be refered to the Judical Committee.\n",
    "\n"
   ]
  },
  {
   "cell_type": "markdown",
   "metadata": {},
   "source": [
    "# Problem 1&2 - Python help zipfile\n",
    "- Extract data directly from a zipfile without ever unpacking it\n",
    "- use zipfile module [doc](https://docs.python.org/3.5/library/zipfile.html#zipfile.ZipInfo). \n",
    "- only need to use three methods:\n",
    "    - zipfile.ZipFile(path)\n",
    "        - 'open' the zip file and read from it\n",
    "        - like 'open', should use 'with' to manage it\n",
    "    - zipfile.namelist()\n",
    "        - returns list of the files in zip archive\n",
    "    - zipfile.open()\n",
    "        - opens a file in the zip for reading\n",
    "        - use 'with'\n"
   ]
  },
  {
   "cell_type": "markdown",
   "metadata": {},
   "source": [
    "# define help class\n",
    "- write class that extracts info from the python help files, \n",
    "packaged in a zip file\n",
    "- zip file to download [zip of python docs in plain text format](https://docs.python.org/3/archives/python-3.7.1rc2-docs-text.zip)\n",
    "    - on mac, clicking on the zip link will automatically unpack the zip archive, which we don't want. instead right click on the link, and do 'Download Linked File as...' instead\n",
    "- ```__init__(self, zippath)``` method should read in the contents of the zip file located at zippath, and save the data in the help object\n",
    "    - build in the zip file path, like 'zpath = 'python-3.7.1rc2-docs-text.zip'\n",
    "    - convert input to unicode\n",
    "    - remove new lines\n",
    "- user methods - all 3 should 'print' their results, and return 'None'. this will make it easy to use them in a script later\n",
    "    - counts(self, substring) method - checks all file lines for match, and print per file hit count, when count is non zero.\n",
    "    - files(self, substring) method - print file name, # of hits\n",
    "    - grep(self, substring) method - print file name, line number, and line of each match\n",
    "    - for files() and grep() methods, strip off the 'python-3.7.1rc2-docs-text/' at the begining of the file name\n",
    "- note that like the linux 'grep' command, multiple appearances of the search string in a single line is considered ONE hit - we are counting the lines that have a hit(s). \n"
   ]
  },
  {
   "cell_type": "code",
   "execution_count": 22,
   "metadata": {
    "collapsed": true
   },
   "outputs": [],
   "source": [
    "import zipfile\n",
    "\n",
    "class help:\n",
    "    def __init__(self, zippath):\n",
    "        self.zpath = zippath\n",
    "        \n",
    "        with zipfile.ZipFile(zippath) as zipf:\n",
    "            self.zipf_names = zipf.namelist()\n",
    "            self.zipf_data = dict()\n",
    "            for file_name in self.zipf_names:\n",
    "                with zipf.open(file_name) as file:\n",
    "                    self.zipf_data[file_name] = list(str(zipf.read(file_name)).split('\\\\n')) # \\\\n because of *WINDOWS* \n",
    "                    \n",
    "    def counts(self, substring):\n",
    "        count = 0\n",
    "        for name in self.zipf_names:\n",
    "            for string in self.zipf_data[name]:\n",
    "                if substring in string:\n",
    "                    count += 1\n",
    "        print(count)\n",
    "        \n",
    "    def files(self, substring):\n",
    "        for name in self.zipf_names:\n",
    "            count = 0\n",
    "            for string in self.zipf_data[name]:\n",
    "                if substring in string:\n",
    "                    count += 1\n",
    "            if count != 0:\n",
    "                print(\"{} : {}\".format(name, count))\n",
    "    \n",
    "    def grep(self, substring):\n",
    "        for name in self.zipf_names:\n",
    "            for i, string in enumerate(self.zipf_data[name]):\n",
    "                if substring in string:\n",
    "                    print(\"{}({}): {}\".format(name, i, string))\n",
    "        \n",
    "        "
   ]
  },
  {
   "cell_type": "code",
   "execution_count": 23,
   "metadata": {},
   "outputs": [],
   "source": [
    "# set to where ever you place the python docs zip file\n",
    "\n",
    "zpath = r'C:\\Users\\justi\\Downloads\\python-3.7.1rc2-docs-text.zip'\n",
    "h = help(zpath)\n"
   ]
  },
  {
   "cell_type": "code",
   "execution_count": 24,
   "metadata": {},
   "outputs": [
    {
     "name": "stdout",
     "output_type": "stream",
     "text": [
      "python-3.7.1rc2-docs-text/whatsnew/2.7.txt : 1\n",
      "python-3.7.1rc2-docs-text/whatsnew/2.5.txt : 4\n",
      "python-3.7.1rc2-docs-text/whatsnew/3.2.txt : 2\n",
      "python-3.7.1rc2-docs-text/whatsnew/changelog.txt : 2\n",
      "python-3.7.1rc2-docs-text/library/importlib.txt : 1\n",
      "python-3.7.1rc2-docs-text/library/stdtypes.txt : 3\n"
     ]
    }
   ],
   "source": [
    "h.files('rpartition')"
   ]
  },
  {
   "cell_type": "code",
   "execution_count": 25,
   "metadata": {},
   "outputs": [
    {
     "name": "stdout",
     "output_type": "stream",
     "text": [
      "python-3.7.1rc2-docs-text/whatsnew/2.7.txt(916): * The \"split()\", \"replace()\", \"rindex()\", \"rpartition()\", and\n",
      "python-3.7.1rc2-docs-text/whatsnew/2.5.txt(977):   \"rpartition(sep)\" methods that simplify a common use case.\n",
      "python-3.7.1rc2-docs-text/whatsnew/2.5.txt(986):   \"rpartition(sep)\" also returns a 3-tuple but starts searching from\n",
      "python-3.7.1rc2-docs-text/whatsnew/2.5.txt(997):      >>> \\'www.python.org\\'.rpartition(\\'.\\')\n",
      "python-3.7.1rc2-docs-text/whatsnew/2.5.txt(999):      >>> \\'www.python.org\\'.rpartition(\\':\\')\n",
      "python-3.7.1rc2-docs-text/whatsnew/3.2.txt(2381):      extension = name.rpartition(\\'.\\')[2]\n",
      "python-3.7.1rc2-docs-text/whatsnew/3.2.txt(2421):   also used by \"rfind()\", \"rindex()\", \"rsplit()\" and \"rpartition()\".\n",
      "python-3.7.1rc2-docs-text/whatsnew/changelog.txt(2546): * bpo-20047: Bytearray methods partition() and rpartition() now\n",
      "python-3.7.1rc2-docs-text/whatsnew/changelog.txt(6464): * bpo-20047: Bytearray methods partition() and rpartition() now\n",
      "python-3.7.1rc2-docs-text/library/importlib.txt(1674):            parent_name, _, child_name = absolute_name.rpartition(\\'.\\')\n",
      "python-3.7.1rc2-docs-text/library/stdtypes.txt(1550): str.rpartition(sep)\n",
      "python-3.7.1rc2-docs-text/library/stdtypes.txt(2336): bytes.rpartition(sep)\n",
      "python-3.7.1rc2-docs-text/library/stdtypes.txt(2337): bytearray.rpartition(sep)\n"
     ]
    }
   ],
   "source": [
    "h.grep('rpartition')"
   ]
  },
  {
   "cell_type": "code",
   "execution_count": 26,
   "metadata": {},
   "outputs": [
    {
     "name": "stdout",
     "output_type": "stream",
     "text": [
      "13\n",
      "44\n",
      "65\n",
      "1303\n",
      "128\n",
      "9\n"
     ]
    }
   ],
   "source": [
    "for w in ['rpartition', 'linux','universal', \n",
    "          'mode', 'zipfile', 'zipfiles']:\n",
    "    h.counts(w)"
   ]
  },
  {
   "cell_type": "markdown",
   "metadata": {
    "collapsed": true
   },
   "source": [
    "# define python script based on help class\n",
    "- use argparse module we saw in the scripts notebook to parse command line args\n",
    "    - '-c' should run counts method\n",
    "    - '-h' shows help\n",
    "    - '-g' should run grep method\n",
    "    - '-f' should run file method\n",
    "- sample useage below\n",
    "- build the zippath into the script"
   ]
  },
  {
   "cell_type": "code",
   "execution_count": null,
   "metadata": {
    "collapsed": true
   },
   "outputs": [],
   "source": [
    "# -*- coding: utf-8 -*-\n",
    "\"\"\"\n",
    "Created on Mon Oct 22 03:02:27 2018\n",
    "\n",
    "@author: Jin Woo Won\n",
    "\"\"\"\n",
    "\n",
    "#!/usr/bin/env python\n",
    "\n",
    "# run as python script\n",
    "\n",
    "import argparse\n",
    "import zipfile\n",
    "\n",
    "class help:\n",
    "    def __init__(self, zippath):\n",
    "        self.zpath = zippath\n",
    "        \n",
    "        with zipfile.ZipFile(zippath) as zipf:\n",
    "            self.zipf_names = zipf.namelist()\n",
    "            self.zipf_data = dict()\n",
    "            for file_name in self.zipf_names:\n",
    "                with zipf.open(file_name) as file:\n",
    "                    self.zipf_data[file_name] = list(str(zipf.read(file_name)).split('\\\\n')) # \\\\n because of *WINDOWS* \n",
    "                    \n",
    "    def counts(self, substring):\n",
    "        count = 0\n",
    "        for name in self.zipf_names:\n",
    "            for string in self.zipf_data[name]:\n",
    "                if substring in string:\n",
    "                    count += 1\n",
    "        print(count)\n",
    "        \n",
    "    def files(self, substring):\n",
    "        for name in self.zipf_names:\n",
    "            count = 0\n",
    "            for string in self.zipf_data[name]:\n",
    "                if substring in string:\n",
    "                    count += 1\n",
    "            if count != 0:\n",
    "                print(\"{} : {}\".format(name, count))\n",
    "    \n",
    "    def grep(self, substring):\n",
    "        for name in self.zipf_names:\n",
    "            for i, string in enumerate(self.zipf_data[name]):\n",
    "                if substring in string:\n",
    "                    print(\"{}({}): {}\".format(name, i, string))\n",
    "                    \n",
    "\n",
    "parser = argparse.ArgumentParser()\n",
    "\n",
    "parser.add_argument(\"-c\", \"--counts\", help=\"hits\", type=str)\n",
    "\n",
    "parser.add_argument(\"-g\", \"--grep\", help=\"grep\", type=str)\n",
    "\n",
    "parser.add_argument(\"-f\", \"--files\", help=\"files\", type=str)\n",
    "\n",
    "\n",
    "args = parser.parse_args()\n",
    "\n",
    "zpath = r'C:\\Users\\justi\\Downloads\\python-3.7.1rc2-docs-text.zip'\n",
    "h = help(zpath)\n",
    "\n",
    "\n",
    "if args.counts:\n",
    "    h.counts(args.counts)\n",
    "    \n",
    "if args.grep:\n",
    "    h.grep(args.grep)\n",
    "    \n",
    "if args.files:\n",
    "    h.files(args.files)\n",
    "\n",
    "\n",
    "\n"
   ]
  },
  {
   "cell_type": "code",
   "execution_count": null,
   "metadata": {
    "collapsed": true
   },
   "outputs": [],
   "source": [
    "'''\n",
    "zip.py -h\n",
    "usage: zip.py [-h] [-c COUNTS] [-g GREP] [-f FILES]\n",
    "\n",
    "optional arguments:\n",
    "  -h, --help            show this help message and exit\n",
    "  -c COUNTS, --counts COUNTS\n",
    "                        hits\n",
    "  -g GREP, --grep GREP  grep\n",
    "  -f FILES, --files FILES\n",
    "                        files\n",
    "\n",
    "zip.py -c rpartition\n",
    "13\n",
    "\n",
    "week6@larrys-MBP26$ zip.py -f rpartition\n",
    "python-3.7.1rc2-docs-text/whatsnew/2.7.txt\n",
    "python-3.7.1rc2-docs-text/whatsnew/2.5.txt\n",
    "python-3.7.1rc2-docs-text/whatsnew/3.2.txt\n",
    "python-3.7.1rc2-docs-text/whatsnew/changelog.txt\n",
    "python-3.7.1rc2-docs-text/library/importlib.txt\n",
    "python-3.7.1rc2-docs-text/library/stdtypes.txt\n",
    "\n",
    "week6@larrys-MBP26$ zip.py -g rpartition\n",
    "python-3.7.1rc2-docs-text/whatsnew/2.7.txt:916: * The \"split()\", \"replace()\", \"rindex()\", \"rpartition()\", and\n",
    "python-3.7.1rc2-docs-text/whatsnew/2.5.txt:975: \"rpartition(sep)\" methods that simplify a common use case.\n",
    "python-3.7.1rc2-docs-text/whatsnew/2.5.txt:984: \"rpartition(sep)\" also returns a 3-tuple but starts searching from\n",
    "python-3.7.1rc2-docs-text/whatsnew/2.5.txt:995: >>> 'www.python.org'.rpartition('.')\n",
    "python-3.7.1rc2-docs-text/whatsnew/2.5.txt:997: >>> 'www.python.org'.rpartition(':')\n",
    "python-3.7.1rc2-docs-text/whatsnew/3.2.txt:2379: extension = name.rpartition('.')[2]\n",
    "python-3.7.1rc2-docs-text/whatsnew/3.2.txt:2419: also used by \"rfind()\", \"rindex()\", \"rsplit()\" and \"rpartition()\".\n",
    "python-3.7.1rc2-docs-text/whatsnew/changelog.txt:2488: * bpo-20047: Bytearray methods partition() and rpartition() now\n",
    "python-3.7.1rc2-docs-text/whatsnew/changelog.txt:6405: * bpo-20047: Bytearray methods partition() and rpartition() now\n",
    "python-3.7.1rc2-docs-text/library/importlib.txt:1673: parent_name, _, child_name = absolute_name.rpartition('.')\n",
    "python-3.7.1rc2-docs-text/library/stdtypes.txt:1549: str.rpartition(sep)\n",
    "python-3.7.1rc2-docs-text/library/stdtypes.txt:2319: bytes.rpartition(sep)\n",
    "python-3.7.1rc2-docs-text/library/stdtypes.txt:2320: bytearray.rpartition(sep)\n",
    "week6@larrys-MBP26$ \n",
    "'''\n",
    "None"
   ]
  },
  {
   "cell_type": "markdown",
   "metadata": {},
   "source": [
    "# Problems 3 & 4 \n",
    "- want to 'find the two four digit prime triples'\n",
    "- first we will write several simple helper functions"
   ]
  },
  {
   "cell_type": "markdown",
   "metadata": {},
   "source": [
    "# define isPrime() predicate\n",
    "- no need to be clever or efficient\n",
    "- first check some special cases, then try each odd integer as a factor \n",
    "- use '%' to check divsors \n",
    "    - 0 == n % 2 will be true if n is even"
   ]
  },
  {
   "cell_type": "code",
   "execution_count": 44,
   "metadata": {},
   "outputs": [],
   "source": [
    "def isPrime(n):\n",
    "    if n == 0 or n == 1:\n",
    "        return False\n",
    "    if n == 2 or n == 3:\n",
    "        return True\n",
    "    divisor = n - 1\n",
    "    while divisor > 1:\n",
    "        if n % divisor == 0:\n",
    "            return False\n",
    "        else:\n",
    "            divisor -= 1\n",
    "    return True"
   ]
  },
  {
   "cell_type": "code",
   "execution_count": 45,
   "metadata": {},
   "outputs": [
    {
     "data": {
      "text/plain": [
       "[[1, False],\n",
       " [2, True],\n",
       " [3, True],\n",
       " [8, False],\n",
       " [23, True],\n",
       " [25, False],\n",
       " [31, True],\n",
       " [33, False],\n",
       " [71, True]]"
      ]
     },
     "execution_count": 45,
     "metadata": {},
     "output_type": "execute_result"
    }
   ],
   "source": [
    "[[n,isPrime(n)] for n in [1,2,3,8,23,25,31,33,71]]"
   ]
  },
  {
   "cell_type": "markdown",
   "metadata": {},
   "source": [
    "# define primes4()\n",
    "- find all the 4 digit primes\n",
    "- use isPrime() on odd 4 digit numbers"
   ]
  },
  {
   "cell_type": "code",
   "execution_count": 51,
   "metadata": {},
   "outputs": [],
   "source": [
    "def primes4():\n",
    "    result = []\n",
    "    for i in range(1001, 10000, 2):\n",
    "        if isPrime(i):\n",
    "            result.append(i)\n",
    "    return result\n",
    "    "
   ]
  },
  {
   "cell_type": "code",
   "execution_count": 52,
   "metadata": {},
   "outputs": [
    {
     "data": {
      "text/plain": [
       "[1061,\n",
       " [1009, 1013, 1019, 1021, 1031, 1033, 1039, 1049, 1051, 1061],\n",
       " [9887, 9901, 9907, 9923, 9929, 9931, 9941, 9949, 9967, 9973]]"
      ]
     },
     "execution_count": 52,
     "metadata": {},
     "output_type": "execute_result"
    }
   ],
   "source": [
    "p4 = primes4()\n",
    "[len(p4),p4[:10], p4[-10:]]"
   ]
  },
  {
   "cell_type": "markdown",
   "metadata": {},
   "source": [
    "# define differences()\n",
    "- computes the difference between adjacent list elements\n",
    "- result list is one shorter than input list"
   ]
  },
  {
   "cell_type": "code",
   "execution_count": 71,
   "metadata": {
    "collapsed": true
   },
   "outputs": [],
   "source": [
    "def differences(input_list):\n",
    "    result = []\n",
    "    i = 1\n",
    "    while i < len(input_list):\n",
    "        result.append(input_list[i] - input_list[i-1])\n",
    "        i += 1\n",
    "    return result"
   ]
  },
  {
   "cell_type": "code",
   "execution_count": 72,
   "metadata": {},
   "outputs": [
    {
     "data": {
      "text/plain": [
       "[2, 1, 18, 11]"
      ]
     },
     "execution_count": 72,
     "metadata": {},
     "output_type": "execute_result"
    }
   ],
   "source": [
    "differences([1,3,4,22,33])"
   ]
  },
  {
   "cell_type": "code",
   "execution_count": 73,
   "metadata": {},
   "outputs": [
    {
     "data": {
      "text/plain": [
       "[-1, 5, 2]"
      ]
     },
     "execution_count": 73,
     "metadata": {},
     "output_type": "execute_result"
    }
   ],
   "source": [
    "differences([-1,-2, 3, 5])"
   ]
  },
  {
   "cell_type": "markdown",
   "metadata": {},
   "source": [
    "# define same()\n",
    "- true if all list elements are the same"
   ]
  },
  {
   "cell_type": "code",
   "execution_count": 74,
   "metadata": {
    "collapsed": true
   },
   "outputs": [],
   "source": [
    "def same(input_list):\n",
    "    difference = differences(input_list)\n",
    "    for element in difference:\n",
    "        if element != 0:\n",
    "            return False\n",
    "    return True"
   ]
  },
  {
   "cell_type": "code",
   "execution_count": 75,
   "metadata": {},
   "outputs": [
    {
     "data": {
      "text/plain": [
       "[True, True, False]"
      ]
     },
     "execution_count": 75,
     "metadata": {},
     "output_type": "execute_result"
    }
   ],
   "source": [
    "[same([]), same([3,3,3,3,3]), same([3,3,3,3,3,8,3])]"
   ]
  },
  {
   "cell_type": "markdown",
   "metadata": {},
   "source": [
    "# define arithmetic()\n",
    "- true if input is an arithmetic sequence, false otherwise\n",
    "- in an arithmetic sequence, the difference between consecutive elements is a constant\n",
    "- use differences and same"
   ]
  },
  {
   "cell_type": "code",
   "execution_count": 77,
   "metadata": {},
   "outputs": [],
   "source": [
    "def arithmetic(input_list):\n",
    "    return same(differences(input_list))\n",
    "        "
   ]
  },
  {
   "cell_type": "code",
   "execution_count": 78,
   "metadata": {},
   "outputs": [
    {
     "data": {
      "text/plain": [
       "[True, False]"
      ]
     },
     "execution_count": 78,
     "metadata": {},
     "output_type": "execute_result"
    }
   ],
   "source": [
    "[arithmetic([0,2,4]), arithmetic([3,7,9])]"
   ]
  },
  {
   "cell_type": "markdown",
   "metadata": {},
   "source": [
    "# define keygen()\n",
    "- invent a scheme for generating a key that is the same for any permutation of digits\n",
    "    - example: 1013, 1031, 1103, 1301, 3011 should all map into the same key"
   ]
  },
  {
   "cell_type": "code",
   "execution_count": 110,
   "metadata": {},
   "outputs": [],
   "source": [
    "def keygen(p):\n",
    "    string = str(p)\n",
    "    string = list(string)\n",
    "    string = [int(i) for i in string]\n",
    "    string.sort()\n",
    "    new_string = ''\n",
    "    for c in string:\n",
    "        new_string += str(c)\n",
    "    return int(new_string)"
   ]
  },
  {
   "cell_type": "code",
   "execution_count": 111,
   "metadata": {},
   "outputs": [
    {
     "data": {
      "text/plain": [
       "True"
      ]
     },
     "execution_count": 111,
     "metadata": {},
     "output_type": "execute_result"
    }
   ],
   "source": [
    "same([keygen(p) for p in [1013,1031,1103,1301,3011]])"
   ]
  },
  {
   "cell_type": "markdown",
   "metadata": {},
   "source": [
    "# the triples\n",
    "- look at the set of 4 digit primes\n",
    "- it turns out there are two triples of primes such that:\n",
    "    - the digits of the primes are permutations of each other\n",
    "    - the primes in increasing order are an arithmetic sequence\n",
    "- one of the triples is [2969, 6299, 9629]"
   ]
  },
  {
   "cell_type": "code",
   "execution_count": 112,
   "metadata": {},
   "outputs": [
    {
     "data": {
      "text/plain": [
       "[[3330, 3330], True, [True, True, True]]"
      ]
     },
     "execution_count": 112,
     "metadata": {},
     "output_type": "execute_result"
    }
   ],
   "source": [
    "triple=[2969, 6299, 9629]\n",
    "[differences(triple),arithmetic(triple), [isPrime(p) for p in triple]]"
   ]
  },
  {
   "cell_type": "markdown",
   "metadata": {},
   "source": [
    "# define findTriples()\n",
    "- should find the triples\n",
    "- build a dictionary \n",
    "    - a key's value should be a list of all the 4 digit primes, sorted low to high, that are permutations of a given digit set\n",
    "- then should be straightforward to find the triples - just check\n",
    "the possible 3 long combinations of the value list\n",
    "- itertools.combinations is your friend - note it preserves sequence order\n",
    "- return a list of the triples"
   ]
  },
  {
   "cell_type": "code",
   "execution_count": 137,
   "metadata": {
    "collapsed": true
   },
   "outputs": [],
   "source": [
    "import itertools\n",
    "\n",
    "def findTriples():\n",
    "    triples = []\n",
    "    keys = set([keygen(p) for p in primes4()])\n",
    "    prime_dict = dict()\n",
    "    \n",
    "    for key in keys:\n",
    "        prime_dict[key] = [p for p in primes4() if keygen(p) == key]\n",
    "        prime_dict[key].sort()\n",
    "        if len(prime_dict[key]) >= 3:\n",
    "            threes = itertools.combinations(prime_dict[key], 3)\n",
    "            while True:\n",
    "                try:\n",
    "                    candidate = next(threes)\n",
    "                    if arithmetic(list(candidate)):\n",
    "                        triples.append(candidate)\n",
    "                except Exception:\n",
    "                    break\n",
    "    return triples"
   ]
  },
  {
   "cell_type": "code",
   "execution_count": 157,
   "metadata": {},
   "outputs": [
    {
     "data": {
      "text/plain": [
       "(1487, 4817, 8147)"
      ]
     },
     "execution_count": 157,
     "metadata": {},
     "output_type": "execute_result"
    }
   ],
   "source": [
    "findTriples()[1]"
   ]
  },
  {
   "cell_type": "code",
   "execution_count": 158,
   "metadata": {},
   "outputs": [
    {
     "data": {
      "text/plain": [
       "[[3330, 3330], [3330, 3330]]"
      ]
     },
     "execution_count": 158,
     "metadata": {},
     "output_type": "execute_result"
    }
   ],
   "source": [
    "# oddly, they both have a difference of 3330!\n",
    "\n",
    "t1, t2 = findTriples()\n",
    "[differences(t1), differences(t2)]"
   ]
  },
  {
   "cell_type": "markdown",
   "metadata": {},
   "source": [
    "# Problem 5\n",
    "- define a function decorator '@secure'\n",
    "- @secure adds two required arguments before any others, a 'user' and a 'password'\n",
    "- if the user is not registered, raise an Exception\n",
    "- if the user is registered, but the password is wrong, raise an Exception\n",
    "- if user/pw ok, then call the function defined below @secure\n",
    "with its usual arguments"
   ]
  },
  {
   "cell_type": "code",
   "execution_count": 139,
   "metadata": {
    "collapsed": true
   },
   "outputs": [],
   "source": [
    "# the user/password 'database' that @secure will refer to\n",
    "\n",
    "up = {}\n",
    "up['jack'] = 'jackpw'\n",
    "up['jill'] = 'jillpw'\n"
   ]
  },
  {
   "cell_type": "code",
   "execution_count": 148,
   "metadata": {},
   "outputs": [],
   "source": [
    "class secure:\n",
    "    def __init__(self, func):\n",
    "        self.func = func\n",
    "        \n",
    "    def __call__(self, user, pw, *pos, **kw):\n",
    "        if not user in up:\n",
    "            raise Exception('User {} not registered'.format(user))\n",
    "        if pw!= up[user]:\n",
    "            raise Exception('Bad password')\n",
    "        val = self.func(*pos, **kw)"
   ]
  },
  {
   "cell_type": "code",
   "execution_count": 149,
   "metadata": {
    "collapsed": true
   },
   "outputs": [],
   "source": [
    "@secure\n",
    "def foo(a,b):\n",
    "    return (a+b)\n",
    "\n",
    "@secure\n",
    "def bar(a, b=34):\n",
    "    return(a+b)"
   ]
  },
  {
   "cell_type": "code",
   "execution_count": 150,
   "metadata": {},
   "outputs": [
    {
     "ename": "Exception",
     "evalue": "User 1 not registered",
     "output_type": "error",
     "traceback": [
      "\u001b[1;31m---------------------------------------------------------------------------\u001b[0m",
      "\u001b[1;31mException\u001b[0m                                 Traceback (most recent call last)",
      "\u001b[1;32m<ipython-input-150-3d2c7794389a>\u001b[0m in \u001b[0;36m<module>\u001b[1;34m()\u001b[0m\n\u001b[0;32m      2\u001b[0m \u001b[1;31m# user =1, pw=2\u001b[0m\u001b[1;33m\u001b[0m\u001b[1;33m\u001b[0m\u001b[0m\n\u001b[0;32m      3\u001b[0m \u001b[1;33m\u001b[0m\u001b[0m\n\u001b[1;32m----> 4\u001b[1;33m \u001b[0mfoo\u001b[0m\u001b[1;33m(\u001b[0m\u001b[1;36m1\u001b[0m\u001b[1;33m,\u001b[0m\u001b[1;36m2\u001b[0m\u001b[1;33m)\u001b[0m\u001b[1;33m\u001b[0m\u001b[0m\n\u001b[0m",
      "\u001b[1;32m<ipython-input-148-f9e8ff9e66e6>\u001b[0m in \u001b[0;36m__call__\u001b[1;34m(self, user, pw, *pos, **kw)\u001b[0m\n\u001b[0;32m      5\u001b[0m     \u001b[1;32mdef\u001b[0m \u001b[0m__call__\u001b[0m\u001b[1;33m(\u001b[0m\u001b[0mself\u001b[0m\u001b[1;33m,\u001b[0m \u001b[0muser\u001b[0m\u001b[1;33m,\u001b[0m \u001b[0mpw\u001b[0m\u001b[1;33m,\u001b[0m \u001b[1;33m*\u001b[0m\u001b[0mpos\u001b[0m\u001b[1;33m,\u001b[0m \u001b[1;33m**\u001b[0m\u001b[0mkw\u001b[0m\u001b[1;33m)\u001b[0m\u001b[1;33m:\u001b[0m\u001b[1;33m\u001b[0m\u001b[0m\n\u001b[0;32m      6\u001b[0m         \u001b[1;32mif\u001b[0m \u001b[1;32mnot\u001b[0m \u001b[0muser\u001b[0m \u001b[1;32min\u001b[0m \u001b[0mup\u001b[0m\u001b[1;33m:\u001b[0m\u001b[1;33m\u001b[0m\u001b[0m\n\u001b[1;32m----> 7\u001b[1;33m             \u001b[1;32mraise\u001b[0m \u001b[0mException\u001b[0m\u001b[1;33m(\u001b[0m\u001b[1;34m'User {} not registered'\u001b[0m\u001b[1;33m.\u001b[0m\u001b[0mformat\u001b[0m\u001b[1;33m(\u001b[0m\u001b[0muser\u001b[0m\u001b[1;33m)\u001b[0m\u001b[1;33m)\u001b[0m\u001b[1;33m\u001b[0m\u001b[0m\n\u001b[0m\u001b[0;32m      8\u001b[0m         \u001b[1;32mif\u001b[0m \u001b[0mpw\u001b[0m\u001b[1;33m!=\u001b[0m \u001b[0mup\u001b[0m\u001b[1;33m[\u001b[0m\u001b[0muser\u001b[0m\u001b[1;33m]\u001b[0m\u001b[1;33m:\u001b[0m\u001b[1;33m\u001b[0m\u001b[0m\n\u001b[0;32m      9\u001b[0m             \u001b[1;32mraise\u001b[0m \u001b[0mException\u001b[0m\u001b[1;33m(\u001b[0m\u001b[1;34m'Bad password'\u001b[0m\u001b[1;33m)\u001b[0m\u001b[1;33m\u001b[0m\u001b[0m\n",
      "\u001b[1;31mException\u001b[0m: User 1 not registered"
     ]
    }
   ],
   "source": [
    "# wrong number of args\n",
    "# user =1, pw=2\n",
    "\n",
    "foo(1,2)"
   ]
  },
  {
   "cell_type": "code",
   "execution_count": 151,
   "metadata": {},
   "outputs": [
    {
     "data": {
      "text/plain": [
       "3"
      ]
     },
     "execution_count": 151,
     "metadata": {},
     "output_type": "execute_result"
    }
   ],
   "source": [
    "# good call - user/pw, then regular args\n",
    "\n",
    "foo('jack', 'jackpw', 1, 2)"
   ]
  },
  {
   "cell_type": "code",
   "execution_count": 152,
   "metadata": {},
   "outputs": [
    {
     "ename": "Exception",
     "evalue": "User frank not registered",
     "output_type": "error",
     "traceback": [
      "\u001b[1;31m---------------------------------------------------------------------------\u001b[0m",
      "\u001b[1;31mException\u001b[0m                                 Traceback (most recent call last)",
      "\u001b[1;32m<ipython-input-152-b35ba770f676>\u001b[0m in \u001b[0;36m<module>\u001b[1;34m()\u001b[0m\n\u001b[0;32m      1\u001b[0m \u001b[1;31m# bad user\u001b[0m\u001b[1;33m\u001b[0m\u001b[1;33m\u001b[0m\u001b[0m\n\u001b[0;32m      2\u001b[0m \u001b[1;33m\u001b[0m\u001b[0m\n\u001b[1;32m----> 3\u001b[1;33m \u001b[0mfoo\u001b[0m\u001b[1;33m(\u001b[0m\u001b[1;34m'frank'\u001b[0m\u001b[1;33m,\u001b[0m \u001b[1;34m'bad'\u001b[0m\u001b[1;33m,\u001b[0m \u001b[1;36m1\u001b[0m \u001b[1;33m,\u001b[0m\u001b[1;36m2\u001b[0m\u001b[1;33m)\u001b[0m\u001b[1;33m\u001b[0m\u001b[0m\n\u001b[0m",
      "\u001b[1;32m<ipython-input-148-f9e8ff9e66e6>\u001b[0m in \u001b[0;36m__call__\u001b[1;34m(self, user, pw, *pos, **kw)\u001b[0m\n\u001b[0;32m      5\u001b[0m     \u001b[1;32mdef\u001b[0m \u001b[0m__call__\u001b[0m\u001b[1;33m(\u001b[0m\u001b[0mself\u001b[0m\u001b[1;33m,\u001b[0m \u001b[0muser\u001b[0m\u001b[1;33m,\u001b[0m \u001b[0mpw\u001b[0m\u001b[1;33m,\u001b[0m \u001b[1;33m*\u001b[0m\u001b[0mpos\u001b[0m\u001b[1;33m,\u001b[0m \u001b[1;33m**\u001b[0m\u001b[0mkw\u001b[0m\u001b[1;33m)\u001b[0m\u001b[1;33m:\u001b[0m\u001b[1;33m\u001b[0m\u001b[0m\n\u001b[0;32m      6\u001b[0m         \u001b[1;32mif\u001b[0m \u001b[1;32mnot\u001b[0m \u001b[0muser\u001b[0m \u001b[1;32min\u001b[0m \u001b[0mup\u001b[0m\u001b[1;33m:\u001b[0m\u001b[1;33m\u001b[0m\u001b[0m\n\u001b[1;32m----> 7\u001b[1;33m             \u001b[1;32mraise\u001b[0m \u001b[0mException\u001b[0m\u001b[1;33m(\u001b[0m\u001b[1;34m'User {} not registered'\u001b[0m\u001b[1;33m.\u001b[0m\u001b[0mformat\u001b[0m\u001b[1;33m(\u001b[0m\u001b[0muser\u001b[0m\u001b[1;33m)\u001b[0m\u001b[1;33m)\u001b[0m\u001b[1;33m\u001b[0m\u001b[0m\n\u001b[0m\u001b[0;32m      8\u001b[0m         \u001b[1;32mif\u001b[0m \u001b[0mpw\u001b[0m\u001b[1;33m!=\u001b[0m \u001b[0mup\u001b[0m\u001b[1;33m[\u001b[0m\u001b[0muser\u001b[0m\u001b[1;33m]\u001b[0m\u001b[1;33m:\u001b[0m\u001b[1;33m\u001b[0m\u001b[0m\n\u001b[0;32m      9\u001b[0m             \u001b[1;32mraise\u001b[0m \u001b[0mException\u001b[0m\u001b[1;33m(\u001b[0m\u001b[1;34m'Bad password'\u001b[0m\u001b[1;33m)\u001b[0m\u001b[1;33m\u001b[0m\u001b[0m\n",
      "\u001b[1;31mException\u001b[0m: User frank not registered"
     ]
    }
   ],
   "source": [
    "# bad user\n",
    "\n",
    "foo('frank', 'bad', 1 ,2)"
   ]
  },
  {
   "cell_type": "code",
   "execution_count": 153,
   "metadata": {},
   "outputs": [
    {
     "ename": "Exception",
     "evalue": "Bad password",
     "output_type": "error",
     "traceback": [
      "\u001b[1;31m---------------------------------------------------------------------------\u001b[0m",
      "\u001b[1;31mException\u001b[0m                                 Traceback (most recent call last)",
      "\u001b[1;32m<ipython-input-153-ebb563ec7723>\u001b[0m in \u001b[0;36m<module>\u001b[1;34m()\u001b[0m\n\u001b[0;32m      1\u001b[0m \u001b[1;31m# good user, bad passwd\u001b[0m\u001b[1;33m\u001b[0m\u001b[1;33m\u001b[0m\u001b[0m\n\u001b[0;32m      2\u001b[0m \u001b[1;33m\u001b[0m\u001b[0m\n\u001b[1;32m----> 3\u001b[1;33m \u001b[0mfoo\u001b[0m\u001b[1;33m(\u001b[0m\u001b[1;34m'jill'\u001b[0m\u001b[1;33m,\u001b[0m \u001b[1;34m'nope'\u001b[0m\u001b[1;33m,\u001b[0m \u001b[1;36m3\u001b[0m\u001b[1;33m,\u001b[0m \u001b[1;36m4\u001b[0m\u001b[1;33m)\u001b[0m\u001b[1;33m\u001b[0m\u001b[0m\n\u001b[0m",
      "\u001b[1;32m<ipython-input-148-f9e8ff9e66e6>\u001b[0m in \u001b[0;36m__call__\u001b[1;34m(self, user, pw, *pos, **kw)\u001b[0m\n\u001b[0;32m      7\u001b[0m             \u001b[1;32mraise\u001b[0m \u001b[0mException\u001b[0m\u001b[1;33m(\u001b[0m\u001b[1;34m'User {} not registered'\u001b[0m\u001b[1;33m.\u001b[0m\u001b[0mformat\u001b[0m\u001b[1;33m(\u001b[0m\u001b[0muser\u001b[0m\u001b[1;33m)\u001b[0m\u001b[1;33m)\u001b[0m\u001b[1;33m\u001b[0m\u001b[0m\n\u001b[0;32m      8\u001b[0m         \u001b[1;32mif\u001b[0m \u001b[0mpw\u001b[0m\u001b[1;33m!=\u001b[0m \u001b[0mup\u001b[0m\u001b[1;33m[\u001b[0m\u001b[0muser\u001b[0m\u001b[1;33m]\u001b[0m\u001b[1;33m:\u001b[0m\u001b[1;33m\u001b[0m\u001b[0m\n\u001b[1;32m----> 9\u001b[1;33m             \u001b[1;32mraise\u001b[0m \u001b[0mException\u001b[0m\u001b[1;33m(\u001b[0m\u001b[1;34m'Bad password'\u001b[0m\u001b[1;33m)\u001b[0m\u001b[1;33m\u001b[0m\u001b[0m\n\u001b[0m\u001b[0;32m     10\u001b[0m         \u001b[0mval\u001b[0m \u001b[1;33m=\u001b[0m \u001b[0mself\u001b[0m\u001b[1;33m.\u001b[0m\u001b[0mfunc\u001b[0m\u001b[1;33m(\u001b[0m\u001b[1;33m*\u001b[0m\u001b[0mpos\u001b[0m\u001b[1;33m,\u001b[0m \u001b[1;33m**\u001b[0m\u001b[0mkw\u001b[0m\u001b[1;33m)\u001b[0m\u001b[1;33m\u001b[0m\u001b[0m\n\u001b[0;32m     11\u001b[0m         \u001b[1;32mreturn\u001b[0m \u001b[0mval\u001b[0m\u001b[1;33m\u001b[0m\u001b[0m\n",
      "\u001b[1;31mException\u001b[0m: Bad password"
     ]
    }
   ],
   "source": [
    "# good user, bad passwd\n",
    "\n",
    "foo('jill', 'nope', 3, 4)"
   ]
  },
  {
   "cell_type": "code",
   "execution_count": 154,
   "metadata": {},
   "outputs": [
    {
     "data": {
      "text/plain": [
       "39"
      ]
     },
     "execution_count": 154,
     "metadata": {},
     "output_type": "execute_result"
    }
   ],
   "source": [
    "# works with keywords - b defaults to 34\n",
    "\n",
    "bar('jill', 'jillpw', 5)\n"
   ]
  }
 ],
 "metadata": {
  "anaconda-cloud": {},
  "kernelspec": {
   "display_name": "Python 3",
   "language": "python",
   "name": "python3"
  },
  "language_info": {
   "codemirror_mode": {
    "name": "ipython",
    "version": 3
   },
   "file_extension": ".py",
   "mimetype": "text/x-python",
   "name": "python",
   "nbconvert_exporter": "python",
   "pygments_lexer": "ipython3",
   "version": "3.6.3"
  },
  "name": "_merged_merged"
 },
 "nbformat": 4,
 "nbformat_minor": 1
}
