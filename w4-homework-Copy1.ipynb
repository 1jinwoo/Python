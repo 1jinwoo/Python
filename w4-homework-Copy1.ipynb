{
 "cells": [
  {
   "cell_type": "markdown",
   "metadata": {},
   "source": [
    "# Introduction to Python \n",
    "# Homework #4\n",
    "- Due Sat Oct 6, 5pm\n",
    "- This homework will be graded\n",
    "- You MUST submit on CourseWorks2 before it closes\n",
    "    - Verify your submission succeeded\n",
    "    - Email submissions are not accepted \n",
    "    "
   ]
  },
  {
   "cell_type": "markdown",
   "metadata": {},
   "source": [
    "# Academic Honesty\n",
    "* The computer science department has strict polices. Check\n",
    "the department [web page](http://www.cs.columbia.edu/education/honesty) for details. \n",
    "- Do not look at anybody else's source code. Do not show anybody\n",
    "your source, or leave your source where somebody could see it.\n",
    "You MUST write your own code.\n",
    "- For this class, feel free to discuss issues with other people, but suggest waiting an hour or two after a discussion, before writing your code.\n",
    "-  Cases of non original source will be refered to the Judical Committee.\n"
   ]
  },
  {
   "cell_type": "markdown",
   "metadata": {},
   "source": [
    "# Problem 1&2 - define printf function\n",
    "- first arg is the control string, rest of args are\n",
    "values to insert into the control string, then optional keyword args\n",
    "- several conversion directives:\n",
    "    - '{}' - call 'str' to get print string for the object\n",
    "    - '{b}' - convert an int into binary\n",
    "    - '{c}' - convert an int into string with ',' every 3 digits\n",
    "    - '{h}' - convert an int into hex\n",
    "    - '{o}' - convert an int into octal\n",
    "- keyword args:\n",
    "    - case='lower' - lower case the computed string\n",
    "    - case='upper' - upper case the computed string\n",
    "    - reverse=True - reverse the characters in the computed string\n",
    "- raise a TypeError if the conversion directives in the \n",
    "control string don't match the number of supplied args\n",
    "- raise a TypeError if the arg for an integer conversion is not an 'int'\n",
    "- you can only use the string format method for handling the '{c}'\n",
    "conversion\n",
    "- suggest first pulling out the conversion directives (the '{}', '{h}' etc), and expanding them (13, '0xd', etc). then you have to create the result string. two ways you might do this(examples in the tips):\n",
    "    - you can split the control string(which will drop the conversion directives), then riffle together the pieces of the control string and the expandsions together\n",
    "    - probably the easiest way is to use re.sub to just patch in the expandsions\n",
    "\n",
    "\n",
    "\n",
    "\n",
    "# Tips"
   ]
  },
  {
   "cell_type": "code",
   "execution_count": 9,
   "metadata": {
    "collapsed": true
   },
   "outputs": [],
   "source": [
    "# this regular expression pattern should be very useful,\n",
    "# when used with re.split and re.findall on the \n",
    "# printf control string\n",
    "\n",
    "# '[bcho]*' means zero or more instances of 'b', 'c', h' or 'o' will match,\n",
    "# or '{[bcho]*}' will match '{}', '{b}', '{c}' etc.\n",
    "\n",
    "import re\n",
    "\n",
    "pattern = '{[bcho]*}'\n",
    "\n",
    "control = 'need two values: 1={h}  2={} for this to work'"
   ]
  },
  {
   "cell_type": "code",
   "execution_count": 11,
   "metadata": {},
   "outputs": [
    {
     "data": {
      "text/plain": [
       "['{h}', '{}']"
      ]
     },
     "execution_count": 11,
     "metadata": {},
     "output_type": "execute_result"
    }
   ],
   "source": [
    "# re.findall could be useful\n",
    "\n",
    "re.findall(pattern, control)"
   ]
  },
  {
   "cell_type": "code",
   "execution_count": 39,
   "metadata": {},
   "outputs": [
    {
     "data": {
      "text/plain": [
       "'need two values: 1=replacement  2={} for this to work'"
      ]
     },
     "execution_count": 39,
     "metadata": {},
     "output_type": "execute_result"
    }
   ],
   "source": [
    "# re.sub could be useful\n",
    "\n",
    "re.sub(pattern, 'replacement' , control, count=1)"
   ]
  },
  {
   "cell_type": "code",
   "execution_count": 10,
   "metadata": {},
   "outputs": [
    {
     "data": {
      "text/plain": [
       "['need two values: 1=', '  2=', ' for this to work']"
      ]
     },
     "execution_count": 10,
     "metadata": {},
     "output_type": "execute_result"
    }
   ],
   "source": [
    "# re.split could be useful\n",
    "\n",
    "# this regular expression could be helpful\n",
    "\n",
    "re.split(pattern, control)"
   ]
  },
  {
   "cell_type": "code",
   "execution_count": 1,
   "metadata": {},
   "outputs": [
    {
     "data": {
      "text/plain": [
       "('ab', 'mn', 'cd', 'xy')"
      ]
     },
     "execution_count": 1,
     "metadata": {},
     "output_type": "execute_result"
    }
   ],
   "source": [
    "# this version of riffle could be useful\n",
    "\n",
    "def riffle(*things):\n",
    "    riff = ()\n",
    "    for s in zip(*things):\n",
    "        riff += s\n",
    "    return riff\n",
    "\n",
    "riffle(['ab', 'cd'], ['mn', 'xy'])\n"
   ]
  },
  {
   "cell_type": "code",
   "execution_count": 12,
   "metadata": {},
   "outputs": [
    {
     "data": {
      "text/plain": [
       "'0xd'"
      ]
     },
     "execution_count": 12,
     "metadata": {},
     "output_type": "execute_result"
    }
   ],
   "source": [
    "# returns the hexadecmial(base 16) representation of an int \n",
    "# in a string\n",
    "\n",
    "hex(13)"
   ]
  },
  {
   "cell_type": "code",
   "execution_count": 13,
   "metadata": {},
   "outputs": [
    {
     "data": {
      "text/plain": [
       "'0b1101'"
      ]
     },
     "execution_count": 13,
     "metadata": {},
     "output_type": "execute_result"
    }
   ],
   "source": [
    "# returns binary(base 2) of an int\n",
    "\n",
    "bin(13)"
   ]
  },
  {
   "cell_type": "code",
   "execution_count": 14,
   "metadata": {},
   "outputs": [
    {
     "data": {
      "text/plain": [
       "'0o15'"
      ]
     },
     "execution_count": 14,
     "metadata": {},
     "output_type": "execute_result"
    }
   ],
   "source": [
    "# returns octal(base 8) of an int\n",
    "\n",
    "oct(13)"
   ]
  },
  {
   "cell_type": "code",
   "execution_count": 15,
   "metadata": {},
   "outputs": [
    {
     "data": {
      "text/plain": [
       "'2,343,243,434'"
      ]
     },
     "execution_count": 15,
     "metadata": {},
     "output_type": "execute_result"
    }
   ],
   "source": [
    "# the only allowed use of the 'format' method in this problem\n",
    "\n",
    "'{:,}'.format(2343243434)"
   ]
  },
  {
   "cell_type": "markdown",
   "metadata": {},
   "source": [
    "# errors \n",
    "\n",
    "not enough values for the control string -\n",
    "should raise a TypeError:\n",
    "\n",
    "printf(' {} {}', 3)\n",
    "\n",
    "non integer supplied for integer conversion -\n",
    "should raise a TypeError:\n",
    "\n",
    "printf('{c}', sorted)\n"
   ]
  },
  {
   "cell_type": "code",
   "execution_count": 27,
   "metadata": {},
   "outputs": [
    {
     "data": {
      "text/plain": [
       "'need two values: 1=15  2=<built-in function sorted>'"
      ]
     },
     "execution_count": 27,
     "metadata": {},
     "output_type": "execute_result"
    }
   ],
   "source": [
    "# need two args, got two\n",
    "\n",
    "printf('need two values: 1={}  2={}', 15, sorted)"
   ]
  },
  {
   "cell_type": "code",
   "execution_count": 28,
   "metadata": {},
   "outputs": [
    {
     "data": {
      "text/plain": [
       "'0O15 HI 0B1101 THERE 0XD BIG=983,749,739,749,734EOF'"
      ]
     },
     "execution_count": 28,
     "metadata": {},
     "output_type": "execute_result"
    }
   ],
   "source": [
    "printf('{o} Hi {b} There {h} big={c}EOF', 13, 13, 13, 983749739749734, case='upper')    "
   ]
  },
  {
   "cell_type": "code",
   "execution_count": 29,
   "metadata": {},
   "outputs": [
    {
     "data": {
      "text/plain": [
       "'dx0 ereht 1011b0 ih 51o0'"
      ]
     },
     "execution_count": 29,
     "metadata": {},
     "output_type": "execute_result"
    }
   ],
   "source": [
    "printf('{o} Hi {b} There {h}', 13, 13, 13, case='lower', reverse=True)"
   ]
  },
  {
   "cell_type": "markdown",
   "metadata": {},
   "source": [
    "# Problem 3 - Hamlet\n",
    "- Python is very popular in 'Digital Humanities'\n",
    "- MIT has the complete works of Shakespeare in a simple [html](http://shakespeare.mit.edu) format\n",
    "- You will do a analysis of Hamlet by reading the html file, one line at \n",
    "a time(usual iteration scheme) and doing pattern matching\n",
    "- The goal is to return a list of the linecnt, total number of 'speeches'(look at the file format), \n",
    "and a dict(or collections.defaultdict) showing the number of 'speeches' each character gives\n",
    "\n",
    "- there are at least 3 ways to do this - your choice\n",
    "    - use string methods like 'find'\n",
    "    - use regular expressions\n",
    "    - use beautiful soup(maybe not obvious how)\n",
    "        if you do soup, you don't have return the line count\n",
    "- here's a short sample of the file\n",
    "\n",
    "```\n",
    "\n",
    "<A NAME=speech25><b>HORATIO</b></a>\n",
    "<blockquote>\n",
    "<A NAME=1.1.37>Tush, tush, 'twill not appear.</A><br>\n",
    "</blockquote>\n",
    "\n",
    "<A NAME=speech26><b>BERNARDO</b></a>\n",
    "<blockquote>\n",
    "<A NAME=1.1.38>Sit down awhile;</A><br>\n",
    "<A NAME=1.1.39>And let us once again assail your ears,</A><br>\n",
    "<A NAME=1.1.40>That are so fortified against our story</A><br>\n",
    "<A NAME=1.1.41>What we have two nights seen.</A><br>\n",
    "</blockquote>\n",
    "\n",
    "<A NAME=speech27><b>HORATIO</b></a>\n",
    "<blockquote>\n",
    "<A NAME=1.1.42>Well, sit we down,</A><br>\n",
    "<A NAME=1.1.43>And let us hear Bernardo speak of this.</A><br>\n",
    "</blockquote>\n",
    "\n",
    "<A NAME=speech28><b>BERNARDO</b></a>\n",
    "<blockquote>\n",
    "<A NAME=1.1.44>Last night of all,</A><br>\n",
    "<A NAME=1.1.45>When yond same star that's westward from the pole</A><br>\n",
    "<A NAME=1.1.46>Had made his course to illume that part of heaven</A><br>\n",
    "<A NAME=1.1.47>Where now it burns, Marcellus and myself,</A><br>\n",
    "<A NAME=1.1.48>The bell then beating one,--</A><br>\n",
    "<p><i>Enter Ghost</i></p>\n",
    "</blockquote>\n",
    "\n",
    "<A NAME=speech29><b>MARCELLUS</b></a>\n",
    "<blockquote>\n",
    "<A NAME=1.1.49>Peace, break thee off; look, where it comes again!</A><br>\n",
    "</blockquote>\n",
    "\n",
    "<A NAME=speech30><b>BERNARDO</b></a>\n",
    "<blockquote>\n",
    "<A NAME=1.1.50>In the same figure, like the king that's dead.</A><br>\n",
    "</blockquote>\n",
    "```\n",
    "\n"
   ]
  },
  {
   "cell_type": "code",
   "execution_count": 1,
   "metadata": {
    "collapsed": true
   },
   "outputs": [],
   "source": [
    "# must eval this cell\n",
    "\n",
    "import urllib.request\n",
    "import collections\n",
    "import re\n",
    "import bs4\n",
    "import lxml\n",
    "\n",
    "url = 'https://courseworks.columbia.edu/access/content/group/'\n",
    "url += 'COMSW3101_002_2015_3/data/hamlet.html'\n",
    "url\n",
    "\n",
    "# use this function to get a list of the lines in Hamlet\n",
    "# note utf-8 decode\n",
    "\n",
    "def readHamlet():\n",
    "    with urllib.request.urlopen(url) as ef:\n",
    "        return [l.decode('utf-8') for l in ef]"
   ]
  },
  {
   "cell_type": "code",
   "execution_count": 2,
   "metadata": {},
   "outputs": [
    {
     "data": {
      "text/plain": [
       "['<A NAME=speech15><b>FRANCISCO</b></a>\\n',\n",
       " '<blockquote>\\n',\n",
       " '<A NAME=1.1.18>Give you good night.</A><br>\\n',\n",
       " '</blockquote>\\n',\n",
       " '\\n',\n",
       " '<A NAME=speech16><b>MARCELLUS</b></a>\\n',\n",
       " '<blockquote>\\n',\n",
       " '<A NAME=1.1.19>O, farewell, honest soldier:</A><br>\\n',\n",
       " '<A NAME=1.1.20>Who hath relieved you?</A><br>\\n',\n",
       " '</blockquote>\\n',\n",
       " '\\n',\n",
       " '<A NAME=speech17><b>FRANCISCO</b></a>\\n',\n",
       " '<blockquote>\\n',\n",
       " '<A NAME=1.1.21>Bernardo has my place.</A><br>\\n',\n",
       " '<A NAME=1.1.22>Give you good night.</A><br>\\n',\n",
       " '<p><i>Exit</i></p>\\n',\n",
       " '</blockquote>\\n',\n",
       " '\\n',\n",
       " '<A NAME=speech18><b>MARCELLUS</b></a>\\n',\n",
       " '<blockquote>\\n']"
      ]
     },
     "execution_count": 2,
     "metadata": {},
     "output_type": "execute_result"
    }
   ],
   "source": [
    "readHamlet()[100:120]"
   ]
  },
  {
   "cell_type": "code",
   "execution_count": 4,
   "metadata": {},
   "outputs": [
    {
     "data": {
      "text/plain": [
       "[8881,\n",
       " 1150,\n",
       " defaultdict(int,\n",
       "             {'BERNARDO': 23,\n",
       "              'FRANCISCO': 8,\n",
       "              'HORATIO': 112,\n",
       "              'MARCELLUS': 36,\n",
       "              'KING CLAUDIUS': 102,\n",
       "              'CORNELIUS': 1,\n",
       "              'VOLTIMAND': 2,\n",
       "              'LAERTES': 62,\n",
       "              'LORD POLONIUS': 86,\n",
       "              'HAMLET': 359,\n",
       "              'QUEEN GERTRUDE': 69,\n",
       "              'All': 4,\n",
       "              'OPHELIA': 58,\n",
       "              'Ghost': 14,\n",
       "              'REYNALDO': 13,\n",
       "              'ROSENCRANTZ': 49,\n",
       "              'GUILDENSTERN': 33,\n",
       "              'First Player': 8,\n",
       "              'Prologue': 1,\n",
       "              'Player King': 4,\n",
       "              'Player Queen': 5,\n",
       "              'LUCIANUS': 1,\n",
       "              'PRINCE FORTINBRAS': 6,\n",
       "              'Captain': 7,\n",
       "              'Gentleman': 3,\n",
       "              'Danes': 3,\n",
       "              'Servant': 1,\n",
       "              'First Sailor': 2,\n",
       "              'Messenger': 2,\n",
       "              'First Clown': 33,\n",
       "              'Second Clown': 12,\n",
       "              'First Priest': 2,\n",
       "              'OSRIC': 25,\n",
       "              'Lord': 3,\n",
       "              'First Ambassador': 1})]"
      ]
     },
     "execution_count": 4,
     "metadata": {},
     "output_type": "execute_result"
    }
   ],
   "source": [
    "rtn = hamlet()\n",
    "rtn"
   ]
  },
  {
   "cell_type": "markdown",
   "metadata": {},
   "source": [
    "# Problems 4&5\n",
    "# To file, or not to file\n",
    "- use 'tp' value as file name for I/O\n",
    "- all file I/O must be done using 'with' statement\n",
    "- use variable 'fd' for the file descriptor object\n",
    "- 'tobe' is 1489 characters\n",
    "- all the read/write functions below should return 1489\n",
    "\n"
   ]
  },
  {
   "cell_type": "code",
   "execution_count": 16,
   "metadata": {
    "collapsed": true
   },
   "outputs": [],
   "source": [
    "import os"
   ]
  },
  {
   "cell_type": "code",
   "execution_count": 9,
   "metadata": {},
   "outputs": [
    {
     "data": {
      "text/plain": [
       "1489"
      ]
     },
     "execution_count": 9,
     "metadata": {},
     "output_type": "execute_result"
    }
   ],
   "source": [
    "# get a tmp file\n",
    "\n",
    "import tempfile\n",
    "\n",
    "# does not create the file, just makes a pathname\n",
    "tp = tempfile.NamedTemporaryFile().name\n",
    "\n",
    "\n",
    "tobe='''To be, or not to be: that is the question:\n",
    "Whether 'tis nobler in the mind to suffer\n",
    "The slings and arrows of outrageous fortune,\n",
    "Or to take arms against a sea of troubles,\n",
    "And by opposing end them? To die: to sleep;\n",
    "No more; and by a sleep to say we end\n",
    "The heart-ache and the thousand natural shocks\n",
    "That flesh is heir to, 'tis a consummation\n",
    "Devoutly to be wish'd. To die, to sleep;\n",
    "To sleep: perchance to dream: ay, there's the rub;\n",
    "For in that sleep of death what dreams may come\n",
    "When we have shuffled off this mortal coil,\n",
    "Must give us pause: there's the respect\n",
    "That makes calamity of so long life;\n",
    "For who would bear the whips and scorns of time,\n",
    "The oppressor's wrong, the proud man's contumely,\n",
    "The pangs of despised love, the law's delay,\n",
    "The insolence of office and the spurns\n",
    "That patient merit of the unworthy takes,\n",
    "When he himself might his quietus make\n",
    "With a bare bodkin? who would fardels bear,\n",
    "To grunt and sweat under a weary life,\n",
    "But that the dread of something after death,\n",
    "The undiscover'd country from whose bourn\n",
    "No traveller returns, puzzles the will\n",
    "And makes us rather bear those ills we have\n",
    "Than fly to others that we know not of?\n",
    "Thus conscience does make cowards of us all;\n",
    "And thus the native hue of resolution\n",
    "Is sicklied o'er with the pale cast of thought,\n",
    "And enterprises of great pith and moment\n",
    "With this regard their currents turn awry,\n",
    "And lose the name of action.--Soft you now!\n",
    "The fair Ophelia! Nymph, in thy orisons\n",
    "Be all my sins remember'd.\n",
    "'''\n",
    "len(tobe)"
   ]
  },
  {
   "cell_type": "code",
   "execution_count": 10,
   "metadata": {},
   "outputs": [
    {
     "data": {
      "text/plain": [
       "\"To be, or not to be: that is the question:\\nWhether 'tis nobler in the mind to suffer\\nThe slings and arrows of outrageous fortune,\\nOr to take arms against a sea of troubles,\\nAnd by opposing end them? To die: to sleep;\\nNo more; and by a sleep to say we end\\nThe heart-ache and the thousand natural shocks\\nThat flesh is heir to, 'tis a consummation\\nDevoutly to be wish'd. To die, to sleep;\\nTo sleep: perchance to dream: ay, there's the rub;\\nFor in that sleep of death what dreams may come\\nWhen we have shuffled off this mortal coil,\\nMust give us pause: there's the respect\\nThat makes calamity of so long life;\\nFor who would bear the whips and scorns of time,\\nThe oppressor's wrong, the proud man's contumely,\\nThe pangs of despised love, the law's delay,\\nThe insolence of office and the spurns\\nThat patient merit of the unworthy takes,\\nWhen he himself might his quietus make\\nWith a bare bodkin? who would fardels bear,\\nTo grunt and sweat under a weary life,\\nBut that the dread of something after death,\\nThe undiscover'd country from whose bourn\\nNo traveller returns, puzzles the will\\nAnd makes us rather bear those ills we have\\nThan fly to others that we know not of?\\nThus conscience does make cowards of us all;\\nAnd thus the native hue of resolution\\nIs sicklied o'er with the pale cast of thought,\\nAnd enterprises of great pith and moment\\nWith this regard their currents turn awry,\\nAnd lose the name of action.--Soft you now!\\nThe fair Ophelia! Nymph, in thy orisons\\nBe all my sins remember'd.\\n\""
      ]
     },
     "execution_count": 10,
     "metadata": {},
     "output_type": "execute_result"
    }
   ],
   "source": [
    "# tobe has newline '\\n' chars\n",
    "\n",
    "tobe"
   ]
  },
  {
   "cell_type": "code",
   "execution_count": 12,
   "metadata": {},
   "outputs": [
    {
     "data": {
      "text/plain": [
       "['To be, or not to be: that is the question:',\n",
       " \"Whether 'tis nobler in the mind to suffer\",\n",
       " 'The slings and arrows of outrageous fortune,',\n",
       " 'Or to take arms against a sea of troubles,',\n",
       " 'And by opposing end them? To die: to sleep;',\n",
       " 'No more; and by a sleep to say we end',\n",
       " 'The heart-ache and the thousand natural shocks',\n",
       " \"That flesh is heir to, 'tis a consummation\",\n",
       " \"Devoutly to be wish'd. To die, to sleep;\",\n",
       " \"To sleep: perchance to dream: ay, there's the rub;\",\n",
       " 'For in that sleep of death what dreams may come',\n",
       " 'When we have shuffled off this mortal coil,',\n",
       " \"Must give us pause: there's the respect\",\n",
       " 'That makes calamity of so long life;',\n",
       " 'For who would bear the whips and scorns of time,',\n",
       " \"The oppressor's wrong, the proud man's contumely,\",\n",
       " \"The pangs of despised love, the law's delay,\",\n",
       " 'The insolence of office and the spurns',\n",
       " 'That patient merit of the unworthy takes,',\n",
       " 'When he himself might his quietus make',\n",
       " 'With a bare bodkin? who would fardels bear,',\n",
       " 'To grunt and sweat under a weary life,',\n",
       " 'But that the dread of something after death,',\n",
       " \"The undiscover'd country from whose bourn\",\n",
       " 'No traveller returns, puzzles the will',\n",
       " 'And makes us rather bear those ills we have',\n",
       " 'Than fly to others that we know not of?',\n",
       " 'Thus conscience does make cowards of us all;',\n",
       " 'And thus the native hue of resolution',\n",
       " \"Is sicklied o'er with the pale cast of thought,\",\n",
       " 'And enterprises of great pith and moment',\n",
       " 'With this regard their currents turn awry,',\n",
       " 'And lose the name of action.--Soft you now!',\n",
       " 'The fair Ophelia! Nymph, in thy orisons',\n",
       " \"Be all my sins remember'd.\"]"
      ]
     },
     "execution_count": 12,
     "metadata": {},
     "output_type": "execute_result"
    }
   ],
   "source": [
    "# no newline('\\n') in tobeLines\n",
    "\n",
    "tobeLines = tobe.splitlines()\n",
    "tobeLines"
   ]
  },
  {
   "cell_type": "markdown",
   "metadata": {},
   "source": [
    "# define wrLines() and wr1() functions\n",
    "- note that 'tobe' has newlines, but there are no newlines in 'tobeLines'\n",
    "- both functions should first remove the file named by tp if it exists, to get a fresh start.\n",
    "- os.remove will throw an error if the file doesn't exist,\n",
    "so either catch it or verify the file exists before trying to delete it\n",
    "    - wrLines writes the contents of 'tobeLines' to a file, using the fd.writelines() method. \n",
    "you must add a '\\n' explicitly to each line. if you are on windows, use '\\n' as your newline character, so the counts come out correctly\n",
    "    - wr1 writes the contents of 'tobe', one character at a time, using fd.write() method\n",
    "- after the file write is complete, both functions should get the file byte size,\n",
    "using os.stat, and return it."
   ]
  },
  {
   "cell_type": "code",
   "execution_count": 18,
   "metadata": {},
   "outputs": [
    {
     "data": {
      "text/plain": [
       "1489"
      ]
     },
     "execution_count": 18,
     "metadata": {},
     "output_type": "execute_result"
    }
   ],
   "source": [
    "wrLines()"
   ]
  },
  {
   "cell_type": "code",
   "execution_count": 20,
   "metadata": {},
   "outputs": [
    {
     "data": {
      "text/plain": [
       "1489"
      ]
     },
     "execution_count": 20,
     "metadata": {},
     "output_type": "execute_result"
    }
   ],
   "source": [
    "wr1()"
   ]
  },
  {
   "cell_type": "markdown",
   "metadata": {},
   "source": [
    "# define rdAll()\n",
    "- read the tp file in one fd.read() call\n",
    "- return the number of characters read"
   ]
  },
  {
   "cell_type": "code",
   "execution_count": 22,
   "metadata": {},
   "outputs": [
    {
     "data": {
      "text/plain": [
       "1489"
      ]
     },
     "execution_count": 22,
     "metadata": {},
     "output_type": "execute_result"
    }
   ],
   "source": [
    "rdAll()"
   ]
  },
  {
   "cell_type": "markdown",
   "metadata": {},
   "source": [
    "# define rdLines()\n",
    "- read the tp file by using fd.readlines()\n",
    "- return the number of characters read"
   ]
  },
  {
   "cell_type": "code",
   "execution_count": 24,
   "metadata": {},
   "outputs": [
    {
     "data": {
      "text/plain": [
       "1489"
      ]
     },
     "execution_count": 24,
     "metadata": {},
     "output_type": "execute_result"
    }
   ],
   "source": [
    "rdLines()"
   ]
  },
  {
   "cell_type": "code",
   "execution_count": 26,
   "metadata": {},
   "outputs": [
    {
     "data": {
      "text/plain": [
       "1489"
      ]
     },
     "execution_count": 26,
     "metadata": {},
     "output_type": "execute_result"
    }
   ],
   "source": [
    "rdLines2()"
   ]
  },
  {
   "cell_type": "markdown",
   "metadata": {},
   "source": [
    "# define rd1\n",
    "- read the tp file one character at a time using fd.read(1), which will return an empty string when the file is finished\n",
    "- return the number of characters read"
   ]
  },
  {
   "cell_type": "code",
   "execution_count": 28,
   "metadata": {},
   "outputs": [
    {
     "data": {
      "text/plain": [
       "1489"
      ]
     },
     "execution_count": 28,
     "metadata": {},
     "output_type": "execute_result"
    }
   ],
   "source": [
    "rd1()"
   ]
  },
  {
   "cell_type": "markdown",
   "metadata": {},
   "source": [
    "# define rdLazy\n",
    "- read the tp file one line at a time, by 'for' iterating over 'fd'\n",
    "- return the number of characters read"
   ]
  },
  {
   "cell_type": "code",
   "execution_count": 30,
   "metadata": {},
   "outputs": [
    {
     "data": {
      "text/plain": [
       "1489"
      ]
     },
     "execution_count": 30,
     "metadata": {},
     "output_type": "execute_result"
    }
   ],
   "source": [
    "rdLazy()"
   ]
  }
 ],
 "metadata": {
  "kernelspec": {
   "display_name": "Python 3",
   "language": "python",
   "name": "python3"
  },
  "language_info": {
   "codemirror_mode": {
    "name": "ipython",
    "version": 3
   },
   "file_extension": ".py",
   "mimetype": "text/x-python",
   "name": "python",
   "nbconvert_exporter": "python",
   "pygments_lexer": "ipython3",
   "version": "3.6.3"
  }
 },
 "nbformat": 4,
 "nbformat_minor": 2
}
