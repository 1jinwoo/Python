{
 "cells": [
  {
   "cell_type": "markdown",
   "metadata": {},
   "source": [
    "# Decorators\n",
    "- Functions, classes, and methods can be 'decorated'\n",
    "- Will only show how to decorate functions - others are fairly complex\n",
    "- Similar to 'annotations and aspect' programming in java\n",
    "- Good for 'cross cutting' concerns, like security, metering, billing. \n",
    "- Surprising what can be done with decorators"
   ]
  },
  {
   "cell_type": "markdown",
   "metadata": {},
   "source": [
    "# Callables\n",
    "- a 'callable' is something that can be 'called', applied to arguments\n",
    "    - have seen functions and lambdas\n",
    "    - objects can also be callables, by defining the ```__call__``` method"
   ]
  },
  {
   "cell_type": "code",
   "execution_count": 1,
   "metadata": {},
   "outputs": [
    {
     "data": {
      "text/plain": [
       "[0.479425538604203, 0.479425538604203]"
      ]
     },
     "execution_count": 1,
     "metadata": {},
     "output_type": "execute_result"
    }
   ],
   "source": [
    "import math\n",
    "\n",
    "class Co:\n",
    "    # args applied to object will call this\n",
    "    def __call__(self, x):\n",
    "        return(math.sin(x))\n",
    "\n",
    "\n",
    "# make a Co object\n",
    "c = Co()\n",
    "\n",
    "# can call object like a function\n",
    "[math.sin(.5), c(.5)]\n",
    "    "
   ]
  },
  {
   "cell_type": "code",
   "execution_count": 2,
   "metadata": {},
   "outputs": [
    {
     "name": "stdout",
     "output_type": "stream",
     "text": [
      "inside fact(4)\n",
      "inside fact(3)\n",
      "inside fact(2)\n",
      "inside fact(1)\n",
      "inside fact(0)\n"
     ]
    },
    {
     "data": {
      "text/plain": [
       "24"
      ]
     },
     "execution_count": 2,
     "metadata": {},
     "output_type": "execute_result"
    }
   ],
   "source": [
    "# good old recursive factorial, \n",
    "# with a print debug statement added\n",
    "\n",
    "def fact(n):\n",
    "    print('inside fact({})'.format(n))\n",
    "    if n == 0:\n",
    "        return(1)\n",
    "    else:\n",
    "        return(n * fact(n-1))\n",
    "\n",
    "fact(4)\n"
   ]
  },
  {
   "cell_type": "markdown",
   "metadata": {},
   "source": [
    "# to decorate a function, define a callable class"
   ]
  },
  {
   "cell_type": "code",
   "execution_count": 14,
   "metadata": {
    "collapsed": true
   },
   "outputs": [],
   "source": [
    "class traceindent:\n",
    "    def __init__(self, func):\n",
    "        # func is the original function\n",
    "        # defined below @traceident line\n",
    "        self.func = func\n",
    "        self.level = 0\n",
    "\n",
    "    # when func is called - this method\n",
    "    # is called, not the original func\n",
    "    def __call__(self, *pos, **kw):\n",
    "        self.level += 1\n",
    "        indent = ['.'] * self.level\n",
    "        indent = ''.join(indent)\n",
    "        if len(pos) == 1:\n",
    "            printpos = '({})'.format(pos[0])\n",
    "        print(\"{}Entering {}{}\".format(indent, \\\n",
    "                        self.func.__name__, printpos))\n",
    "        # calling the traced function\n",
    "        val = self.func(*pos, **kw)\n",
    "        print('{}Exiting {}{}=>{}'.format(indent, \\\n",
    "                    self.func.__name__, printpos, val))\n",
    "        self.level -= 1\n",
    "        return(val)\n"
   ]
  },
  {
   "cell_type": "code",
   "execution_count": 15,
   "metadata": {
    "collapsed": true
   },
   "outputs": [],
   "source": [
    "# removed the print statement from fact\n",
    "# 'decorate' the fact function with a traceindent\n",
    "\n",
    "@traceindent\n",
    "def fact(n):\n",
    "    if n == 0:\n",
    "        return(1)\n",
    "    else:\n",
    "        return(n * fact(n-1))"
   ]
  },
  {
   "cell_type": "code",
   "execution_count": 16,
   "metadata": {},
   "outputs": [
    {
     "name": "stdout",
     "output_type": "stream",
     "text": [
      ".Entering fact(4)\n",
      "..Entering fact(3)\n",
      "...Entering fact(2)\n",
      "....Entering fact(1)\n",
      ".....Entering fact(0)\n",
      ".....Exiting fact(0)=>1\n",
      "....Exiting fact(1)=>1\n",
      "...Exiting fact(2)=>2\n",
      "..Exiting fact(3)=>6\n",
      ".Exiting fact(4)=>24\n"
     ]
    },
    {
     "data": {
      "text/plain": [
       "24"
      ]
     },
     "execution_count": 16,
     "metadata": {},
     "output_type": "execute_result"
    }
   ],
   "source": [
    "fact(4)"
   ]
  },
  {
   "cell_type": "code",
   "execution_count": 17,
   "metadata": {},
   "outputs": [
    {
     "data": {
      "text/plain": [
       "[<__main__.traceindent at 0x21b0e336390>,\n",
       " __main__.traceindent,\n",
       " <function __main__.fact>,\n",
       " function]"
      ]
     },
     "execution_count": 17,
     "metadata": {},
     "output_type": "execute_result"
    }
   ],
   "source": [
    "# 'fact' refers to an object instance of 'traceindent',\n",
    "# the original function object created by 'def fact' is \n",
    "# referred by fact.func\n",
    "\n",
    "[fact, type(fact), fact.func, type(fact.func)]"
   ]
  },
  {
   "cell_type": "markdown",
   "metadata": {},
   "source": [
    "# functools module\n",
    "- has some decorators\n",
    "- [doc](https://docs.python.org/3.5/library/functools.html)\n"
   ]
  },
  {
   "cell_type": "code",
   "execution_count": 18,
   "metadata": {
    "collapsed": true
   },
   "outputs": [],
   "source": [
    "# here only need to define \n",
    "# __eq__ and __lt__\n",
    "# the decorator defines __le__, __ge__, __le__ \n",
    "\n",
    "from functools import total_ordering\n",
    "\n",
    "@total_ordering\n",
    "class Student:\n",
    "    def __init__(self, first, last):\n",
    "        self.first = first\n",
    "        self.last = last\n",
    "    def __eq__(self, other):\n",
    "        # instead of checking first and last names \n",
    "        # separately, make tuples \n",
    "        # and check those once\n",
    "        # is there a disadvantage to this technique?\n",
    "        s = (self.last.lower(), self.first.lower())\n",
    "        o = (other.last.lower(), other.first.lower())\n",
    "        return s == o\n",
    "    def __lt__(self, other):\n",
    "        s = (self.last.lower(), self.first.lower())\n",
    "        o = (other.last.lower(), other.first.lower())        \n",
    "        return s < o"
   ]
  },
  {
   "cell_type": "code",
   "execution_count": 19,
   "metadata": {},
   "outputs": [
    {
     "data": {
      "text/plain": [
       "[False, True, False, True, False]"
      ]
     },
     "execution_count": 19,
     "metadata": {},
     "output_type": "execute_result"
    }
   ],
   "source": [
    "s1 = Student('jack', 'stead')\n",
    "s2 = Student('larry', 'stead')\n",
    "\n",
    "# only the first two operators \n",
    "# were explicitly defined above\n",
    "[s1 == s2, s1 < s2, s1 > s2, s1 <= s2, s1 >= s2]"
   ]
  },
  {
   "cell_type": "markdown",
   "metadata": {},
   "source": [
    "# dynamic programming/memoization\n",
    "- avoid redoing computations by cacheing results"
   ]
  },
  {
   "cell_type": "code",
   "execution_count": 20,
   "metadata": {},
   "outputs": [
    {
     "name": "stdout",
     "output_type": "stream",
     "text": [
      "in fib 7\n",
      "in fib 6\n",
      "in fib 5\n",
      "in fib 4\n",
      "in fib 3\n",
      "in fib 2\n",
      "in fib 1\n",
      "in fib 0\n",
      "in fib 1\n",
      "in fib 2\n",
      "in fib 1\n",
      "in fib 0\n",
      "in fib 3\n",
      "in fib 2\n",
      "in fib 1\n",
      "in fib 0\n",
      "in fib 1\n",
      "in fib 4\n",
      "in fib 3\n",
      "in fib 2\n",
      "in fib 1\n",
      "in fib 0\n",
      "in fib 1\n",
      "in fib 2\n",
      "in fib 1\n",
      "in fib 0\n",
      "in fib 5\n",
      "in fib 4\n",
      "in fib 3\n",
      "in fib 2\n",
      "in fib 1\n",
      "in fib 0\n",
      "in fib 1\n",
      "in fib 2\n",
      "in fib 1\n",
      "in fib 0\n",
      "in fib 3\n",
      "in fib 2\n",
      "in fib 1\n",
      "in fib 0\n",
      "in fib 1\n"
     ]
    },
    {
     "data": {
      "text/plain": [
       "13"
      ]
     },
     "execution_count": 20,
     "metadata": {},
     "output_type": "execute_result"
    }
   ],
   "source": [
    "# f[n] = f[n-1] + f[n-2]\n",
    "# doubly recursive\n",
    "# many redundant calls...\n",
    "\n",
    "def fibonacci(n):\n",
    "   \"Return the nth fibonacci number.\"\n",
    "   print('in fib', n)\n",
    "   if n in (0,1):\n",
    "      return n\n",
    "   return fibonacci(n-1) + fibonacci(n-2)\n",
    "\n",
    "fibonacci(7)"
   ]
  },
  {
   "cell_type": "code",
   "execution_count": 21,
   "metadata": {
    "collapsed": true
   },
   "outputs": [],
   "source": [
    "import collections\n",
    "import functools\n",
    "\n",
    "class memoized(object):\n",
    "   '''Decorator. Caches a function's return \n",
    "   value each time it is called.\n",
    "   If called later with the same arguments, \n",
    "   the cached value is returned\n",
    "   (not reevaluated).\n",
    "   '''\n",
    "   def __init__(self, func):\n",
    "      self.func = func\n",
    "      self.cache = {}\n",
    "        \n",
    "   def __call__(self, *args):\n",
    "      if args in self.cache:\n",
    "         # found previous computation in cache\n",
    "         return self.cache[args]\n",
    "      else:\n",
    "         # add this computation to cache\n",
    "         value = self.func(*args)\n",
    "         self.cache[args] = value\n",
    "         return value\n",
    "    \n",
    "   def __repr__(self):\n",
    "      '''Return the function's docstring.'''\n",
    "      return self.func.__doc__\n",
    "\n",
    "@memoized\n",
    "def fibonaccim(n):\n",
    "   '''Return the nth fibonacci number.'''\n",
    "   print('in fib', n)\n",
    "   if n in (0, 1):\n",
    "      return n\n",
    "   return fibonaccim(n-1) + fibonaccim(n-2)"
   ]
  },
  {
   "cell_type": "code",
   "execution_count": 22,
   "metadata": {},
   "outputs": [
    {
     "name": "stdout",
     "output_type": "stream",
     "text": [
      "in fib 8\n",
      "in fib 7\n",
      "in fib 6\n",
      "in fib 5\n",
      "in fib 4\n",
      "in fib 3\n",
      "in fib 2\n",
      "in fib 1\n",
      "in fib 0\n"
     ]
    },
    {
     "data": {
      "text/plain": [
       "21"
      ]
     },
     "execution_count": 22,
     "metadata": {},
     "output_type": "execute_result"
    }
   ],
   "source": [
    "# now no redundant calls\n",
    "\n",
    "fibonaccim(8)"
   ]
  },
  {
   "cell_type": "code",
   "execution_count": 23,
   "metadata": {
    "collapsed": true
   },
   "outputs": [],
   "source": [
    "# functools has a better memo decorator\n",
    "\n",
    "import functools\n",
    "\n",
    "# maxsize=an int will limit the size of the cache\n",
    "\n",
    "@functools.lru_cache(maxsize=None)\n",
    "def fiblru(n):\n",
    "   \"Return the nth fibonacci number.\"\n",
    "   print('in fib', n)\n",
    "   if n in (0, 1):\n",
    "      return n\n",
    "   return fiblru(n-1) + fiblru(n-2)\n"
   ]
  },
  {
   "cell_type": "code",
   "execution_count": 24,
   "metadata": {},
   "outputs": [
    {
     "name": "stdout",
     "output_type": "stream",
     "text": [
      "in fib 8\n",
      "in fib 7\n",
      "in fib 6\n",
      "in fib 5\n",
      "in fib 4\n",
      "in fib 3\n",
      "in fib 2\n",
      "in fib 1\n",
      "in fib 0\n"
     ]
    },
    {
     "data": {
      "text/plain": [
       "21"
      ]
     },
     "execution_count": 24,
     "metadata": {},
     "output_type": "execute_result"
    }
   ],
   "source": [
    "fiblru(8)"
   ]
  },
  {
   "cell_type": "code",
   "execution_count": 25,
   "metadata": {},
   "outputs": [
    {
     "data": {
      "text/plain": [
       "CacheInfo(hits=6, misses=9, maxsize=None, currsize=9)"
      ]
     },
     "execution_count": 25,
     "metadata": {},
     "output_type": "execute_result"
    }
   ],
   "source": [
    "# info about the cache\n",
    "\n",
    "fiblru.cache_info()"
   ]
  },
  {
   "cell_type": "code",
   "execution_count": 26,
   "metadata": {
    "collapsed": true
   },
   "outputs": [],
   "source": [
    "# can clear the cache\n",
    "\n",
    "fiblru.cache_clear()"
   ]
  },
  {
   "cell_type": "code",
   "execution_count": 27,
   "metadata": {},
   "outputs": [
    {
     "data": {
      "text/plain": [
       "CacheInfo(hits=0, misses=0, maxsize=None, currsize=0)"
      ]
     },
     "execution_count": 27,
     "metadata": {},
     "output_type": "execute_result"
    }
   ],
   "source": [
    "fiblru.cache_info()"
   ]
  },
  {
   "cell_type": "code",
   "execution_count": 28,
   "metadata": {},
   "outputs": [
    {
     "ename": "TypeError",
     "evalue": "unhashable type: 'list'",
     "output_type": "error",
     "traceback": [
      "\u001b[1;31m---------------------------------------------------------------------------\u001b[0m",
      "\u001b[1;31mTypeError\u001b[0m                                 Traceback (most recent call last)",
      "\u001b[1;32m<ipython-input-28-72ceac93f591>\u001b[0m in \u001b[0;36m<module>\u001b[1;34m()\u001b[0m\n\u001b[0;32m      5\u001b[0m     \u001b[1;32mreturn\u001b[0m \u001b[0mlen\u001b[0m\u001b[1;33m(\u001b[0m\u001b[0mlst\u001b[0m\u001b[1;33m)\u001b[0m\u001b[1;33m\u001b[0m\u001b[0m\n\u001b[0;32m      6\u001b[0m \u001b[1;33m\u001b[0m\u001b[0m\n\u001b[1;32m----> 7\u001b[1;33m \u001b[0mcnt\u001b[0m\u001b[1;33m(\u001b[0m\u001b[1;33m[\u001b[0m\u001b[1;36m3\u001b[0m\u001b[1;33m,\u001b[0m\u001b[1;36m3\u001b[0m\u001b[1;33m,\u001b[0m\u001b[1;36m4\u001b[0m\u001b[1;33m]\u001b[0m\u001b[1;33m)\u001b[0m\u001b[1;33m\u001b[0m\u001b[0m\n\u001b[0m",
      "\u001b[1;31mTypeError\u001b[0m: unhashable type: 'list'"
     ]
    }
   ],
   "source": [
    "# oops - can't use a list as a dict key\n",
    "\n",
    "@functools.lru_cache(maxsize=None)\n",
    "def cnt(lst):\n",
    "    return len(lst)\n",
    "\n",
    "cnt([3,3,4])"
   ]
  },
  {
   "cell_type": "markdown",
   "metadata": {},
   "source": [
    "# begins module\n",
    "- concise alternative to 'argparse'\n",
    "- uses decorators and function annotations\n",
    "- name of module is 'begins', but you import 'begin'\n",
    "- if you want to try it, you have to install it:\n",
    "\n",
    "pip install begins"
   ]
  },
  {
   "cell_type": "markdown",
   "metadata": {},
   "source": [
    "# script source \n",
    "\n",
    "#!/usr/bin/env python\n",
    "\n",
    "import begin\n",
    "\n",
    "```\n",
    "@begin.start\n",
    "def run(parg1, parg2, name: 'cmd line doc from function annotation' = 'lstead', enable=True):\n",
    "    print('run got: parg1={} parg2={} name={} enable={}'\\\n",
    "    \t       .format(parg1, parg2, name, enable))\n",
    "\n",
    "```"
   ]
  },
  {
   "cell_type": "markdown",
   "metadata": {},
   "source": [
    "# sample output\n",
    "\n",
    "```\n",
    "cmdlinebegins -h\n",
    "usage: cmdlinebegins [-h] [--name NAME] [--enable] [--no-enable] PARG1 PARG2\n",
    "\n",
    "positional arguments:\n",
    "  PARG1\n",
    "  PARG2\n",
    "\n",
    "optional arguments:\n",
    "  -h, --help            show this help message and exit\n",
    "  --name NAME, -n NAME  cmd line doc from function annotation (default: lstead)\n",
    "  --enable\n",
    "  --no-enable           (default: True)\n",
    "\n",
    "cmdlinebegins foo bar -n asdf --no-enable\n",
    "run got: parg1=foo parg2=bar name=asdf enable=False\n",
    "\n",
    "```"
   ]
  },
  {
   "cell_type": "markdown",
   "metadata": {},
   "source": [
    "# [Standard Library of Decorators](https://wiki.python.org/moin/PythonDecoratorLibrary)\n",
    "- some useful things"
   ]
  }
 ],
 "metadata": {
  "anaconda-cloud": {},
  "kernelspec": {
   "display_name": "Python 3",
   "language": "python",
   "name": "python3"
  },
  "language_info": {
   "codemirror_mode": {
    "name": "ipython",
    "version": 3
   },
   "file_extension": ".py",
   "mimetype": "text/x-python",
   "name": "python",
   "nbconvert_exporter": "python",
   "pygments_lexer": "ipython3",
   "version": "3.6.3"
  }
 },
 "nbformat": 4,
 "nbformat_minor": 1
}
