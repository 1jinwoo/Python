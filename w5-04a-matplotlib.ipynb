{
 "cells": [
  {
   "cell_type": "markdown",
   "metadata": {},
   "source": [
    "# Histogram of Random Guassian samples\n",
    "    - count the number of samples that fall into each bin, and graph the counts"
   ]
  },
  {
   "cell_type": "code",
   "execution_count": 1,
   "metadata": {
    "collapsed": true
   },
   "outputs": [],
   "source": [
    "# setup\n",
    "\n",
    "import math\n",
    "import random\n",
    "from collections import Counter\n",
    "import matplotlib.pyplot as plt\n",
    "\n",
    "# make plots render in the notebook, \n",
    "# instead of in an external window,\n",
    "# which tends to be annoying\n",
    "%matplotlib inline"
   ]
  },
  {
   "cell_type": "code",
   "execution_count": 2,
   "metadata": {},
   "outputs": [
    {
     "data": {
      "text/plain": [
       "[0.5942991140421516,\n",
       " 0.21290327866070743,\n",
       " -1.1372397004108477,\n",
       " -1.8922618587130902,\n",
       " 1.1254861369067521,\n",
       " 0.09295472108431056,\n",
       " -0.32924708595462304,\n",
       " 0.592400051973731,\n",
       " -1.1532903992029693,\n",
       " -0.3920828313566584]"
      ]
     },
     "execution_count": 2,
     "metadata": {},
     "output_type": "execute_result"
    }
   ],
   "source": [
    "# mean = 0, stddev = 1\n",
    "\n",
    "[random.gauss(0,1) for j in range(10)]"
   ]
  },
  {
   "cell_type": "code",
   "execution_count": 3,
   "metadata": {},
   "outputs": [
    {
     "data": {
      "text/plain": [
       "99761"
      ]
     },
     "execution_count": 3,
     "metadata": {},
     "output_type": "execute_result"
    }
   ],
   "source": [
    "# get 100,000 samples, and filter out data \n",
    "# greater than 3 SD\n",
    "# can write large integers with an '_' every \n",
    "# three digits for readability\n",
    "# nested list comprehensions\n",
    "\n",
    "gds = [d for d in [random.gauss(0,1) for j in range(100_000)] if abs(d)<3]\n",
    "len(gds)"
   ]
  },
  {
   "cell_type": "code",
   "execution_count": 4,
   "metadata": {},
   "outputs": [
    {
     "data": {
      "text/plain": [
       "[3, -3]"
      ]
     },
     "execution_count": 4,
     "metadata": {},
     "output_type": "execute_result"
    }
   ],
   "source": [
    "# int seems like an easy way to compute bin numbers\n",
    "# int truncates the fraction part of the float\n",
    "\n",
    "[int(3.4), int(-3.2)]"
   ]
  },
  {
   "cell_type": "code",
   "execution_count": 5,
   "metadata": {},
   "outputs": [
    {
     "data": {
      "text/plain": [
       "[(-5, -1.0954535980656184),\n",
       " (-6, -1.2573813440095374),\n",
       " (5, 1.0542066973442605),\n",
       " (-7, -1.5770628312013706),\n",
       " (0, -0.15332127850446484),\n",
       " (5, 1.0420197375352869),\n",
       " (0, -0.05277991766660469),\n",
       " (-5, -1.1037563507382702),\n",
       " (-6, -1.3434505822692482),\n",
       " (-1, -0.21598482313048348),\n",
       " (0, -0.13192065645435),\n",
       " (1, 0.29743501604651),\n",
       " (-5, -1.1714275410348844),\n",
       " (4, 0.9924761358063146),\n",
       " (-2, -0.59277233834811),\n",
       " (3, 0.6417921675010873),\n",
       " (-3, -0.7659289148138755),\n",
       " (-3, -0.6225005216517767),\n",
       " (-1, -0.2242279320079293),\n",
       " (-5, -1.1805323339598253)]"
      ]
     },
     "execution_count": 5,
     "metadata": {},
     "output_type": "execute_result"
    }
   ],
   "source": [
    "# list of bins each data point fell into\n",
    "\n",
    "bins = [int((gd /.2)) for gd in gds]\n",
    "list(zip(bins, gds))[:20]"
   ]
  },
  {
   "cell_type": "code",
   "execution_count": 6,
   "metadata": {},
   "outputs": [
    {
     "data": {
      "text/plain": [
       "Counter({'foo': 2, 4: 1, 3: 1})"
      ]
     },
     "execution_count": 6,
     "metadata": {},
     "output_type": "execute_result"
    }
   ],
   "source": [
    "# a handy way to count a stream of things is the Counter class\n",
    "# a Counter is a specialized dictionary\n",
    "\n",
    "counter = Counter()\n",
    "\n",
    "counter['foo'] += 1\n",
    "counter['foo'] += 1\n",
    "counter[4] += 1\n",
    "counter[3] += 1\n",
    "\n",
    "counter"
   ]
  },
  {
   "cell_type": "code",
   "execution_count": 7,
   "metadata": {},
   "outputs": [
    {
     "data": {
      "text/plain": [
       "0"
      ]
     },
     "execution_count": 7,
     "metadata": {},
     "output_type": "execute_result"
    }
   ],
   "source": [
    "# the count of a key that doesn't exist is always 0\n",
    "\n",
    "counter[34324]"
   ]
  },
  {
   "cell_type": "code",
   "execution_count": 8,
   "metadata": {},
   "outputs": [
    {
     "data": {
      "text/plain": [
       "[Counter({-14: 101,\n",
       "          -13: 211,\n",
       "          -12: 354,\n",
       "          -11: 553,\n",
       "          -10: 945,\n",
       "          -9: 1336,\n",
       "          -8: 1867,\n",
       "          -7: 2614,\n",
       "          -6: 3440,\n",
       "          -5: 4323,\n",
       "          -4: 5360,\n",
       "          -3: 6372,\n",
       "          -2: 7181,\n",
       "          -1: 7558,\n",
       "          0: 15661,\n",
       "          1: 7485,\n",
       "          2: 7033,\n",
       "          3: 6221,\n",
       "          4: 5319,\n",
       "          5: 4460,\n",
       "          6: 3395,\n",
       "          7: 2540,\n",
       "          8: 1926,\n",
       "          9: 1388,\n",
       "          10: 913,\n",
       "          11: 534,\n",
       "          12: 356,\n",
       "          13: 208,\n",
       "          14: 107}),\n",
       " -14,\n",
       " 14]"
      ]
     },
     "execution_count": 8,
     "metadata": {},
     "output_type": "execute_result"
    }
   ],
   "source": [
    "# count data points in each bin\n",
    "\n",
    "counter = Counter()\n",
    "for bin in bins:\n",
    "    counter[bin] += 1\n",
    "\n",
    "[counter, min(counter), max(counter)]"
   ]
  },
  {
   "cell_type": "code",
   "execution_count": 9,
   "metadata": {},
   "outputs": [
    {
     "data": {
      "text/plain": [
       "range(-14, 15)"
      ]
     },
     "execution_count": 9,
     "metadata": {},
     "output_type": "execute_result"
    }
   ],
   "source": [
    "# compute x coords of bins in graph\n",
    "\n",
    "x = range(min(counter), 1+max(counter))\n",
    "x"
   ]
  },
  {
   "cell_type": "code",
   "execution_count": 10,
   "metadata": {},
   "outputs": [
    {
     "data": {
      "text/plain": [
       "[101,\n",
       " 211,\n",
       " 354,\n",
       " 553,\n",
       " 945,\n",
       " 1336,\n",
       " 1867,\n",
       " 2614,\n",
       " 3440,\n",
       " 4323,\n",
       " 5360,\n",
       " 6372,\n",
       " 7181,\n",
       " 7558,\n",
       " 15661,\n",
       " 7485,\n",
       " 7033,\n",
       " 6221,\n",
       " 5319,\n",
       " 4460,\n",
       " 3395,\n",
       " 2540,\n",
       " 1926,\n",
       " 1388,\n",
       " 913,\n",
       " 534,\n",
       " 356,\n",
       " 208,\n",
       " 107]"
      ]
     },
     "execution_count": 10,
     "metadata": {},
     "output_type": "execute_result"
    }
   ],
   "source": [
    "# match up bincnts with x coords\n",
    "\n",
    "bincnts = [counter[xe] for xe in x]\n",
    "bincnts"
   ]
  },
  {
   "cell_type": "code",
   "execution_count": 11,
   "metadata": {},
   "outputs": [
    {
     "data": {
      "image/png": "[encoded data removed]",
      "text/plain": [
       "<matplotlib.figure.Figure at 0x22bdd7d6a58>"
      ]
     },
     "metadata": {},
     "output_type": "display_data"
    }
   ],
   "source": [
    "# hmmm...\n",
    "\n",
    "# 1st arg is the xcoords of the bars \n",
    "# 2nd arg is the count\n",
    "\n",
    "plt.bar(x, bincnts);"
   ]
  },
  {
   "cell_type": "markdown",
   "metadata": {},
   "source": [
    "# let's do some plots and try to find the bug"
   ]
  },
  {
   "cell_type": "code",
   "execution_count": 12,
   "metadata": {},
   "outputs": [
    {
     "data": {
      "text/plain": [
       "array([ 0.        ,  0.11111111,  0.22222222,  0.33333333,  0.44444444,\n",
       "        0.55555556,  0.66666667,  0.77777778,  0.88888889,  1.        ])"
      ]
     },
     "execution_count": 12,
     "metadata": {},
     "output_type": "execute_result"
    }
   ],
   "source": [
    "# range doesn't work with floats\n",
    "# use numpy\n",
    "\n",
    "import numpy as np\n",
    "\n",
    "np.linspace(0,1,10)"
   ]
  },
  {
   "cell_type": "code",
   "execution_count": 13,
   "metadata": {
    "collapsed": true
   },
   "outputs": [],
   "source": [
    "def plotf(func, low, high):\n",
    "    # arg is function to plot\n",
    "    # make a set of x vals\n",
    "    x = np.linspace(low, high, 50)\n",
    "    # eval the func on the x vals\n",
    "    y = [func(xv) for xv in x]\n",
    "    plt.plot(x, y, 'r', linewidth=10)\n",
    "    plt.grid(True)"
   ]
  },
  {
   "cell_type": "code",
   "execution_count": 14,
   "metadata": {},
   "outputs": [
    {
     "data": {
      "image/png": "[encoded data removed]",
      "text/plain": [
       "<matplotlib.figure.Figure at 0x22bddb690b8>"
      ]
     },
     "metadata": {},
     "output_type": "display_data"
    }
   ],
   "source": [
    "# test\n",
    "\n",
    "plotf(math.sin, 0, math.pi*2)"
   ]
  },
  {
   "cell_type": "code",
   "execution_count": 15,
   "metadata": {},
   "outputs": [
    {
     "data": {
      "image/png": "[encoded data removed]",
      "text/plain": [
       "<matplotlib.figure.Figure at 0x22bddf5e7b8>"
      ]
     },
     "metadata": {},
     "output_type": "display_data"
    }
   ],
   "source": [
    "# plot int\n",
    "\n",
    "plotf(int,-3,3)"
   ]
  },
  {
   "cell_type": "code",
   "execution_count": 16,
   "metadata": {},
   "outputs": [
    {
     "data": {
      "image/png": "[encoded data removed]",
      "text/plain": [
       "<matplotlib.figure.Figure at 0x22bddf9a7f0>"
      ]
     },
     "metadata": {},
     "output_type": "display_data"
    }
   ],
   "source": [
    "# math.floor \n",
    "\n",
    "plotf(math.floor,-3,3)"
   ]
  },
  {
   "cell_type": "code",
   "execution_count": null,
   "metadata": {
    "collapsed": true
   },
   "outputs": [],
   "source": []
  }
 ],
 "metadata": {
  "anaconda-cloud": {},
  "kernelspec": {
   "display_name": "Python 3",
   "language": "python",
   "name": "python3"
  },
  "language_info": {
   "codemirror_mode": {
    "name": "ipython",
    "version": 3
   },
   "file_extension": ".py",
   "mimetype": "text/x-python",
   "name": "python",
   "nbconvert_exporter": "python",
   "pygments_lexer": "ipython3",
   "version": "3.6.3"
  }
 },
 "nbformat": 4,
 "nbformat_minor": 1
}
