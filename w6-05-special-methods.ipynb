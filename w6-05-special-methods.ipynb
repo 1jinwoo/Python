{
 "cells": [
  {
   "cell_type": "markdown",
   "metadata": {},
   "source": [
    "# Special Methods on 'Object'\n",
    "- methods of the form ```__...__``` play special roles in implementing classes\n",
    "- the first argument of ANY method is always 'self'\n",
    "- the class author defines these methods, but they are not normally called directly\n",
    "    - some of the methods are invoked by operators\n",
    "        - you can define what '+', '*', etc, means for an object you define\n",
    "        - C++ allows this, Java doesn't\n",
    "    - other methods are invoked by well known functions like 'len'"
   ]
  },
  {
   "cell_type": "markdown",
   "metadata": {},
   "source": [
    "# Basic\n",
    "- ```__init__```  - called at object creation time. used to initialize object state\n",
    "- ```__len__```  - 'len' function will call this method\n",
    "- ```__bool__```  - 'bool' function will call this method\n",
    "- ```__str__, __repr__``` - controls how object prints\n",
    "- ```__contains__``` - used by 'in' operator\n",
    "- ```__call__``` - call an object like a function call"
   ]
  },
  {
   "cell_type": "code",
   "execution_count": 1,
   "metadata": {},
   "outputs": [
    {
     "data": {
      "text/plain": [
       "repr method: jack"
      ]
     },
     "execution_count": 1,
     "metadata": {},
     "output_type": "execute_result"
    }
   ],
   "source": [
    "class C:\n",
    "    def __init__(self, name):\n",
    "        self.name = name\n",
    "        \n",
    "    def __str__(self):\n",
    "        # 'friendly' string representation of object\n",
    "        return('str method: ' + self.name)\n",
    "    \n",
    "    def __repr__(self):\n",
    "        # 'detailed' string representation of object\n",
    "        return('repr method: ' + self.name)\n",
    "    \n",
    "    def __len__(self):\n",
    "        return len(self.name)\n",
    "    \n",
    "    def __bool__(self):\n",
    "        # long name => true\n",
    "        # short name => false\n",
    "        return len(self.name) > 5\n",
    "    \n",
    "    def __call__(self, arg):\n",
    "        # call an object like a function\n",
    "        return arg + 10\n",
    "    \n",
    "    def __contains__(self, arg):\n",
    "        # 'in' operator\n",
    "        return arg in self.name\n",
    "\n",
    "c = C('jack')\n",
    "\n",
    "# top level uses __repr__\n",
    "c"
   ]
  },
  {
   "cell_type": "code",
   "execution_count": 2,
   "metadata": {},
   "outputs": [
    {
     "name": "stdout",
     "output_type": "stream",
     "text": [
      "str method: jack\n"
     ]
    }
   ],
   "source": [
    "# print uses __str__\n",
    "\n",
    "print(c)"
   ]
  },
  {
   "cell_type": "code",
   "execution_count": 3,
   "metadata": {},
   "outputs": [
    {
     "data": {
      "text/plain": [
       "True"
      ]
     },
     "execution_count": 3,
     "metadata": {},
     "output_type": "execute_result"
    }
   ],
   "source": [
    "# note - 'in' operator will \n",
    "# search for substrings\n",
    "\n",
    "'foo' in 'bazfoobar'"
   ]
  },
  {
   "cell_type": "code",
   "execution_count": 4,
   "metadata": {},
   "outputs": [
    {
     "data": {
      "text/plain": [
       "[True, False]"
      ]
     },
     "execution_count": 4,
     "metadata": {},
     "output_type": "execute_result"
    }
   ],
   "source": [
    "['ack' in c, 'jill' in c]"
   ]
  },
  {
   "cell_type": "code",
   "execution_count": 5,
   "metadata": {},
   "outputs": [
    {
     "data": {
      "text/plain": [
       "False"
      ]
     },
     "execution_count": 5,
     "metadata": {},
     "output_type": "execute_result"
    }
   ],
   "source": [
    "bool(c)"
   ]
  },
  {
   "cell_type": "code",
   "execution_count": 6,
   "metadata": {},
   "outputs": [
    {
     "data": {
      "text/plain": [
       "[False, True]"
      ]
     },
     "execution_count": 6,
     "metadata": {},
     "output_type": "execute_result"
    }
   ],
   "source": [
    "[bool(C('jack')), bool(C('jackson'))]"
   ]
  },
  {
   "cell_type": "code",
   "execution_count": 7,
   "metadata": {},
   "outputs": [
    {
     "data": {
      "text/plain": [
       "7"
      ]
     },
     "execution_count": 7,
     "metadata": {},
     "output_type": "execute_result"
    }
   ],
   "source": [
    "len(C('jackson'))"
   ]
  },
  {
   "cell_type": "code",
   "execution_count": 8,
   "metadata": {},
   "outputs": [
    {
     "data": {
      "text/plain": [
       "44"
      ]
     },
     "execution_count": 8,
     "metadata": {},
     "output_type": "execute_result"
    }
   ],
   "source": [
    "# call an object like a function\n",
    "\n",
    "c = C('afd')\n",
    "c(34)"
   ]
  },
  {
   "cell_type": "code",
   "execution_count": 12,
   "metadata": {},
   "outputs": [
    {
     "name": "stdout",
     "output_type": "stream",
     "text": [
      "ready\n",
      "ready\n",
      "finished\n",
      "ready\n",
      "finished\n",
      "ready\n",
      "waiting\n",
      "ready\n",
      "ready\n",
      "finished\n"
     ]
    }
   ],
   "source": [
    "# 'repr' and 'str' are just methods, so an object can print \n",
    "# differently at any time, depending on whatever\n",
    "# very common to display some kind of status summary for the object\n",
    "\n",
    "import random\n",
    "\n",
    "class C2:\n",
    "    def __repr__(self):\n",
    "        return(random.choice(['ready', 'waiting', 'running', 'finished']))\n",
    "c2 = C2()\n",
    "for j in range(10):\n",
    "    print(c2)"
   ]
  },
  {
   "cell_type": "markdown",
   "metadata": {},
   "source": [
    "# Iteration\n",
    "- ```__iter__``` - return an 'iterable' for this object\n",
    "    - 'iter' function calls this method\n",
    "- ```__next__``` - call on an iterable to get the next element in the sequence. raises 'StopIteration' error when sequence is exhausted\n",
    "    - 'next' function calls this method"
   ]
  },
  {
   "cell_type": "code",
   "execution_count": 13,
   "metadata": {},
   "outputs": [
    {
     "name": "stdout",
     "output_type": "stream",
     "text": [
      "<list_iterator object at 0x000001FC880D3DD8>\n",
      "32\n",
      "4\n"
     ]
    },
    {
     "ename": "StopIteration",
     "evalue": "",
     "output_type": "error",
     "traceback": [
      "\u001b[1;31m---------------------------------------------------------------------------\u001b[0m",
      "\u001b[1;31mStopIteration\u001b[0m                             Traceback (most recent call last)",
      "\u001b[1;32m<ipython-input-13-19795ce8e485>\u001b[0m in \u001b[0;36m<module>\u001b[1;34m()\u001b[0m\n\u001b[0;32m      6\u001b[0m \u001b[0mprint\u001b[0m\u001b[1;33m(\u001b[0m\u001b[0mit\u001b[0m\u001b[1;33m.\u001b[0m\u001b[0m__next__\u001b[0m\u001b[1;33m(\u001b[0m\u001b[1;33m)\u001b[0m\u001b[1;33m)\u001b[0m\u001b[1;33m\u001b[0m\u001b[0m\n\u001b[0;32m      7\u001b[0m \u001b[0mprint\u001b[0m\u001b[1;33m(\u001b[0m\u001b[0mit\u001b[0m\u001b[1;33m.\u001b[0m\u001b[0m__next__\u001b[0m\u001b[1;33m(\u001b[0m\u001b[1;33m)\u001b[0m\u001b[1;33m)\u001b[0m\u001b[1;33m\u001b[0m\u001b[0m\n\u001b[1;32m----> 8\u001b[1;33m \u001b[0mit\u001b[0m\u001b[1;33m.\u001b[0m\u001b[0m__next__\u001b[0m\u001b[1;33m(\u001b[0m\u001b[1;33m)\u001b[0m\u001b[1;33m\u001b[0m\u001b[0m\n\u001b[0m",
      "\u001b[1;31mStopIteration\u001b[0m: "
     ]
    }
   ],
   "source": [
    "# using the actual methods...\n",
    "\n",
    "x = [32,4]\n",
    "it = x.__iter__()\n",
    "print(it)\n",
    "print(it.__next__())\n",
    "print(it.__next__())\n",
    "it.__next__()\n"
   ]
  },
  {
   "cell_type": "code",
   "execution_count": 14,
   "metadata": {},
   "outputs": [
    {
     "name": "stdout",
     "output_type": "stream",
     "text": [
      "<list_iterator object at 0x000001FC880AEFD0>\n",
      "32\n",
      "4\n"
     ]
    },
    {
     "ename": "StopIteration",
     "evalue": "",
     "output_type": "error",
     "traceback": [
      "\u001b[1;31m---------------------------------------------------------------------------\u001b[0m",
      "\u001b[1;31mStopIteration\u001b[0m                             Traceback (most recent call last)",
      "\u001b[1;32m<ipython-input-14-30af3ab1ffac>\u001b[0m in \u001b[0;36m<module>\u001b[1;34m()\u001b[0m\n\u001b[0;32m      8\u001b[0m \u001b[0mprint\u001b[0m\u001b[1;33m(\u001b[0m\u001b[0mnext\u001b[0m\u001b[1;33m(\u001b[0m\u001b[0mit\u001b[0m\u001b[1;33m)\u001b[0m\u001b[1;33m)\u001b[0m\u001b[1;33m\u001b[0m\u001b[0m\n\u001b[0;32m      9\u001b[0m \u001b[0mprint\u001b[0m\u001b[1;33m(\u001b[0m\u001b[0mnext\u001b[0m\u001b[1;33m(\u001b[0m\u001b[0mit\u001b[0m\u001b[1;33m)\u001b[0m\u001b[1;33m)\u001b[0m\u001b[1;33m\u001b[0m\u001b[0m\n\u001b[1;32m---> 10\u001b[1;33m \u001b[0mnext\u001b[0m\u001b[1;33m(\u001b[0m\u001b[0mit\u001b[0m\u001b[1;33m)\u001b[0m\u001b[1;33m\u001b[0m\u001b[0m\n\u001b[0m",
      "\u001b[1;31mStopIteration\u001b[0m: "
     ]
    }
   ],
   "source": [
    "# using the top level functions - \n",
    "# exact same thing, but nicer looking\n",
    "# this is known as \"syntactic sugar\"\n",
    "\n",
    "x = [32,4]\n",
    "it = iter(x)\n",
    "print(it)\n",
    "print(next(it))\n",
    "print(next(it))\n",
    "next(it)\n"
   ]
  },
  {
   "cell_type": "markdown",
   "metadata": {},
   "source": [
    "# Comparision\n",
    "- ```__lt__, __gt__, __le__, __ge__, __eq__, __ne__``` \n",
    "- tedious - many methods to define\n",
    "- easier way is to use functools.total_ordering - only need to define two\n",
    "- called by operators like '==' and '<'"
   ]
  },
  {
   "cell_type": "code",
   "execution_count": 15,
   "metadata": {
    "collapsed": true
   },
   "outputs": [],
   "source": [
    "from functools import total_ordering\n",
    "\n",
    "# total_ordering is a 'decorator'\n",
    "# it will 'write' the other four \n",
    "# predicates 'by magic'\n",
    "\n",
    "@total_ordering\n",
    "class Student:\n",
    "    def __init__(self, first, last):\n",
    "        # don't let case confuse sort\n",
    "        self.firstname = first.lower()\n",
    "        self.lastname = last.lower()\n",
    "        \n",
    "    def __eq__(self, other):\n",
    "        return ((self.lastname, self.firstname) ==\n",
    "                (other.lastname, other.firstname))\n",
    "    \n",
    "    def __lt__(self, other):\n",
    "        return ((self.lastname, self.firstname) <\n",
    "                (other.lastname, other.firstname))\n",
    "\n",
    "s1 = Student('joe', 'college')\n",
    "s2 = Student('jack', 'junior')"
   ]
  },
  {
   "cell_type": "code",
   "execution_count": null,
   "metadata": {
    "collapsed": true
   },
   "outputs": [],
   "source": [
    "s1 is s2"
   ]
  },
  {
   "cell_type": "code",
   "execution_count": null,
   "metadata": {
    "collapsed": true
   },
   "outputs": [],
   "source": [
    "s1 == s1"
   ]
  },
  {
   "cell_type": "code",
   "execution_count": null,
   "metadata": {
    "collapsed": true
   },
   "outputs": [],
   "source": [
    "s1 == s2"
   ]
  },
  {
   "cell_type": "code",
   "execution_count": null,
   "metadata": {
    "collapsed": true
   },
   "outputs": [],
   "source": [
    "s1 < s2"
   ]
  },
  {
   "cell_type": "code",
   "execution_count": null,
   "metadata": {
    "collapsed": true
   },
   "outputs": [],
   "source": [
    "s1 > s2"
   ]
  },
  {
   "cell_type": "markdown",
   "metadata": {},
   "source": [
    "# Hashing\n",
    "- ```__hash__``` - should only be defined for immutable objects. the hash of a mutable object could change, making it a poor key\n",
    "- can turn it off this way\n",
    "\n",
    "```\n",
    "class foo:\n",
    "    __hash__ = None\n",
    "...\n",
    "```"
   ]
  },
  {
   "cell_type": "markdown",
   "metadata": {},
   "source": [
    "# collection element access and slices \n",
    "- ```__getitem__``` - get element or slice\n",
    "- ```__setitem__``` - set element or slice"
   ]
  },
  {
   "cell_type": "code",
   "execution_count": null,
   "metadata": {
    "collapsed": true
   },
   "outputs": [],
   "source": [
    "    def __getitem__(self, index):\n",
    "        # do different things depending on type of 'index'\n",
    "        if isinstance(index, int):\n",
    "            # if asked for a single term, p[n], index will\n",
    "            # be an int\n",
    "            pass\n",
    "        if isinstance(index, slice):\n",
    "            # if asked for a slice, p[n:m], index will be\n",
    "            # a 'slice' object\n",
    "            pass\n",
    "        pass"
   ]
  },
  {
   "cell_type": "code",
   "execution_count": null,
   "metadata": {
    "collapsed": true
   },
   "outputs": [],
   "source": [
    "# method for dict is None, so can'be a hash key\n",
    "\n",
    "d.__hash__"
   ]
  },
  {
   "cell_type": "code",
   "execution_count": null,
   "metadata": {
    "collapsed": true
   },
   "outputs": [],
   "source": [
    "# a dictionary won't allow a mutable as a key\n",
    "\n",
    "k = [1,3,4]\n",
    "d = {}\n",
    "d[k] = 2"
   ]
  },
  {
   "cell_type": "markdown",
   "metadata": {
    "collapsed": true
   },
   "source": [
    "# Managed attributes\n",
    "- sometimes you want to run code when a object attribue is accessed or set\n",
    "- one way to do this is with decorators\n",
    "- advanced technique"
   ]
  },
  {
   "cell_type": "code",
   "execution_count": null,
   "metadata": {
    "collapsed": true
   },
   "outputs": [],
   "source": [
    "import random\n",
    "\n",
    "# inherit from object\n",
    "class RandomService:\n",
    "    def __init__(self):\n",
    "        self.counter = 0 \n",
    "        \n",
    "    @property\n",
    "    #  this runs on a \"get\"\n",
    "    # inc counter, rtn random\n",
    "    def ran(self):\n",
    "        self.counter += 1\n",
    "        return(random.random())\n",
    "    \n",
    "    @ran.setter\n",
    "    # this runs on a \"set\"\n",
    "    # set seed, reset counter\n",
    "    def ran(self, val):\n",
    "        self.counter = 0\n",
    "        if not isinstance(val, float):\n",
    "            raise TypeError('Expected a float')\n",
    "        random.seed(val)\n",
    "    \n",
    "rs = RandomService()    \n",
    " "
   ]
  },
  {
   "cell_type": "code",
   "execution_count": null,
   "metadata": {
    "collapsed": true
   },
   "outputs": [],
   "source": [
    "[rs.ran for j in range(5)]\n"
   ]
  },
  {
   "cell_type": "code",
   "execution_count": null,
   "metadata": {
    "collapsed": true
   },
   "outputs": [],
   "source": [
    "# counter recorded 5 invocations\n",
    "\n",
    "rs.counter"
   ]
  },
  {
   "cell_type": "code",
   "execution_count": null,
   "metadata": {
    "collapsed": true
   },
   "outputs": [],
   "source": [
    "# wants a float\n",
    "rs.ran = 'asfd'"
   ]
  },
  {
   "cell_type": "code",
   "execution_count": null,
   "metadata": {
    "collapsed": true
   },
   "outputs": [],
   "source": [
    "# set seed, reset counter\n",
    "rs.ran = 1.0\n",
    "rs.counter"
   ]
  },
  {
   "cell_type": "code",
   "execution_count": null,
   "metadata": {
    "collapsed": true
   },
   "outputs": [],
   "source": [
    "[rs.ran for j in range(5)]"
   ]
  },
  {
   "cell_type": "code",
   "execution_count": null,
   "metadata": {
    "collapsed": true
   },
   "outputs": [],
   "source": [
    "# reset seed, same random numbers\n",
    "rs.ran = 1.0\n",
    "[rs.ran for j in range(5)]"
   ]
  }
 ],
 "metadata": {
  "anaconda-cloud": {},
  "kernelspec": {
   "display_name": "Python 3",
   "language": "python",
   "name": "python3"
  },
  "language_info": {
   "codemirror_mode": {
    "name": "ipython",
    "version": 3
   },
   "file_extension": ".py",
   "mimetype": "text/x-python",
   "name": "python",
   "nbconvert_exporter": "python",
   "pygments_lexer": "ipython3",
   "version": "3.6.3"
  }
 },
 "nbformat": 4,
 "nbformat_minor": 1
}
