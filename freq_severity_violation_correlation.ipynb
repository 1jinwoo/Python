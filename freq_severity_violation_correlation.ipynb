{
 "cells": [
  {
   "cell_type": "code",
   "execution_count": null,
   "metadata": {
    "collapsed": true
   },
   "outputs": [],
   "source": [
    "'''\n",
    "Investiages the correlation between frequency and severity of violations\n",
    "through per user analyses\n",
    "\n",
    "1. Find frequency and severity for each user\n",
    "    - freq = (# hours of violation) / (total # hours recorded)\n",
    "    - sevr = sum of (required temperature - measured temperature) / (total # hours recorded)\n",
    "                for all violations\n",
    "2. Plot each user as a datapoint and perform regression\n",
    "3. Conclude\n",
    "'''\n",
    "\n",
    "import csv\n",
    "import sys\n",
    "import os\n",
    "from datetime import datetime"
   ]
  },
  {
   "cell_type": "code",
   "execution_count": null,
   "metadata": {
    "collapsed": true
   },
   "outputs": [],
   "source": [
    "def calculate_sevr(time, measured_temp, outside_temp):\n",
    "    '''\n",
    "    Calculates (required temperature - measured temperature),\n",
    "    taking into account the time to adjust required temp.\n",
    "    Returns 0 if measured_temp is not a violation\n",
    "    :type time: datetime\n",
    "    :type measured_temp: int\n",
    "    :type outside_temp: int (optional for nighttime)\n",
    "    '''\n",
    "    measured_temp = int(measured_temp)\n",
    "    try:\n",
    "        outside_temp = int(outside_temp)\n",
    "    except Exception:\n",
    "        outside_temp = None\n",
    "    diff = 0\n",
    "    day = [hr for hr in range(6, 22)] # day: 6 AM - 10 PM\n",
    "    night = [22, 23, 0, 1, 2, 3, 4, 5] # night: 10 PM - 6 AM\n",
    "    if time.hour in day:\n",
    "        if not outside_temp:\n",
    "            # Daytime calculation requires outside_temp, but csv files sometimes don't\n",
    "            # satisfy this condition so treating not-enough-info as just non-violationf or now\n",
    "            pass\n",
    "            # raise ValueError('Daytime calculation requires outside_temp information')\n",
    "        elif outside_temp < 55:\n",
    "            required_temp = 68\n",
    "            diff = required_temp - measured_temp\n",
    "        else:\n",
    "            # Not a violation\n",
    "            pass\n",
    "        \n",
    "    if time.hour in night:\n",
    "        required_temp = 62\n",
    "        diff = required_temp - measured_temp\n",
    "    \n",
    "    # Turning non-violating diff's into 0 \n",
    "    if diff < 0:\n",
    "        diff = 0\n",
    "        \n",
    "    return diff\n",
    "        "
   ]
  },
  {
   "cell_type": "code",
   "execution_count": null,
   "metadata": {
    "collapsed": true
   },
   "outputs": [],
   "source": [
    "class Row:\n",
    "    def __init__(self, user_id, sensor_id, temp, created_at, outdoor_temp, violation):\n",
    "        self.user_id = user_id\n",
    "        self.sensor_id = sensor_id\n",
    "        self.temp = temp\n",
    "        self.created_at = created_at\n",
    "        self.outdoor_temp = outdoor_temp\n",
    "        self.violation = violation\n",
    "        \n",
    "    def __repr__(self):\n",
    "        return f'<Row Object> user_id: {self.user_id}'\n",
    "    \n",
    "    def __str__(self):\n",
    "        return __repr__(self)\n",
    "    \n",
    "    def __eq__(self, another_row):\n",
    "        '''\n",
    "        Two Row objects are equal if they have the same user_id\n",
    "        '''\n",
    "        return self.user_id == another_row.user_id\n",
    "    "
   ]
  },
  {
   "cell_type": "code",
   "execution_count": null,
   "metadata": {
    "collapsed": true
   },
   "outputs": [],
   "source": [
    "class User:\n",
    "    def __init__(self, row):\n",
    "        self.user_id = row.user_id\n",
    "        self.row_list = [row]\n",
    "        self.num_violation = 0\n",
    "        if row.violation:\n",
    "            self.num_violation += 1\n",
    "        \n",
    "    def add_row(self, row):\n",
    "        if self.user_id != row.user_id:\n",
    "            raise ValueError('This row does not belong to this user')\n",
    "        self.row_list.append(row)\n",
    "        if row.violation:\n",
    "            self.num_violation += 1\n",
    "        \n",
    "    def __repr__(self):\n",
    "        return f'<User Object> user_id: {self.user_id}'\n",
    "    \n",
    "    def __str__(self):\n",
    "        return __repr__(self)\n",
    "    \n",
    "    def freq(self):\n",
    "        '''\n",
    "        Calculates the frequency of violation for this user\n",
    "        freq = (# hours of violation) / (total # hours recorded)\n",
    "        '''\n",
    "        return self.num_violation / len(self.row_list)\n",
    "    \n",
    "    def sevr(self):\n",
    "        '''\n",
    "        Calculates the severity of violation for this user\n",
    "        sevr = sum of (required temp - measured temp) / (total # hours recorded)\n",
    "        '''\n",
    "        severity = 0\n",
    "        for row in self.row_list:\n",
    "            severity += calculate_sevr(row.created_at, row.temp, row.outdoor_temp)\n",
    "        severity /= len(self.row_list)\n",
    "        return severity\n",
    "        "
   ]
  },
  {
   "cell_type": "code",
   "execution_count": null,
   "metadata": {
    "collapsed": true
   },
   "outputs": [],
   "source": [
    "def import_file(path):\n",
    "    '''\n",
    "    Imports dataset in a standardized manner\n",
    "    '''\n",
    "    \n",
    "    users = []\n",
    "\n",
    "    with open(path, 'r', newline='') as f:\n",
    "        csv_reader = csv.reader(f)\n",
    "        next(csv_reader)\n",
    "        for row in csv_reader:\n",
    "            row[0] = int(row[0])\n",
    "            row[2] = int(row[2])\n",
    "            row[3] = datetime.strptime(row[3], \"%Y-%m-%d %H:%M:%S\")\n",
    "            row[4] = row[4]\n",
    "            if row[5] == 'true':\n",
    "                row[5] = True\n",
    "            elif row[5] == 'false':\n",
    "                row[5] = False\n",
    "            else:\n",
    "                raise ValueError('unexpected value for violation')\n",
    "            row = Row(*row)\n",
    "            user_found = False\n",
    "            for user in users:\n",
    "                if row.user_id == user.user_id:\n",
    "                    user.add_row(row)\n",
    "                    user_found = True\n",
    "            if not user_found:\n",
    "                users.append(User(row))\n",
    "    return users"
   ]
  },
  {
   "cell_type": "code",
   "execution_count": null,
   "metadata": {
    "collapsed": true
   },
   "outputs": [],
   "source": [
    "def compute_freq_sevr(users):\n",
    "    '''\n",
    "    Returns datapoints in the format (freq, sevr) for each user in users\n",
    "    '''\n",
    "    datapoints = []\n",
    "    for user in users:\n",
    "        freq = user.freq()\n",
    "        sevr = user.sevr()\n",
    "        datapoint = (freq, sevr)\n",
    "        datapoints.append(datapoint)\n",
    "    return datapoints"
   ]
  },
  {
   "cell_type": "code",
   "execution_count": null,
   "metadata": {
    "collapsed": true
   },
   "outputs": [],
   "source": [
    "users = import_file('./data/dataset/clean_013118_053118.csv')\n",
    "datapoints = compute_freq_sevr(users)\n",
    "datapoints"
   ]
  },
  {
   "cell_type": "code",
   "execution_count": 49,
   "metadata": {},
   "outputs": [
    {
     "name": "stdout",
     "output_type": "stream",
     "text": [
      "                            OLS Regression Results                            \n",
      "==============================================================================\n",
      "Dep. Variable:                      y   R-squared:                       0.961\n",
      "Model:                            OLS   Adj. R-squared:                  0.961\n",
      "Method:                 Least Squares   F-statistic:                     1098.\n",
      "Date:                Thu, 15 Nov 2018   Prob (F-statistic):           9.47e-33\n",
      "Time:                        20:16:33   Log-Likelihood:                 41.796\n",
      "No. Observations:                  45   AIC:                            -81.59\n",
      "Df Residuals:                      44   BIC:                            -79.79\n",
      "Df Model:                           1                                         \n",
      "Covariance Type:            nonrobust                                         \n",
      "==============================================================================\n",
      "                 coef    std err          t      P>|t|      [0.025      0.975]\n",
      "------------------------------------------------------------------------------\n",
      "x1             4.0001      0.121     33.131      0.000       3.757       4.243\n",
      "==============================================================================\n",
      "Omnibus:                        6.838   Durbin-Watson:                   1.831\n",
      "Prob(Omnibus):                  0.033   Jarque-Bera (JB):               11.408\n",
      "Skew:                           0.008   Prob(JB):                      0.00333\n",
      "Kurtosis:                       5.467   Cond. No.                         1.00\n",
      "==============================================================================\n",
      "\n",
      "Warnings:\n",
      "[1] Standard Errors assume that the covariance matrix of the errors is correctly specified.\n"
     ]
    },
    {
     "data": {
      "image/png": "[encoded data removed]",
      "text/plain": [
       "<matplotlib.figure.Figure at 0x1d18bbbf240>"
      ]
     },
     "metadata": {},
     "output_type": "display_data"
    }
   ],
   "source": [
    "%matplotlib inline\n",
    "import matplotlib.pyplot as plt\n",
    "import pandas as pd\n",
    "from scipy import stats\n",
    "import seaborn as sns\n",
    "\n",
    "def plot_freq_sevr(datapoints):\n",
    "    # Showing some stats\n",
    "    X = [datapoint[0] for datapoint in datapoints]\n",
    "    Y = [datapoint[1] for datapoint in datapoints]\n",
    "    \n",
    "    results = sm.OLS(Y, X).fit()\n",
    "    \n",
    "    print(results.summary())\n",
    "    \n",
    "    df = pd.DataFrame({'freq':X, 'sevr':Y})\n",
    "    # Plotting the graph and the best-fit line\n",
    "    sns.regplot('freq', 'sevr', df)\n",
    "    \n",
    "    plt.title('Correlation Between Frequency and Severity of Violation Per User')\n",
    "    plt.xlabel('frequency (hour / hour)')\n",
    "    plt.ylabel('severity (degree Fahrenheit / hour)')\n",
    "    plt.show()\n",
    "    \n",
    "plot_freq_sevr(datapoints)"
   ]
  },
  {
   "cell_type": "markdown",
   "metadata": {},
   "source": [
    "## Conclusion\n",
    "By measuring frequency as number of hours divided by total number of hours recorded, and severity as the sum of the differences between required temperature and measured temperature all divided by total number of hours recorded, we factored out the number of hours recorded from the analysis.\n",
    "However, we still find that severity (roughly how far below from required temperature actual temperature is) and frequency of violation is strongly correlated with the $r^2$ value of $0.961$."
   ]
  }
 ],
 "metadata": {
  "kernelspec": {
   "display_name": "Python 3",
   "language": "python",
   "name": "python3"
  },
  "language_info": {
   "codemirror_mode": {
    "name": "ipython",
    "version": 3
   },
   "file_extension": ".py",
   "mimetype": "text/x-python",
   "name": "python",
   "nbconvert_exporter": "python",
   "pygments_lexer": "ipython3",
   "version": "3.6.3"
  }
 },
 "nbformat": 4,
 "nbformat_minor": 2
}
