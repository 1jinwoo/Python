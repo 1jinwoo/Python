{
 "cells": [
  {
   "cell_type": "markdown",
   "metadata": {},
   "source": [
    "# Python performance issues"
   ]
  },
  {
   "cell_type": "markdown",
   "metadata": {},
   "source": [
    "# suppose we execute this code in C\n",
    "\n",
    "```\n",
    "long j, total;\n",
    "\n",
    "total = 0;\n",
    "j = 300;\n",
    "\n",
    "for(; j<1000; j++)\n",
    "    total += j;\n",
    "\n",
    "the C compilier will reserve two 8 byte chunks of memory to hold the current values\n",
    "of total and j. \n",
    "\n",
    "after 1st loop\n",
    "\n",
    "    j: 300\n",
    "    total: 300\n",
    "    \n",
    "after 2nd loop\n",
    "\n",
    "    j: 301\n",
    "    total: 601\n",
    "```\n",
    "\n",
    "in each loop, the values of j and total will be updated in their reserved memory chunks.\n",
    "their previous values will be lost.\n",
    "\n"
   ]
  },
  {
   "cell_type": "markdown",
   "metadata": {},
   "source": [
    "# look at Python version of loop\n",
    "\n",
    "```\n",
    "total = 0\n",
    "for j in range(300, 1000):\n",
    "    total += j\n",
    "    \n",
    "there is NO dedicated memory for storing the values of j and total. j and total\n",
    "just point to objects in the heap. \n",
    "\n",
    "after 1st loop(heap object on right:\n",
    "\n",
    "    j -> 300\n",
    "    total -> 300\n",
    "\n",
    "    after 2nd loop\n",
    "\n",
    "    j -> 301\n",
    "    total -> 601\n",
    "      -> 300   # nothing is pointing to 300\n",
    "      \n",
    "    after 3rd loop\n",
    "    j -> 302\n",
    "    total -> 903\n",
    "      -> 301\n",
    "      -> 601\n",
    "```\n",
    "\n",
    "each time around the loop, we create two new int objects, and \n",
    "throw two objects away! way more work than C is doing!\n"
   ]
  },
  {
   "cell_type": "markdown",
   "metadata": {},
   "source": [
    "# Boxed and Unboxed Data\n",
    "- 'unboxed' refers to the the data itself\n",
    "- 'long x;' in C reserves 8 bytes for x\n",
    "    - no overhead\n",
    "- 'boxed' refers to all the memory associated with the object\n",
    "- an int in Python is an OBJECT.\n",
    "- a '500' int object has other fields aside from the '500' value\n",
    "    - attributes dict \n",
    "    - type info \n",
    "    - reference count\n",
    "- very substantial memory overhead\n",
    "    - int object uses 28 bytes!"
   ]
  },
  {
   "cell_type": "code",
   "execution_count": null,
   "metadata": {},
   "outputs": [],
   "source": [
    "import sys\n",
    "\n",
    "# tells you how many bytes an object is using\n",
    "sys.getsizeof(500)"
   ]
  },
  {
   "cell_type": "markdown",
   "metadata": {},
   "source": [
    "# C code is complied, Python interpreted\n",
    "- C compiliers generate highly optimized code\n",
    "- Python interpreter is much slower\n",
    "\n",
    "# Another issue - arrays\n",
    "- suppose we want to sum a large array\n",
    "- in C, we might do\n",
    "\n",
    "```\n",
    "// this array will be a contiguous chunk of 8000 bytes\n",
    "long data[1000];\n",
    "\n",
    "// something happens here to load data \n",
    "// now want to sum it\n",
    "\n",
    "long j, total;\n",
    "\n",
    "total = 0; \n",
    "j = 0;\n",
    "for(; j< 1000; j++)\n",
    "    total += data[j]\n",
    "``` \n"
   ]
  },
  {
   "cell_type": "markdown",
   "metadata": {},
   "source": [
    "# Python doesn't have arrays, closest thing is a List\n",
    "\n",
    "```\n",
    "# make 1000 element list\n",
    "\n",
    "data = 1000*[0]\n",
    "\n",
    "# load data\n",
    "# now sum it\n",
    "\n",
    "total = 0\n",
    "for e in data:\n",
    "    total += e\n",
    "    \n",
    "```\n",
    "\n",
    "# the numbers in data will NOT be contiguous, leading to poor cache performance\n",
    "# lists take up memory\n"
   ]
  },
  {
   "cell_type": "markdown",
   "metadata": {},
   "source": [
    "# Python performance problems\n",
    "- Memory bloat\n",
    "- interpreter is slow\n",
    "- no contiguous arrays\n",
    "    - poor utilization of cache\n",
    "    - lists take extra memory"
   ]
  },
  {
   "cell_type": "markdown",
   "metadata": {},
   "source": [
    "# Another problem - vector arithmetic\n",
    "- unlike languages like Matlab, Mathematica and C++, Python does not provide\n",
    "vector 'arithmetic', which is extremely useful in:\n",
    "    - machine learning\n",
    "    - statistics \n",
    "    - big data\n",
    "    - parallel processing\n",
    "    - science and engineering in general\n"
   ]
  },
  {
   "cell_type": "code",
   "execution_count": null,
   "metadata": {},
   "outputs": [],
   "source": [
    "# first time i tried this i was surprised\n",
    "# expected to get [3,6,9]\n",
    "\n",
    "[1,2,3]*3"
   ]
  },
  {
   "cell_type": "code",
   "execution_count": null,
   "metadata": {},
   "outputs": [],
   "source": [
    "# this doesn't work at all,\n",
    "# i expected [4,10,18]\n",
    "\n",
    "[1,2,3]*[4,5,6]"
   ]
  },
  {
   "cell_type": "code",
   "execution_count": null,
   "metadata": {},
   "outputs": [],
   "source": [
    "# this doesn't work either\n",
    "# i expected to get back a \n",
    "# list of sin evals\n",
    "\n",
    "import math\n",
    "\n",
    "math.sin([1.,2.,3.])"
   ]
  },
  {
   "cell_type": "code",
   "execution_count": null,
   "metadata": {},
   "outputs": [],
   "source": [
    "# concatenates\n",
    "# expected [5,7,9]\n",
    "\n",
    "[1,2,3]+[4,5,6]"
   ]
  }
 ],
 "metadata": {
  "anaconda-cloud": {},
  "kernelspec": {
   "display_name": "Python 3",
   "language": "python",
   "name": "python3"
  },
  "language_info": {
   "codemirror_mode": {
    "name": "ipython",
    "version": 3
   },
   "file_extension": ".py",
   "mimetype": "text/x-python",
   "name": "python",
   "nbconvert_exporter": "python",
   "pygments_lexer": "ipython3",
   "version": "3.6.5"
  }
 },
 "nbformat": 4,
 "nbformat_minor": 1
}
