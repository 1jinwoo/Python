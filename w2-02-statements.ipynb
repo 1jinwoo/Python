{
 "cells": [
  {
   "cell_type": "markdown",
   "metadata": {},
   "source": [
    "# Python Statements\n",
    "\n",
    "# Assignment\n",
    "- form/syntax is \n",
    "    - variable = expression\n",
    "+ variables hold arbitrary object references\n",
    "+ objects have a type, variables do not\n",
    "- in languages like Java/C++, variables are 'created' by declaring them\n",
    "- in Python, variables are created by assignment\n",
    "- value of the expression is not printed by the read-eval-print loop"
   ]
  },
  {
   "cell_type": "code",
   "execution_count": 1,
   "metadata": {
    "collapsed": true
   },
   "outputs": [],
   "source": [
    "# x gets a reference to the object generated \n",
    "# by the expression on the right hand side\n",
    "# value of list(range(5)) expression is not printed\n",
    "\n",
    "x = list(range(5))"
   ]
  },
  {
   "cell_type": "code",
   "execution_count": 2,
   "metadata": {},
   "outputs": [
    {
     "data": {
      "text/plain": [
       "[0, 1, 2, 3, 4]"
      ]
     },
     "execution_count": 2,
     "metadata": {},
     "output_type": "execute_result"
    }
   ],
   "source": [
    "# have to 'eval' x by itself to see what object x refers to\n",
    "# 'x' is an expression, so the read-eval-print looop goes to work\n",
    "\n",
    "x"
   ]
  },
  {
   "cell_type": "markdown",
   "metadata": {},
   "source": [
    "# Incrementing\n",
    "- unlike most languages, Python does not have unit increment and decrement operators\n",
    "    - var++, ++var, var--, --var\n",
    "- does have \"augmented\" operators\n",
    "    - += -= *=, etc"
   ]
  },
  {
   "cell_type": "code",
   "execution_count": 3,
   "metadata": {},
   "outputs": [
    {
     "ename": "SyntaxError",
     "evalue": "invalid syntax (<ipython-input-3-7a041e879490>, line 4)",
     "output_type": "error",
     "traceback": [
      "\u001b[1;36m  File \u001b[1;32m\"<ipython-input-3-7a041e879490>\"\u001b[1;36m, line \u001b[1;32m4\u001b[0m\n\u001b[1;33m    x++\u001b[0m\n\u001b[1;37m       ^\u001b[0m\n\u001b[1;31mSyntaxError\u001b[0m\u001b[1;31m:\u001b[0m invalid syntax\n"
     ]
    }
   ],
   "source": [
    "# nope \n",
    "\n",
    "x = 3\n",
    "x++"
   ]
  },
  {
   "cell_type": "code",
   "execution_count": 4,
   "metadata": {},
   "outputs": [
    {
     "data": {
      "text/plain": [
       "4"
      ]
     },
     "execution_count": 4,
     "metadata": {},
     "output_type": "execute_result"
    }
   ],
   "source": [
    "# ok\n",
    "\n",
    "x = 3\n",
    "x += 1\n",
    "x"
   ]
  },
  {
   "cell_type": "markdown",
   "metadata": {},
   "source": [
    "# Packing/Unpacking(or Structuring/Destructuring) Assignments"
   ]
  },
  {
   "cell_type": "code",
   "execution_count": 5,
   "metadata": {},
   "outputs": [
    {
     "data": {
      "text/plain": [
       "[1, 2, 3]"
      ]
     },
     "execution_count": 5,
     "metadata": {},
     "output_type": "execute_result"
    }
   ],
   "source": [
    "# can do several assignments in one statement\n",
    "# also known as \"destructuring\" or \"unpacking\"\n",
    "\n",
    "x, y, z = 1, 2, 3\n",
    "[x, y, z]"
   ]
  },
  {
   "cell_type": "code",
   "execution_count": 6,
   "metadata": {},
   "outputs": [
    {
     "data": {
      "text/plain": [
       "[4, 5, 6]"
      ]
     },
     "execution_count": 6,
     "metadata": {},
     "output_type": "execute_result"
    }
   ],
   "source": [
    "# above is shorthand for this\n",
    "\n",
    "(x,y,z) = (4,5,6)\n",
    "[x,y,z]"
   ]
  },
  {
   "cell_type": "code",
   "execution_count": 7,
   "metadata": {},
   "outputs": [
    {
     "data": {
      "text/plain": [
       "[7, 8, 9]"
      ]
     },
     "execution_count": 7,
     "metadata": {},
     "output_type": "execute_result"
    }
   ],
   "source": [
    "# works with lists as well\n",
    "\n",
    "[x, [y, z]] = [7,[8,9]]\n",
    "\n",
    "[x, y, z]"
   ]
  },
  {
   "cell_type": "code",
   "execution_count": 8,
   "metadata": {},
   "outputs": [
    {
     "data": {
      "text/plain": [
       "[8, 7]"
      ]
     },
     "execution_count": 8,
     "metadata": {},
     "output_type": "execute_result"
    }
   ],
   "source": [
    "# unpacking happens 'in parallel' \n",
    "# don't need tmps to do 'swaps'\n",
    "\n",
    "y, x = x, y\n",
    "[x, y]"
   ]
  },
  {
   "cell_type": "code",
   "execution_count": 9,
   "metadata": {},
   "outputs": [
    {
     "ename": "ValueError",
     "evalue": "too many values to unpack (expected 2)",
     "output_type": "error",
     "traceback": [
      "\u001b[1;31m---------------------------------------------------------------------------\u001b[0m",
      "\u001b[1;31mValueError\u001b[0m                                Traceback (most recent call last)",
      "\u001b[1;32m<ipython-input-9-8f674c0cd5ae>\u001b[0m in \u001b[0;36m<module>\u001b[1;34m()\u001b[0m\n\u001b[0;32m      2\u001b[0m \u001b[1;31m# will get an error\u001b[0m\u001b[1;33m\u001b[0m\u001b[1;33m\u001b[0m\u001b[0m\n\u001b[0;32m      3\u001b[0m \u001b[1;33m\u001b[0m\u001b[0m\n\u001b[1;32m----> 4\u001b[1;33m \u001b[0mx\u001b[0m\u001b[1;33m,\u001b[0m\u001b[0my\u001b[0m \u001b[1;33m=\u001b[0m \u001b[1;36m1\u001b[0m\u001b[1;33m,\u001b[0m\u001b[1;36m2\u001b[0m\u001b[1;33m,\u001b[0m\u001b[1;36m3\u001b[0m\u001b[1;33m\u001b[0m\u001b[0m\n\u001b[0m",
      "\u001b[1;31mValueError\u001b[0m: too many values to unpack (expected 2)"
     ]
    }
   ],
   "source": [
    "# if left and right side don't have the same structure, \n",
    "# will get an error\n",
    "\n",
    "x,y = 1,2,3"
   ]
  },
  {
   "cell_type": "code",
   "execution_count": 10,
   "metadata": {},
   "outputs": [
    {
     "data": {
      "text/plain": [
       "[1, [2, 3, 4]]"
      ]
     },
     "execution_count": 10,
     "metadata": {},
     "output_type": "execute_result"
    }
   ],
   "source": [
    "# *var will match an arbitrary number of elements, including zero\n",
    "\n",
    "head, *tail = [1,2,3,4]\n",
    "[head, tail]"
   ]
  },
  {
   "cell_type": "code",
   "execution_count": 11,
   "metadata": {},
   "outputs": [
    {
     "data": {
      "text/plain": [
       "[1, []]"
      ]
     },
     "execution_count": 11,
     "metadata": {},
     "output_type": "execute_result"
    }
   ],
   "source": [
    "head, *tail = [1]\n",
    "[head, tail]"
   ]
  },
  {
   "cell_type": "code",
   "execution_count": 12,
   "metadata": {},
   "outputs": [
    {
     "data": {
      "text/plain": [
       "[1, [2, 3, 4], 5]"
      ]
     },
     "execution_count": 12,
     "metadata": {},
     "output_type": "execute_result"
    }
   ],
   "source": [
    "x, *y, z = [1,2,3,4,5]\n",
    "[x,y,z]"
   ]
  },
  {
   "cell_type": "markdown",
   "metadata": {},
   "source": [
    "# Statement Blocks\n",
    "+ some statements, like 'if', 'for', 'while' and 'def', 'class', 'try' end with a ':' to mark a new block\n",
    "+ subsequent statements in the block must be indented\n",
    "+ the block ends when the indenting reverts to the previous level\n",
    "- in other words, python demarcates \"statement blocks\" by indentation. Java/C++ uses '{' '}'\n",
    "- indentation must be correct, or program will either be incorrect, or not run at all"
   ]
  },
  {
   "cell_type": "markdown",
   "metadata": {},
   "source": [
    "# if\n",
    "+ unlike C++/Java, Python doesn't require parens around the predicate\n",
    "- elif, else claues are optional\n",
    "- elif is used to \"chain\" if's\n",
    "- else clause is executed if all previous predicates fail\n",
    "- Python doesn't have a 'switch' statement - simulate with if like example below"
   ]
  },
  {
   "cell_type": "code",
   "execution_count": 13,
   "metadata": {},
   "outputs": [
    {
     "name": "stdout",
     "output_type": "stream",
     "text": [
      "flag == 1\n",
      "end of indent ends if statement\n"
     ]
    }
   ],
   "source": [
    "# note \":\" at end of if, elif, else\n",
    "# note identing of print statements\n",
    "\n",
    "flag = 1\n",
    "\n",
    "if flag == 1:\n",
    "    # this clause will be executed\n",
    "    print('flag == 1')\n",
    "elif flag == 2:\n",
    "    print('flag == 2')\n",
    "elif flag == 3:\n",
    "    print('flag == 3')\n",
    "else:\n",
    "    print(\"flag didn't == 1 or 2 or 3\")\n",
    "print('end of indent ends if statement')"
   ]
  },
  {
   "cell_type": "code",
   "execution_count": 14,
   "metadata": {},
   "outputs": [
    {
     "name": "stdout",
     "output_type": "stream",
     "text": [
      "flag == 2\n",
      "end of indent ends if statement\n"
     ]
    }
   ],
   "source": [
    "flag = 2\n",
    "\n",
    "if flag == 1:\n",
    "    print('flag == 1')\n",
    "elif flag == 2:\n",
    "    # this clause will be executed\n",
    "    print('flag == 2')\n",
    "elif flag == 3:\n",
    "    print('flag == 3')\n",
    "else:\n",
    "    print(\"flag didn't == 1 or 2 or 3\")\n",
    "print('end of indent ends if statement')"
   ]
  },
  {
   "cell_type": "code",
   "execution_count": 15,
   "metadata": {},
   "outputs": [
    {
     "name": "stdout",
     "output_type": "stream",
     "text": [
      "flag didn't == 1 or 2 or 3\n",
      "end of indent ends if statement\n"
     ]
    }
   ],
   "source": [
    "flag = 134\n",
    "\n",
    "if flag == 1:\n",
    "    print('flag == 1')\n",
    "elif flag == 2:\n",
    "    print('flag == 2')\n",
    "elif flag == 3:\n",
    "    print('flag == 3')\n",
    "else:\n",
    "    # this 'default clause' will be executed\n",
    "    print(\"flag didn't == 1 or 2 or 3\")\n",
    "print('end of indent ends if statement')"
   ]
  },
  {
   "cell_type": "markdown",
   "metadata": {},
   "source": [
    "# Ternary if\n",
    "- very useful\n",
    "- normal if is a statement, but ternary if is an expression, so it returns a value\n",
    "- like 'pred ? TrueVal : FalseVal' in Java/C/C++\n",
    "- peculiar syntax in python"
   ]
  },
  {
   "cell_type": "code",
   "execution_count": null,
   "metadata": {
    "collapsed": true
   },
   "outputs": [],
   "source": [
    "predicate = True\n",
    "\n",
    "val = 'true val' if predicate else 'false val'\n",
    "val"
   ]
  },
  {
   "cell_type": "code",
   "execution_count": null,
   "metadata": {
    "collapsed": true
   },
   "outputs": [],
   "source": [
    "predicate = False\n",
    "\n",
    "val = 'true val' if predicate  else 'false val'\n",
    "val"
   ]
  },
  {
   "cell_type": "markdown",
   "metadata": {},
   "source": [
    "# for\n",
    "- basic way to iterate, but not always the best\n",
    "- iterates over the elements of an \"iterable\", like range, list, tuple, string\n",
    "- later we will learn about the \"iteration protocol\"\n",
    "- note \":\" and indentation\n",
    "- for supports usual 'break' and 'continue' statements"
   ]
  },
  {
   "cell_type": "code",
   "execution_count": null,
   "metadata": {
    "collapsed": true
   },
   "outputs": [],
   "source": [
    "for x in [3,6,7,2]:\n",
    "    # loop body of the for \n",
    "    print(x)\n",
    "    print(x+10)"
   ]
  },
  {
   "cell_type": "code",
   "execution_count": null,
   "metadata": {
    "collapsed": true
   },
   "outputs": [],
   "source": [
    "# continue example\n",
    "\n",
    "for x in range(4):\n",
    "    if x == 2:\n",
    "        # rest of loop body will be skipped\n",
    "        continue\n",
    "    for y in range(10,12):\n",
    "        print(x,y)"
   ]
  },
  {
   "cell_type": "code",
   "execution_count": 16,
   "metadata": {},
   "outputs": [
    {
     "name": "stdout",
     "output_type": "stream",
     "text": [
      "0 10\n",
      "0 11\n",
      "1 10\n",
      "1 11\n",
      "3 10\n",
      "3 11\n"
     ]
    }
   ],
   "source": [
    "# break example\n",
    "\n",
    "for x in range(4):\n",
    "    if x == 2:\n",
    "        # rest of loop body will be skipped\n",
    "        continue\n",
    "    for y in range(10,15):\n",
    "        if y == 12:\n",
    "            # this will terminate the inner y loop,\n",
    "            # but the outer x loop will continue\n",
    "            break\n",
    "        print(x,y)"
   ]
  },
  {
   "cell_type": "markdown",
   "metadata": {},
   "source": [
    "# breaking out of nested loops\n",
    "- later we will see better ways to do this using:\n",
    "    - the error system\n",
    "    - itertools module"
   ]
  },
  {
   "cell_type": "code",
   "execution_count": null,
   "metadata": {
    "collapsed": true
   },
   "outputs": [],
   "source": [
    "# can use a boolean var,\n",
    "# but can get a little complicated\n",
    "\n",
    "terminateLoop = False\n",
    "\n",
    "for x in range(4):\n",
    "    if terminateLoop:\n",
    "        break\n",
    "    print('x', x)\n",
    "        \n",
    "    for y in range(4):\n",
    "        if y == 3:\n",
    "            terminateLoop = True\n",
    "            # exit y loop\n",
    "            break\n",
    "        print('y', y)\n",
    "        "
   ]
  },
  {
   "cell_type": "code",
   "execution_count": null,
   "metadata": {
    "collapsed": true
   },
   "outputs": [],
   "source": [
    "# sometimes you can use return\n",
    "\n",
    "def foo(n):\n",
    "    for x in range(4):\n",
    "        print('x',x)\n",
    "        for y in range(4):\n",
    "            print('y', y)\n",
    "            if y == 3:\n",
    "                return\n",
    "foo(4)"
   ]
  },
  {
   "cell_type": "markdown",
   "metadata": {},
   "source": [
    "# 'for' helper functions\n",
    "- extremely useful and consise\n",
    "    - 'range'\n",
    "    - 'enumerate'\n",
    "    - 'zip'"
   ]
  },
  {
   "cell_type": "code",
   "execution_count": null,
   "metadata": {
    "collapsed": true
   },
   "outputs": [],
   "source": [
    "# range - 'for' will iterate over list specified by range\n",
    "\n",
    "total = 0\n",
    "\n",
    "for n in range(2, 7, 2):\n",
    "    print('element', n)\n",
    "    total += n\n",
    "\n",
    "print('total', total)\n"
   ]
  },
  {
   "cell_type": "code",
   "execution_count": 17,
   "metadata": {},
   "outputs": [
    {
     "name": "stdout",
     "output_type": "stream",
     "text": [
      "mudd\n",
      "shapiro\n",
      "butler\n"
     ]
    }
   ],
   "source": [
    "# if you are iterating over an arbitrary iterable,\n",
    "# as opposed to a range, there is no element index\n",
    "# 'enumerate' adds an index \n",
    "\n",
    "x = ('mudd', 'shapiro', 'butler')\n",
    "\n",
    "for e in x:\n",
    "    print(e)"
   ]
  },
  {
   "cell_type": "code",
   "execution_count": 18,
   "metadata": {},
   "outputs": [
    {
     "data": {
      "text/plain": [
       "<enumerate at 0x25e9f790d80>"
      ]
     },
     "execution_count": 18,
     "metadata": {},
     "output_type": "execute_result"
    }
   ],
   "source": [
    "enumerate(x)"
   ]
  },
  {
   "cell_type": "code",
   "execution_count": 19,
   "metadata": {},
   "outputs": [
    {
     "data": {
      "text/plain": [
       "[(0, 'mudd'), (1, 'shapiro'), (2, 'butler')]"
      ]
     },
     "execution_count": 19,
     "metadata": {},
     "output_type": "execute_result"
    }
   ],
   "source": [
    "# enumerate is lazy! \n",
    "# use list to force evaluation\n",
    "# get a length 3 list where each element is a length 2 tuple\n",
    "\n",
    "list(enumerate(x))"
   ]
  },
  {
   "cell_type": "code",
   "execution_count": 20,
   "metadata": {},
   "outputs": [
    {
     "name": "stdout",
     "output_type": "stream",
     "text": [
      "(0, 'mudd')\n",
      "(1, 'shapiro')\n",
      "(2, 'butler')\n"
     ]
    }
   ],
   "source": [
    "# for will deal with enumerate \n",
    "# emumerate elements are length 2 tuples\n",
    "\n",
    "for e in enumerate(x):\n",
    "    print(e)"
   ]
  },
  {
   "cell_type": "code",
   "execution_count": 21,
   "metadata": {},
   "outputs": [
    {
     "name": "stdout",
     "output_type": "stream",
     "text": [
      "0 mudd\n",
      "1 shapiro\n",
      "2 butler\n"
     ]
    }
   ],
   "source": [
    "# note 'j, lib' - destructures/unpacks the length 2 tuples\n",
    "# from enumerate\n",
    "\n",
    "for j, lib in enumerate(x):\n",
    "    print(j, lib)"
   ]
  },
  {
   "cell_type": "code",
   "execution_count": 22,
   "metadata": {},
   "outputs": [
    {
     "data": {
      "text/plain": [
       "[(10, 'mudd', 'engineering'),\n",
       " (11, 'shapiro', 'compsci'),\n",
       " (12, 'butler', 'library')]"
      ]
     },
     "execution_count": 22,
     "metadata": {},
     "output_type": "execute_result"
    }
   ],
   "source": [
    "# sometimes you want to iterate thru two or more lists simultaneously\n",
    "# 'zip' - threads lists together. 'zip' is lazy\n",
    "# another list of tuples\n",
    "\n",
    "r = range(10,13)\n",
    "y = ['engineering', 'compsci', 'library']\n",
    "list(zip(r, x, y))"
   ]
  },
  {
   "cell_type": "code",
   "execution_count": 23,
   "metadata": {},
   "outputs": [
    {
     "name": "stdout",
     "output_type": "stream",
     "text": [
      "10 mudd engineering\n",
      "11 shapiro compsci\n",
      "12 butler library\n"
     ]
    }
   ],
   "source": [
    "# index, name, func destructures the tuples\n",
    "\n",
    "for index, building, purpose in zip(r, x, y):\n",
    "    print(index, building, purpose)"
   ]
  },
  {
   "cell_type": "code",
   "execution_count": 24,
   "metadata": {},
   "outputs": [
    {
     "data": {
      "text/plain": [
       "[(0, ('mudd', 'engineering')),\n",
       " (1, ('shapiro', 'compsci')),\n",
       " (2, ('butler', 'library'))]"
      ]
     },
     "execution_count": 24,
     "metadata": {},
     "output_type": "execute_result"
    }
   ],
   "source": [
    "# mix it up\n",
    "\n",
    "list(enumerate(zip(x, y)))"
   ]
  },
  {
   "cell_type": "code",
   "execution_count": 25,
   "metadata": {},
   "outputs": [
    {
     "name": "stdout",
     "output_type": "stream",
     "text": [
      "0 ('mudd', 'engineering')\n",
      "1 ('shapiro', 'compsci')\n",
      "2 ('butler', 'library')\n"
     ]
    }
   ],
   "source": [
    "# 'p' is bound to the 2 element tuple from the zip\n",
    "\n",
    "for j, p in enumerate(zip(x, y)):\n",
    "    print(j, p)"
   ]
  },
  {
   "cell_type": "code",
   "execution_count": null,
   "metadata": {
    "collapsed": true
   },
   "outputs": [],
   "source": [
    "# directly match the structure\n",
    "\n",
    "for j,[a,b] in enumerate(zip(x, y)):\n",
    "    print(j, a, b )"
   ]
  },
  {
   "cell_type": "markdown",
   "metadata": {},
   "source": [
    "# Set Comprehensions"
   ]
  },
  {
   "cell_type": "code",
   "execution_count": 26,
   "metadata": {},
   "outputs": [
    {
     "data": {
      "text/plain": [
       "{110, 140}"
      ]
     },
     "execution_count": 26,
     "metadata": {},
     "output_type": "execute_result"
    }
   ],
   "source": [
    "# accumulate to a set\n",
    "# 'add' to a set\n",
    "# duplicates are ignored and eliminated \n",
    "\n",
    "result = set()\n",
    "for x in [3,11,2,3,11,14]:\n",
    "    if x > 10:\n",
    "        result.add(x*10)\n",
    "result"
   ]
  },
  {
   "cell_type": "code",
   "execution_count": 27,
   "metadata": {},
   "outputs": [
    {
     "data": {
      "text/plain": [
       "[{110, 140}, set]"
      ]
     },
     "execution_count": 27,
     "metadata": {},
     "output_type": "execute_result"
    }
   ],
   "source": [
    "# better - use a 'set comprehension'\n",
    "\n",
    "s = {x*10 for x in [3,11,2,3,11,14] if x>10}\n",
    "[s, type(s)]"
   ]
  },
  {
   "cell_type": "markdown",
   "metadata": {},
   "source": [
    "# Dict comprehensions"
   ]
  },
  {
   "cell_type": "code",
   "execution_count": 28,
   "metadata": {},
   "outputs": [
    {
     "data": {
      "text/plain": [
       "{0: 10, 1: 11, 2: 12, 3: 13, 4: 14}"
      ]
     },
     "execution_count": 28,
     "metadata": {},
     "output_type": "execute_result"
    }
   ],
   "source": [
    "# acculumation var\n",
    "\n",
    "d = {}\n",
    "\n",
    "for x in range(5):\n",
    "    d[x] = x+10\n",
    "\n",
    "d"
   ]
  },
  {
   "cell_type": "code",
   "execution_count": 29,
   "metadata": {},
   "outputs": [
    {
     "data": {
      "text/plain": [
       "{0: 10, 1: 11, 2: 12, 3: 13, 4: 14}"
      ]
     },
     "execution_count": 29,
     "metadata": {},
     "output_type": "execute_result"
    }
   ],
   "source": [
    "# dict comprehension\n",
    "# no acculumation var\n",
    "\n",
    "{x:x+10 for x in range(5)}"
   ]
  },
  {
   "cell_type": "markdown",
   "metadata": {},
   "source": [
    "# while\n",
    "+ used for more complex loops that\n",
    "depend on arbitrary conditions for loop termination\n",
    "- 'break' and 'continue' work in while loops"
   ]
  },
  {
   "cell_type": "code",
   "execution_count": 30,
   "metadata": {},
   "outputs": [
    {
     "name": "stdout",
     "output_type": "stream",
     "text": [
      "0\n",
      "1\n",
      "2\n",
      "3\n",
      "4\n",
      "5\n",
      "6\n"
     ]
    }
   ],
   "source": [
    "n = 0\n",
    "while n < 7:\n",
    "    print(n)\n",
    "    n += 1"
   ]
  },
  {
   "cell_type": "code",
   "execution_count": 31,
   "metadata": {},
   "outputs": [
    {
     "name": "stdout",
     "output_type": "stream",
     "text": [
      "1\n",
      "3\n",
      "4\n",
      "5\n"
     ]
    }
   ],
   "source": [
    "n = 0\n",
    "while n < 7:\n",
    "    n += 1\n",
    "    if n == 2:\n",
    "        continue\n",
    "    print(n)\n",
    "    if n > 4:\n",
    "        break"
   ]
  },
  {
   "cell_type": "markdown",
   "metadata": {},
   "source": [
    "# implement 'russian multiplication' (for integers)\n",
    "- we perform multiplication by reducing b, and increasing a, until b = 1 \n",
    "- given a * b, rm proceeds by looking at b\n",
    "- if b is even, let a = 2*a, and b = b//2\n",
    "- if b is odd, let a = 2*a, b = b//2, and increment an accumulator variable acc by a\n",
    "- final product will be a + acc"
   ]
  },
  {
   "cell_type": "code",
   "execution_count": 32,
   "metadata": {
    "collapsed": true
   },
   "outputs": [],
   "source": [
    "def rm(a, b):\n",
    "    acc = 0\n",
    "    while b>1:\n",
    "        if b % 2 != 0:\n",
    "            acc += a\n",
    "        a *= 2\n",
    "        b //= 2\n",
    "    return a + acc"
   ]
  },
  {
   "cell_type": "code",
   "execution_count": 33,
   "metadata": {},
   "outputs": [
    {
     "data": {
      "text/plain": [
       "1015160508156"
      ]
     },
     "execution_count": 33,
     "metadata": {},
     "output_type": "execute_result"
    }
   ],
   "source": [
    "rm( 2342134, 433434)"
   ]
  },
  {
   "cell_type": "code",
   "execution_count": 34,
   "metadata": {},
   "outputs": [
    {
     "data": {
      "text/plain": [
       "1015160508156"
      ]
     },
     "execution_count": 34,
     "metadata": {},
     "output_type": "execute_result"
    }
   ],
   "source": [
    "2342134 * 433434"
   ]
  },
  {
   "cell_type": "markdown",
   "metadata": {},
   "source": [
    "# infinite loops\n",
    "- use while with True predicate to keep looping forever\n",
    "- servers, for example, loop forever\n",
    "- can use break or return to exit loop\n",
    "\n",
    "\n",
    "```\n",
    "while True:\n",
    "    loopbody\n",
    "```"
   ]
  },
  {
   "cell_type": "code",
   "execution_count": 35,
   "metadata": {},
   "outputs": [
    {
     "name": "stdout",
     "output_type": "stream",
     "text": [
      "12\n",
      "10\n",
      "13\n"
     ]
    }
   ],
   "source": [
    "import random\n",
    "\n",
    "while True:\n",
    "        r = random.randint(10,20)\n",
    "        print(r)\n",
    "        if r == 13:\n",
    "            break"
   ]
  },
  {
   "cell_type": "code",
   "execution_count": 36,
   "metadata": {
    "collapsed": true
   },
   "outputs": [],
   "source": [
    "# proposed in 1937 \n",
    "# conjecture is that the sequence always \n",
    "# reaches 1, but nobody has \n",
    "# been able to prove it\n",
    "\n",
    "def collatz(n):\n",
    "    seq = [n]\n",
    "    # keep looping until we get 1\n",
    "    while n != 1:\n",
    "        if n % 2 == 0:\n",
    "            n = n//2\n",
    "        else:\n",
    "            n = 3*n + 1\n",
    "        seq.append(n)\n",
    "    return seq\n"
   ]
  },
  {
   "cell_type": "code",
   "execution_count": 37,
   "metadata": {},
   "outputs": [
    {
     "data": {
      "text/plain": [
       "[6, 3, 10, 5, 16, 8, 4, 2, 1]"
      ]
     },
     "execution_count": 37,
     "metadata": {},
     "output_type": "execute_result"
    }
   ],
   "source": [
    "collatz(6)"
   ]
  },
  {
   "cell_type": "code",
   "execution_count": 38,
   "metadata": {},
   "outputs": [
    {
     "data": {
      "text/plain": [
       "[19, 58, 29, 88, 44, 22, 11, 34, 17, 52, 26, 13, 40, 20, 10, 5, 16, 8, 4, 2, 1]"
      ]
     },
     "execution_count": 38,
     "metadata": {},
     "output_type": "execute_result"
    }
   ],
   "source": [
    "collatz(19)"
   ]
  },
  {
   "cell_type": "code",
   "execution_count": 39,
   "metadata": {},
   "outputs": [
    {
     "name": "stdout",
     "output_type": "stream",
     "text": [
      "[27, 82, 41, 124, 62, 31, 94, 47, 142, 71, 214, 107, 322, 161, 484, 242, 121, 364, 182, 91, 274, 137, 412, 206, 103, 310, 155, 466, 233, 700, 350, 175, 526, 263, 790, 395, 1186, 593, 1780, 890, 445, 1336, 668, 334, 167, 502, 251, 754, 377, 1132, 566, 283, 850, 425, 1276, 638, 319, 958, 479, 1438, 719, 2158, 1079, 3238, 1619, 4858, 2429, 7288, 3644, 1822, 911, 2734, 1367, 4102, 2051, 6154, 3077, 9232, 4616, 2308, 1154, 577, 1732, 866, 433, 1300, 650, 325, 976, 488, 244, 122, 61, 184, 92, 46, 23, 70, 35, 106, 53, 160, 80, 40, 20, 10, 5, 16, 8, 4, 2, 1]\n"
     ]
    }
   ],
   "source": [
    "print(collatz(27))"
   ]
  },
  {
   "cell_type": "markdown",
   "metadata": {},
   "source": [
    "# del\n",
    "- used to 'delete' various things"
   ]
  },
  {
   "cell_type": "code",
   "execution_count": 42,
   "metadata": {},
   "outputs": [
    {
     "data": {
      "text/plain": [
       "'foo'"
      ]
     },
     "execution_count": 42,
     "metadata": {},
     "output_type": "execute_result"
    }
   ],
   "source": [
    "# will remove a variable binding...\n",
    "\n",
    "x = 'foo'\n",
    "y = x\n",
    "x"
   ]
  },
  {
   "cell_type": "code",
   "execution_count": 43,
   "metadata": {},
   "outputs": [
    {
     "ename": "NameError",
     "evalue": "name 'x' is not defined",
     "output_type": "error",
     "traceback": [
      "\u001b[1;31m---------------------------------------------------------------------------\u001b[0m",
      "\u001b[1;31mNameError\u001b[0m                                 Traceback (most recent call last)",
      "\u001b[1;32m<ipython-input-43-83adaf4e6389>\u001b[0m in \u001b[0;36m<module>\u001b[1;34m()\u001b[0m\n\u001b[0;32m      1\u001b[0m \u001b[1;32mdel\u001b[0m \u001b[0mx\u001b[0m\u001b[1;33m\u001b[0m\u001b[0m\n\u001b[0;32m      2\u001b[0m \u001b[1;33m\u001b[0m\u001b[0m\n\u001b[1;32m----> 3\u001b[1;33m \u001b[0mx\u001b[0m\u001b[1;33m\u001b[0m\u001b[0m\n\u001b[0m",
      "\u001b[1;31mNameError\u001b[0m: name 'x' is not defined"
     ]
    }
   ],
   "source": [
    "del x\n",
    "\n",
    "x"
   ]
  },
  {
   "cell_type": "code",
   "execution_count": 44,
   "metadata": {},
   "outputs": [
    {
     "data": {
      "text/plain": [
       "'foo'"
      ]
     },
     "execution_count": 44,
     "metadata": {},
     "output_type": "execute_result"
    }
   ],
   "source": [
    "# but 'del' does NOT remove the 'foo' string object\n",
    "# objects ONLY disappear when there are NO references\n",
    "# to them left\n",
    "\n",
    "y"
   ]
  },
  {
   "cell_type": "code",
   "execution_count": 45,
   "metadata": {},
   "outputs": [
    {
     "ename": "TypeError",
     "evalue": "'int' object is not callable",
     "output_type": "error",
     "traceback": [
      "\u001b[1;31m---------------------------------------------------------------------------\u001b[0m",
      "\u001b[1;31mTypeError\u001b[0m                                 Traceback (most recent call last)",
      "\u001b[1;32m<ipython-input-45-13b49bf2d1b1>\u001b[0m in \u001b[0;36m<module>\u001b[1;34m()\u001b[0m\n\u001b[0;32m      2\u001b[0m \u001b[1;33m\u001b[0m\u001b[0m\n\u001b[0;32m      3\u001b[0m \u001b[0mlist\u001b[0m \u001b[1;33m=\u001b[0m \u001b[1;36m4\u001b[0m\u001b[1;33m\u001b[0m\u001b[0m\n\u001b[1;32m----> 4\u001b[1;33m \u001b[0mlist\u001b[0m\u001b[1;33m(\u001b[0m\u001b[1;34m'asdf'\u001b[0m\u001b[1;33m)\u001b[0m\u001b[1;33m\u001b[0m\u001b[0m\n\u001b[0m",
      "\u001b[1;31mTypeError\u001b[0m: 'int' object is not callable"
     ]
    }
   ],
   "source": [
    "# del can undo a BOGUS redefinition of a builtin function\n",
    "\n",
    "list = 4\n",
    "list('asdf')"
   ]
  },
  {
   "cell_type": "code",
   "execution_count": 46,
   "metadata": {},
   "outputs": [
    {
     "data": {
      "text/plain": [
       "['a', 's', 'd', 'f']"
      ]
     },
     "execution_count": 46,
     "metadata": {},
     "output_type": "execute_result"
    }
   ],
   "source": [
    "del list\n",
    "\n",
    "list('asdf')"
   ]
  },
  {
   "cell_type": "code",
   "execution_count": 47,
   "metadata": {},
   "outputs": [
    {
     "data": {
      "text/plain": [
       "{3: 33, 4: 44}"
      ]
     },
     "execution_count": 47,
     "metadata": {},
     "output_type": "execute_result"
    }
   ],
   "source": [
    "# make a small dict\n",
    "\n",
    "d = dict()\n",
    "d[3] = 33\n",
    "d[4] = 44\n",
    "d"
   ]
  },
  {
   "cell_type": "code",
   "execution_count": 48,
   "metadata": {},
   "outputs": [
    {
     "data": {
      "text/plain": [
       "{4: 44}"
      ]
     },
     "execution_count": 48,
     "metadata": {},
     "output_type": "execute_result"
    }
   ],
   "source": [
    "# delete a key/value pair\n",
    "\n",
    "del d[3]\n",
    "d"
   ]
  },
  {
   "cell_type": "code",
   "execution_count": 49,
   "metadata": {},
   "outputs": [
    {
     "data": {
      "text/plain": [
       "[0, 1, 2, 3, 4, 5, 6, 7, 8, 9]"
      ]
     },
     "execution_count": 49,
     "metadata": {},
     "output_type": "execute_result"
    }
   ],
   "source": [
    "x = list(range(10))\n",
    "x"
   ]
  },
  {
   "cell_type": "code",
   "execution_count": 50,
   "metadata": {},
   "outputs": [
    {
     "data": {
      "text/plain": [
       "[0, 1, 2, 7, 8, 9]"
      ]
     },
     "execution_count": 50,
     "metadata": {},
     "output_type": "execute_result"
    }
   ],
   "source": [
    "# delete a slice from a list\n",
    "\n",
    "del x[3:7]\n",
    "x"
   ]
  },
  {
   "cell_type": "markdown",
   "metadata": {},
   "source": [
    "# pass\n",
    "- just a statement placeholder - does absolutely nothing"
   ]
  },
  {
   "cell_type": "code",
   "execution_count": 51,
   "metadata": {},
   "outputs": [
    {
     "name": "stdout",
     "output_type": "stream",
     "text": [
      "got here\n"
     ]
    }
   ],
   "source": [
    "if True:\n",
    "    pass\n",
    "\n",
    "print('got here')"
   ]
  },
  {
   "cell_type": "markdown",
   "metadata": {},
   "source": [
    "# Generalized booleans\n",
    "- it is convenient to generalize what is considered to be True and False\n",
    "- None, 0, and empty collections(strings, lists, tuples, dictionaries, sets), are equivalent to False\n",
    "- Any other object is equivalent to True"
   ]
  },
  {
   "cell_type": "code",
   "execution_count": 52,
   "metadata": {},
   "outputs": [
    {
     "name": "stdout",
     "output_type": "stream",
     "text": [
      "0 False\n",
      "1 True\n",
      " False\n",
      "stuff True\n",
      "{} False\n",
      "{3: 5} True\n",
      "{3, 5} True\n",
      "() False\n",
      "(1, 2) True\n",
      "None False\n"
     ]
    }
   ],
   "source": [
    "# list of things to try \n",
    "\n",
    "x = [0, 1, \"\", \"stuff\", {}, {3:5}, {3,5}, (), (1,2), None]\n",
    "\n",
    "for e in x:\n",
    "    # ternary if is an expression, \n",
    "    # so can be an arg to print\n",
    "    print(e, True if e else False)"
   ]
  },
  {
   "cell_type": "markdown",
   "metadata": {},
   "source": [
    "# short circuit evaluation of booleans\n",
    "- 'and' and 'or' do 'short circuit' evaluation\n",
    "- evaluation stops as soon as True/False value is known\n",
    "- note result is NOT always True or False"
   ]
  },
  {
   "cell_type": "code",
   "execution_count": 53,
   "metadata": {},
   "outputs": [
    {
     "data": {
      "text/plain": [
       "6"
      ]
     },
     "execution_count": 53,
     "metadata": {},
     "output_type": "execute_result"
    }
   ],
   "source": [
    "# 'or' eval stops at first True value and returns it\n",
    "\n",
    "False or 0 or [] or 6 or 7"
   ]
  },
  {
   "cell_type": "code",
   "execution_count": 54,
   "metadata": {},
   "outputs": [
    {
     "data": {
      "text/plain": [
       "{}"
      ]
     },
     "execution_count": 54,
     "metadata": {},
     "output_type": "execute_result"
    }
   ],
   "source": [
    "# 'and' eval stops at first False value and returns it\n",
    "\n",
    "True and 5 and [3,4] and {} and 34 and 200"
   ]
  },
  {
   "cell_type": "code",
   "execution_count": 55,
   "metadata": {},
   "outputs": [
    {
     "data": {
      "text/plain": [
       "['False',\n",
       " 'None',\n",
       " 'True',\n",
       " 'and',\n",
       " 'as',\n",
       " 'assert',\n",
       " 'break',\n",
       " 'class',\n",
       " 'continue',\n",
       " 'def',\n",
       " 'del',\n",
       " 'elif',\n",
       " 'else',\n",
       " 'except',\n",
       " 'finally',\n",
       " 'for',\n",
       " 'from',\n",
       " 'global',\n",
       " 'if',\n",
       " 'import',\n",
       " 'in',\n",
       " 'is',\n",
       " 'lambda',\n",
       " 'nonlocal',\n",
       " 'not',\n",
       " 'or',\n",
       " 'pass',\n",
       " 'raise',\n",
       " 'return',\n",
       " 'try',\n",
       " 'while',\n",
       " 'with',\n",
       " 'yield']"
      ]
     },
     "execution_count": 55,
     "metadata": {},
     "output_type": "execute_result"
    }
   ],
   "source": [
    "# here's a list of all the language keywords\n",
    "# we have seen most, but not all of them\n",
    "\n",
    "import keyword\n",
    "\n",
    "keyword.kwlist\n"
   ]
  },
  {
   "cell_type": "markdown",
   "metadata": {
    "collapsed": true
   },
   "source": [
    "# Example: Filtering and modifying a list\n",
    "- dir returns a list of methods for a type\n",
    "- want to get rid of methods with a '__' in the name\n",
    "- want to capitalize remaining names"
   ]
  },
  {
   "cell_type": "code",
   "execution_count": null,
   "metadata": {
    "collapsed": true
   },
   "outputs": [],
   "source": [
    "# dir lists methods of a type. want to get rid of methods with a '__'(they are 'special')\n",
    "\n",
    "dir(list)"
   ]
  },
  {
   "cell_type": "code",
   "execution_count": null,
   "metadata": {
    "collapsed": true
   },
   "outputs": [],
   "source": [
    "# can filter and capitalize with single list comprehension\n",
    "\n",
    "[s.capitalize() for s in dir(list) if '_' not in s]"
   ]
  }
 ],
 "metadata": {
  "anaconda-cloud": {},
  "kernelspec": {
   "display_name": "Python 3",
   "language": "python",
   "name": "python3"
  },
  "language_info": {
   "codemirror_mode": {
    "name": "ipython",
    "version": 3
   },
   "file_extension": ".py",
   "mimetype": "text/x-python",
   "name": "python",
   "nbconvert_exporter": "python",
   "pygments_lexer": "ipython3",
   "version": "3.6.3"
  }
 },
 "nbformat": 4,
 "nbformat_minor": 1
}
