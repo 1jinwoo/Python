{
 "cells": [
  {
   "cell_type": "markdown",
   "metadata": {},
   "source": [
    "# BeautifulSoup\n",
    "- great 'screen scraping' package\n",
    "- tons of interesting data on webpages designed for people, not programs\n",
    "- makes it easy to extract information from complex web pages and XML documents\n",
    "- soup reads in the page of interest, then you can query it\n",
    "- often can figure out what to do by playing interactively\n",
    "- works in unicode\n",
    "- new code should use BeautifulSoup version 4\n",
    "- [doc](https://www.crummy.com/software/BeautifulSoup/bs4/doc/)"
   ]
  },
  {
   "cell_type": "markdown",
   "metadata": {},
   "source": [
    "# Example:\n",
    "# Want to find all the headlines on the front page of the [New York Times](http://nyt.com)\n",
    "- but - key point - i don't want to work very hard!!!\n",
    "    - look at webpage source - html structure is quite complex - not interested in understanding it\n",
    "    - would be very difficult to do using text tools we have seen so far, like string.find() and regular expressions"
   ]
  },
  {
   "cell_type": "code",
   "execution_count": 1,
   "metadata": {
    "collapsed": true
   },
   "outputs": [],
   "source": [
    "# 'lxml' is a XML parser(parses HTML too)\n",
    "# must tell soup what unicode decoding to use\n",
    "\n",
    "import urllib.request\n",
    "\n",
    "# from bs4 import BeautifulSoup\n",
    "import bs4\n",
    "import lxml\n",
    "\n",
    "nf2 = urllib.request.urlopen('http://nyt.com')\n",
    "sp = bs4.BeautifulSoup(nf2, 'lxml', from_encoding='utf-8')"
   ]
  },
  {
   "cell_type": "code",
   "execution_count": 2,
   "metadata": {},
   "outputs": [
    {
     "data": {
      "text/plain": [
       "[<h2 class=\"css-1ypbx2a esl82me2\">Your Evening Briefing</h2>,\n",
       " <h2 class=\"css-1ypbx2a esl82me2\">Listen to ‘The Daily’</h2>,\n",
       " <h2 class=\"css-1ypbx2a esl82me2\">Got a confidential news tip?</h2>,\n",
       " <h2 class=\"css-78b01r esl82me2\"><span>Trump Turns Combative About Kavanaugh in Remarks at United Nations</span></h2>,\n",
       " <h2 class=\"css-8uvv5f esl82me2\">Mr. Trump said he did not want to fire the deputy attorney general, Rod Rosenstein.</h2>,\n",
       " <h2 class=\"css-8uvv5f esl82me2\">Trump Accuses China of Interfering in Midterm Elections</h2>,\n",
       " <h2 class=\"css-78b01r esl82me2\"><span>Brett Kavanaugh Regrets Some Choices in High School, but Again Denies Sexual Assault</span></h2>,\n",
       " <h2 class=\"css-8uvv5f esl82me2\">A woman charged that she saw Judge Kavanaugh at high school parties where women were “gang raped,” and that she was raped at one of the parties.</h2>,\n",
       " <h2 class=\"css-78b01r esl82me2\"><span>A Hearing’s Test: Blasey Must Seem Credible. Kavanaugh Must Defend but Not Attack.</span></h2>,\n",
       " <h2 class=\"css-8uvv5f esl82me2\">Uniting the complaints of sexual impropriety that threaten to upend Judge Kavanaugh’s confirmation is a theme of heavy drinking.</h2>,\n",
       " <h2 class=\"css-8uvv5f esl82me2\">Female candidates from both parties are treading carefully on the allegations, fearful of alienating suburban women.</h2>,\n",
       " <h2 class=\"css-78b01r esl82me2\"><span>Saying Economy Is Strong, Fed Raises Key Interest Rate and Hints of Another Increase</span></h2>,\n",
       " <h2 class=\"css-8uvv5f esl82me2\">As debt rises, the U.S. government will soon spend more on interest than on the military.</h2>,\n",
       " <h2 class=\"css-8uvv5f esl82me2\">One reason for slow wage growth? More benefits.</h2>,\n",
       " <h2 class=\"css-78b01r esl82me2\"><span>Saving Scotland’s Heritage From the Rising Seas</span></h2>,\n",
       " <h2 class=\"css-78b01r esl82me2\"><span>In Britain, Even Children Are Feeling the Effects of Austerity</span></h2>,\n",
       " <h2 class=\"css-8uvv5f esl82me2\">Jeremy Corbyn, in Labour Speech, Vows to Fight Capitalist ‘Greed’</h2>,\n",
       " <h2 class=\"css-8uvv5f esl82me2\">Hit Pause on Brett Kavanaugh</h2>,\n",
       " <h2 class=\"css-8uvv5f esl82me2\">Don’t Forget Kavanaugh’s First Hearing</h2>,\n",
       " <h2 class=\"css-8uvv5f esl82me2\">The Land of Altered Bodies</h2>]"
      ]
     },
     "execution_count": 2,
     "metadata": {},
     "output_type": "execute_result"
    }
   ],
   "source": [
    "# headlines seem to be contained in 'h2' elements\n",
    "\n",
    "sp.findAll('h2')[:20]"
   ]
  },
  {
   "cell_type": "code",
   "execution_count": 3,
   "metadata": {},
   "outputs": [
    {
     "data": {
      "text/plain": [
       "<h2 class=\"css-1ypbx2a esl82me2\">Your Evening Briefing</h2>"
      ]
     },
     "execution_count": 3,
     "metadata": {},
     "output_type": "execute_result"
    }
   ],
   "source": [
    "# first 'h2' element\n",
    "\n",
    "h2 = sp.h2\n",
    "h2"
   ]
  },
  {
   "cell_type": "code",
   "execution_count": 4,
   "metadata": {
    "collapsed": true
   },
   "outputs": [],
   "source": [
    "# can pull 'a' element out of 'h2'\n",
    "# this 'a' element is a picture\n",
    "\n",
    "a=h2.find('a')\n",
    "a"
   ]
  },
  {
   "cell_type": "code",
   "execution_count": 5,
   "metadata": {},
   "outputs": [
    {
     "data": {
      "text/plain": [
       "[None,\n",
       " None,\n",
       " None,\n",
       " None,\n",
       " None,\n",
       " None,\n",
       " None,\n",
       " None,\n",
       " None,\n",
       " None,\n",
       " None,\n",
       " None,\n",
       " None,\n",
       " None,\n",
       " None,\n",
       " None,\n",
       " None,\n",
       " None,\n",
       " None,\n",
       " None]"
      ]
     },
     "execution_count": 5,
     "metadata": {},
     "output_type": "execute_result"
    }
   ],
   "source": [
    "# try pulling the 'a' out of all 'h2' elements\n",
    "# looks like we get mostly headlines\n",
    "\n",
    "al=[h2.find('a') for h2 in sp.findAll(\"h2\")]\n",
    "al[:20]"
   ]
  },
  {
   "cell_type": "code",
   "execution_count": null,
   "metadata": {
    "collapsed": true
   },
   "outputs": [],
   "source": [
    "# pull out the 'a' link text \n",
    "\n",
    "[a.contents for a in al if a != None][:30]"
   ]
  },
  {
   "cell_type": "code",
   "execution_count": null,
   "metadata": {
    "collapsed": true
   },
   "outputs": [],
   "source": [
    "# filter out images\n",
    "\n",
    "[a.contents for a in al if a != None and len(a)==1][:30]"
   ]
  }
 ],
 "metadata": {
  "anaconda-cloud": {},
  "kernelspec": {
   "display_name": "Python 3",
   "language": "python",
   "name": "python3"
  },
  "language_info": {
   "codemirror_mode": {
    "name": "ipython",
    "version": 3
   },
   "file_extension": ".py",
   "mimetype": "text/x-python",
   "name": "python",
   "nbconvert_exporter": "python",
   "pygments_lexer": "ipython3",
   "version": "3.6.3"
  }
 },
 "nbformat": 4,
 "nbformat_minor": 1
}
