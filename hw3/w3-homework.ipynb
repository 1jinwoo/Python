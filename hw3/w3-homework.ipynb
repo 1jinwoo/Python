{
 "cells": [
  {
   "cell_type": "markdown",
   "metadata": {},
   "source": [
    "# Introduction to Python \n",
    "# Homework #3\n",
    "- Due Sat Sept 29 at 5pm\n",
    "- This homework will be graded\n",
    "- You MUST submit on CourseWorks2 before it closes\n",
    "    - Verify your submission succeeded\n",
    "    - Email submissions are not accepted \n",
    "    "
   ]
  },
  {
   "cell_type": "markdown",
   "metadata": {},
   "source": [
    "# Academic Honesty\n",
    "* The computer science department has strict polices. Check\n",
    "the department [web page](http://www.cs.columbia.edu/education/honesty) for details. \n",
    "- Do not look at anybody else's source code. Do not show anybody\n",
    "your source, or leave your source where somebody could see it.\n",
    "You MUST write your own code.\n",
    "- For this class, feel free to discuss issues with other people, but suggest waiting an hour or two after a discussion, before writing your code.\n",
    "-  Cases of non original source will be refered to the Judical Committee.\n"
   ]
  },
  {
   "cell_type": "markdown",
   "metadata": {},
   "source": [
    "# Problem 1&2 - RandomPoint"
   ]
  },
  {
   "cell_type": "code",
   "execution_count": 1,
   "metadata": {},
   "outputs": [
    {
     "data": {
      "text/plain": [
       "Point(3,4)"
      ]
     },
     "execution_count": 1,
     "metadata": {},
     "output_type": "execute_result"
    }
   ],
   "source": [
    "# we saw this in class\n",
    "\n",
    "class Point:\n",
    "    def __init__(self, x, y):\n",
    "        self.x = x\n",
    "        self.y = y\n",
    "        \n",
    "    def __str__(self):\n",
    "        return '{}({},{})'.format(self.name(),self.x,self.y)\n",
    "\n",
    "    def __repr__(self):\n",
    "        return self.__str__()\n",
    "    \n",
    "    def name(self):\n",
    "        return 'Point'\n",
    "    \n",
    "Point(3,4)"
   ]
  },
  {
   "cell_type": "markdown",
   "metadata": {},
   "source": [
    "# define RandomPoint class\n",
    "- define a RandomPoint class by inheriting from Point,\n",
    "and redefining the ```__init__``` method\n",
    "- also redefine the 'name' method, so RandomPoint prints correctly\n",
    "- unlike Point, the RandomPoint constructor doesn't take x y args. rather, the  ```__init__``` method will call random.guass(0,1) twice to get x,y values\n",
    "- we only want points inside a unit box centered on the origin (-.5 < x,y < .5)\n",
    "    - if the randomly choosen x,y point is outside the unit box, raise the OutOfBounds error in the ```__init__``` method, and pass the bad x and y as arguments to the OutOfBounds constructor\n",
    "- remember 'self'\n",
    "    - first arg to object methods must be 'self'\n",
    "    - refer to object attributes with 'self.' prefix"
   ]
  },
  {
   "cell_type": "code",
   "execution_count": 4,
   "metadata": {
    "scrolled": true
   },
   "outputs": [
    {
     "data": {
      "text/plain": [
       "0.6646508908815153"
      ]
     },
     "execution_count": 4,
     "metadata": {},
     "output_type": "execute_result"
    }
   ],
   "source": [
    "import random\n",
    "\n",
    "random.gauss(0,1)"
   ]
  },
  {
   "cell_type": "code",
   "execution_count": 5,
   "metadata": {},
   "outputs": [
    {
     "data": {
      "text/plain": [
       "[4, 2.3]"
      ]
     },
     "execution_count": 5,
     "metadata": {},
     "output_type": "execute_result"
    }
   ],
   "source": [
    "# top level function abs is useful for out of bounds check\n",
    "\n",
    "[abs(4), abs(-2.3)]"
   ]
  },
  {
   "cell_type": "code",
   "execution_count": 31,
   "metadata": {
    "collapsed": true
   },
   "outputs": [],
   "source": [
    "class OutOfBounds(Exception):\n",
    "    def __init__(self, x, y):\n",
    "        self.x = x\n",
    "        self.y = y\n",
    "    def __str__(self):\n",
    "        return \"OutOfBounds x={} y={}\".format(self.x, self.y)\n",
    "    def __repr__(self):\n",
    "        return self.__str__()\n",
    "    "
   ]
  },
  {
   "cell_type": "code",
   "execution_count": 43,
   "metadata": {
    "collapsed": true
   },
   "outputs": [],
   "source": [
    "class RandomPoint(Point):\n",
    "    def __init__(self):\n",
    "        self.x = random.gauss(0,1)\n",
    "        self.y = random.gauss(0,1)\n",
    "        if abs(self.x) > 0.5 or abs(self.y) > 0.5:\n",
    "            raise OutOfBounds(self.x, self.y)\n",
    "    def name(self):\n",
    "        return 'RandomPoint'"
   ]
  },
  {
   "cell_type": "code",
   "execution_count": 45,
   "metadata": {},
   "outputs": [
    {
     "data": {
      "text/plain": [
       "RandomPoint(0.10853584228669144,0.28047223729410903)"
      ]
     },
     "execution_count": 45,
     "metadata": {},
     "output_type": "execute_result"
    }
   ],
   "source": [
    "# constructor made a valid point\n",
    "\n",
    "RandomPoint()"
   ]
  },
  {
   "cell_type": "code",
   "execution_count": 46,
   "metadata": {},
   "outputs": [
    {
     "ename": "OutOfBounds",
     "evalue": "OutOfBounds x=-0.8963075433876543 y=1.3428075093722065",
     "output_type": "error",
     "traceback": [
      "\u001b[1;31m---------------------------------------------------------------------------\u001b[0m",
      "\u001b[1;31mOutOfBounds\u001b[0m                               Traceback (most recent call last)",
      "\u001b[1;32m<ipython-input-46-eb95b1eac8be>\u001b[0m in \u001b[0;36m<module>\u001b[1;34m()\u001b[0m\n\u001b[0;32m      2\u001b[0m \u001b[1;31m# can see the bad x,y in the error msg\u001b[0m\u001b[1;33m\u001b[0m\u001b[1;33m\u001b[0m\u001b[0m\n\u001b[0;32m      3\u001b[0m \u001b[1;33m\u001b[0m\u001b[0m\n\u001b[1;32m----> 4\u001b[1;33m \u001b[0mRandomPoint\u001b[0m\u001b[1;33m(\u001b[0m\u001b[1;33m)\u001b[0m\u001b[1;33m\u001b[0m\u001b[0m\n\u001b[0m",
      "\u001b[1;32m<ipython-input-43-d1d99b244a73>\u001b[0m in \u001b[0;36m__init__\u001b[1;34m(self)\u001b[0m\n\u001b[0;32m      4\u001b[0m         \u001b[0mself\u001b[0m\u001b[1;33m.\u001b[0m\u001b[0my\u001b[0m \u001b[1;33m=\u001b[0m \u001b[0mrandom\u001b[0m\u001b[1;33m.\u001b[0m\u001b[0mgauss\u001b[0m\u001b[1;33m(\u001b[0m\u001b[1;36m0\u001b[0m\u001b[1;33m,\u001b[0m\u001b[1;36m1\u001b[0m\u001b[1;33m)\u001b[0m\u001b[1;33m\u001b[0m\u001b[0m\n\u001b[0;32m      5\u001b[0m         \u001b[1;32mif\u001b[0m \u001b[0mabs\u001b[0m\u001b[1;33m(\u001b[0m\u001b[0mself\u001b[0m\u001b[1;33m.\u001b[0m\u001b[0mx\u001b[0m\u001b[1;33m)\u001b[0m \u001b[1;33m>\u001b[0m \u001b[1;36m0.5\u001b[0m \u001b[1;32mor\u001b[0m \u001b[0mabs\u001b[0m\u001b[1;33m(\u001b[0m\u001b[0mself\u001b[0m\u001b[1;33m.\u001b[0m\u001b[0my\u001b[0m\u001b[1;33m)\u001b[0m \u001b[1;33m>\u001b[0m \u001b[1;36m0.5\u001b[0m\u001b[1;33m:\u001b[0m\u001b[1;33m\u001b[0m\u001b[0m\n\u001b[1;32m----> 6\u001b[1;33m             \u001b[1;32mraise\u001b[0m \u001b[0mOutOfBounds\u001b[0m\u001b[1;33m(\u001b[0m\u001b[0mself\u001b[0m\u001b[1;33m.\u001b[0m\u001b[0mx\u001b[0m\u001b[1;33m,\u001b[0m \u001b[0mself\u001b[0m\u001b[1;33m.\u001b[0m\u001b[0my\u001b[0m\u001b[1;33m)\u001b[0m\u001b[1;33m\u001b[0m\u001b[0m\n\u001b[0m\u001b[0;32m      7\u001b[0m     \u001b[1;32mdef\u001b[0m \u001b[0mname\u001b[0m\u001b[1;33m(\u001b[0m\u001b[0mself\u001b[0m\u001b[1;33m)\u001b[0m\u001b[1;33m:\u001b[0m\u001b[1;33m\u001b[0m\u001b[0m\n\u001b[0;32m      8\u001b[0m         \u001b[1;32mreturn\u001b[0m \u001b[1;34m'RandomPoint'\u001b[0m\u001b[1;33m\u001b[0m\u001b[0m\n",
      "\u001b[1;31mOutOfBounds\u001b[0m: OutOfBounds x=-0.8963075433876543 y=1.3428075093722065"
     ]
    }
   ],
   "source": [
    "# constructor made a bad point, and raised OutOfBounds error\n",
    "# can see the bad x,y in the error msg\n",
    "\n",
    "RandomPoint()"
   ]
  },
  {
   "cell_type": "code",
   "execution_count": null,
   "metadata": {
    "collapsed": true
   },
   "outputs": [],
   "source": []
  },
  {
   "cell_type": "markdown",
   "metadata": {},
   "source": [
    "# define class makeRandomPoint\n",
    "- RandomPoint is hard to deal with directly, because you never know\n",
    "when you will get an error\n",
    "- define a class that produces valid RandomPoints\n",
    "- define a ```__next__``` method on the class. it should return a list of a valid RandomPoint, and how many tries it took to make it\n",
    "    - the method should never raise any error\n",
    "    - every call to the method should produce a valid RandomPoint"
   ]
  },
  {
   "cell_type": "code",
   "execution_count": 47,
   "metadata": {
    "collapsed": true
   },
   "outputs": [],
   "source": [
    "class makeRandomPoint():\n",
    "    def __next__(self):\n",
    "        cnt = 1\n",
    "        while True:\n",
    "            try:\n",
    "                pt = RandomPoint()\n",
    "                return [pt, cnt]\n",
    "            except OutOfBounds:\n",
    "                cnt += 1\n",
    "           "
   ]
  },
  {
   "cell_type": "code",
   "execution_count": 48,
   "metadata": {
    "collapsed": true
   },
   "outputs": [],
   "source": [
    "# make generator\n",
    "\n",
    "mrp = makeRandomPoint()"
   ]
  },
  {
   "cell_type": "code",
   "execution_count": 49,
   "metadata": {},
   "outputs": [
    {
     "data": {
      "text/plain": [
       "[RandomPoint(0.04830754245849789,-0.3854144846334872), 7]"
      ]
     },
     "execution_count": 49,
     "metadata": {},
     "output_type": "execute_result"
    }
   ],
   "source": [
    "# took 10 tries to make this RandomPoint!\n",
    "\n",
    "next(mrp)"
   ]
  },
  {
   "cell_type": "code",
   "execution_count": 50,
   "metadata": {},
   "outputs": [
    {
     "data": {
      "text/plain": [
       "[RandomPoint(-0.18471059176349777,0.4737773781554663), 3]"
      ]
     },
     "execution_count": 50,
     "metadata": {},
     "output_type": "execute_result"
    }
   ],
   "source": [
    "# next(mrp) is equivalent to mrp.__next__()\n",
    "\n",
    "mrp.__next__()"
   ]
  },
  {
   "cell_type": "code",
   "execution_count": 51,
   "metadata": {},
   "outputs": [
    {
     "name": "stdout",
     "output_type": "stream",
     "text": [
      "[RandomPoint(-0.19712855482554323,0.37749890902595656), 7]\n",
      "[RandomPoint(-0.15027188548225498,0.06332659469595978), 1]\n",
      "[RandomPoint(0.03787537439522127,-0.21714357914628493), 3]\n",
      "[RandomPoint(0.42235299164588336,-0.09762378368547761), 6]\n",
      "[RandomPoint(0.003218693083857711,-0.1364055753061961), 1]\n",
      "[RandomPoint(-0.23508955253338054,0.4378800875596091), 9]\n",
      "[RandomPoint(-0.4360398379620762,0.15392440271938457), 9]\n",
      "[RandomPoint(0.2337796438455348,-0.2929585843187606), 4]\n",
      "[RandomPoint(0.014016823562089978,-0.0036338490526497055), 2]\n",
      "[RandomPoint(0.001473610364039275,-0.3622188877551232), 3]\n",
      "[RandomPoint(0.4207810486440865,0.29660762819047465), 10]\n",
      "[RandomPoint(0.2365852799211837,0.2058251527264607), 11]\n",
      "[RandomPoint(-0.35097827079622146,-0.49173476807603766), 18]\n",
      "[RandomPoint(0.035397242350687294,0.0369080290047216), 6]\n",
      "[RandomPoint(-0.45231345426527914,-0.26135167118691616), 5]\n",
      "[RandomPoint(-0.10144951712920103,-0.20913990293148274), 1]\n",
      "[RandomPoint(-0.3662363510747209,-0.30403587837747814), 4]\n",
      "[RandomPoint(-0.28285490740774105,-0.04279798733496243), 26]\n",
      "[RandomPoint(-0.19733714235469338,-0.23423654013677647), 1]\n",
      "[RandomPoint(0.30970771490415383,-0.22421012801214607), 4]\n"
     ]
    }
   ],
   "source": [
    "# call generator 20 times - no errors\n",
    "\n",
    "for j in range(20):\n",
    "    print(next(mrp))"
   ]
  },
  {
   "cell_type": "markdown",
   "metadata": {},
   "source": [
    "# Problem 3 - define function flatten\n",
    "\n",
    "- 'flatten' turns a nested list into a linear one\n",
    "- use recursion technique like 'rcount' in w2-05-functions notebook\n",
    "    - flatten the head and tail of the list, then put them together\n"
   ]
  },
  {
   "cell_type": "code",
   "execution_count": 151,
   "metadata": {
    "collapsed": true
   },
   "outputs": [],
   "source": [
    "def flatten(L):\n",
    "    if L == []:\n",
    "        return []\n",
    "    if isinstance(L[0], list):\n",
    "        return flatten(L[0]) + flatten(L[1:]) # flattening the head\n",
    "    return L[:1] + flatten(L[1:]) # flattening the tail\n",
    "    "
   ]
  },
  {
   "cell_type": "code",
   "execution_count": 152,
   "metadata": {},
   "outputs": [
    {
     "data": {
      "text/plain": [
       "[1, 2, 3, 4]"
      ]
     },
     "execution_count": 152,
     "metadata": {},
     "output_type": "execute_result"
    }
   ],
   "source": [
    "flatten([1,2,3,4])"
   ]
  },
  {
   "cell_type": "code",
   "execution_count": 153,
   "metadata": {},
   "outputs": [
    {
     "data": {
      "text/plain": [
       "[1, 2, 3, 4]"
      ]
     },
     "execution_count": 153,
     "metadata": {},
     "output_type": "execute_result"
    }
   ],
   "source": [
    "flatten([1, [2,3],4])"
   ]
  },
  {
   "cell_type": "code",
   "execution_count": 154,
   "metadata": {},
   "outputs": [
    {
     "data": {
      "text/plain": [
       "[1, 2, 3, 4, 5, 6, 7, 8, 9, 10, 11]"
      ]
     },
     "execution_count": 154,
     "metadata": {},
     "output_type": "execute_result"
    }
   ],
   "source": [
    "flatten( [1,[2,3,4,[5,6,[7,8],9],10,11]])"
   ]
  },
  {
   "cell_type": "code",
   "execution_count": 155,
   "metadata": {},
   "outputs": [
    {
     "data": {
      "text/plain": [
       "[1, 2, 3, 4, 56, 44, 55, 7, 8]"
      ]
     },
     "execution_count": 155,
     "metadata": {},
     "output_type": "execute_result"
    }
   ],
   "source": [
    "flatten([1,2,3,[4,56],[44,55],7,8])"
   ]
  },
  {
   "cell_type": "markdown",
   "metadata": {},
   "source": [
    "# Problem 4 & 5 - vending machine\n",
    "- use objects to simulate a vending machine\n",
    "- money is in units of cents\n",
    "- remember\n",
    "    - 'self' must be the first arg to every object method\n",
    "    - use the 'self.' prefix to refer to object attributes or other methods inside a method "
   ]
  },
  {
   "cell_type": "markdown",
   "metadata": {},
   "source": [
    "# define class venditem \n",
    "- represents a type of item for sale\n",
    "- has three object attributes\n",
    "    - name, price, quantity\n",
    "- define four methods\n",
    "    - `method __init__` loads data into the object attributes\n",
    "        - def `__init__`(self, name, price, quantity):\n",
    "    - `method __str__`(self)\n",
    "        - controls how venditem prints\n",
    "        - use string format method\n",
    "            - '{} {}'.format(arg, arg2)\n",
    "        - see examples below\n",
    "    - `method __repr__`(self)\n",
    "        - just call `__str__` for string to return\n",
    "    - method sale(self)\n",
    "        - decrement the quantity(number of items left in the machine to sell)"
   ]
  },
  {
   "cell_type": "code",
   "execution_count": 166,
   "metadata": {
    "collapsed": true
   },
   "outputs": [],
   "source": [
    "class venditem:\n",
    "    \n",
    "    def __init__(self, name, price, quantity):\n",
    "        self.name = name\n",
    "        self.price = price\n",
    "        self.quantity = quantity\n",
    "        \n",
    "    def __str__(self):\n",
    "        return 'name={}, price={}, quantity={}'.format(self.name, self.price, self.quantity)\n",
    "        \n",
    "    def __repr__(self):\n",
    "        return str(self)\n",
    "    \n",
    "    def sale(self):\n",
    "        self.quantity -= 1"
   ]
  },
  {
   "cell_type": "code",
   "execution_count": 167,
   "metadata": {},
   "outputs": [
    {
     "data": {
      "text/plain": [
       "[name=coke, price=95, quantity=3, name=pepsi, price=110, quantity=1]"
      ]
     },
     "execution_count": 167,
     "metadata": {},
     "output_type": "execute_result"
    }
   ],
   "source": [
    "# make some items\n",
    "\n",
    "vi = venditem('coke', 95, 3)\n",
    "vi2 = venditem('pepsi', 110, 1)\n",
    "\n",
    "[vi, vi2]"
   ]
  },
  {
   "cell_type": "code",
   "execution_count": 168,
   "metadata": {},
   "outputs": [
    {
     "data": {
      "text/plain": [
       "name=coke, price=95, quantity=2"
      ]
     },
     "execution_count": 168,
     "metadata": {},
     "output_type": "execute_result"
    }
   ],
   "source": [
    "# sale method decrements quantity \n",
    "# instance variable\n",
    "\n",
    "vi.sale()\n",
    "vi"
   ]
  },
  {
   "cell_type": "code",
   "execution_count": 169,
   "metadata": {},
   "outputs": [
    {
     "data": {
      "text/plain": [
       "['coke', 'pepsi', 95, 2, 1]"
      ]
     },
     "execution_count": 169,
     "metadata": {},
     "output_type": "execute_result"
    }
   ],
   "source": [
    "# note you can access instance variables directly:\n",
    "\n",
    "[vi.name, vi2.name, vi.price, vi.quantity, vi2.quantity]"
   ]
  },
  {
   "cell_type": "code",
   "execution_count": 170,
   "metadata": {},
   "outputs": [
    {
     "data": {
      "text/plain": [
       "2"
      ]
     },
     "execution_count": 170,
     "metadata": {},
     "output_type": "execute_result"
    }
   ],
   "source": [
    "# can set same way\n",
    "\n",
    "vi.quantity = 2\n",
    "vi.quantity"
   ]
  },
  {
   "cell_type": "markdown",
   "metadata": {},
   "source": [
    "# define class vendmachine \n",
    "- vendmachine has two object attributes\n",
    "    - 'cash' - the amount of money the machine has collected from item sales\n",
    "    - 'items' - a dictionary, where the keys are item names, and the values are the venditem object\n",
    "- define three methods\n",
    "    - `__init__`(self, stock)\n",
    "        - stock arg is a list of venditems, which represents what is loaded in the machine\n",
    "        - items dictionary should be constructed from stock arg\n",
    "        - cash should be initialized to 0\n",
    "    - buy(self, name, money) \n",
    "        - 'name' is 'coke', 'pepsi', etc\n",
    "        - money is how much money the customer deposited for the purchase\n",
    "        - four cases\n",
    "            - customer asks for an item not carried\n",
    "            - customer asks for an item whose quantity is 0 - out of stock\n",
    "            - customer doesn't put in enough money for the item\n",
    "            - everything ok, sell the item, decrement item quantity\n",
    "        - 'buy' return value should refund any money owed the customer \n",
    "            - money not applied to an item sale\n",
    "            - excess money deposited for an item sale\n",
    "            - NOT asking you to do this, but note the previously developed  'Changer' class could be used in the vending machine\n",
    "        - log each buy case, using 'log' function below\n",
    "        - see examples below\n",
    "    - status(self)\n",
    "        - prints the amount of cash collected, and each of the items in stock\n",
    "    "
   ]
  },
  {
   "cell_type": "code",
   "execution_count": 171,
   "metadata": {
    "collapsed": true
   },
   "outputs": [],
   "source": [
    "import time\n",
    "    \n",
    "def log(msg, name):\n",
    "    t = time.strftime('%X %x %Z - ')\n",
    "    msg = t + msg + ': ' + name\n",
    "    print(msg)\n"
   ]
  },
  {
   "cell_type": "code",
   "execution_count": 198,
   "metadata": {
    "collapsed": true
   },
   "outputs": [],
   "source": [
    "class vendmachine:\n",
    "    def __init__(self, stock):\n",
    "        self.cash = 0\n",
    "        item_names = [item.name for item in stock]\n",
    "        self.items = dict(zip(item_names, stock))\n",
    "    \n",
    "    def buy(self, name, money):\n",
    "        if name not in self.items.keys():\n",
    "            log('The item is not carried by this vending machine', name)\n",
    "            return money\n",
    "        elif self.items[name].quantity == 0:\n",
    "            log('The item is out of stock', name)\n",
    "            return money\n",
    "        elif self.items[name].price > money:\n",
    "            log('The item is more expensive than you think', name)\n",
    "            return money\n",
    "        else:\n",
    "            log('Thanks for your purchase', name)\n",
    "            self.items[name].quantity -= 1\n",
    "            self.cash += self.items[name].price\n",
    "            return money - self.items[name].price\n",
    "        \n",
    "    def status(self):\n",
    "        print('The amount of cash collected: {}'.format(self.cash))\n",
    "        for item in self.items.values():\n",
    "            if item.quantity != 0:\n",
    "                print(item)\n",
    "                \n",
    "            "
   ]
  },
  {
   "cell_type": "code",
   "execution_count": 199,
   "metadata": {},
   "outputs": [
    {
     "name": "stdout",
     "output_type": "stream",
     "text": [
      "The amount of cash collected: 0\n",
      "name=coke, price=95, quantity=3\n",
      "name=pepsi, price=110, quantity=1\n",
      "name=peanut M&Ms, price=100, quantity=2\n"
     ]
    }
   ],
   "source": [
    "# make stock for sale and load vendmachine\n",
    "\n",
    "vi = venditem('coke', 95, 3)\n",
    "vi2 = venditem('pepsi', 110, 1)\n",
    "vi3 = venditem('peanut M&Ms', 100, 2)\n",
    "stock = [vi, vi2, vi3]\n",
    "\n",
    "vm = vendmachine(stock)\n",
    "vm.status()"
   ]
  },
  {
   "cell_type": "code",
   "execution_count": 200,
   "metadata": {},
   "outputs": [
    {
     "name": "stdout",
     "output_type": "stream",
     "text": [
      "23:45:03 09/27/18 Eastern Daylight Time - The item is more expensive than you think: coke\n"
     ]
    },
    {
     "data": {
      "text/plain": [
       "45"
      ]
     },
     "execution_count": 200,
     "metadata": {},
     "output_type": "execute_result"
    }
   ],
   "source": [
    "# no sale, refund money\n",
    "\n",
    "vm.buy('coke', 45)"
   ]
  },
  {
   "cell_type": "code",
   "execution_count": 201,
   "metadata": {},
   "outputs": [
    {
     "name": "stdout",
     "output_type": "stream",
     "text": [
      "23:45:04 09/27/18 Eastern Daylight Time - Thanks for your purchase: pepsi\n"
     ]
    },
    {
     "data": {
      "text/plain": [
       "90"
      ]
     },
     "execution_count": 201,
     "metadata": {},
     "output_type": "execute_result"
    }
   ],
   "source": [
    "# made sale, return change\n",
    "\n",
    "vm.buy('pepsi', 200)"
   ]
  },
  {
   "cell_type": "code",
   "execution_count": 202,
   "metadata": {},
   "outputs": [
    {
     "name": "stdout",
     "output_type": "stream",
     "text": [
      "The amount of cash collected: 110\n",
      "name=coke, price=95, quantity=3\n",
      "name=peanut M&Ms, price=100, quantity=2\n"
     ]
    }
   ],
   "source": [
    "vm.status()"
   ]
  },
  {
   "cell_type": "code",
   "execution_count": 203,
   "metadata": {},
   "outputs": [
    {
     "name": "stdout",
     "output_type": "stream",
     "text": [
      "23:45:05 09/27/18 Eastern Daylight Time - The item is out of stock: pepsi\n"
     ]
    },
    {
     "data": {
      "text/plain": [
       "200"
      ]
     },
     "execution_count": 203,
     "metadata": {},
     "output_type": "execute_result"
    }
   ],
   "source": [
    "# out of stock, refund money\n",
    "\n",
    "vm.buy('pepsi', 200)"
   ]
  },
  {
   "cell_type": "code",
   "execution_count": 204,
   "metadata": {},
   "outputs": [
    {
     "name": "stdout",
     "output_type": "stream",
     "text": [
      "23:45:05 09/27/18 Eastern Daylight Time - The item is not carried by this vending machine: mtndew\n"
     ]
    },
    {
     "data": {
      "text/plain": [
       "200"
      ]
     },
     "execution_count": 204,
     "metadata": {},
     "output_type": "execute_result"
    }
   ],
   "source": [
    "# don't carry it, refund money\n",
    "\n",
    "vm.buy('mtndew', 200)"
   ]
  },
  {
   "cell_type": "code",
   "execution_count": 205,
   "metadata": {},
   "outputs": [
    {
     "name": "stdout",
     "output_type": "stream",
     "text": [
      "23:45:06 09/27/18 Eastern Daylight Time - Thanks for your purchase: coke\n"
     ]
    },
    {
     "data": {
      "text/plain": [
       "5"
      ]
     },
     "execution_count": 205,
     "metadata": {},
     "output_type": "execute_result"
    }
   ],
   "source": [
    "# sale, return change\n",
    "\n",
    "vm.buy('coke', 100)"
   ]
  },
  {
   "cell_type": "code",
   "execution_count": 206,
   "metadata": {},
   "outputs": [
    {
     "name": "stdout",
     "output_type": "stream",
     "text": [
      "The amount of cash collected: 205\n",
      "name=coke, price=95, quantity=2\n",
      "name=peanut M&Ms, price=100, quantity=2\n"
     ]
    }
   ],
   "source": [
    "# sold 1 coke and 1 pepsi\n",
    "\n",
    "vm.status()"
   ]
  }
 ],
 "metadata": {
  "anaconda-cloud": {},
  "kernelspec": {
   "display_name": "Python 3",
   "language": "python",
   "name": "python3"
  },
  "language_info": {
   "codemirror_mode": {
    "name": "ipython",
    "version": 3
   },
   "file_extension": ".py",
   "mimetype": "text/x-python",
   "name": "python",
   "nbconvert_exporter": "python",
   "pygments_lexer": "ipython3",
   "version": "3.6.3"
  },
  "name": "_merged"
 },
 "nbformat": 4,
 "nbformat_minor": 1
}
