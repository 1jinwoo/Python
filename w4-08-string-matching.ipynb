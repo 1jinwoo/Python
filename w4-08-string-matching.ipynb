{
 "cells": [
  {
   "cell_type": "markdown",
   "metadata": {},
   "source": [
    "# Simple string searching\n",
    "- methods on string class\n",
    "- useful but limited functionality"
   ]
  },
  {
   "cell_type": "code",
   "execution_count": 1,
   "metadata": {},
   "outputs": [
    {
     "data": {
      "text/plain": [
       "3"
      ]
     },
     "execution_count": 1,
     "metadata": {},
     "output_type": "execute_result"
    }
   ],
   "source": [
    "s = \"foozapbar\"\n",
    "s.index('zap')"
   ]
  },
  {
   "cell_type": "code",
   "execution_count": 2,
   "metadata": {},
   "outputs": [
    {
     "data": {
      "text/plain": [
       "True"
      ]
     },
     "execution_count": 2,
     "metadata": {},
     "output_type": "execute_result"
    }
   ],
   "source": [
    "# substring \n",
    "\n",
    "'zap' in s"
   ]
  },
  {
   "cell_type": "code",
   "execution_count": 3,
   "metadata": {},
   "outputs": [
    {
     "data": {
      "text/plain": [
       "True"
      ]
     },
     "execution_count": 3,
     "metadata": {},
     "output_type": "execute_result"
    }
   ],
   "source": [
    "s.startswith('foo')"
   ]
  },
  {
   "cell_type": "code",
   "execution_count": 4,
   "metadata": {},
   "outputs": [
    {
     "data": {
      "text/plain": [
       "True"
      ]
     },
     "execution_count": 4,
     "metadata": {},
     "output_type": "execute_result"
    }
   ],
   "source": [
    "s.endswith('bar')"
   ]
  },
  {
   "cell_type": "markdown",
   "metadata": {},
   "source": [
    "# Regular Expressions\n",
    "- very powerful, widely used\n",
    "- syntax a tad cryptic at first glance\n",
    "- Python has a fairly standard implementation, similar to what other languages provide\n",
    "- module is 're'\n",
    "- [doc](https://docs.python.org/3.5/library/re.html)\n",
    "- [more readable doc](https://docs.python.org/3.5/howto/regex.html#regex-howto)"
   ]
  },
  {
   "cell_type": "code",
   "execution_count": 8,
   "metadata": {
    "collapsed": true
   },
   "outputs": [],
   "source": [
    "import re\n",
    "\n",
    "s = 'zxcvx97848438455ysdfx234yzX333Ycv234'"
   ]
  },
  {
   "cell_type": "code",
   "execution_count": 9,
   "metadata": {},
   "outputs": [
    {
     "data": {
      "text/plain": [
       "'55'"
      ]
     },
     "execution_count": 9,
     "metadata": {},
     "output_type": "execute_result"
    }
   ],
   "source": [
    "match = re.search(\"5+\", s) # getting one or more of 5's (what + means here)\n",
    "match.group(0)"
   ]
  },
  {
   "cell_type": "code",
   "execution_count": 10,
   "metadata": {
    "collapsed": true
   },
   "outputs": [],
   "source": [
    "# this pattern will find substrings \n",
    "# that start with 'x', end with 'y'\n",
    "# and has one or more digits in the middle\n",
    "# '[0-9]' is a character set - stands for \n",
    "# any digit char\n",
    "# '*' means match zero or more of the previous regex\n",
    "# '+' means match one or more of the previous regex\n",
    "# 'x' and 'y' stand for themselves\n",
    "\n",
    "pat = 'x[0-9]+y'\n"
   ]
  },
  {
   "cell_type": "code",
   "execution_count": 11,
   "metadata": {},
   "outputs": [
    {
     "data": {
      "text/plain": [
       "['x97848438455y', 'x234y']"
      ]
     },
     "execution_count": 11,
     "metadata": {},
     "output_type": "execute_result"
    }
   ],
   "source": [
    "# find all substrings that match the pattern\n",
    "# note match is case sensistive\n",
    "\n",
    "\n",
    "re.findall(pat, s)"
   ]
  },
  {
   "cell_type": "code",
   "execution_count": 12,
   "metadata": {},
   "outputs": [
    {
     "data": {
      "text/plain": [
       "['x97848438455y', 'x234y', 'X333Y']"
      ]
     },
     "execution_count": 12,
     "metadata": {},
     "output_type": "execute_result"
    }
   ],
   "source": [
    "# case insensitive search\n",
    "\n",
    "re.findall(pat, s, re.IGNORECASE)"
   ]
  },
  {
   "cell_type": "code",
   "execution_count": 13,
   "metadata": {},
   "outputs": [
    {
     "data": {
      "text/plain": [
       "['8484384', '34', '333', '34']"
      ]
     },
     "execution_count": 13,
     "metadata": {},
     "output_type": "execute_result"
    }
   ],
   "source": [
    "# find substrings built out of the chars 3,4,8\n",
    "\n",
    "re.findall('[348]+',s)"
   ]
  },
  {
   "cell_type": "code",
   "execution_count": 14,
   "metadata": {},
   "outputs": [
    {
     "data": {
      "text/plain": [
       "'zxcvx97848438455ysdfx234yzX333Ycv234'"
      ]
     },
     "execution_count": 14,
     "metadata": {},
     "output_type": "execute_result"
    }
   ],
   "source": [
    "s"
   ]
  },
  {
   "cell_type": "code",
   "execution_count": 15,
   "metadata": {},
   "outputs": [
    {
     "data": {
      "text/plain": [
       "'zxcvFOOBARsdfFOOBARzX333Ycv234'"
      ]
     },
     "execution_count": 15,
     "metadata": {},
     "output_type": "execute_result"
    }
   ],
   "source": [
    "# replace the pattern with a string\n",
    "\n",
    "re.sub(pat, 'FOOBAR', s)"
   ]
  },
  {
   "cell_type": "code",
   "execution_count": 16,
   "metadata": {},
   "outputs": [
    {
     "data": {
      "text/plain": [
       "'zxcvFOOBARsdfx234yzX333Ycv234'"
      ]
     },
     "execution_count": 16,
     "metadata": {},
     "output_type": "execute_result"
    }
   ],
   "source": [
    "# only replace the first occurance of the pattern\n",
    "\n",
    "re.sub(pat, 'FOOBAR', s, count=1)"
   ]
  },
  {
   "cell_type": "code",
   "execution_count": 17,
   "metadata": {},
   "outputs": [
    {
     "data": {
      "text/plain": [
       "['zxcv', 'sdf', 'zX333Ycv234']"
      ]
     },
     "execution_count": 17,
     "metadata": {},
     "output_type": "execute_result"
    }
   ],
   "source": [
    "# split on the pattern\n",
    "\n",
    "re.split(pat, s)"
   ]
  },
  {
   "cell_type": "code",
   "execution_count": 18,
   "metadata": {},
   "outputs": [
    {
     "data": {
      "text/plain": [
       "'zxcvx97848438455ysdfx234yzX333Ycv234'"
      ]
     },
     "execution_count": 18,
     "metadata": {},
     "output_type": "execute_result"
    }
   ],
   "source": [
    "s"
   ]
  },
  {
   "cell_type": "code",
   "execution_count": 19,
   "metadata": {},
   "outputs": [
    {
     "name": "stdout",
     "output_type": "stream",
     "text": [
      "no match!\n"
     ]
    }
   ],
   "source": [
    "# some re operations return a 'match object'\n",
    "# if there is no match, None is returns,\n",
    "# so can test with 'if'\n",
    "\n",
    "if re.search('aaaaa', s):\n",
    "    print('match!')\n",
    "else:\n",
    "    print('no match!')"
   ]
  },
  {
   "cell_type": "code",
   "execution_count": 20,
   "metadata": {},
   "outputs": [
    {
     "data": {
      "text/plain": [
       "<_sre.SRE_Match object; span=(16, 26), match='ysdfx234yz'>"
      ]
     },
     "execution_count": 20,
     "metadata": {},
     "output_type": "execute_result"
    }
   ],
   "source": [
    "# can 'group' matches with '()'\n",
    "# '.' matches any char, '.*' matches zero or more chars\n",
    "\n",
    "m = re.search('(y[sz]).*(y[sz])',s)\n",
    "m"
   ]
  },
  {
   "cell_type": "code",
   "execution_count": 21,
   "metadata": {},
   "outputs": [
    {
     "data": {
      "text/plain": [
       "['ysdfx234yz', 'ys', 'yz', ('ys', 'yz')]"
      ]
     },
     "execution_count": 21,
     "metadata": {},
     "output_type": "execute_result"
    }
   ],
   "source": [
    "# group 0 shows everything that matched\n",
    "# the other groups show what matched inside '()'\n",
    "\n",
    "[m.group(0), m.group(1), m.group(2), m.groups()]"
   ]
  },
  {
   "cell_type": "code",
   "execution_count": 22,
   "metadata": {},
   "outputs": [
    {
     "data": {
      "text/plain": [
       "<_sre.SRE_Match object; span=(16, 26), match='ysdfx234yz'>"
      ]
     },
     "execution_count": 22,
     "metadata": {},
     "output_type": "execute_result"
    }
   ],
   "source": [
    "# could put the middle part of the match in a group as well\n",
    "\n",
    "m = re.search('(y[sz])(.*)(y[sz])',s)\n",
    "m"
   ]
  },
  {
   "cell_type": "code",
   "execution_count": 23,
   "metadata": {},
   "outputs": [
    {
     "data": {
      "text/plain": [
       "['ysdfx234yz', 'ys', 'dfx234', 'yz', ('ys', 'dfx234', 'yz')]"
      ]
     },
     "execution_count": 23,
     "metadata": {},
     "output_type": "execute_result"
    }
   ],
   "source": [
    "[m.group(0), m.group(1), m.group(2),m.group(3), m.groups()]"
   ]
  },
  {
   "cell_type": "markdown",
   "metadata": {},
   "source": [
    "# decrypt with RE"
   ]
  },
  {
   "cell_type": "code",
   "execution_count": 24,
   "metadata": {
    "collapsed": true
   },
   "outputs": [],
   "source": [
    "e = '{SVIu6Python-)dKct@\\\\JK)2is:y:=;;~6reallyMZ-&Bk`*6great!NB!|Krj##'"
   ]
  },
  {
   "cell_type": "code",
   "execution_count": 25,
   "metadata": {},
   "outputs": [
    {
     "data": {
      "text/plain": [
       "['6Python-)dKct@\\\\JK)', '2is:y:=;;~', '6reallyMZ-&Bk`*', '6great!NB!|Krj##']"
      ]
     },
     "execution_count": 25,
     "metadata": {},
     "output_type": "execute_result"
    }
   ],
   "source": [
    "# '[^0-9]' means any char EXCEPT the digits, the leading '^' inverts \n",
    "# the meaning of the charset\n",
    "\n",
    "words = re.findall('[0-9][^0-9]+', e)\n",
    "words"
   ]
  },
  {
   "cell_type": "code",
   "execution_count": 26,
   "metadata": {},
   "outputs": [
    {
     "name": "stdout",
     "output_type": "stream",
     "text": [
      "Python\n",
      "is\n",
      "really\n",
      "great!\n"
     ]
    }
   ],
   "source": [
    "for word in words:\n",
    "    ln = int(word[0])\n",
    "    decode = word[1:ln+1]\n",
    "    print(decode)"
   ]
  },
  {
   "cell_type": "markdown",
   "metadata": {},
   "source": [
    "# RE groups\n",
    "- groups are enclosed by ()\n",
    "- great for fishing out what matched"
   ]
  },
  {
   "cell_type": "code",
   "execution_count": 27,
   "metadata": {},
   "outputs": [
    {
     "data": {
      "text/plain": [
       "['<img src=\"/icons/unknown.gif\" alt=\"[   ]\"> <a href=\"Problems_chap2.nb\">Problems_chap2.nb</a>       2009-04-22 15:16  171K  ',\n",
       " '<img src=\"/icons/layout.gif\" alt=\"[   ]\"> <a href=\"Problems_chap2.pdf\">Problems_chap2.pdf</a>      2009-10-12 13:15  252K  ',\n",
       " '<img src=\"/icons/unknown.gif\" alt=\"[   ]\"> <a href=\"Style07.nb\">Style07.nb</a>              2009-04-22 15:16   12K  ']"
      ]
     },
     "execution_count": 27,
     "metadata": {},
     "output_type": "execute_result"
    }
   ],
   "source": [
    "s='''\n",
    "<img src=\"/icons/unknown.gif\" alt=\"[   ]\"> <a href=\"Problems_chap2.nb\">Problems_chap2.nb</a>       2009-04-22 15:16  171K  \n",
    "<img src=\"/icons/layout.gif\" alt=\"[   ]\"> <a href=\"Problems_chap2.pdf\">Problems_chap2.pdf</a>      2009-10-12 13:15  252K  \n",
    "<img src=\"/icons/unknown.gif\" alt=\"[   ]\"> <a href=\"Style07.nb\">Style07.nb</a>              2009-04-22 15:16   12K  \n",
    "'''\n",
    "urls = re.split('\\\\n', s)[1:-1]\n",
    "urls"
   ]
  },
  {
   "cell_type": "code",
   "execution_count": 28,
   "metadata": {},
   "outputs": [
    {
     "name": "stdout",
     "output_type": "stream",
     "text": [
      "('/icons/unknown.gif', 'Problems_chap2.nb', '171K')\n",
      "('/icons/layout.gif', 'Problems_chap2.pdf', '252K')\n",
      "('/icons/unknown.gif', 'Style07.nb', '12K')\n"
     ]
    }
   ],
   "source": [
    "# [BKMG] - file length will have a bytes/kilo/mega/giga suffix\n",
    "\n",
    "for u in urls:\n",
    "    m = re.match('.+src=\"(.+)\" .+href=\"(.+)\".+ ([0-9]+[BKMG])', u)\n",
    "    print(m.groups())"
   ]
  },
  {
   "cell_type": "code",
   "execution_count": null,
   "metadata": {
    "collapsed": true
   },
   "outputs": [],
   "source": []
  }
 ],
 "metadata": {
  "anaconda-cloud": {},
  "kernelspec": {
   "display_name": "Python 3",
   "language": "python",
   "name": "python3"
  },
  "language_info": {
   "codemirror_mode": {
    "name": "ipython",
    "version": 3
   },
   "file_extension": ".py",
   "mimetype": "text/x-python",
   "name": "python",
   "nbconvert_exporter": "python",
   "pygments_lexer": "ipython3",
   "version": "3.6.3"
  }
 },
 "nbformat": 4,
 "nbformat_minor": 1
}
