{
 "cells": [
  {
   "cell_type": "markdown",
   "metadata": {},
   "source": [
    "# 3rd party modules\n",
    "- Python is famous for the quality, quantity, and breadth\n",
    "of its 3rd party modules\n",
    "- can be difficult to know which package to use\n",
    "    - for example, over 30 visualization packages"
   ]
  },
  {
   "cell_type": "markdown",
   "metadata": {},
   "source": [
    "# awesome python site\n",
    "- listing of popular, well known modules\n",
    "- don't have to limit yourself to their suggestions, but good place to start a search\n",
    "- [web page](https://github.com/vinta/awesome-python)"
   ]
  },
  {
   "cell_type": "markdown",
   "metadata": {},
   "source": [
    "# Installing Python modules\n",
    "- first try doing an import in python - anaconda has hundreds of packages already builtin\n",
    "- next try the 'pip' command\n",
    "    - execute pip as yourself, NOT as root\n",
    "    - in a shell/terminal window, NOT in python, do:\n",
    "    - pip install package-name\n",
    "    - example:\n",
    "        - pip install opencv-python\n",
    "        - then in python do:\n",
    "        - import cv2\n",
    "- most packages are trivial to install, but some packages may define more complex installation procedures, that may include a 'make' invocation that compiles things\n",
    "    - example: installing xgboost\n",
    "  [instructions](http://xgboost.readthedocs.io/en/latest/python/python_intro.html)"
   ]
  }
 ],
 "metadata": {
  "kernelspec": {
   "display_name": "Python 3",
   "language": "python",
   "name": "python3"
  },
  "language_info": {
   "codemirror_mode": {
    "name": "ipython",
    "version": 3
   },
   "file_extension": ".py",
   "mimetype": "text/x-python",
   "name": "python",
   "nbconvert_exporter": "python",
   "pygments_lexer": "ipython3",
   "version": "3.6.3"
  }
 },
 "nbformat": 4,
 "nbformat_minor": 2
}
