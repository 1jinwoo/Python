{
 "cells": [
  {
   "cell_type": "markdown",
   "metadata": {},
   "source": [
    "# 'with' statement\n",
    "- very common pattern in software is to aquire some kind of resource or context,\n",
    "use it for awhile, then return it or undo it. \n",
    "- common examples are file and network descriptors\n",
    "    - very important to use descriptors correctly\n",
    "    - running out of descriptors can crash a server"
   ]
  },
  {
   "cell_type": "markdown",
   "metadata": {},
   "source": [
    "# Context Management Protocol \n",
    "- ```__enter__``` - acquire resource\n",
    "- ```__exit__``` - release resource"
   ]
  },
  {
   "cell_type": "code",
   "execution_count": null,
   "metadata": {},
   "outputs": [],
   "source": [
    "# tedious to write all this out\n",
    "import tempfile\n",
    "\n",
    "tmp = tempfile.NamedTemporaryFile().name\n",
    "\n",
    "fd = open(tmp, 'w')\n",
    "# do things that might fail somehow\n",
    "try:\n",
    "    fd.write('foo')\n",
    "finally: \n",
    "    # error or not, want to close the file descriptor\n",
    "    # finally clause guarantees close will happen\n",
    "    fd.close()"
   ]
  },
  {
   "cell_type": "code",
   "execution_count": null,
   "metadata": {},
   "outputs": [],
   "source": [
    "# instead, use 'with'\n",
    "# less work, more consise\n",
    "\n",
    "with open(tmp, 'w') as fd:\n",
    "    fd.write('foo')\n"
   ]
  },
  {
   "cell_type": "markdown",
   "metadata": {},
   "source": [
    "# 'with' implements 'context manager' protocol\n",
    "- like iteration protocol, a general protocol implemented by many classes\n",
    "- ```__enter__``` method - called at start of with block\n",
    "- ```__exit__``` method - called at end of with block, or when error raised"
   ]
  },
  {
   "cell_type": "code",
   "execution_count": null,
   "metadata": {},
   "outputs": [],
   "source": [
    "class File():\n",
    "\n",
    "    def __init__(self, filename, mode):\n",
    "        self.filename = filename\n",
    "        self.mode = mode\n",
    "\n",
    "    def __enter__(self):\n",
    "        print('enter')\n",
    "        self.open_file = open(self.filename, self.mode)\n",
    "        # as variable bound to this\n",
    "        return self.open_file\n",
    "\n",
    "    def __exit__(self, *args):\n",
    "        print('exit')\n",
    "        self.open_file.close()\n",
    "\n",
    "import tempfile\n",
    "        \n",
    "with File('/tmp/foo.txt', 'w') as fd:\n",
    "    print('here')\n",
    "    fd.write('foo')\n",
    "    print('there')\n"
   ]
  },
  {
   "cell_type": "code",
   "execution_count": null,
   "metadata": {},
   "outputs": [],
   "source": [
    "# 'with' use above roughly equivalent to:\n",
    "\n",
    "f = File(tmp, 'w')\n",
    "fd = f.__enter__()\n",
    "try:\n",
    "    fd.write('foo')\n",
    "finally:\n",
    "    # always executed, closes the file descriptor\n",
    "    f.__exit__()\n"
   ]
  },
  {
   "cell_type": "markdown",
   "metadata": {},
   "source": [
    "# Example - dominate module\n",
    "- surpising and elegant implementation of a DOM builder using 'with' context protocol\n",
    "- [doc](https://github.com/Knio/dominate)"
   ]
  },
  {
   "cell_type": "code",
   "execution_count": null,
   "metadata": {},
   "outputs": [],
   "source": [
    "import dominate\n",
    "from dominate.tags import *\n",
    "\n",
    "doc = dominate.document(title='Dominate your HTML')\n",
    "\n",
    "with doc.head:\n",
    "    link(rel='stylesheet', href='style.css')\n",
    "    script(type='text/javascript', src='script.js')\n",
    "\n",
    "with doc:\n",
    "    with div(id='header').add(ol()):\n",
    "        for i in ['home', 'about', 'contact']:\n",
    "            li(a(i.title(), href='/%s.html' % i))\n",
    "\n",
    "    with div():\n",
    "        attr(cls='body')\n",
    "        p('Lorem ipsum..')\n",
    "\n",
    "print(doc)"
   ]
  },
  {
   "cell_type": "code",
   "execution_count": null,
   "metadata": {},
   "outputs": [],
   "source": [
    "# dominate also uses decorators...\n",
    "\n",
    "@div\n",
    "def greeting(name):\n",
    "    p('Hello %s' % name)\n",
    "print(greeting('Bob'))"
   ]
  }
 ],
 "metadata": {
  "anaconda-cloud": {},
  "kernelspec": {
   "display_name": "Python 3",
   "language": "python",
   "name": "python3"
  },
  "language_info": {
   "codemirror_mode": {
    "name": "ipython",
    "version": 3
   },
   "file_extension": ".py",
   "mimetype": "text/x-python",
   "name": "python",
   "nbconvert_exporter": "python",
   "pygments_lexer": "ipython3",
   "version": "3.6.5"
  }
 },
 "nbformat": 4,
 "nbformat_minor": 1
}
